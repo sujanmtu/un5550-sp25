{
 "cells": [
  {
   "cell_type": "markdown",
   "id": "37460e08",
   "metadata": {
    "id": "jF6GNkGEqRe3"
   },
   "source": [
    "# P2 - Statistics + Visualization\n",
    "\n",
    "\n",
    "This project is intended to give you experience with statistics and working with a large data set.\n",
    "\n",
    "\n",
    "\n"
   ]
  },
  {
   "cell_type": "markdown",
   "id": "78278480",
   "metadata": {},
   "source": [
    "## Project Setup\n",
    "\n",
    "You should use the following modules in this assignment and not need any additional modules. "
   ]
  },
  {
   "cell_type": "code",
   "execution_count": null,
   "id": "c24795f9",
   "metadata": {
    "executionInfo": {
     "elapsed": 444,
     "status": "ok",
     "timestamp": 1638915024722,
     "user": {
      "displayName": "Laura Brown",
      "photoUrl": "https://lh3.googleusercontent.com/a-/AOh14GjYbC5So3kNOYBteW-fSY5JpgP-bBJa7kyAEluaKg=s64",
      "userId": "02180634349638765126"
     },
     "user_tz": 300
    },
    "id": "WNM1QRdazqgy",
    "tags": []
   },
   "outputs": [],
   "source": [
    "import pandas as pd\n",
    "import numpy as np\n",
    "import matplotlib.pyplot as plt\n",
    "%matplotlib inline \n",
    "import seaborn as sns\n",
    "import datetime\n",
    "import os \n",
    "import re\n",
    "import platform\n",
    "import sys\n",
    "import importlib\n",
    "from packaging.version import Version, parse \n",
    "\n",
    "if os.environ[\"HOME\"]=='/home/jovyan':\n",
    "    !pip install --upgrade otter-grader\n",
    "    \n",
    "import otter\n",
    "grader = otter.Notebook()"
   ]
  },
  {
   "cell_type": "markdown",
   "id": "c4f12da6",
   "metadata": {
    "id": "btppYjmdqu7s"
   },
   "source": [
    "# Flight Delays\n",
    "\n",
    "Suppose the Houghton County Airport (CMX) is ready to renew its passenger airplane contract.  Airport officials and interested passengers would like to select an airline and connecting city that has reliable service.  *Currently, CMX is being served by United Airlines through Chicago-O'hare (ORD); it has been served by Delta in the past with connections to Minneapolis-St. Paul (MSP).* \n",
    "\n",
    "In order to make an informed decision, you have been tasked to look at flight delay statistics for two potential connector airports: \n",
    "\n",
    "* Chicago - O'hare (ORD) \n",
    "* Detroit (DTW) \n",
    "\n",
    "The data you are provided comes from the US Department of Transportation's [Bureau of Transportation Statistics (BTS)](https://www.bts.gov).  In particular, it comes from the Reporting Carrier On-Time Performance data tables:  \n",
    "https://www.transtats.bts.gov/TableInfo.asp?gnoyr_VQ=FGJ&QO_fu146_anzr=b0-gvzr&V0s1_b0yB=D\n",
    "\n",
    "Information on the variables can be found in the Field Information:  \n",
    "https://www.transtats.bts.gov/Fields.asp?gnoyr_VQ=FGJ\n",
    "\n",
    "\n",
    "The data is structured with the following elements: \n",
    "\n",
    "* \"YEAR\"\n",
    "* \"MONTH\"\n",
    "* \"DAY_OF_MONTH\"\n",
    "* \"OP_UNIQUE_CARRIER\" - Unique Carrier Code\n",
    "* \"TAIL_NUM\" - Tail number \n",
    "* \"OP_CARRIER_FL_NUM\" - Flight number \n",
    "* \"ORIGIN\" - Origin Airport code \n",
    "* \"DEST\" - Destination Airport code \n",
    "* \"CRS_DEP_TIME\" - Computer Reservation System Departure Time (local time: hhmm)\n",
    "* \"DEP_TIME\" - Actual Departure Time (local time: hhmm)\n",
    "* \"DEP_NEXT_DAY\" - the flight departed on the: (scheduled day = 0), (next day = 1), (following day = 2), or (day before  = -1)\n",
    "* \"CRS_ARR_TIME\" - Computer Reservation System Arrival Time (local time: hhmm)\n",
    "* \"ARR_TIME\" - Actual Arrival Time \n",
    "* \"ARR_NEXT_DAY\" - the flight arrived on the: (scheduled day = 0), (next day = 1), (following day = 2), or (day before  = -1)\n",
    "* \"CANCELLED\" - Cancelled Flight Indicator (1 = Yes)\n",
    "* \"DIVERTED\" - Diverted Flight Indicator (1 = Yes)\n",
    "\n",
    "You have access to 2 years of data Jan 2022 - Dec 2023. \n",
    "\n",
    "The data has also been restricted to several major carriers and their regional services: \n",
    "\n",
    "| Airline Code | Airline Name | Regional Partner | \n",
    "|--------------|--------------|------------------|\n",
    "| UA      | United Airlines   | NA  | \n",
    "| DL      | Delta Airlines    | NA  |\n",
    "| OO      | Skywest Airlines  | United  | \n",
    "| 9E      | Endeavor Air      | Delta     | \n"
   ]
  },
  {
   "cell_type": "markdown",
   "id": "3f9b06bd",
   "metadata": {
    "id": "D_tu0O0G4GkA"
   },
   "source": [
    "## Access the Data \n",
    "\n",
    "The data is available on [Kaggle](https://www.kaggle.com/datasets/lebrown/un5550-fa24-p2/data)\n",
    "\n",
    "Once you download the data make sure it is saved in your project directory: \n",
    "\n",
    "```\n",
    "class-folder/\n",
    "    p2/\n",
    "        flight-final.csv\n",
    "        img/\n",
    "        p2.ipynb\n",
    "```"
   ]
  },
  {
   "cell_type": "markdown",
   "id": "b054c243-d8e0-4ef5-935c-ce24fd16c727",
   "metadata": {
    "deletable": false,
    "editable": false
   },
   "source": [
    "<!-- BEGIN QUESTION -->\n",
    "\n",
    "## Q0 - Setup \n",
    "\n",
    "The following code checks to make sure your notebook is running on Gradescope, the cloud, or linux lab machines. \n",
    "\n",
    "While you may develop on your own machines or places like Colab or Github, you should run your final submission on the campus Linux machines using the `un5550fa24` environment. \n"
   ]
  },
  {
   "cell_type": "markdown",
   "id": "4ac858a5",
   "metadata": {},
   "source": [
    "_Type your answer here, replacing this text._"
   ]
  },
  {
   "cell_type": "code",
   "execution_count": null,
   "id": "10bf6f83-c2f3-47fd-8f87-6a04a36c6775",
   "metadata": {
    "tags": []
   },
   "outputs": [],
   "source": [
    "# DO NOT CHANGE THIS CODE\n",
    "\n",
    "# flag if notebook is running on Gradescope \n",
    "if re.search(r'amzn', platform.uname().release): \n",
    "    GS = True\n",
    "else: \n",
    "    GS = False\n",
    "\n",
    "# flag if notebook is running on Colaboratory \n",
    "try:\n",
    "  import google.colab\n",
    "  COLAB = True\n",
    "except:\n",
    "  COLAB = False\n",
    "\n",
    "# flag if running on Linux lab machines. \n",
    "cname = platform.uname().node\n",
    "if re.search(r'(guardian|colossus|c28|coc-15954-m)', cname):\n",
    "    LLM = True \n",
    "else: \n",
    "    LLM = False\n",
    "\n",
    "print(\"System: GS - %s, COLAB - %s, LLM - %s\" % (GS, COLAB, LLM))"
   ]
  },
  {
   "cell_type": "code",
   "execution_count": null,
   "id": "48419b35-30e0-4609-a0ba-2857adc56cdb",
   "metadata": {
    "tags": []
   },
   "outputs": [],
   "source": [
    "# DO NOT CHANGE THIS CODE\n",
    "pver = sys.version \n",
    "print(pver) "
   ]
  },
  {
   "cell_type": "code",
   "execution_count": null,
   "id": "23b5c4ff-ef15-421b-8aa9-c7faeb701e21",
   "metadata": {
    "tags": []
   },
   "outputs": [],
   "source": [
    "# DO NOT CHANGE THIS CODE\n",
    "env2 =!conda info | grep 'active env'\n",
    "print(env2)"
   ]
  },
  {
   "cell_type": "code",
   "execution_count": null,
   "id": "7d43612a-1d30-426d-89c6-7ceb4b2c6b71",
   "metadata": {
    "tags": []
   },
   "outputs": [],
   "source": [
    "# DO NOT CHANGE THIS CODE\n",
    "OK = '\\x1b[42m[ OK ]\\x1b[0m'\n",
    "FAIL = \"x1b[41m[FAIL]\\x1b[0m\"\n",
    "\n",
    "def import_version(pkg, req_ver, fail_msg=\"\"):\n",
    "    mod = None\n",
    "    try:\n",
    "        mod = importlib.import_module(pkg)\n",
    "        ver = mod.__version__\n",
    "        if Version(ver) != req_ver:\n",
    "            print(FAIL, \"%s version %s required, but %s installed.\"\n",
    "                  % (lib, req_ver, ver))\n",
    "        else:\n",
    "            print(OK, '%s version %s' % (pkg, ver))\n",
    "    except ImportError:\n",
    "        print(FAIL, '%s not installed. %s' % (pkg, fail_msg))\n",
    "    return (mod, Version(ver), req_ver)\n",
    "\n",
    "requirements = {'numpy': parse(\"2.1.0\"), 'scipy': parse(\"1.14.1\"),\n",
    "                'matplotlib': parse(\"3.9.2\"), 'pandas': parse(\"2.2.2\"),\n",
    "                'otter': parse(\"6.0.4\"), 'seaborn': parse('0.13.2'),\n",
    "                'dill': parse('0.3.7'), 'sklearn': parse(\"1.5.1\")\n",
    "                }\n",
    "\n",
    "pks = []\n",
    "for lib, required_version in list(requirements.items()):\n",
    "    pks.append(import_version(lib, required_version))"
   ]
  },
  {
   "cell_type": "markdown",
   "id": "3892c8a3",
   "metadata": {
    "deletable": false,
    "editable": false,
    "id": "JKdkhPN7hlmt"
   },
   "source": [
    "<!-- END QUESTION -->\n",
    "\n",
    "## Q1 - Load Data \n",
    "\n",
    "Read in the data.    \n",
    "\n",
    "Set the column names to be: `year`, `month`, `day`, `carrier`, `tailNum`, `flNum`, `origin`, `dest`, `crsDepTime`, `actDepTime`, `depNextDay`, `crsArrTime`, `actArrTime`, `arrNextDay`, `cancelled`, `diverted` \n",
    " \n",
    "You do not need to do any special preprocessing or changing of the data types, we will be during specific processing of the data in the coming questions. "
   ]
  },
  {
   "cell_type": "code",
   "execution_count": null,
   "id": "8eef3c1e",
   "metadata": {
    "executionInfo": {
     "elapsed": 1480,
     "status": "ok",
     "timestamp": 1638893215908,
     "user": {
      "displayName": "Laura Brown",
      "photoUrl": "https://lh3.googleusercontent.com/a-/AOh14GjYbC5So3kNOYBteW-fSY5JpgP-bBJa7kyAEluaKg=s64",
      "userId": "02180634349638765126"
     },
     "user_tz": 300
    },
    "id": "igLRdJzwiRti",
    "tags": []
   },
   "outputs": [],
   "source": [
    "# Read in data, set DataFrame columns to names above \n",
    "\n",
    "flights = ...\n",
    "\n",
    "\n",
    "flights.head()"
   ]
  },
  {
   "cell_type": "code",
   "execution_count": null,
   "id": "226f18e9",
   "metadata": {
    "deletable": false,
    "editable": false
   },
   "outputs": [],
   "source": [
    "grader.check(\"q1\")"
   ]
  },
  {
   "cell_type": "markdown",
   "id": "a262268b-73da-49a6-bd32-cbcdfd3b07cb",
   "metadata": {},
   "source": [
    "## Aside : Style \n",
    "\n",
    "In the following questions you are going to be chaining together many expressions, perhaps creating code that is longer than 79 characters long (the maximum suggested by the [PEP-8 style guides](https://peps.python.org/pep-0008/#maximum-line-length)). \n",
    "\n",
    "    The preferred way of wrapping long lines is by using Python’s implied line \n",
    "    continuation inside parentheses, brackets and braces. Long lines can be broken \n",
    "    over multiple lines by wrapping expressions in parentheses. These should be \n",
    "    used in preference to using a backslash for line continuation.\n",
    "    \n",
    "Using parenthesis surrounding code make it possible to break the code into multiple lines for readability. \n",
    "\n",
    "Here are some examples: "
   ]
  },
  {
   "cell_type": "code",
   "execution_count": null,
   "id": "4b525280-a6ba-4f32-a2ff-21cb8bcb1389",
   "metadata": {
    "tags": []
   },
   "outputs": [],
   "source": [
    "temp = (flights[(flights['dest'] == 'CMX') | \n",
    "                (flights['origin'] == 'CMX')])"
   ]
  },
  {
   "cell_type": "code",
   "execution_count": null,
   "id": "bd82cd96-ba82-4254-808b-eeb607a0149a",
   "metadata": {
    "tags": []
   },
   "outputs": [],
   "source": [
    "temp = (\n",
    "    flights[(flights['dest'] == 'CMX') | \n",
    "            (flights['origin'] == 'CMX')]\n",
    ")"
   ]
  },
  {
   "cell_type": "code",
   "execution_count": null,
   "id": "c31869a2-11fd-4605-b09b-2280cc891bca",
   "metadata": {
    "tags": []
   },
   "outputs": [],
   "source": [
    "temp = (flights\n",
    "        .groupby('month')['diverted']\n",
    "        .sum())"
   ]
  },
  {
   "cell_type": "code",
   "execution_count": null,
   "id": "c6ade5c7-a597-44a0-9e5a-a7bb8bd70062",
   "metadata": {
    "tags": []
   },
   "outputs": [],
   "source": [
    "temp = (\n",
    "    flights\n",
    "    .groupby('month')['diverted']\n",
    "    .sum()\n",
    ")"
   ]
  },
  {
   "cell_type": "markdown",
   "id": "a4288126",
   "metadata": {
    "id": "wFg9SnjeiXoz"
   },
   "source": [
    "## Q2 - Explore Data\n",
    "\n",
    "Let's start to explore the data.  "
   ]
  },
  {
   "cell_type": "code",
   "execution_count": null,
   "id": "824735e5",
   "metadata": {
    "colab": {
     "base_uri": "https://localhost:8080/"
    },
    "executionInfo": {
     "elapsed": 263,
     "status": "ok",
     "timestamp": 1638893219133,
     "user": {
      "displayName": "Laura Brown",
      "photoUrl": "https://lh3.googleusercontent.com/a-/AOh14GjYbC5So3kNOYBteW-fSY5JpgP-bBJa7kyAEluaKg=s64",
      "userId": "02180634349638765126"
     },
     "user_tz": 300
    },
    "id": "XVBUFtQxic78",
    "outputId": "e1fc5faf-19fc-4f70-f9a4-d7b6df498fdb",
    "tags": []
   },
   "outputs": [],
   "source": [
    "print(\"Flight data: %8d rows,  %d columns\" % (flights.shape[0], flights.shape[1]))"
   ]
  },
  {
   "cell_type": "markdown",
   "id": "cbe6f88a-7eb1-49c4-a572-c427969784c2",
   "metadata": {},
   "source": [
    "We want to remove flights that were cancelled or diverted from the rest of our analysis. \n",
    "\n",
    "But, first let's examine cancelled or diverted flights. \n",
    "\n"
   ]
  },
  {
   "cell_type": "markdown",
   "id": "baf18cba-3702-42d9-af8c-ec7e1eec604e",
   "metadata": {
    "deletable": false,
    "editable": false
   },
   "source": [
    "### Q2a - Diverted and Cancelled Flights \n",
    "\n",
    "You will need to determine the number of diverted flights, `num_divert` and the number of cancelled flights, `num_cancel`. \n",
    "\n",
    "Next, determine the destination airport(s), by their code, with the highest proportion of diverted and cancelled flights `airport_highest_prop_divert` and `airport_highest_prop_cancel`."
   ]
  },
  {
   "cell_type": "code",
   "execution_count": null,
   "id": "b5fc9737-bae9-400a-a385-309874a39cbd",
   "metadata": {
    "tags": []
   },
   "outputs": [],
   "source": [
    "# num_divert - number of flights that were diverted. \n",
    "# num_cancel - number of flights that were cancelled \n",
    "num_divert = ...\n",
    "num_cancel = ...\n",
    "print('Num. of diverted flights:  %7d\\nNum. of cancelled flights: %7d\\n' % \\\n",
    "      (num_divert, num_cancel))"
   ]
  },
  {
   "cell_type": "code",
   "execution_count": null,
   "id": "33a264f0-9561-486a-9a5c-47ef1bef2873",
   "metadata": {
    "tags": []
   },
   "outputs": [],
   "source": [
    "\n",
    "airport_high_prop_divert = ...\n",
    "\n",
    "airport_high_prop_cancel = ...\n",
    "\n",
    "\n",
    "print('Airport with highest proportion of flights diverted:  %s' % airport_highest_prop_divert)\n",
    "print('Airport with highest proportion of flights cancelled: %s' % airport_highest_prop_cancel)"
   ]
  },
  {
   "cell_type": "code",
   "execution_count": null,
   "id": "2e481734",
   "metadata": {
    "deletable": false,
    "editable": false
   },
   "outputs": [],
   "source": [
    "grader.check(\"q2a\")"
   ]
  },
  {
   "cell_type": "markdown",
   "id": "1fedb9b0-18db-4115-b581-f7a25f5e71be",
   "metadata": {},
   "source": [
    "<br> \n",
    "\n",
    "Do these values make sense?  You can lookup airport codes on Google. \n",
    "\n",
    "<br>\n",
    "\n",
    "**Note** the local airport in Houghton / Hancock is `CMX`."
   ]
  },
  {
   "cell_type": "markdown",
   "id": "631bb99e-484f-4814-b272-e81f4be7a0a5",
   "metadata": {
    "deletable": false,
    "editable": false
   },
   "source": [
    "### Q2b - Filter Cancelled and Diverted Flights\n",
    "\n",
    "Now, let's remove the cancelled and diverted flights from further analysis. \n",
    "\n",
    "After removing both flights, reset the index on the remaining flights in the `flights` DataFrame."
   ]
  },
  {
   "cell_type": "code",
   "execution_count": null,
   "id": "dd34db01-edf8-4900-bf47-d5b7d3b4d16d",
   "metadata": {
    "tags": []
   },
   "outputs": [],
   "source": [
    "# Remove the cancelled and diverted flights.  \n",
    "# Then, reset the index of the flights DataFrame\n",
    "flights = ...\n",
    "...\n",
    "print(\"Flight data:   %8d rows\" % flights.shape[0])"
   ]
  },
  {
   "cell_type": "code",
   "execution_count": null,
   "id": "01f1233f",
   "metadata": {
    "deletable": false,
    "editable": false
   },
   "outputs": [],
   "source": [
    "grader.check(\"q2b\")"
   ]
  },
  {
   "cell_type": "markdown",
   "id": "55a029f2-ab7b-43ea-9fe6-7f499dc35444",
   "metadata": {
    "deletable": false,
    "editable": false
   },
   "source": [
    "### Q2c - Flights at `DTW` and `ORD`\n",
    "\n",
    "Report the number of flights departing and arriving from each of the two airports under study: `DTW` and `ORD`. "
   ]
  },
  {
   "cell_type": "code",
   "execution_count": null,
   "id": "f26bc0b8",
   "metadata": {
    "colab": {
     "base_uri": "https://localhost:8080/"
    },
    "executionInfo": {
     "elapsed": 1954,
     "status": "ok",
     "timestamp": 1638893225908,
     "user": {
      "displayName": "Laura Brown",
      "photoUrl": "https://lh3.googleusercontent.com/a-/AOh14GjYbC5So3kNOYBteW-fSY5JpgP-bBJa7kyAEluaKg=s64",
      "userId": "02180634349638765126"
     },
     "user_tz": 300
    },
    "id": "OAGwk4C-lRh_",
    "outputId": "7d178a02-cae9-416d-be6b-ae4df11a1540",
    "tags": []
   },
   "outputs": [],
   "source": [
    "# numArrDTW - number of flights arriving at DTW \n",
    "# numDepDTW - number of flights departing DTW\n",
    "numArrDTW = ...\n",
    "numDepDTW = ...\n",
    "print(\"DTW flights:   %7d arrivals,  %7d departures\" % (numArrDTW, numDepDTW))"
   ]
  },
  {
   "cell_type": "code",
   "execution_count": null,
   "id": "10a3ea63",
   "metadata": {
    "tags": []
   },
   "outputs": [],
   "source": [
    "# numArrORD - number of flights arriving at ORD\n",
    "# numDepORD - number of flights departing ORD\n",
    "numArrORD = ...\n",
    "numDepORD = ...\n",
    "print(\"ORD flights:   %7d arrivals,  %7d departures\" % (numArrORD, numDepORD))"
   ]
  },
  {
   "cell_type": "markdown",
   "id": "3a5ab88d",
   "metadata": {
    "deletable": false,
    "editable": false,
    "id": "S6ULEd24oA4n"
   },
   "source": [
    "*Note*: The number of flights arriving and departing from the two airports exceeds the total number of flights, because flights between the 2 airports are counted twice. "
   ]
  },
  {
   "cell_type": "code",
   "execution_count": null,
   "id": "7ace5bb7",
   "metadata": {
    "deletable": false,
    "editable": false
   },
   "outputs": [],
   "source": [
    "grader.check(\"q2c\")"
   ]
  },
  {
   "cell_type": "markdown",
   "id": "3688981e",
   "metadata": {
    "id": "k5mp8HdarBcY"
   },
   "source": [
    "## Q3 - Time Information and Flight Delays. \n",
    "\n",
    "Both the departure and arrival times were read in as integers or floating-point numbers in local time format: `hhmm`. "
   ]
  },
  {
   "cell_type": "markdown",
   "id": "d26ac7ce-568b-445c-b6e8-3409d8c6c0bd",
   "metadata": {
    "deletable": false,
    "editable": false
   },
   "source": [
    "### Question 3a - Extract Hour and Minutes\n",
    "\n",
    "Write two functions, `extract_hour` and `extract_mins` that converts the local time to hours and minutes, respectively. \n",
    "\n",
    "*Hint:* You may want to use modular arithmetic and integer division.\n",
    "\n",
    "Notes: \n",
    "\n",
    "* The function should work on a single value passed or a Series passed in as an argument. \n",
    "* The function should not have a `for` loop, if it does you will lose points! "
   ]
  },
  {
   "cell_type": "code",
   "execution_count": null,
   "id": "5a81c6c4",
   "metadata": {
    "executionInfo": {
     "elapsed": 159,
     "status": "ok",
     "timestamp": 1638893235946,
     "user": {
      "displayName": "Laura Brown",
      "photoUrl": "https://lh3.googleusercontent.com/a-/AOh14GjYbC5So3kNOYBteW-fSY5JpgP-bBJa7kyAEluaKg=s64",
      "userId": "02180634349638765126"
     },
     "user_tz": 300
    },
    "id": "25hrnFgtyjkh",
    "tags": []
   },
   "outputs": [],
   "source": [
    "def extract_hour(time):\n",
    "    \"\"\"\n",
    "    Extract hour information from the time given in hhmm format.\n",
    "\n",
    "    Input:\n",
    "        time (float64 or int64): Series of time given in hhmm format.  \n",
    "          Takes on values in 0.0-2400.0 in float64 representation or \n",
    "          values in 0-2400 in int64 representation\n",
    " \n",
    "    Returns:\n",
    "        array (float64 or int64): Series of same dimension as input of hours  \n",
    "          values should be 0-24, i.e., 24-hour day format\n",
    "    \n",
    "    Example: 1303 should return 13\n",
    "    >>> extract_hour(1303.0)\n",
    "    13\n",
    "    \"\"\"\n",
    "    hours = ... \n",
    "    \n",
    "    return hours"
   ]
  },
  {
   "cell_type": "code",
   "execution_count": null,
   "id": "7df7ba00",
   "metadata": {
    "executionInfo": {
     "elapsed": 210,
     "status": "ok",
     "timestamp": 1638893237516,
     "user": {
      "displayName": "Laura Brown",
      "photoUrl": "https://lh3.googleusercontent.com/a-/AOh14GjYbC5So3kNOYBteW-fSY5JpgP-bBJa7kyAEluaKg=s64",
      "userId": "02180634349638765126"
     },
     "user_tz": 300
    },
    "id": "GHKDuErrsJsL",
    "tags": []
   },
   "outputs": [],
   "source": [
    "def extract_min(time):\n",
    "    \"\"\"\n",
    "    Extract minute information from the time given in hhmm time.\n",
    "\n",
    "    Input:\n",
    "        time (float64 or int64): Series of time given in hhmm format.  \n",
    "          Takes on values in 0.0-2400.0 in float64 representation or \n",
    "          values in 0-2400 in int64 representation\n",
    "    \n",
    "    Returns:\n",
    "        array (float64 or int64): Series of same dimension as input of minutes.  \n",
    "          values should be 0-59\n",
    "    \n",
    "    Example: 1303 should return 3\n",
    "    >>> extract_mins(1303.0)\n",
    "    3\n",
    "    \"\"\"\n",
    "    mins = ...\n",
    "    return mins"
   ]
  },
  {
   "cell_type": "markdown",
   "id": "97e9e308",
   "metadata": {
    "deletable": false,
    "editable": false
   },
   "source": [
    "Here are some examples of usage: \n",
    "\n",
    "```\n",
    ">>> extract_hour(1450)\n",
    ">>> extract_hour(flights['actDepTime'][100:200])\n",
    ">>> extract_hour(flights['crsDepTime'])\n",
    ">>> extract_min(1450)\n",
    ">>> extract_min(flights['actDepTime'][100:200])\n",
    ">>> extract_min(flights['crsDepTime'])\n",
    "```"
   ]
  },
  {
   "cell_type": "code",
   "execution_count": null,
   "id": "5873bba4",
   "metadata": {
    "deletable": false,
    "editable": false
   },
   "outputs": [],
   "source": [
    "grader.check(\"q3a\")"
   ]
  },
  {
   "cell_type": "markdown",
   "id": "d8a500a7",
   "metadata": {
    "deletable": false,
    "editable": false
   },
   "source": [
    "### Q3b - Calculate Time in Minutes\n",
    "\n",
    "Convert a time formatted in `hhmm` time in the number of minutes.    \n",
    "\n",
    "For example, the following times in `hhmm` format converted to minutes are: `1005` is 605 minutes and `837` is 517 minutes and `1524` is 924 minutes. \n",
    "\n",
    "This function `convert_to_minutes` function, should make use of the two functions you wrote above: `extract_hour` and `extract_min`.\n",
    "\n",
    "Comment: \n",
    "\n",
    "* The function should work on a single value passed or a Series passed in as an argument. \n",
    "* The function should not have a `for` loop, if it does you will lose points! \n",
    "* The function should use the functions `extract_hour` and `extract_min`."
   ]
  },
  {
   "cell_type": "code",
   "execution_count": null,
   "id": "ed3a7782",
   "metadata": {
    "executionInfo": {
     "elapsed": 209,
     "status": "ok",
     "timestamp": 1638893243047,
     "user": {
      "displayName": "Laura Brown",
      "photoUrl": "https://lh3.googleusercontent.com/a-/AOh14GjYbC5So3kNOYBteW-fSY5JpgP-bBJa7kyAEluaKg=s64",
      "userId": "02180634349638765126"
     },
     "user_tz": 300
    },
    "id": "x9NTCKbosYgo",
    "tags": []
   },
   "outputs": [],
   "source": [
    "def convert_to_minutes(time):\n",
    "    \"\"\"\n",
    "    Converts time in hhmm format to number of minutes\n",
    "    \n",
    "    Input:\n",
    "       time (float64 or int64): Series of time given in hhmm format.  \n",
    "          Takes on values in 0.0-2400.0 in float64 representation or \n",
    "          values in 0-2400 in int64 representation\n",
    "    \n",
    "    Returns:\n",
    "        array (float64 or int64): Series of same dimension as input with \n",
    "           total mins\n",
    "    \n",
    "     \n",
    "    Example: 1303 is converted to 783\n",
    "    >>> convert_to_minutes(1303.0)\n",
    "    783.0\n",
    "    \"\"\"\n",
    "    # make use of the functions you wrote above: extract_hour, extract_min\n",
    "    minutes = ... \n",
    "    return minutes"
   ]
  },
  {
   "cell_type": "code",
   "execution_count": null,
   "id": "d555eeb5",
   "metadata": {
    "deletable": false,
    "editable": false
   },
   "outputs": [],
   "source": [
    "grader.check(\"q3b\")"
   ]
  },
  {
   "cell_type": "markdown",
   "id": "d98bd7ed",
   "metadata": {
    "deletable": false,
    "editable": false,
    "id": "TlyXh1o5sTRV"
   },
   "source": [
    "### Q3c - Calculate Delayed Flights\n",
    "\n",
    "You will add two new columns to the `flights` DataFrame that will contain the departure delay `depDelay` and arrival delay `arrDelay`.\n",
    "\n",
    "To help answer this question, implement the helper functions, `calc_time_diff`.  Make use of the functions above, e.g., `convert_to_minutes`.\n",
    "\n",
    "\n",
    "*Be careful for handling flights that that did not leave on their scheduled day indicated in the `depNextDay` and `arrNextDay` columns.*  \n",
    "These two variables are encoded as: \n",
    "* 0, left/arrived on scheduled day \n",
    "* -1, left/arrived on the day before scheduled day\n",
    "* 1, left/arrived 1 day after scheduled day \n",
    "* 2, left/arrived 2 days after scheduled day\n",
    "\n",
    "\n",
    "Note, you can have *negative* flight delays for flights that leave / arrive early. \n",
    "\n",
    "Notes: \n",
    "\n",
    "* The function should work on Series passed in as an argument. \n",
    "* The function should not have a `for` loop, if it does you will lose points! "
   ]
  },
  {
   "cell_type": "code",
   "execution_count": null,
   "id": "290df527",
   "metadata": {
    "tags": []
   },
   "outputs": [],
   "source": [
    "def calc_time_diff(x, y, nextDay):\n",
    "    \"\"\" \n",
    "    Calculate the time difference, y - x, accounting for nextDay changes.\n",
    "\n",
    "    Input:\n",
    "        x,y (float64 or int64): Series of scheduled time given in hhmm format.  \n",
    "          Takes on values in 0.0-2400.0 due to float64 representation or \n",
    "          values in 0-2400 in int64 representation\n",
    "        nextDay (int): Series of next day indicator, takes on values: -1, 0, 1, 2\n",
    "        \n",
    "    Returns:\n",
    "        array (float64): Series of input dimension with delay time\n",
    "        \n",
    "        \n",
    "    Example: 1303 is converted to 783\n",
    "             1305 is converted to 785\n",
    "    >>> calc_time_diff(pd.Series([1303]), pd.Series([1305]), pd.Series([0]))\n",
    "    2\n",
    "\n",
    "    Example: 2320.0 is converted to 1400.0\n",
    "               37.0 is converted to    37.0 \n",
    "    >>> calc_time_diff(pd.Series([2320.0]), pd.Series([37.0]), pd.Series([1]))\n",
    "    77.0\n",
    "    \"\"\"\n",
    "    # make use of the convert_to_minutes function \n",
    "    \n",
    "    diff = ...\n",
    "    \n",
    "    return diff"
   ]
  },
  {
   "cell_type": "code",
   "execution_count": null,
   "id": "7362c689",
   "metadata": {
    "executionInfo": {
     "elapsed": 1566,
     "status": "ok",
     "timestamp": 1638893247246,
     "user": {
      "displayName": "Laura Brown",
      "photoUrl": "https://lh3.googleusercontent.com/a-/AOh14GjYbC5So3kNOYBteW-fSY5JpgP-bBJa7kyAEluaKg=s64",
      "userId": "02180634349638765126"
     },
     "user_tz": 300
    },
    "id": "4yk2f_MwVzUF",
    "tags": []
   },
   "outputs": [],
   "source": [
    "flights['depDelay'] = ...\n",
    "flights['arrDelay'] = ..."
   ]
  },
  {
   "cell_type": "code",
   "execution_count": null,
   "id": "100a83a3",
   "metadata": {
    "deletable": false,
    "editable": false
   },
   "outputs": [],
   "source": [
    "grader.check(\"q3c\")"
   ]
  },
  {
   "cell_type": "markdown",
   "id": "7f82e6e5",
   "metadata": {},
   "source": [
    "## Q4 - Patterns of Delays \n",
    "\n",
    "Next, you will examine if there are any patterns in the delays.  \n"
   ]
  },
  {
   "cell_type": "markdown",
   "id": "1f185f29",
   "metadata": {
    "deletable": false,
    "editable": false
   },
   "source": [
    "### Q4a - Delay Statistics"
   ]
  },
  {
   "cell_type": "markdown",
   "id": "34c35b70",
   "metadata": {
    "deletable": false,
    "editable": false,
    "id": "Fkb7kWvGvlNS"
   },
   "source": [
    "Present the mean, standard deviation, and median for departure and arrival delays for each airport, `DTW` and `ORD` as a destination in a DataFrame. \n",
    "\n",
    "Repeat the results where each airport, `DTW` and `ORD`, is the origin. \n",
    "\n",
    "**NOTE: all the meaningful autograded tests are hidden for this problem.** \n",
    "\n",
    "**Hint** You should consider using `groupby`\n",
    "\n",
    "The DataFrame you create should look something like (note the values are not correct): \n",
    "\n",
    "<img src=\"img/q4a_sample.png\" width=\"60%\">"
   ]
  },
  {
   "cell_type": "code",
   "execution_count": null,
   "id": "a5537847",
   "metadata": {
    "colab": {
     "base_uri": "https://localhost:8080/"
    },
    "executionInfo": {
     "elapsed": 1991,
     "status": "ok",
     "timestamp": 1638893391537,
     "user": {
      "displayName": "Laura Brown",
      "photoUrl": "https://lh3.googleusercontent.com/a-/AOh14GjYbC5So3kNOYBteW-fSY5JpgP-bBJa7kyAEluaKg=s64",
      "userId": "02180634349638765126"
     },
     "user_tz": 300
    },
    "id": "ZBxDDItYvltP",
    "outputId": "734d408f-d4e2-4969-8cc9-771be432ebaf",
    "tags": []
   },
   "outputs": [],
   "source": [
    "# Calculate the mean, std, and median Depature Delay for flights leaving DTW/ORD\n",
    "# Calculate the mean, std, and median Delay for flights arriving at DTW/ORD\n",
    "# Report in requested DataFrames\n",
    "\n",
    "destDelays = ... \n",
    "\n",
    "originDelays = ...\n",
    "\n",
    "print(destDelays)\n",
    "print(originDelays)"
   ]
  },
  {
   "cell_type": "code",
   "execution_count": null,
   "id": "d9751276",
   "metadata": {
    "deletable": false,
    "editable": false
   },
   "outputs": [],
   "source": [
    "grader.check(\"q4a\")"
   ]
  },
  {
   "cell_type": "markdown",
   "id": "37b302b5-1708-48d3-9613-4b931d596cdc",
   "metadata": {
    "deletable": false,
    "editable": false
   },
   "source": [
    "<!-- BEGIN QUESTION -->\n",
    "\n",
    "### Q4b - Distribution of Departure Delays \n",
    "\n",
    "Let's look at the distribution of departure delays for flights leaving `DTW` and `ORD`. \n",
    "\n",
    "Create overlapping density plots to examine these distributions. Only show the delays from -25 to 50 minutes. \n",
    "\n",
    "**Hint** Try using seaborns `kdeplot`"
   ]
  },
  {
   "cell_type": "code",
   "execution_count": null,
   "id": "8a9c286c-6b0e-4e5c-bb50-36f76dcfecc6",
   "metadata": {
    "tags": []
   },
   "outputs": [],
   "source": [
    " \n",
    "...\n"
   ]
  },
  {
   "cell_type": "markdown",
   "id": "c3fe4328",
   "metadata": {
    "deletable": false,
    "editable": false,
    "id": "IUA9MDjCR1fu"
   },
   "source": [
    "<!-- END QUESTION -->\n",
    "\n",
    "<!-- BEGIN QUESTION -->\n",
    "\n",
    "### Q4c - Departure Delays by Day of Week\n",
    "\n",
    "Let's examine if the departure delays differ by which day a flight is scheduled to leave.\n",
    "\n",
    "Create a bar chart showing the mean departure delay for each day of the week. Report mean delays for Sun., Mon., Tues., ...\n",
    "\n",
    "In order to get the day of the week, create a two new columns `dateVal` that is a datetime object of the date information of the flight.  Also, create a column `dayOfWeek` that encodes the day of the week for the flight.  You can make use of functions to convert datetime to day of the week.\n",
    "\n",
    "We are looking at departure delays for flights leaving from ORD.\n"
   ]
  },
  {
   "cell_type": "code",
   "execution_count": null,
   "id": "93e3ca35",
   "metadata": {
    "colab": {
     "base_uri": "https://localhost:8080/",
     "height": 343
    },
    "executionInfo": {
     "elapsed": 394,
     "status": "ok",
     "timestamp": 1638893710604,
     "user": {
      "displayName": "Laura Brown",
      "photoUrl": "https://lh3.googleusercontent.com/a-/AOh14GjYbC5So3kNOYBteW-fSY5JpgP-bBJa7kyAEluaKg=s64",
      "userId": "02180634349638765126"
     },
     "user_tz": 300
    },
    "id": "RvSxASFKSpnQ",
    "outputId": "4b14d1e2-1cf8-473a-bd28-9c2ca407a321",
    "tags": []
   },
   "outputs": [],
   "source": [
    "# Look at departure delays for flights leaving ORD \n",
    "# Create a new column \"dateVal\" with a datetime object that may be useful\n",
    "#  for this questions.  Also, add a column for \"dayOfWeek\"\n",
    "\n",
    "# Create a bar chart of the mean `depDelay` by day of the week: Mon., Tues., ...\n",
    "\n",
    " \n",
    "...\n"
   ]
  },
  {
   "cell_type": "code",
   "execution_count": null,
   "id": "68ccae9d",
   "metadata": {
    "deletable": false,
    "editable": false
   },
   "outputs": [],
   "source": [
    "grader.check(\"q4c\")"
   ]
  },
  {
   "cell_type": "markdown",
   "id": "3084bec8",
   "metadata": {
    "deletable": false,
    "editable": false,
    "id": "_dmrW5fZSo77"
   },
   "source": [
    "<!-- END QUESTION -->\n",
    "\n",
    "<!-- BEGIN QUESTION -->\n",
    "\n",
    "### Q4d - Dept. Delays by Month\n",
    "\n",
    "Next, let's examine if the depature delays differ by month of the year. \n",
    "\n",
    "Create a bar chart showing the mean departure delay for each month of the year (Jan, Feb, Mar, Apr, ...) \n",
    "\n",
    "We again are looking at departure delays for flights leaving from ORD."
   ]
  },
  {
   "cell_type": "code",
   "execution_count": null,
   "id": "9d6ce9d7",
   "metadata": {
    "colab": {
     "base_uri": "https://localhost:8080/",
     "height": 404
    },
    "executionInfo": {
     "elapsed": 588,
     "status": "ok",
     "timestamp": 1638893779594,
     "user": {
      "displayName": "Laura Brown",
      "photoUrl": "https://lh3.googleusercontent.com/a-/AOh14GjYbC5So3kNOYBteW-fSY5JpgP-bBJa7kyAEluaKg=s64",
      "userId": "02180634349638765126"
     },
     "user_tz": 300
    },
    "id": "w5YrfLmNS828",
    "outputId": "aa6faafb-2576-4e95-ab25-e116920b9058",
    "tags": []
   },
   "outputs": [],
   "source": [
    "# Create a bar plot with the mean dep. delay for each month. \n",
    "plt.figure(figsize=(8,6))\n",
    "\n",
    "...\n"
   ]
  },
  {
   "cell_type": "markdown",
   "id": "3d4ace9a",
   "metadata": {
    "deletable": false,
    "editable": false,
    "id": "tkEaARqPS9Rq"
   },
   "source": [
    "<!-- END QUESTION -->\n",
    "\n",
    "### Q4e - Most Delayed Routes \n",
    "\n",
    "Let's examine the routes that are most delayed. \n",
    "\n",
    "Report out a DataSeries, `most_delay_routeA`,  with the airport as it's index and the value the mean arrival delay, only consider flights departing from `ORD` and routes that have at least 200 flights. \n",
    "\n",
    "Sort the DataSeries in descending order. \n",
    "\n",
    "\n",
    "Repeat the analysis for `DTW`, but use departure delay, report results in `most_delay_routeB` DataSeries.\n"
   ]
  },
  {
   "cell_type": "code",
   "execution_count": null,
   "id": "87dd373a",
   "metadata": {
    "colab": {
     "base_uri": "https://localhost:8080/",
     "height": 404
    },
    "executionInfo": {
     "elapsed": 1333,
     "status": "ok",
     "timestamp": 1638893903504,
     "user": {
      "displayName": "Laura Brown",
      "photoUrl": "https://lh3.googleusercontent.com/a-/AOh14GjYbC5So3kNOYBteW-fSY5JpgP-bBJa7kyAEluaKg=s64",
      "userId": "02180634349638765126"
     },
     "user_tz": 300
    },
    "id": "5hZTu3_OTY6n",
    "outputId": "43f10feb-7252-4f3b-8516-4a0482395068",
    "tags": []
   },
   "outputs": [],
   "source": [
    "# Create a line chart plotting the mean dep. delay over time for each month \n",
    "#  of the 6 years \n",
    "\n",
    "...\n"
   ]
  },
  {
   "cell_type": "code",
   "execution_count": null,
   "id": "a8e02da9-d768-49d2-95cf-79f9a3766c82",
   "metadata": {
    "tags": []
   },
   "outputs": [],
   "source": [
    "most_delay_routeA"
   ]
  },
  {
   "cell_type": "code",
   "execution_count": null,
   "id": "0c40d900-d557-4771-ae8d-ef36e614311a",
   "metadata": {
    "tags": []
   },
   "outputs": [],
   "source": [
    "most_delay_routeB"
   ]
  },
  {
   "cell_type": "code",
   "execution_count": null,
   "id": "70342e67-58f7-4582-a1dc-c08493225e60",
   "metadata": {
    "tags": []
   },
   "outputs": [],
   "source": [
    "delay_routes.loc[(delay_routes[('depDelay', 'count')] > 200)].shape"
   ]
  },
  {
   "cell_type": "code",
   "execution_count": null,
   "id": "627aaf2b",
   "metadata": {
    "deletable": false,
    "editable": false
   },
   "outputs": [],
   "source": [
    "grader.check(\"q4e\")"
   ]
  },
  {
   "cell_type": "markdown",
   "id": "c56a603b-3f89-4212-8a8e-c7df1c21bc99",
   "metadata": {
    "deletable": false,
    "editable": false
   },
   "source": [
    "### Q4f - Delays by Carrier \n",
    "\n",
    "Because `ORD` is a United Hub and `DTW` is a Delta Hub we expect to see the delays grouped by airport may also be similar to the delays grouped by carrier.  Let's examine this. \n",
    "\n",
    "Consider all flights, not just those arriving or departing from `ORD` and `DTW`.  Report out the mean, standard deviation, and median arrival and departure delays for each carrier in a DataFrame. \n",
    "\n",
    "Label the carriers with their name, not code. \n",
    "\n",
    "| Airline Code | Airline Name | Regional Partner | \n",
    "|--------------|--------------|------------------|\n",
    "| UA      | United Airlines   | NA  | \n",
    "| DL      | Delta Airlines    | NA  |\n",
    "| OO      | Skywest Airlines  | United  | \n",
    "| 9E      | Endeavor Air      | Delta     | \n",
    "\n",
    "The DataFrame `carrierDelays` has columns: `carrier`, `arrDelayMean`, `arrDelayStd`, `arrDelayMedian`,\n",
    "`depDelayMean`, `depDelayStd`, `depDelayMedian`\n",
    "\n",
    "Sort the DataFrame by increasing mean arrival  delays."
   ]
  },
  {
   "cell_type": "code",
   "execution_count": null,
   "id": "8aeefb39-e0a0-4de3-bcbe-2e64b5c37ec5",
   "metadata": {
    "tags": []
   },
   "outputs": [],
   "source": [
    "\n",
    "carrierDelays = ... \n",
    "\n",
    "\n",
    "carrierDelays"
   ]
  },
  {
   "cell_type": "code",
   "execution_count": null,
   "id": "f9776c43",
   "metadata": {
    "deletable": false,
    "editable": false
   },
   "outputs": [],
   "source": [
    "grader.check(\"q4f\")"
   ]
  },
  {
   "cell_type": "markdown",
   "id": "064788d5-efda-45f7-a164-51c1893cc0c6",
   "metadata": {
    "deletable": false,
    "editable": false
   },
   "source": [
    "## Bonus \n",
    "\n",
    "Find the tail number of the top ten planes (identified by `tailNum`), with the worst departure delays (average delays).  You may find `drop_duplicates`, `agg`, and `sort_values` helpful. \n",
    "\n",
    "Consider only planes that have made at least 10 flights. \n",
    "\n",
    "Report out results in a DataFrame, `topDelayed`, the tail number `tailNum`, number of flights `num`, and the mean delay `mnDelay`. "
   ]
  },
  {
   "cell_type": "code",
   "execution_count": null,
   "id": "adb940c9-0b73-48e1-b64b-6b53008e3efc",
   "metadata": {
    "tags": []
   },
   "outputs": [],
   "source": [
    "# Find the tail numbers of the planes with the worst mean dep. delays. \n",
    "# Store the tail number \"tailNum\", number of flights \"num\", and\n",
    "#   mean delay \"mnDelay\" in a DataFrame\n",
    "\n",
    "\n",
    "topDelayed = ...\n",
    "...\n",
    "\n",
    "topDelayed.head(10)"
   ]
  },
  {
   "cell_type": "code",
   "execution_count": null,
   "id": "14ecc9c8",
   "metadata": {
    "deletable": false,
    "editable": false
   },
   "outputs": [],
   "source": [
    "grader.check(\"b1\")"
   ]
  },
  {
   "cell_type": "markdown",
   "id": "56d6994a-bbf5-4479-aa1e-674603e092f5",
   "metadata": {},
   "source": [
    "## Congratulations! You have finished P2! \n",
    "\n",
    "### Submission Instructions\n",
    "\n",
    "Below, you will see a cell. Running this cell will automatically generate a zip file with your autograded answers. Once you submit this file to the P2 assignment on Gradescope, Gradescope will automatically submit a PDF file with your some of your answers to the P2 - Figures assignment (making them easier to grade). \n",
    "\n",
    "**Important**: Please check that your responses were generated and submitted correctly to the P2 - Figures Assignment. \n",
    "\n",
    "**You are responsible for ensuring your submission follows our requirements and that the PDF for P2- Figures answers was generated/submitted correctly. We will not be granting regrade requests nor extensions to submissions that don't follow instructions.** If you encounter any difficulties with the submission, contact course staff well-ahead of the deadline. \n",
    "\n",
    "Make sure you have run all cells in your notebook **in order** before running the cell below, so that all images/graphs appear in the output. The cell below will generate a zip file for you to submit. **Please save before exporting!**"
   ]
  },
  {
   "cell_type": "markdown",
   "id": "65d52322",
   "metadata": {
    "deletable": false,
    "editable": false
   },
   "source": [
    "## Submission\n",
    "\n",
    "Make sure you have run all cells in your notebook in order before running the cell below, so that all images/graphs appear in the output. The cell below will generate a zip file for you to submit. **Please save before exporting!**"
   ]
  },
  {
   "cell_type": "code",
   "execution_count": null,
   "id": "95036cfc",
   "metadata": {
    "deletable": false,
    "editable": false
   },
   "outputs": [],
   "source": [
    "# Save your notebook first, then run this cell to export your submission.\n",
    "grader.export(pdf=False)"
   ]
  },
  {
   "cell_type": "markdown",
   "id": "6c78488a",
   "metadata": {},
   "source": [
    " "
   ]
  }
 ],
 "metadata": {
  "kernelspec": {
   "display_name": "un5550fa24",
   "language": "python",
   "name": "un5550fa24"
  },
  "language_info": {
   "codemirror_mode": {
    "name": "ipython",
    "version": 3
   },
   "file_extension": ".py",
   "mimetype": "text/x-python",
   "name": "python",
   "nbconvert_exporter": "python",
   "pygments_lexer": "ipython3",
   "version": "3.10.16"
  },
  "otter": {
   "OK_FORMAT": true,
   "assignment_name": "p2",
   "tests": {
    "b1": {
     "name": "b1",
     "points": [
      0.5,
      0.5,
      1
     ],
     "suites": [
      {
       "cases": [
        {
         "code": ">>> type(topDelayed) == pd.core.frame.DataFrame\nTrue",
         "hidden": false,
         "locked": false
        },
        {
         "code": ">>> topDelayed.shape == (2273, 3)\nTrue",
         "hidden": false,
         "locked": false
        },
        {
         "code": ">>> all(topDelayed.columns == ['tailNum', 'num', 'mnDelay'])\nTrue",
         "hidden": false,
         "locked": false
        }
       ],
       "scored": true,
       "setup": "",
       "teardown": "",
       "type": "doctest"
      }
     ]
    },
    "q1": {
     "name": "q1",
     "points": [
      1,
      1,
      2,
      2
     ],
     "suites": [
      {
       "cases": [
        {
         "code": ">>> flights.shape[0] == 919840\nTrue",
         "hidden": false,
         "locked": false
        },
        {
         "code": ">>> flights.shape[1] == 16\nTrue",
         "hidden": false,
         "locked": false
        },
        {
         "code": ">>> all(flights.columns == ['year', 'month', 'day', 'carrier', 'tailNum', 'flNum', 'origin', 'dest', 'crsDepTime', 'actDepTime', 'depNextDay', 'crsArrTime', 'actArrTime', 'arrNextDay', 'cancelled', 'diverted'])\nTrue",
         "hidden": false,
         "locked": false
        },
        {
         "code": ">>> all(flights.iloc[48382:48387, 5] == [2602, 1693, 661, 1152, 1046])\nTrue",
         "hidden": false,
         "locked": false
        }
       ],
       "scored": true,
       "setup": "",
       "teardown": "",
       "type": "doctest"
      }
     ]
    },
    "q2a": {
     "name": "q2a",
     "points": [
      1,
      1
     ],
     "suites": [
      {
       "cases": [
        {
         "code": ">>> num_divert == 1872\nTrue",
         "hidden": false,
         "locked": false
        },
        {
         "code": ">>> num_cancel == 15264\nTrue",
         "hidden": false,
         "locked": false
        }
       ],
       "scored": true,
       "setup": "",
       "teardown": "",
       "type": "doctest"
      }
     ]
    },
    "q2b": {
     "name": "q2b",
     "points": [
      2,
      2
     ],
     "suites": [
      {
       "cases": [
        {
         "code": ">>> flights.shape == (902704, 16)\nTrue",
         "hidden": false,
         "locked": false
        },
        {
         "code": ">>> max(flights.index) == 902703\nTrue",
         "hidden": false,
         "locked": false
        }
       ],
       "scored": true,
       "setup": "",
       "teardown": "",
       "type": "doctest"
      }
     ]
    },
    "q2c": {
     "name": "q2c",
     "points": [
      1,
      1
     ],
     "suites": [
      {
       "cases": [
        {
         "code": ">>> numArrDTW == 192689\nTrue",
         "hidden": false,
         "locked": false
        },
        {
         "code": ">>> numDepDTW == 192578\nTrue",
         "hidden": false,
         "locked": false
        }
       ],
       "scored": true,
       "setup": "",
       "teardown": "",
       "type": "doctest"
      }
     ]
    },
    "q3a": {
     "name": "q3a",
     "points": 10,
     "suites": [
      {
       "cases": [
        {
         "code": ">>> all(extract_hour(flights['actDepTime'][0:5]) == [19, 6, 14, 12, 19])\nTrue",
         "hidden": false,
         "locked": false
        },
        {
         "code": ">>> all(extract_min(flights['actDepTime'][0:5]) == [15, 16, 1, 7, 58])\nTrue",
         "hidden": false,
         "locked": false
        },
        {
         "code": ">>> all(extract_hour(flights['crsArrTime'][0:5]) == [19, 9, 16, 13, 20])\nTrue",
         "hidden": false,
         "locked": false
        }
       ],
       "scored": true,
       "setup": "",
       "teardown": "",
       "type": "doctest"
      }
     ]
    },
    "q3b": {
     "name": "q3b",
     "points": 4,
     "suites": [
      {
       "cases": [
        {
         "code": ">>> convert_to_minutes(1303.0) == 783\nTrue",
         "hidden": false,
         "locked": false
        },
        {
         "code": ">>> convert_to_minutes(1524) == 924\nTrue",
         "hidden": false,
         "locked": false
        },
        {
         "code": ">>> all(convert_to_minutes(flights['actDepTime'][10:14]) == [953.0, 735.0, 1275.0, 1133.0])\nTrue",
         "hidden": false,
         "locked": false
        }
       ],
       "scored": true,
       "setup": "",
       "teardown": "",
       "type": "doctest"
      }
     ]
    },
    "q3c": {
     "name": "q3c",
     "points": 10,
     "suites": [
      {
       "cases": [
        {
         "code": ">>> calc_time_diff(pd.Series([2320.0]), pd.Series([37.0]), pd.Series([1])).iloc[0] == 77.0\nnp.True_",
         "hidden": false,
         "locked": false
        },
        {
         "code": ">>> calc_time_diff(pd.Series([1303]), pd.Series([1305]), pd.Series([0])).iloc[0] == 2\nnp.True_",
         "hidden": false,
         "locked": false
        }
       ],
       "scored": true,
       "setup": "",
       "teardown": "",
       "type": "doctest"
      }
     ]
    },
    "q4a": {
     "name": "q4a",
     "points": [
      0.5,
      0.5,
      0.5,
      0.5
     ],
     "suites": [
      {
       "cases": [
        {
         "code": ">>> type(destDelays) == pd.core.frame.DataFrame and type(originDelays) == pd.core.frame.DataFrame\nTrue",
         "hidden": false,
         "locked": false
        },
        {
         "code": ">>> destDelays.columns.shape == (6,) and originDelays.columns.shape == (6,)\nTrue",
         "hidden": false,
         "locked": false
        },
        {
         "code": ">>> destDelays.columns[4] == ('depDelay', 'std') and originDelays.columns[2] == ('arrDelay', 'median') and (destDelays.columns[0] == ('arrDelay', 'mean')) and (originDelays.columns[5] == ('depDelay', 'median'))\nTrue",
         "hidden": false,
         "locked": false
        },
        {
         "code": ">>> all(destDelays.index == ['DTW', 'ORD']) and all(destDelays.index == ['DTW', 'ORD'])\nTrue",
         "hidden": false,
         "locked": false
        }
       ],
       "scored": true,
       "setup": "",
       "teardown": "",
       "type": "doctest"
      }
     ]
    },
    "q4c": {
     "name": "q4c",
     "points": [
      1
     ],
     "suites": [
      {
       "cases": [
        {
         "code": ">>> flights.shape == (902704, 20)\nTrue",
         "hidden": false,
         "locked": false
        }
       ],
       "scored": true,
       "setup": "",
       "teardown": "",
       "type": "doctest"
      }
     ]
    },
    "q4e": {
     "name": "q4e",
     "points": [
      1,
      1
     ],
     "suites": [
      {
       "cases": [
        {
         "code": ">>> type(most_delay_routeA) == pd.core.series.Series and type(most_delay_routeB) == pd.core.series.Series\nTrue",
         "hidden": false,
         "locked": false
        },
        {
         "code": ">>> most_delay_routeB.index[0] == 'SBN'\nTrue",
         "hidden": false,
         "locked": false
        }
       ],
       "scored": true,
       "setup": "",
       "teardown": "",
       "type": "doctest"
      }
     ]
    },
    "q4f": {
     "name": "q4f",
     "points": [
      1,
      1
     ],
     "suites": [
      {
       "cases": [
        {
         "code": ">>> carrierDelays.shape == (4, 7)\nTrue",
         "hidden": false,
         "locked": false
        },
        {
         "code": ">>> all(carrierDelays.columns == ['carrier', 'arrDelayMean', 'arrDelayStd', 'arrDelayMedian', 'depDelayMean', 'depDelayStd', 'depDelayMedian'])\nTrue",
         "hidden": false,
         "locked": false
        }
       ],
       "scored": true,
       "setup": "",
       "teardown": "",
       "type": "doctest"
      }
     ]
    }
   }
  }
 },
 "nbformat": 4,
 "nbformat_minor": 5
}

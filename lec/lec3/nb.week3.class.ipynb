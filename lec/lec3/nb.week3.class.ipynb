{
 "cells": [
  {
   "cell_type": "markdown",
   "metadata": {
    "id": "ITN6O_UZd64t"
   },
   "source": [
    "# Ch 3 - Descriptive Statistics\n",
    "\n",
    "Descriptive statistic normally applies to the analyzing data in a way that describes, shows, or summarizes data in a meaningful way. **We do not draw conclusions from descriptive statistics**!!  That is the art of inferential statistics, which we will explore in the next chapter.  Let us differentiate the two:\n",
    "* Suppose that we take a sample of everyone's age in the class\n",
    "* We can use **descriptive statistics** to summarize the data that is collected (mean, median, standard deviation, quantiles, ...)\n",
    "* We would use **inferential statistics** to infer information about graduate students enrolled in a masters program at Michigan Tech.  \n",
    "Often, we want to infer information about a **population**, but are only able to observe a part of the population, known as the **Sample**.\n",
    "\n",
    "Goal for this module:\n",
    "* Learning statistical terms and concepts to describe a data sample.\n",
    "* Using Python to recover descriptive statistics of data\n",
    "* More experience visualizing data using Python"
   ]
  },
  {
   "cell_type": "markdown",
   "metadata": {
    "id": "A_BKJyYBd64v"
   },
   "source": [
    "## Data - Wine Quality \n",
    "\n",
    "I will cover a separate example with roughly the same topics/layout as our textbook, so that you have two distinct examples to work from.  The data set I have chosen to use is the wine quality data set from the UCI Machine Learning Repository, https://archive.ics.uci.edu/ml/datasets/Wine+Quality.  \n",
    "\n",
    "As we will see, this data set provides many attributes of wine, including a summary \"quality score\" based on an expert opinion.  We may visit this data set in a later week to try and use machine learning to assign a quality score based on wine attributes.  For now, we are just interested in generating **descriptive statistics** from the data.  First, lets setup our python libraries and toolboxes."
   ]
  },
  {
   "cell_type": "code",
   "execution_count": null,
   "metadata": {
    "id": "NFa8bOEwd64w"
   },
   "outputs": [],
   "source": [
    "import pandas as pd\n",
    "import numpy as np\n",
    "import matplotlib as mpl\n",
    "import seaborn as sns\n",
    "import matplotlib.pyplot as plt\n",
    "%matplotlib inline "
   ]
  },
  {
   "cell_type": "markdown",
   "metadata": {
    "id": "OF7JrWfdd640"
   },
   "source": [
    "### Data Preparation"
   ]
  },
  {
   "cell_type": "markdown",
   "metadata": {
    "id": "uiX16UjQd641"
   },
   "source": [
    "One of the reasons we are using a general-purpose language such as Python  is that for many projects the *hard* part is preparing the data, not doing the analysis.\n",
    "\n",
    "The most common steps are:\n",
    "\n",
    "1. **Getting the data**. Data can be directly read from a file or it might be necessary to scrap the web.\n",
    "2. **Parsing the data**.  Of course, this depends on what format it is in: plain text, fixed columns, CSV, XML, HTML, etc.\n",
    "3. **Cleaning the data**.  Survey responses and other data files are almost always incomplete.  Sometimes there are multiple codes for things like, *not asked*, *did not know*, and *declined to answer*. And there are almost always errors. A simple strategy is to remove or ignore incomplete records.\n",
    "4. **Building data structures**. Once you read the data, you usually want to store it in a data structure that lends itself to the analysis you want to do.\n",
    "\n",
    "If the data fits into memory, building a data structure is usually the way to go.   If not, you could build a database, which is an out-of-memory data structure. Most databases provide a mapping from keys to values, so they are like dictionaries."
   ]
  },
  {
   "cell_type": "markdown",
   "metadata": {
    "id": "XobgEjlGd641"
   },
   "source": [
    "\n",
    "For this notebook, we will pull our data directly from the UCI repository. It turns out, there are two data sets: one for red one, one for white wine. Lets pull the data for the red wine. In this case, we are reading in a csv file (from the web) into a pandas dataframe object."
   ]
  },
  {
   "cell_type": "code",
   "execution_count": null,
   "metadata": {
    "id": "Cmet7M2sd642"
   },
   "outputs": [],
   "source": [
    "url  = \"https://archive.ics.uci.edu/ml/machine-learning-databases/wine-quality/winequality-red.csv\"\n",
    "wine = pd.read_csv(url)\n",
    "wine.head()"
   ]
  },
  {
   "cell_type": "markdown",
   "metadata": {
    "id": "-gyKlFEid645"
   },
   "source": [
    "Oops, something went wrong.  \n",
    "\n",
    "It looks like the data is not stored with a standard \",\" separator for the data.  Let's try this again, changing the optional argument for the separator.  \n",
    "\n",
    "Docs: https://pandas.pydata.org/pandas-docs/stable/reference/api/pandas.read_csv.html"
   ]
  },
  {
   "cell_type": "code",
   "execution_count": null,
   "metadata": {
    "id": "Xd2GiAN7d646"
   },
   "outputs": [],
   "source": [
    "wine = pd.read_csv(url, sep=';')  # Use other function parameters to correctly read data \n",
    "wine.head()"
   ]
  },
  {
   "cell_type": "markdown",
   "metadata": {
    "id": "QO26jGMjd648"
   },
   "source": [
    "That's better.  Lets find out the number of observation and features (shape) of our data set"
   ]
  },
  {
   "cell_type": "code",
   "execution_count": null,
   "metadata": {
    "id": "fFFNu8n-d649"
   },
   "outputs": [],
   "source": [
    "wine.shape"
   ]
  },
  {
   "cell_type": "code",
   "execution_count": null,
   "metadata": {},
   "outputs": [],
   "source": [
    "# num of columns \n",
    "wine.shape[1]"
   ]
  },
  {
   "cell_type": "markdown",
   "metadata": {
    "id": "Xfl5zUhxd65A"
   },
   "source": [
    "There are 1599 observations/samples and 12 features/attributes (columns).  \n",
    "\n",
    "The \"quality\" column is in some sense the output variable.  Let's group by quality, and find out how many wines have a specific quality rating."
   ]
  },
  {
   "cell_type": "code",
   "execution_count": null,
   "metadata": {
    "id": "7FZWaOtVd65A"
   },
   "outputs": [],
   "source": [
    "counts = wine.groupby('quality').size()\n",
    "print(counts)"
   ]
  },
  {
   "cell_type": "markdown",
   "metadata": {
    "id": "B4XRqffUd65D"
   },
   "source": [
    "Most wines are mediocre (quality rating of 5 or 6).  Few wines are truly excellent or poor. \n",
    "\n",
    "\n"
   ]
  },
  {
   "cell_type": "markdown",
   "metadata": {
    "id": "rLpmLkpwfZO_"
   },
   "source": [
    "## Descriptive Statistics\n",
    "\n",
    "Let's proceed with some useful descriptive statistics. \n",
    "\n",
    "* mean, $\\mu$ - the non-technical term is average \n",
    "* standard deviation, $\\sigma$  (or variance $\\sigma^2$) \n",
    "* quantiles / percentiles \n",
    "* distributions \n"
   ]
  },
  {
   "cell_type": "markdown",
   "metadata": {
    "id": "wcdy4y3CfRly"
   },
   "source": [
    "### Mean\n",
    "Start with finding the mean pH of the wines, then the mean grouped by quality. "
   ]
  },
  {
   "cell_type": "code",
   "execution_count": null,
   "metadata": {
    "id": "5mfskucVd65E"
   },
   "outputs": [],
   "source": [
    "meanPH = wine['pH'].mean()\n",
    "print(meanPH)"
   ]
  },
  {
   "cell_type": "code",
   "execution_count": null,
   "metadata": {
    "id": "q6xNBpVrd65H"
   },
   "outputs": [],
   "source": [
    "meanPhQuality = wine[['pH', 'quality']].groupby('quality').mean()\n",
    "print(meanPhQuality)"
   ]
  },
  {
   "cell_type": "markdown",
   "metadata": {
    "id": "hZT4VyVNd65J"
   },
   "source": [
    "Mathematically, how are these numbers obtained?  Well, we know for example, there are 10 wines with quality 3 (based on our counts above).  We can extract the pH values of these 10 wines.  The mean is the sum of the values divided by the number of values, $$\\mu = \\frac{1}{n} \\sum_{i=1}^n x_i$$"
   ]
  },
  {
   "cell_type": "code",
   "execution_count": null,
   "metadata": {
    "id": "NpzBXjysd65K"
   },
   "outputs": [],
   "source": [
    "# Let's look at the data for wines of quality 3\n",
    "wine[wine['quality']==3]"
   ]
  },
  {
   "cell_type": "code",
   "execution_count": null,
   "metadata": {
    "id": "tVQQ-qSEd65M"
   },
   "outputs": [],
   "source": [
    "# Let's print out just the pH variable for wines of quality 3\n",
    "wine[wine['quality']==3]['pH']"
   ]
  },
  {
   "cell_type": "code",
   "execution_count": null,
   "metadata": {
    "id": "oi5a8e7FeyGL"
   },
   "outputs": [],
   "source": [
    "# Calculate the mean pH of the quality 3 wines \n",
    "wine[wine['quality']==3]['pH'].mean()"
   ]
  },
  {
   "cell_type": "code",
   "execution_count": null,
   "metadata": {
    "id": "l7j73THFd65W"
   },
   "outputs": [],
   "source": [
    "# We can also can also code in the calculation\n",
    "my_sum = 0\n",
    "for pH in wine[wine['quality']==3 ]['pH']:\n",
    "    my_sum += pH\n",
    "my_mean = my_sum/wine[wine['quality']==3 ]['pH'].size\n",
    "print(\"mean pH of wine with quality 3 is \" + str(my_mean) + \".\")"
   ]
  },
  {
   "cell_type": "markdown",
   "metadata": {
    "id": "tI0Q0mhhd65Y"
   },
   "source": [
    "### Variance and Standard Deviation  \n",
    "The mean is often not a sufficient descriptor of data.  One often cares about how the data *deviates* from the mean, the so-called \"spread\" of the data.    The common measurement is the mean squared deviation, $$\\sigma^2 = \\frac{1}{n} \\sum_i(x_i-\\mu)^2.$$  \n",
    "The square root of variance, $\\sigma$, is called the standard deviation. Lets use the group by function to find the standard deviation by quality, and then recover the standard deviation manually."
   ]
  },
  {
   "cell_type": "code",
   "execution_count": null,
   "metadata": {
    "id": "BDgetOq3d65Z"
   },
   "outputs": [],
   "source": [
    "# Calculate the standard deviation pH of the quality 3 wines using \n",
    "#  built-in commands \n",
    "a = wine[['pH','quality']].groupby('quality').std()\n",
    "print(a)"
   ]
  },
  {
   "cell_type": "code",
   "execution_count": null,
   "metadata": {
    "id": "V8GbwNUKd65c"
   },
   "outputs": [],
   "source": [
    "# Calculate the standard deviation pH of the quality 3 wines manually\n",
    "my_sum = 0\n",
    "for pH in wine[wine['quality']==3 ]['pH']:\n",
    "    my_sum += (pH-my_mean) ** 2\n",
    "my_variance = my_sum/(wine[wine['quality']==3 ]['pH'].size)\n",
    "my_std = np.sqrt(my_variance)\n",
    "print(\"(mean and standard deviation) of pH, wine with quality 3 is (%g,%g).\" \n",
    "      % (my_mean,my_std) ) "
   ]
  },
  {
   "cell_type": "markdown",
   "metadata": {
    "id": "LlQncXHqd65f"
   },
   "source": [
    "Well, that's not quite the same.  The built-in `std( )` function gives a standard deviation of 0.144052 for wines of quality 3, and our manual calculation gives us a standard deviation of 0.13666.  What's going on?  This is a subtle point, related to populations and samples.  Here, our data set is assumed to be the entire **population** of red wines, so the formula, and manual implementation of standard deviation is correct.  What Python has computed is the \"sample\" standard deviation, $$s^2 = \\frac{1}{n-1} \\sum_i(x_i-\\bar{x})^2.$$  The population and sample standard deviation is related by the formula $$ s^2 = \\frac{n-1}{n}\\sigma^2.$$  As $n\\to\\infty$, the population and sample standard deviation approach each other."
   ]
  },
  {
   "cell_type": "code",
   "execution_count": null,
   "metadata": {
    "id": "I56FWoKId65f"
   },
   "outputs": [],
   "source": [
    "sample_std = my_std*np.sqrt( float(wine[wine['quality']==3 ]['pH'].size )\n",
    "                            / (wine[wine['quality']==3 ]['pH'].size - 1))\n",
    "print(sample_std)"
   ]
  },
  {
   "cell_type": "markdown",
   "metadata": {},
   "source": [
    "We can also use the `std` function, but use the `ddof` argument to change between the population and sample standard deviations."
   ]
  },
  {
   "cell_type": "code",
   "execution_count": null,
   "metadata": {
    "id": "Q0AyYvzNd65i"
   },
   "outputs": [],
   "source": [
    "a = wine[['pH','quality']].groupby('quality').std(ddof=0)\n",
    "print(a)"
   ]
  },
  {
   "cell_type": "markdown",
   "metadata": {
    "id": "MaAW1t6Vd65l"
   },
   "source": [
    "A large variance (relative to the mean) indicates that at least some of the data is far from the mean and each other.  This raises the question, how do outliers affect our data?  While the mean of a sample is a very good descriptor of the sample, it can be drastically affected by an outlier.  \n",
    "\n"
   ]
  },
  {
   "cell_type": "markdown",
   "metadata": {
    "id": "cb18JQ2hfmVh"
   },
   "source": [
    "### Median  \n",
    "One measure that is not affected by outliers, is the **median** of the data, that is, if we order all the entries according to their values, the median is the value that is in the middle of the ordered list.  "
   ]
  },
  {
   "cell_type": "code",
   "execution_count": null,
   "metadata": {
    "id": "N0-uXHwid65l"
   },
   "outputs": [],
   "source": [
    "a = wine[['pH','quality']].groupby('quality').median()\n",
    "print(a)"
   ]
  },
  {
   "cell_type": "markdown",
   "metadata": {
    "id": "zevR0d37d65p"
   },
   "source": [
    "### Quantiles and Percentiles  \n",
    "More generally, we can measure (and display) quantiles (or percentiles).   The median is the 0.5 quantile (50 percentile), i.e., 50% of the data is less than the median, 50% of the data is larger than the median.  The 0.25 quantile (25 percentile) means that 25% of the data is less than the 0.25 quantile, (100-25)% = 75% is larger than the 0.25 quantile.  Often, one uses the 5-number summary: $$[x_{min},Q_1,Q_2,Q_3,x_{max}],$$ where\n",
    "* $x_{min}$ is the smallest value\n",
    "* $Q_1$ is the first quartile, a.k.a., 0.25 quantile, aka. 25 percentile\n",
    "* $Q_2$ is the second quartile, a.k.a., 0.5 quantile, aka. 50 percentile, a.k.a. median\n",
    "* $Q_3$ is the third quartile, a.k.a., 0.75 quantile, aka. 75 percentile\n",
    "* $x_{max}$ is the largest value"
   ]
  },
  {
   "cell_type": "code",
   "execution_count": null,
   "metadata": {
    "id": "I3higMmVd65p"
   },
   "outputs": [],
   "source": [
    "a = wine[['pH','quality']].groupby('quality').describe()\n",
    "print(a)"
   ]
  },
  {
   "cell_type": "markdown",
   "metadata": {
    "id": "2ODx5292vVjk"
   },
   "source": [
    "Note again, that the std deviation number is not quite correct if we think of the data set as describing a **population**. \n",
    "\n",
    "The quantiles can also be calculated with the `quantile( )` function.  \n",
    "https://pandas.pydata.org/pandas-docs/stable/reference/api/pandas.DataFrame.quantile.html"
   ]
  },
  {
   "cell_type": "code",
   "execution_count": null,
   "metadata": {
    "id": "yZnZ7FptwNOG"
   },
   "outputs": [],
   "source": [
    "wine[['pH','quality']].groupby('quality').quantile(0.25)"
   ]
  },
  {
   "cell_type": "code",
   "execution_count": null,
   "metadata": {
    "id": "dBBaYwjww7OH"
   },
   "outputs": [],
   "source": [
    "wine[['pH','quality']].groupby('quality').quantile(0.5)"
   ]
  },
  {
   "cell_type": "markdown",
   "metadata": {
    "id": "dTPJCD-1d65s"
   },
   "source": [
    "### Visualization -  Histograms\n",
    "\n",
    "Alright, lets switch gears and by trying to visualize the distribution of data.  The most common representation of a distribution is a histogram. "
   ]
  },
  {
   "cell_type": "code",
   "execution_count": null,
   "metadata": {
    "id": "28QuGi2-d65s"
   },
   "outputs": [],
   "source": [
    "wine['pH'].hist(by=wine['quality']);"
   ]
  },
  {
   "cell_type": "code",
   "execution_count": null,
   "metadata": {
    "id": "CIo-cnzTxtRZ"
   },
   "outputs": [],
   "source": [
    "wine['pH'].hist(by=wine['quality'], \n",
    "               figsize=(10,8))"
   ]
  },
  {
   "cell_type": "markdown",
   "metadata": {
    "id": "uBk5S8Ijd65u"
   },
   "source": [
    "That's not very pretty.  Also, some wines only have a few observations, so a histogram is not informative.  We'll only worry about plotting the distribution of wines with quality 5, 6 and 7, since the other qualities do not have that many observations."
   ]
  },
  {
   "cell_type": "code",
   "execution_count": null,
   "metadata": {
    "id": "Eegoz6X5d65v"
   },
   "outputs": [],
   "source": [
    "q5 = wine[wine['quality']==5]['pH']\n",
    "q6 = wine[wine['quality']==6]['pH']\n",
    "q7 = wine[wine['quality']==7]['pH']"
   ]
  },
  {
   "cell_type": "code",
   "execution_count": null,
   "metadata": {},
   "outputs": [],
   "source": [
    "q5"
   ]
  },
  {
   "cell_type": "markdown",
   "metadata": {
    "id": "l1-yuJm4d65x"
   },
   "source": [
    "Let's plot the distributions by using a histogram plot using the hist() function.  Note: pandas is capable of plotting several histograms in the same plot, but the results are sometimes difficult to read. In this case, they seem reasonable."
   ]
  },
  {
   "cell_type": "code",
   "execution_count": null,
   "metadata": {
    "id": "P-UOjZ1bd65x"
   },
   "outputs": [],
   "source": [
    "q5.hist(density=0, histtype='stepfilled', alpha=0.5, bins=20, \n",
    "        label='quality = 5')\n",
    "q6.hist(density = 0, \n",
    "        histtype = 'stepfilled', \n",
    "        alpha = 0.5, \n",
    "        bins = 20, \n",
    "        label = 'quality = 6')\n",
    "q7.hist(density=0, histtype = 'stepfilled', alpha=0.5, bins = 20, \n",
    "        label='quality = 7')\n",
    "plt.xlabel('pH', fontsize=12)\n",
    "plt.ylabel('Counts', fontsize=14)\n",
    "plt.legend();\n",
    "plt.title('Histograms of Quality 5, 6, 7 wines');"
   ]
  },
  {
   "cell_type": "markdown",
   "metadata": {
    "id": "urWo9ZA9d650"
   },
   "source": [
    "In the above plot, we are visualizing the frequency of values in our data set.  One can also normalize the plots by setting density=1 in the argument list to the hist function.  \n",
    "\n",
    "The normalized histogram is called the *Probability Mass Function (PMF)*\n",
    " "
   ]
  },
  {
   "cell_type": "code",
   "execution_count": null,
   "metadata": {
    "id": "xTzphEpQd650"
   },
   "outputs": [],
   "source": [
    "q5.hist(density=1, histtype='stepfilled', alpha=0.5, bins = 20, label='quality=5')\n",
    "q6.hist(density=1, histtype='stepfilled', alpha=0.5, bins = 20, label='quality=6')\n",
    "q7.hist(density=1, histtype='stepfilled', alpha=0.5, bins = 20, label='quality=7')\n",
    "plt.xlabel(\"pH\")\n",
    "plt.ylabel(\"PMF\")\n",
    "plt.legend()"
   ]
  },
  {
   "cell_type": "markdown",
   "metadata": {
    "id": "Omutczqcd653"
   },
   "source": [
    "An alternative way to view distribution is to the \"cumulative distribution function\", sometimes referred to as the CDF.  The dependent variable is, in this example the pH of the wine.  Lets label this variable $x$. Then for each value $x$, we count the frequency of values $y$ satisfying $y<x$, and divide this value by the total number of observations.  "
   ]
  },
  {
   "cell_type": "code",
   "execution_count": null,
   "metadata": {
    "id": "Xkbqbb5cd653"
   },
   "outputs": [],
   "source": [
    "q5.hist(density=1, histtype='step', alpha=0.5, bins=20, label='quality = 5', \n",
    "        cumulative=True)\n",
    "q6.hist(density=1, histtype='step', alpha=0.5, bins=20, label='quality = 6', \n",
    "        cumulative=True)\n",
    "q7.hist(density=1, histtype='step', alpha=0.5, bins=20, label='quality = 7', \n",
    "        cumulative=True)\n",
    "plt.xlabel(\"pH\")\n",
    "plt.ylabel(\"CDF\")\n",
    "plt.legend()"
   ]
  },
  {
   "cell_type": "markdown",
   "metadata": {},
   "source": [
    "These still are hard to read with overlapping histograms, we will see an alternative that may be better below. \n"
   ]
  },
  {
   "cell_type": "markdown",
   "metadata": {},
   "source": [
    "#### Better Visualizations \n",
    "\n",
    "Overlapping histograms are not always easy to interpret.  \n",
    "\n",
    "Let's try using functions in seaborn instead to view the data.  First, let's create the histogram. "
   ]
  },
  {
   "cell_type": "code",
   "execution_count": null,
   "metadata": {},
   "outputs": [],
   "source": [
    "data_long = pd.concat([q5, q6, q7]).reset_index(drop = True)\n",
    "qual = pd.Series(['quality = 5', 'quality = 6', 'quality = 7'])\n",
    "qual = qual.repeat([len(q5), len(q6), len(q7)]).reset_index(drop = True)\n",
    "df_long = pd.DataFrame({'pH': data_long, 'quality': qual})\n",
    "df_long.head()"
   ]
  },
  {
   "cell_type": "code",
   "execution_count": null,
   "metadata": {},
   "outputs": [],
   "source": [
    "# import seaborn as sns    # note this should really go at the top of our notebook\n",
    "sns.histplot(df_long, x='pH', hue='quality', bins=20)"
   ]
  },
  {
   "cell_type": "code",
   "execution_count": null,
   "metadata": {},
   "outputs": [],
   "source": [
    "sns.histplot(df_long, x='pH', hue='quality', stat= 'density', bins=20)"
   ]
  },
  {
   "cell_type": "code",
   "execution_count": null,
   "metadata": {},
   "outputs": [],
   "source": [
    "sns.kdeplot(df_long, x = 'pH', hue = 'quality')"
   ]
  },
  {
   "cell_type": "code",
   "execution_count": null,
   "metadata": {},
   "outputs": [],
   "source": [
    "q5.plot.kde()\n",
    "q6.plot.kde()\n",
    "q7.plot.kde()"
   ]
  },
  {
   "cell_type": "markdown",
   "metadata": {
    "id": "jUeqPaSWgUgY"
   },
   "source": [
    "### Visualization - Box Plot"
   ]
  },
  {
   "cell_type": "markdown",
   "metadata": {
    "id": "KCBDIPJLd657"
   },
   "source": [
    "Instead of using histograms or CDFs to compare distributions of data, one could use box plots (a.k.a. cat-and-whisker plots) which show the five number summary (minimum, Q1, Q2, Q3, max)"
   ]
  },
  {
   "cell_type": "code",
   "execution_count": null,
   "metadata": {
    "id": "Kh5tIIU-d658"
   },
   "outputs": [],
   "source": [
    "wine.boxplot(by=\"quality\", column=\"pH\")\n",
    "plt.ylabel('pH')"
   ]
  },
  {
   "cell_type": "markdown",
   "metadata": {
    "id": "zIwnbONJd65_"
   },
   "source": [
    "In this cat-and-whisker plot, the lower and upper boundary of the box show Q1 and Q3 respectively.  Q2 is the green line.  The lower and upper fence is the minimum or maximum of the data, if no flagged or suspected outliers are present.  The default definition of an outlier is $3 IQR$ below the first quartile, or $3 IQR$ above the third quartile, where $IQR$ (the interquartile range), is the interval between Q1 and Q3. The default definition of suspected outlier is $1.5 IQR$ below the first quartile, or $1.5 IQR$ above the third quartile.  Here, suspected outliers are plotted in open circles, outliers (none present) would be plotted in filled circles.   \n",
    "\n",
    "Sometimes, outliers are identified if they are 2 or 3 standard deviation away from the mean. It is important to specify in your plots, how outliers are being identified and handled.  \n",
    "\n",
    "While box plots are useful, they don't give information about the actual distribution of the data.  We can use the seaborn package to create a violin plot: a plot that adds distributional information to a boxplot."
   ]
  },
  {
   "cell_type": "code",
   "execution_count": null,
   "metadata": {
    "id": "EK8EKaCqd65_"
   },
   "outputs": [],
   "source": [
    "import seaborn as sns   # note this should really go at the top of our notebook\n",
    "sns.violinplot(x=\"quality\", y='pH', data=wine)"
   ]
  },
  {
   "cell_type": "markdown",
   "metadata": {
    "id": "jmAYPrE_d66C"
   },
   "source": [
    "Here, we can visualize very quickly that the distributions are fairly normal regardless of quality, wines with quality 8 have the most variability (more spread out), wine with quality 4 and 6 have more outliers.  These plots also sometimes indicate *skewness* of a data set, i.e., how asymmetric a data might be.  Skewness if defined as $$g = \\frac{1}{n} \\frac{\\sum_i(x_i - \\mu)^3}{\\sigma^3},$$ where $\\mu$ is the mean, $\\sigma$ is the standard deviation, and $n$ is the number of observations."
   ]
  },
  {
   "cell_type": "code",
   "execution_count": null,
   "metadata": {
    "id": "tEI-sYnxd66C"
   },
   "outputs": [],
   "source": [
    "def skewness(x):\n",
    "    sum = 0\n",
    "    mu = x.mean()\n",
    "    s = x.std()\n",
    "    for i in x:\n",
    "        sum += (i-mu)**3\n",
    "    sum /= (len(x)* s**3)\n",
    "    return sum\n",
    "print(\"Skewness of wine pH, quality = 5 is \", skewness(q5))  \n",
    "print(\"Skewness of wine pH, quality = 6 is \", skewness(q6)) \n",
    "print(\"Skewness of wine pH, quality = 7 is \", skewness(q7))  "
   ]
  },
  {
   "cell_type": "markdown",
   "metadata": {
    "id": "b-51PZqHd66F"
   },
   "source": [
    "So, pH of wine with quality 5 is least skewed compared to wines with quality 6 and 7.  The book also describes a simpler measure of skewness: the \"Pearson's median skewness coefficient, which measures differences between the median and mean (note typo in book definition and code) $$ g = 3 \\frac{(mean - median)}{\\sigma}$$"
   ]
  },
  {
   "cell_type": "code",
   "execution_count": null,
   "metadata": {
    "id": "byZYHDpQd66F"
   },
   "outputs": [],
   "source": [
    "def pearson_skewness(x):\n",
    "    mu = x.mean()\n",
    "    s = x.std()\n",
    "    nu = x.median()\n",
    "    return 3*(mu-nu)/s\n",
    "print (\"Pearson skewness of wine pH, quality = 5 is \", pearson_skewness(q5))    \n",
    "print (\"Pearson skewness of wine pH, quality = 6 is \", pearson_skewness(q6))  \n",
    "print (\"Pearson skewness of wine pH, quality = 7 is \", pearson_skewness(q7)) "
   ]
  },
  {
   "cell_type": "markdown",
   "metadata": {
    "id": "dr5RgnvQd66H"
   },
   "source": [
    "Notice that by this measure, wine with quality 7 is still most skewed. Wine with least skewness is now wine quality 6.\n",
    "\n",
    "### Distributions\n",
    "This is a good time to introduce two common distributions.  Most famous is the normal (Gaussian) distribution.\n",
    "$$ N(x,\\mu,\\sigma) = \\frac{1}{\\sqrt{2 \\pi \\sigma^2}} \\exp \\left(-\\frac{(x-\\mu)^2}{2 \\sigma^2} \\right),$$ where $\\mu$ is the mean and $\\sigma$ is the standard deviation."
   ]
  },
  {
   "cell_type": "code",
   "execution_count": null,
   "metadata": {
    "id": "dIrP7QZSd66H"
   },
   "outputs": [],
   "source": [
    "u=0  # mean\n",
    "s=3  # standard deviation \n",
    "x=np.arange(0,14,0.1)-7\n",
    "y=(1/(np.sqrt(2*np.pi*s**2)))*np.exp(-(((x-u)**2)/(2*s*s)))\n",
    "plt.plot(x,y,'-')\n",
    "plt.title('Gaussian PDF: $\\mu$=%.1f, $\\sigma$=%.1f' % (u,s),fontsize=15)\n",
    "plt.xlabel('x',fontsize=15)\n",
    "plt.ylabel('Probability density',fontsize=15)\n",
    "plt.show()"
   ]
  },
  {
   "cell_type": "markdown",
   "metadata": {
    "id": "VQPVKwsRd66L"
   },
   "source": [
    "Another common distribution is the exponential distribution, $$ PDF(\\lambda,x) = \\lambda \\exp^{- \\lambda x}$$"
   ]
  },
  {
   "cell_type": "code",
   "execution_count": null,
   "metadata": {
    "id": "6dhnAwrad66M"
   },
   "outputs": [],
   "source": [
    "l = 3\n",
    "x=np.arange(0,2.5,0.1)\n",
    "y= l * np.exp(-l*x)\n",
    "plt.plot(x,y,'-')\n",
    "plt.title('Exponential PDF: $\\lambda$ =%.2f' % l, fontsize=15)\n",
    "plt.xlabel('x', fontsize=15)\n",
    "plt.ylabel('PDF', fontsize=15)\n",
    "plt.show()"
   ]
  },
  {
   "cell_type": "markdown",
   "metadata": {
    "id": "gx6Ru63bd66O"
   },
   "source": [
    "### Inferential Statistics\n",
    "\n",
    "Whereas descriptive statistics strives to describe a given data set, we are often interested in using samples to describe a population.  *Estimation* is the process of inferring the parameters (e.g. mean) of a distribution from a statistics of samples drawn from a population. The *statistic* we used is called the **estimator**.  We begin with estimating the mean and standard deviation of samples drawn from a normal distribution.  \n",
    "* Suppose we take a random sample of $n$ objects to estimate the mean of the population, $\\mu$.  Denote the sample mean as $\\bar{x}$; $n$ is often referred to as the sample size.\n",
    "* This sample mean could be a good estimator of the population mean, if there are no outliers.  \n",
    "* Statisticians have shown (using the central limit theorem) that the sample mean approaches the population mean.\n",
    "* The population variance can be estimated using an unbiased sample variance, \n",
    "$$s^2 = \\frac{1}{n-1}\\sum(x_i - \\bar{x})^2.$$\n",
    "\n",
    "To compare data with the standard normal distribution ($mu=0$, $s = 1$), one often normalizes using the $Z$-score (text uses terminology Standard Score).  The idea is to normalize the data,\n",
    "$$ z_i = \\frac{x_i - \\mu}{\\sigma}.$$\n",
    "Chapter 4 will explore inferential statistics in more detail.   The remainder of chapter 3 explores multi-variate statistics, and correlation between variables."
   ]
  },
  {
   "cell_type": "markdown",
   "metadata": {
    "id": "Px1_dbwwgJm4"
   },
   "source": [
    "## Multivariate Descriptive Statistics"
   ]
  },
  {
   "cell_type": "markdown",
   "metadata": {
    "id": "gYzMitRUd66O"
   },
   "source": [
    "### Covariance \n",
    "\n",
    "Often, our observations will include multiple variables.  In our wine example, we had fixed acidity, volatile acidity, citric acid, residual sugar,... \n",
    "* If larger values in one variable correspond to larger values in a different variable, we say the the variables are correlated, and the covariance is positive.\n",
    "* If larger values in one variable correspond to smaller values in a different variable, we say the the variables are correlated, and the covariance is negative.\n",
    "* hence ,the sign of the covariance shows the tendency in the linear relationship between the two random variables.\n",
    "* A scatter matrix is a useful way to try and discover linear relationships between variables"
   ]
  },
  {
   "cell_type": "code",
   "execution_count": null,
   "metadata": {
    "id": "7ztoPJDGd66O"
   },
   "outputs": [],
   "source": [
    "from pandas.plotting import scatter_matrix\n",
    "pd.plotting.scatter_matrix(wine, alpha=0.2, figsize=(12,12))\n",
    "plt.show()"
   ]
  },
  {
   "cell_type": "code",
   "execution_count": null,
   "metadata": {
    "id": "1H5isK3sd66Q"
   },
   "outputs": [],
   "source": [
    "pd.plotting.scatter_matrix(wine[ [\"pH\",\"sulphates\",\"alcohol\"] ],alpha=0.2)\n",
    "plt.show()"
   ]
  },
  {
   "cell_type": "markdown",
   "metadata": {
    "id": "QEl0XRzbd66T"
   },
   "source": [
    "## Additional Visualizations\n",
    "\n"
   ]
  },
  {
   "cell_type": "markdown",
   "metadata": {
    "id": "WYawd9EfgFHK"
   },
   "source": [
    "###  Density Plots "
   ]
  },
  {
   "cell_type": "code",
   "execution_count": null,
   "metadata": {
    "id": "_lhhwTJ6d66U"
   },
   "outputs": [],
   "source": [
    "pH = wine['pH']\n",
    "plt.figure()\n",
    "ax = pH.plot.kde(title='Density of pH')\n",
    "ax.set_xlabel(\"pH\")"
   ]
  },
  {
   "cell_type": "markdown",
   "metadata": {
    "id": "H3FlsPyvd66W"
   },
   "source": [
    "We can also look at the density of pH grouped by wine quality. "
   ]
  },
  {
   "cell_type": "code",
   "execution_count": null,
   "metadata": {
    "id": "LQdLDfrcd66W"
   },
   "outputs": [],
   "source": [
    "import seaborn as sns\n",
    "sns.set(color_codes=True)"
   ]
  },
  {
   "cell_type": "code",
   "execution_count": null,
   "metadata": {
    "id": "nwXw6Ts3d66Z"
   },
   "outputs": [],
   "source": [
    "sns.kdeplot(wine.pH[wine.quality == 8], label=8);\n",
    "sns.kdeplot(wine.pH[wine.quality == 7], label=7);\n",
    "sns.kdeplot(wine.pH[wine.quality == 6], label=6);\n",
    "sns.kdeplot(wine.pH[wine.quality == 5], label=5);"
   ]
  },
  {
   "cell_type": "markdown",
   "metadata": {
    "id": "bBs5RJa_d66b"
   },
   "source": [
    "### Bar Plots"
   ]
  },
  {
   "cell_type": "code",
   "execution_count": null,
   "metadata": {
    "id": "Op7F5cIhd66c"
   },
   "outputs": [],
   "source": [
    "counts = wine.groupby('quality').size()\n",
    "print(counts)"
   ]
  },
  {
   "cell_type": "code",
   "execution_count": null,
   "metadata": {
    "id": "Sad12WmCd66e"
   },
   "outputs": [],
   "source": [
    "plt.figure();\n",
    "plt.bar([3,4,5,6,7,8], counts)\n",
    "plt.xlabel(\"Quality\")\n",
    "plt.ylabel(\"Number\")\n",
    "plt.title('Number of Wines of Each Quality')"
   ]
  },
  {
   "cell_type": "markdown",
   "metadata": {
    "id": "pmitTmeqd66g"
   },
   "source": [
    "### 2D Histograms"
   ]
  },
  {
   "cell_type": "code",
   "execution_count": null,
   "metadata": {
    "id": "mJYrXumnd66h"
   },
   "outputs": [],
   "source": [
    "from scipy import stats, integrate\n",
    "mean, cov = [0, 1], [(1, .5), (.5, 1)]\n",
    "data = np.random.multivariate_normal(mean, cov, 200)\n",
    "df2 = pd.DataFrame(data, columns=[\"x\", \"y\"])\n",
    "x, y = np.random.multivariate_normal(mean, cov, 1000).T\n",
    "with sns.axes_style(\"white\"):\n",
    "    sns.jointplot(x=x, y=y, kind=\"hex\", color=\"k\");"
   ]
  },
  {
   "cell_type": "markdown",
   "metadata": {
    "id": "dBRIu3Itd66o"
   },
   "source": [
    "### Scatter plots"
   ]
  },
  {
   "cell_type": "code",
   "execution_count": null,
   "metadata": {
    "id": "xCSe1MGwd66o"
   },
   "outputs": [],
   "source": [
    "wine.plot.scatter(x=\"pH\", y=\"alcohol\")"
   ]
  },
  {
   "cell_type": "code",
   "execution_count": null,
   "metadata": {
    "id": "CjbGStsLd66q"
   },
   "outputs": [],
   "source": []
  }
 ],
 "metadata": {
  "colab": {
   "collapsed_sections": [],
   "name": "nb.week2.ipynb",
   "provenance": [],
   "toc_visible": true
  },
  "kernelspec": {
   "display_name": "un5550fa24",
   "language": "python",
   "name": "un5550fa24"
  },
  "language_info": {
   "codemirror_mode": {
    "name": "ipython",
    "version": 3
   },
   "file_extension": ".py",
   "mimetype": "text/x-python",
   "name": "python",
   "nbconvert_exporter": "python",
   "pygments_lexer": "ipython3",
   "version": "3.10.16"
  }
 },
 "nbformat": 4,
 "nbformat_minor": 4
}

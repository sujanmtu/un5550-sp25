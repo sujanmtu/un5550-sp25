{
 "cells": [
  {
   "cell_type": "markdown",
   "id": "799ba4c0",
   "metadata": {
    "id": "o6pKANkJu6iZ"
   },
   "source": [
    "# Getting Data - Part 2 \n",
    "\n",
    "\n",
    "Some information comes from Ch 9 of Data Science from Scratch, 2nd Edition by Joel Grus.  This book is available for free through the library's connection to O'reilly's learning platform. Additional content comes from DSC 80.  Some examples adapted from:  [zlotnick's Text As Data examples](http://web.stanford.edu/~zlotnick/TextAsData/Web_Scraping_with_Beautiful_Soup.html)  *Note, the site is now unavailable*. "
   ]
  },
  {
   "cell_type": "markdown",
   "id": "8cf09f51-6f1f-4ed6-abef-49187f33068b",
   "metadata": {},
   "source": [
    "### The data science lifecycle\n",
    "\n",
    "<center><img src=\"imgs/ds-lifecycle.svg\" width=\"60%\"></center>"
   ]
  },
  {
   "cell_type": "markdown",
   "id": "54ce9d08-d2eb-4a11-b717-4f2c4680998f",
   "metadata": {},
   "source": [
    "This week we are continuing to focus on Step 2 - Obtaining Data \n",
    "\n",
    "### Data Sources \n",
    "\n",
    "* Often, the data you need doesn't exist in \"clean\" `.csv` files.\n",
    "\n",
    "* **Solution**: Collect your own data!\n",
    "    - Design and administer your own survey or run an experiment.\n",
    "    - Find related data on the internet.\n",
    "\n",
    "- The internet contains **massive** amounts of historical record; for most questions you can think of, the answer exists somewhere on the internet."
   ]
  },
  {
   "cell_type": "markdown",
   "id": "8e1dbfc9-ad3c-43d8-a4ad-50ec9922e57b",
   "metadata": {},
   "source": [
    "### Collecting data from the internet\n",
    "\n",
    "- There are two ways to programmatically access data on the internet:\n",
    "    - through an API.\n",
    "    - by scraping.\n",
    "\n",
    "\n",
    "- We will discuss the differences between both approaches, but for now, the important part is that they **both use HTTP**."
   ]
  },
  {
   "cell_type": "markdown",
   "id": "5bc9efd4-e57b-4cde-80bd-0c2684d4124d",
   "metadata": {},
   "source": [
    "## HTTP\n",
    "\n",
    "- HTTP stands for **Hypertext Transfer Protocol**.\n",
    "    - It was developed in 1989 by Tim Berners-Lee (and friends).\n",
    "\n",
    "- It is a **request-response** protocol.\n",
    "    - Protocol = set of rules.\n",
    "\n",
    "- HTTP allows...\n",
    "    - computers to talk to each other over a network.\n",
    "    - devices to fetch data from \"web servers.\"\n",
    "\n",
    "- The \"S\" in HTTPS stands for \"secure\"."
   ]
  },
  {
   "cell_type": "markdown",
   "id": "0941ec47-f68a-4b5c-ab82-0334c207f18a",
   "metadata": {},
   "source": [
    "### The request-response model\n",
    "\n",
    "HTTP follows the **request-response** model.\n",
    "\n",
    "<center><img src='imgs/req-response.png' width=500></center>\n",
    "\n",
    "- A <b><span style=\"color:blue\">request</span></b> is made by the <b><span style=\"color:blue\">client</span></b>.\n",
    "\n",
    "- A <b><span style=\"color:orange\">response</span></b> is returned by the <b><span style=\"color:orange\">server</span></b>.\n",
    "\n",
    "- **Example**: YouTube search.\n",
    "    - Consider the following URL: https://www.youtube.com/results?search_query=apple+vision+pro.\n",
    "    - Your web browser, a **client**, makes an HTTP **request** with a search query.\n",
    "    - The **server**, YouTube, is a computer that is sitting somewhere else.\n",
    "    - The server returns a **response** that contains the search results.\n",
    "    - Note: ?search_query=apple+vision+pro is called a \"query string.\""
   ]
  },
  {
   "cell_type": "markdown",
   "id": "23e260f2-214e-4d2e-9a2e-c622cd98f4e6",
   "metadata": {},
   "source": [
    "### Request methods\n",
    "\n",
    "The request methods you will use most often are `GET` and `POST`; see [Mozilla's web docs](https://developer.mozilla.org/en-US/docs/Web/HTTP/Methods) for a detailed list of request methods.    \n",
    "\n",
    "- `GET` is used to request data **from** a specified resource.\n",
    "\n",
    "- `POST` is used to **send** data to the server. \n",
    "    - For example, uploading a photo to Instagram or entering credit card information on Amazon."
   ]
  },
  {
   "cell_type": "markdown",
   "id": "c689a6c6-ac65-4c2c-939b-8bd09b4aea7e",
   "metadata": {},
   "source": [
    "### Example `GET` request\n",
    "\n",
    "Below is an example `GET` HTTP request made by safari when accessing [www.mtu.edu](https://www.mtu.edu).\n",
    "\n",
    "<img src=\"imgs/get-safari.png\">\n",
    "\n",
    "\n",
    "The request information includes the following: \n",
    "\n",
    "```HTTP\n",
    "GET / HTTP/1.1\n",
    "Connection: keep-alive\n",
    "Host: www.mtu.edu\n",
    "User-Agent: Mozilla/5.0 (Macintosh; Intel Mac OS X 10_15_7) AppleWebKit/537.36 (KHTML, like Gecko) Chrome/121.0.0.0 Safari/605.1.15\n",
    "...\n",
    "```\n",
    "\n",
    "- The first line (`GET / HTTP/1.1`) is called the \"request line\", and the lines afterwards are called \"header fields\". Header fields contain metadata. \n",
    "\n",
    "- We _could_ also provide a \"body\" after the header fields.\n",
    "\n",
    "- To see HTTP requests in Google Chrome, follow [these steps](https://mkyong.com/computer-tips/how-to-view-http-headers-in-google-chrome/).\n",
    "\n",
    "<img src=\"imgs/get-chrome.png\">\n",
    "\n",
    "#### Developer Tools \n",
    "\n",
    "You are going to need to use the developer's tools in whatever browser you use to explore informaiton for this week. "
   ]
  },
  {
   "cell_type": "markdown",
   "id": "3a93d687-0e38-41a7-a4fc-b70d8ed6db61",
   "metadata": {},
   "source": [
    "### Example `GET` response\n",
    "\n",
    "```HTML\n",
    "\n",
    "<!doctype html>\n",
    "<html lang=\"en\">\n",
    "\n",
    "<head>\n",
    "\t<meta charset=\"UTF-8\" />\n",
    "\t<meta name=\"viewport\" content=\"width=device-width, initial-scale=1\" />\n",
    "\t<meta name=\"theme-color\" content=\"#000000\" />\n",
    "\t<title>Michigan Technological University</title>\n",
    "\t\n",
    "\t<!-- <link type=\"text/css\" rel=\"stylesheet\" href=\"//www.mtu.edu/mtu_resources/styles/n/normalize.css\" /> -->\n",
    "\t\t\t<link type=\"text/css\" rel=\"stylesheet\" href=\"//www.mtu.edu/mtu_resources/styles/n/base.css\" />\n",
    "\t\t<link href=\"//www.mtu.edu/mtu_resources/styles/n/print.css\" type=\"text/css\" rel=\"stylesheet\" media=\"print\" />\n",
    "\n",
    "...\n",
    "```"
   ]
  },
  {
   "cell_type": "markdown",
   "id": "997083d4-6b37-464c-a734-8ecac2bb6f61",
   "metadata": {},
   "source": [
    "### Consequences of the request-response model\n",
    "\n",
    "- When a request is sent to view content on a webpage, the server must:\n",
    "    - process your request (i.e. prepare data for the response).\n",
    "    - send content back to the client in its response.\n",
    "\n",
    "- Remember, servers are computers. \n",
    "    - Someone has to pay to keep these computers running.\n",
    "    - **This means that every time you access a website, someone has to pay.**"
   ]
  },
  {
   "cell_type": "markdown",
   "id": "7b6c40f8-573d-4ac1-93d6-9c5909359283",
   "metadata": {},
   "source": [
    "## Making HTTP requests \n",
    "\n",
    "There are (at least) two ways to make HTTP requests outside of a browser:\n",
    "\n",
    "- From the command line, with `curl`.\n",
    "\n",
    "- **From Python, with the `requests` package.**"
   ]
  },
  {
   "cell_type": "markdown",
   "id": "2de49caa-1de2-46b8-87b9-b215b621369b",
   "metadata": {},
   "source": [
    "### The `requests` module \n",
    "\n",
    "`requests` is a Python module that allows you to use Python to interact with the internet!  \n",
    "\n",
    "There are other packages that work similarly (e.g. `urllib`), but `requests` is arguably the easiest to use."
   ]
  },
  {
   "cell_type": "markdown",
   "id": "e99877ae",
   "metadata": {
    "id": "U0xUdsvFvnvd"
   },
   "source": [
    "\n",
    "\n",
    "Some other libraries we will be using this lesson are: \n",
    "\n",
    "* `re` - we learned about this last time for regular expressions\n",
    "* `requests` \n",
    "* `beautifulsoup4` - more on this later. \n",
    "* `html5lib` \n",
    "\n",
    "Let's import our libraries. \n"
   ]
  },
  {
   "cell_type": "code",
   "execution_count": null,
   "id": "7ba69209",
   "metadata": {
    "executionInfo": {
     "elapsed": 5,
     "status": "ok",
     "timestamp": 1632847065669,
     "user": {
      "displayName": "Laura Brown",
      "photoUrl": "https://lh3.googleusercontent.com/a-/AOh14GjYbC5So3kNOYBteW-fSY5JpgP-bBJa7kyAEluaKg=s64",
      "userId": "02180634349638765126"
     },
     "user_tz": 240
    },
    "id": "nWSA1OmBuzn9",
    "tags": []
   },
   "outputs": [],
   "source": [
    "import pandas as pd \n",
    "from pathlib import Path \n",
    "import re\n",
    "from IPython.display import Image\n",
    "from IPython.display import HTML\n",
    "\n",
    "from bs4 import BeautifulSoup\n",
    "import requests"
   ]
  },
  {
   "cell_type": "markdown",
   "id": "913362bd",
   "metadata": {
    "id": "vVFEHrQz4zXi"
   },
   "source": [
    "## Example 1 - `GET` request\n",
    "\n",
    "Lets' look at the source code of the MTU homepage, [https://mtu.edu](https://mtu.edu) "
   ]
  },
  {
   "cell_type": "code",
   "execution_count": null,
   "id": "ccb8d58d",
   "metadata": {
    "colab": {
     "base_uri": "https://localhost:8080/"
    },
    "executionInfo": {
     "elapsed": 252,
     "status": "ok",
     "timestamp": 1632847209674,
     "user": {
      "displayName": "Laura Brown",
      "photoUrl": "https://lh3.googleusercontent.com/a-/AOh14GjYbC5So3kNOYBteW-fSY5JpgP-bBJa7kyAEluaKg=s64",
      "userId": "02180634349638765126"
     },
     "user_tz": 240
    },
    "id": "nv9ASCquwDfJ",
    "outputId": "dfde06a9-cbe9-4d75-9c0a-dee3c45b6f82",
    "tags": []
   },
   "outputs": [],
   "source": [
    "resp = requests.get(\"https://mtu.edu\")"
   ]
  },
  {
   "cell_type": "markdown",
   "id": "0aa50f7e-f921-4a75-8529-50a3bcdb69c2",
   "metadata": {},
   "source": [
    "`resp` is a `Response Object`"
   ]
  },
  {
   "cell_type": "code",
   "execution_count": null,
   "id": "d70de491-2645-4b4d-a391-fc67b1e529f5",
   "metadata": {
    "tags": []
   },
   "outputs": [],
   "source": [
    "resp"
   ]
  },
  {
   "cell_type": "markdown",
   "id": "ac47b8d0-0e0b-4134-9e3f-81a87537a71f",
   "metadata": {},
   "source": [
    "The `text` attribute of `resp` is a string that contains the entire response. "
   ]
  },
  {
   "cell_type": "code",
   "execution_count": null,
   "id": "79883d37-8e75-44ac-a1dd-b0aecb8bbd1a",
   "metadata": {
    "tags": []
   },
   "outputs": [],
   "source": [
    "..."
   ]
  },
  {
   "cell_type": "code",
   "execution_count": null,
   "id": "1d4f68bf-3504-4889-bc21-8baf1b7f674d",
   "metadata": {
    "tags": []
   },
   "outputs": [],
   "source": [
    "..."
   ]
  },
  {
   "cell_type": "code",
   "execution_count": null,
   "id": "4ee0164e-f1b5-468f-9238-2a29aadf1ed2",
   "metadata": {
    "tags": []
   },
   "outputs": [],
   "source": [
    "..."
   ]
  },
  {
   "cell_type": "markdown",
   "id": "acfa1f10-5db3-4285-863c-9b5b7433bf35",
   "metadata": {},
   "source": [
    "We could also chain our operators together to get the html directly. "
   ]
  },
  {
   "cell_type": "code",
   "execution_count": null,
   "id": "38abf78d",
   "metadata": {
    "colab": {
     "base_uri": "https://localhost:8080/",
     "height": 142
    },
    "executionInfo": {
     "elapsed": 287,
     "status": "ok",
     "timestamp": 1632847240762,
     "user": {
      "displayName": "Laura Brown",
      "photoUrl": "https://lh3.googleusercontent.com/a-/AOh14GjYbC5So3kNOYBteW-fSY5JpgP-bBJa7kyAEluaKg=s64",
      "userId": "02180634349638765126"
     },
     "user_tz": 240
    },
    "id": "DUpSiIJ5wKD3",
    "outputId": "2670cbc6-b5ce-4805-fd1f-84c991e110a8",
    "tags": []
   },
   "outputs": [],
   "source": [
    "html = requests.get(\"https://mtu.edu\").text\n",
    "html"
   ]
  },
  {
   "cell_type": "markdown",
   "id": "b9f7f019-d85e-4e77-900e-cbaab5093ce8",
   "metadata": {
    "colab": {
     "base_uri": "https://localhost:8080/",
     "height": 142
    },
    "executionInfo": {
     "elapsed": 265,
     "status": "ok",
     "timestamp": 1632847236068,
     "user": {
      "displayName": "Laura Brown",
      "photoUrl": "https://lh3.googleusercontent.com/a-/AOh14GjYbC5So3kNOYBteW-fSY5JpgP-bBJa7kyAEluaKg=s64",
      "userId": "02180634349638765126"
     },
     "user_tz": 240
    },
    "id": "2ZY_v2yOR2Ti",
    "outputId": "50ac3976-604e-44c8-91f2-f827a8b4f5b7",
    "tags": []
   },
   "source": [
    "## Example 2 - `POST` request \n",
    "\n",
    "The following call to `requests.post` makes a post request to https://httpbin.org/post, with a `'name'` parameter of `'Tester'`."
   ]
  },
  {
   "cell_type": "code",
   "execution_count": null,
   "id": "8e08f297-9768-4e50-b5ea-ed98acd88543",
   "metadata": {
    "tags": []
   },
   "outputs": [],
   "source": [
    "post_res = requests.post('https://httpbin.org/post',\n",
    "                         data={'name': 'Tester'})\n",
    "post_res"
   ]
  },
  {
   "cell_type": "code",
   "execution_count": null,
   "id": "40fefdef-cffd-468e-ad12-ea81770a9143",
   "metadata": {
    "tags": []
   },
   "outputs": [],
   "source": [
    "post_res.text"
   ]
  },
  {
   "cell_type": "code",
   "execution_count": null,
   "id": "88c8508d-fe1c-43a4-bbf1-6ea50f887702",
   "metadata": {
    "tags": []
   },
   "outputs": [],
   "source": [
    "# More on this shortly!\n",
    "post_res.json()"
   ]
  },
  {
   "cell_type": "markdown",
   "id": "88031b13-4f08-450e-9bc8-eb134755352a",
   "metadata": {},
   "source": [
    "What happens when we try and make a `POST` request somewhere where we're unable to?"
   ]
  },
  {
   "cell_type": "code",
   "execution_count": null,
   "id": "e75c6336-40ae-4923-ba8c-f6f87aaa4141",
   "metadata": {
    "tags": []
   },
   "outputs": [],
   "source": [
    "yt_res = requests.post('https://youtube.com',\n",
    "                       data={'name': 'Tester'})\n",
    "yt_res"
   ]
  },
  {
   "cell_type": "code",
   "execution_count": null,
   "id": "1921b2c6-7521-42e4-8656-61b552e09c99",
   "metadata": {
    "tags": []
   },
   "outputs": [],
   "source": [
    "..."
   ]
  },
  {
   "cell_type": "markdown",
   "id": "3e3f3fa6-fe70-4c1e-b021-35fa1f3ceb64",
   "metadata": {},
   "source": [
    "`yt_res.text` is a string containing HTML – we can render this in-line using `IPython.display.HTML`."
   ]
  },
  {
   "cell_type": "code",
   "execution_count": null,
   "id": "076d62c4-d863-4545-abd7-43e906279c96",
   "metadata": {
    "tags": []
   },
   "outputs": [],
   "source": [
    "..."
   ]
  },
  {
   "cell_type": "markdown",
   "id": "fbb5ebab-daa1-40d5-9d24-e79e26ecb3e6",
   "metadata": {},
   "source": [
    "### HTTP status codes \n",
    "\n",
    "When we **request** data from a website, the server includes an **HTTP status code** in the response.  \n",
    "\n",
    "The most common status code is `200`, which means there were no issues.  \n",
    "\n",
    "* Other times, you will see a different status code, describing some sort of event or error.\n",
    "    - Common examples: `400` – bad request, `404` – page not found, `500` – internal server error.\n",
    "    - [The first digit of a status describes its general \"category\".](https://developer.mozilla.org/en-US/docs/Web/HTTP/Status)\n",
    "    \n",
    "- See [https://httpstat.us](https://httpstat.us/) for a list of all HTTP status codes.\n",
    "    - It also has example sites for each status code; for example, https://httpstat.us/404 returns a `404`."
   ]
  },
  {
   "cell_type": "code",
   "execution_count": null,
   "id": "07acf0ab-be0d-4051-9eb5-ca7c5bd4acfc",
   "metadata": {
    "tags": []
   },
   "outputs": [],
   "source": [
    "..."
   ]
  },
  {
   "cell_type": "code",
   "execution_count": null,
   "id": "674ab854-85bc-414f-9c6f-51b9c251c5cd",
   "metadata": {
    "tags": []
   },
   "outputs": [],
   "source": [
    "# ok checks if the result was successful.\n",
    "..."
   ]
  },
  {
   "cell_type": "markdown",
   "id": "293b0581-c1b8-4841-89d0-2e63379a9701",
   "metadata": {},
   "source": [
    "### Handling unsuccessful requests \n",
    "\n",
    "- Unsuccessful requests can be re-tried, depending on the issue.\n",
    "    - A good first step is to wait a little, then try again.\n",
    "\n",
    "- A common issue is that you're making too many requests to a particular server at a time – if this is the case, increase the time between each request. You can even do this programatically, say, using `time.sleep`.\n",
    "\n",
    "- See this [textbook](https://learningds.org/ch/14/web_http.html) for more examples."
   ]
  },
  {
   "cell_type": "markdown",
   "id": "8c14f382-187c-4677-8033-c5f2af67a327",
   "metadata": {},
   "source": [
    "## Data formats \n",
    "\n",
    "The data formats of internet responses often come in two formats: HTML or JSON. \n",
    "\n",
    "* The response body of a `GET` request is usually either JSON (when using an API) or HTML (when accessing a webpage). \n",
    "\n",
    "* The response body of a `POST` request is usually JSON. \n",
    "\n",
    "* XML is also a common format, but not as popular as it once was. "
   ]
  },
  {
   "cell_type": "markdown",
   "id": "47a2d017-fcff-4fa9-ab4d-65514521b088",
   "metadata": {},
   "source": [
    "### Next Week - APIs and JSON \n",
    "\n",
    "Next week we are going to focus on using APIs or application programming interfaces for getting data (in the JSON format). "
   ]
  },
  {
   "cell_type": "markdown",
   "id": "ac15a44b-dd96-485f-a318-018dc1dafa38",
   "metadata": {},
   "source": [
    "## Web Scraping \n",
    "\n",
    "Web scraping is the process of  programmatically \"browsing\" the web, downloading the source code (HTML) of pages that you're interested in extracting data from.\n",
    "\n",
    "Big advantage: You can always do it! For example, Google scrapes webpages in order to make them searchable.\n",
    "\n",
    "Disadvantages:\n",
    "\n",
    "- It is often difficult to parse and clean scraped data.\n",
    "    - Source code often includes a lot of content unrelated to the data you're trying to find (e.g. formatting, advertisements, other text).\n",
    "\n",
    "- Websites can change often, so scraping code can get outdated quickly.\n",
    "\n",
    "- Websites may not want you to scrape their data!\n",
    "\n",
    "- **In general, we prefer APIs, but scraping is a useful skill to learn.**"
   ]
  },
  {
   "cell_type": "markdown",
   "id": "a1f29b38-d520-4b1a-8138-17cfe34ba5b5",
   "metadata": {},
   "source": [
    "### Legality of Web Scraping \n",
    "\n",
    "It is impolite or potentially illegal to scrap a site. The legality of web scraping has been the subject of several lawsuits. \n",
    "\n",
    "A well-watched court case involved Linked In : \n",
    "\n",
    "* https://techcrunch.com/2016/08/15/linkedin-sues-scrapers/\n",
    "* https://www.eff.org/cases/hiq-v-linkedin\n",
    "* https://arstechnica.com/tech-policy/2019/09/web-scraping-doesnt-violate-anti-hacking-law-appeals-court-rules/\n",
    "\n",
    "Ultimately, the court rules that scraping public data doesn't violate hacking laws. \n"
   ]
  },
  {
   "cell_type": "markdown",
   "id": "2553540d-fb1f-4529-8940-1a6b1717be2d",
   "metadata": {
    "jp-MarkdownHeadingCollapsed": true,
    "tags": []
   },
   "source": [
    "#### Question to Ask Yourself \n",
    "\n",
    "Before embarking on a project that involves web scrapping there are several questions you may want to ask yourself or find answers to: \n",
    "\n",
    "* Are you allowed to access the data, or is the data public? \n",
    "    * private data (requires username / password) generally should not be scraped \n",
    "* Is the data copyrighted? \n",
    "* Did you read the Terms of Use?  Does it exist? Does scraping violate these policies? \n",
    "* Did you read the `robots.txt` file? \n",
    "* Are you rate limiting your requests? "
   ]
  },
  {
   "cell_type": "markdown",
   "id": "75e49aac-2a03-4fe3-a8ad-e2df24144740",
   "metadata": {},
   "source": [
    "### Best practices for scraping\n",
    "\n",
    "1. **Send requests slowly** and be upfront about what you are doing!\n",
    "2. Respect the policy published in the page's `robots.txt` file.\n",
    "    - Many sites have a `robots.txt` file in their root directory, which contains a policy that allows or disallows automatic access to their site. \n",
    "    - If there isn't one, like in Project 3, use a 0.5 second delay between requests.\n",
    "3. Don't spoof your User-agent (i.e. don't try to trick the server into thinking you are a person).\n",
    "4. Read the Terms of Service for the site and follow it."
   ]
  },
  {
   "cell_type": "markdown",
   "id": "f1af8118-c6d1-43e2-85e4-3fd3fe5a848f",
   "metadata": {},
   "source": [
    "#### Consequences of irresponsible scraping\n",
    "\n",
    "If you make too many requests:\n",
    "* The server may block your IP Address.\n",
    "* You may take down the website.\n",
    "    - A journalist scraped and accidentally took down the Cook County Inmate Locater.\n",
    "    - As a result, inmate's families weren't able to contact them while the site was down."
   ]
  },
  {
   "cell_type": "markdown",
   "id": "7e061e88-897f-4ee5-b430-b713b131f0e7",
   "metadata": {},
   "source": [
    "### Web Scraping - GenAI \n",
    "\n",
    "With more and more tech and AI companies, needing fast amounts of data to train their models.  Many services are changing their Terms of Service to allow for data to be used to train their own AI models. \n",
    "\n",
    "Right now there is jst a lot of uncertainty in the space. \n",
    "\n",
    "\n",
    "References: \n",
    "\n",
    "* https://www.nytimes.com/2024/06/26/technology/terms-service-ai-training.html\n",
    "* https://news.bloomberglaw.com/ip-law/openais-legal-woes-driven-by-unclear-mesh-of-web-scraping-laws"
   ]
  },
  {
   "cell_type": "markdown",
   "id": "b87d2466-c203-499d-a993-2e8a8795330d",
   "metadata": {},
   "source": [
    "## The anatomy of HTML documents\n",
    "\n",
    "Let's look more closely at the HTML documents returned in our requests. \n",
    "\n",
    "### What is HTML?\n",
    "\n",
    "* HTML (HyperText Markup Language) is **the** basic building block of the internet. \n",
    "* It defines the content and layout of a webpage, and as such, it is what you get back when you scrape a webpage.\n",
    "* See [this tutorial](https://developer.mozilla.org/en-US/docs/Learn/Getting_started_with_the_web/HTML_basics) for more details.\n",
    "\n",
    "\n",
    "For instance, here's the content of a very basic webpage."
   ]
  },
  {
   "cell_type": "code",
   "execution_count": null,
   "id": "4df96388-4861-4550-b86c-5b62d571dc4a",
   "metadata": {
    "tags": []
   },
   "outputs": [],
   "source": [
    "!cat data/lec10_ex1.html"
   ]
  },
  {
   "cell_type": "markdown",
   "id": "8de6519d-0937-4699-8769-54da74955d04",
   "metadata": {},
   "source": [
    "Using `IPython.display.HTML`, we can render it directly in our notebook."
   ]
  },
  {
   "cell_type": "code",
   "execution_count": null,
   "id": "dcb385fa-39ee-4d1e-98ae-61673f8bdd40",
   "metadata": {
    "tags": []
   },
   "outputs": [],
   "source": [
    "# from IPython.display import HTML  # already imported above\n",
    "HTML(filename=Path('data') / 'lec10_ex1.html')"
   ]
  },
  {
   "cell_type": "markdown",
   "id": "1de62376-fbbf-47ea-9f9d-c1f33a2374e4",
   "metadata": {},
   "source": [
    "### The anatomy of HTML documents\n",
    "\n",
    "* **HTML document**: The totality of markup that makes up a webpage.\n",
    "\n",
    "* **Document Object Model (DOM)**: The internal representation of an HTML document as a hierarchical **tree** structure.\n",
    "\n",
    "* **HTML element**: An object in the DOM, such as a paragraph, header, or title.\n",
    "* **HTML tags**: Markers that denote the **start** and **end** of an element, such as `<p>` and `</p>`.\n",
    "\n",
    "<center><img src='imgs/dom.jpg'></center>\n",
    "\n",
    "<center><a href='https://simplesnippets.tech/what-is-document-object-modeldom-how-js-interacts-with-dom/'>(source)</a></center>"
   ]
  },
  {
   "cell_type": "markdown",
   "id": "f210caac-f979-4e5a-831d-9c52317c4c29",
   "metadata": {},
   "source": [
    "### Useful tags to know\n",
    "\n",
    "\n",
    "|Element|Description|\n",
    "|:---|:---|\n",
    "|`<html>`|the document|\n",
    "|`<head>`|the header|\n",
    "|`<body>`|the body|\n",
    "|`<div>` |a logical division of the document|\n",
    "|`<span>`|an *inline* logical division|\n",
    "|`<p>`|a paragraph|\n",
    "| `<a>`| an anchor (hyperlink)|\n",
    "|`<h1>, <h2>, ...`| header(s) |\n",
    "|`<img>`| an image |\n",
    "\n",
    "There are many, many more, but these are by far the most common. See [this article](https://en.wikipedia.org/wiki/HTML_element) for examples."
   ]
  },
  {
   "cell_type": "markdown",
   "id": "6c7e0cfc-7e66-4eaa-81b2-ef75373119db",
   "metadata": {},
   "source": [
    "#### Example: Images and hyperlinks\n",
    "\n",
    "Tags can have **attributes**, which further specify how to display information on a webpage.\n",
    "\n",
    "For instance, `<img>` tags have `src` and `alt` attributes (among others):\n",
    "\n",
    "```html\n",
    "<img src=\"blizzard.png\" alt=\"A photograph of Blizzard T. Husky.\" width=500>\n",
    "```\n",
    "\n",
    "Hyperlinks have `href` attributes \n",
    "```\n",
    "Click <a href=\"https://www.mtu.edu\">this link</a> to see the MTU homepage. \n",
    "```"
   ]
  },
  {
   "cell_type": "code",
   "execution_count": null,
   "id": "43265a1f-f895-43d8-a808-94a399dbad37",
   "metadata": {
    "tags": []
   },
   "outputs": [],
   "source": [
    "!cat data/lec10_ex2.html"
   ]
  },
  {
   "cell_type": "markdown",
   "id": "f2b94d43-9710-4b78-9dbb-2fd28ea2be92",
   "metadata": {},
   "source": [
    "### The `<div>` tag\n",
    "\n",
    "```html\n",
    "<div style=\"background-color:lightblue\">\n",
    "  <h3>This is a heading</h3>\n",
    "  <p>This is a paragraph.</p>\n",
    "</div>\n",
    "```\n",
    "\n",
    "* The `<div>` tag defines a division or a \"section\" of an HTML document.\n",
    "    * Think of a `<div>` as a \"cell\" in a Jupyter Notebook.\n",
    "\n",
    "* The `<div>` element is often used as a container for other HTML elements to style them with CSS or to perform operations involving them using JavaScript.\n",
    "\n",
    "* `<div>` elements often have attributes, **which are important when scraping**!"
   ]
  },
  {
   "cell_type": "markdown",
   "id": "a85b0a3d-bd1e-488a-ab54-4327e6d7e0da",
   "metadata": {},
   "source": [
    "### Document trees\n",
    "\n",
    "Under the document object model (DOM), HTML documents are trees. In DOM trees, child nodes are **ordered**.\n",
    "\n",
    "<center>\n",
    "\n",
    "<img src=\"imgs/webpage_anatomy.png\" width=\"50%\">\n",
    "\n",
    "</center>    \n",
    "\n",
    "What does the DOM tree look like for this document?"
   ]
  },
  {
   "cell_type": "markdown",
   "id": "b0e2f559-92f8-4c88-959d-02bf88069b15",
   "metadata": {},
   "source": [
    "<center><img src=\"imgs/dom_tree.png\" width=\"50%\"></center>"
   ]
  },
  {
   "cell_type": "markdown",
   "id": "e6aacb04-1383-47a8-9203-c1b8ef6471a0",
   "metadata": {},
   "source": [
    "## Parsing HTML using Beautiful Soup\n",
    "\n",
    "* [Beautiful Soup 4](https://www.crummy.com/software/BeautifulSoup/bs4/doc/) is a Python HTML parser.\n",
    "    - To \"parse\" means to \"extract meaning from a sequence of symbols\".\n",
    "* **Warning**: Beautiful Soup 4 and Beautiful Soup 3 work differently, so make sure you are using and looking at documentation for Beautiful Soup 4.\n",
    "\n",
    "\n",
    "### Example HTML document\n",
    "\n",
    "To start, we'll work with the source code for an HTML page with the DOM tree shown below:\n",
    "\n",
    "<center><img src=\"imgs/dom_tree_1.png\" width=\"50%\"></center>\n",
    "\n",
    "The string `html_string` contains an HTML \"document\"."
   ]
  },
  {
   "cell_type": "code",
   "execution_count": null,
   "id": "58d6727a-05df-4346-af27-002cfb0efbf5",
   "metadata": {
    "tags": []
   },
   "outputs": [],
   "source": [
    "html_string = '''\n",
    "<html>\n",
    "    <body>\n",
    "      <div id=\"content\">\n",
    "        <h1>Heading here</h1>\n",
    "        <p>My First paragraph</p>\n",
    "        <p>My <em>second</em> paragraph</p>\n",
    "        <hr>\n",
    "      </div>\n",
    "      <div id=\"nav\">\n",
    "        <ul>\n",
    "          <li>item 1</li>\n",
    "          <li>item 2</li>\n",
    "          <li>item 3</li>\n",
    "        </ul>\n",
    "      </div>\n",
    "    </body>\n",
    "</html>\n",
    "'''.strip()"
   ]
  },
  {
   "cell_type": "code",
   "execution_count": null,
   "id": "fd2c4b48-2c56-4d15-9f4a-768e39d8942e",
   "metadata": {
    "tags": []
   },
   "outputs": [],
   "source": [
    "HTML(html_string)"
   ]
  },
  {
   "cell_type": "markdown",
   "id": "f74d04cc-6b4d-4059-a330-6d6410f07154",
   "metadata": {},
   "source": [
    "### `BeautifulSoup` objects \n",
    "\n",
    "`bs4.BeautifulSoup` takes in a string or file-like object representing HTML (`markup`) and returns a **parsed** document."
   ]
  },
  {
   "cell_type": "markdown",
   "id": "24e83ef9-0399-4db5-b5f6-5da2bce4cf3e",
   "metadata": {},
   "source": [
    "Normally, we pass the result of a GET request to `BeautifulSoup`, but here we will pass our hand-crafted `html_string`."
   ]
  },
  {
   "cell_type": "code",
   "execution_count": null,
   "id": "1d00b487-bdd2-49a4-b7ad-b8f558623d2b",
   "metadata": {
    "tags": []
   },
   "outputs": [],
   "source": [
    "soup = BeautifulSoup(html_string)\n",
    "soup"
   ]
  },
  {
   "cell_type": "code",
   "execution_count": null,
   "id": "51025d81-0249-40f7-8d21-ba5267ad35d2",
   "metadata": {
    "tags": []
   },
   "outputs": [],
   "source": [
    "type(soup)"
   ]
  },
  {
   "cell_type": "markdown",
   "id": "488a2f9a-e229-4433-ba6d-e2f99438381c",
   "metadata": {},
   "source": [
    "`BeautifulSoup` objects have several useful attributes, e.g., `text`: "
   ]
  },
  {
   "cell_type": "code",
   "execution_count": null,
   "id": "0cba8b87-0db7-44f1-8c6e-3c4a95518387",
   "metadata": {
    "tags": []
   },
   "outputs": [],
   "source": [
    "print(soup.text)"
   ]
  },
  {
   "cell_type": "markdown",
   "id": "dcfe6e20-6beb-43ec-a859-47f6d3d6f81f",
   "metadata": {},
   "source": [
    "### Traversing through `descendants`\n",
    "\n",
    "The `descendants` attribute traverses a `BeautifulSoup` tree using **depth-first traversal**.\n",
    "\n",
    "Why depth-first? Elements closer to one another on a page are more likely to be related than elements further away.\n",
    "\n",
    "<center><img src=\"imgs/dom_tree_1.png\" width=\"60%\"></center>"
   ]
  },
  {
   "cell_type": "code",
   "execution_count": null,
   "id": "c74fcee6-e0c2-476d-9a14-c3e6f657cf2b",
   "metadata": {
    "tags": []
   },
   "outputs": [],
   "source": [
    "soup.descendants"
   ]
  },
  {
   "cell_type": "code",
   "execution_count": null,
   "id": "2a3cb6bc-194f-46b2-a8bb-34a38d86da85",
   "metadata": {
    "tags": []
   },
   "outputs": [],
   "source": [
    "for child in soup.descendants:\n",
    "#     print(child) # What would happen if we ran this instead?\n",
    "    if isinstance(child, str):\n",
    "        continue\n",
    "    print(child.name)"
   ]
  },
  {
   "cell_type": "markdown",
   "id": "1f29e9c2-5ab5-4ce3-a527-6183b343389b",
   "metadata": {},
   "source": [
    "### Finding elements in a tree\n",
    "\n",
    "Practically speaking, you will not use the `descendants` attribute (or the related `children` attribute) directly very often. Instead, you will use the following methods:\n",
    "\n",
    "- `soup.find(tag)`, which finds the **first** instance of a tag (the first one on the page, i.e. the first one that DFS sees).\n",
    "    - More general: `soup.find(name=None, attrs={}, recursive=True, text=None, **kwargs)`.\n",
    "- `soup.find_all(tag)` will find **all** instances of a tag.\n",
    "\n",
    "**`find` finds tags!**"
   ]
  },
  {
   "cell_type": "markdown",
   "id": "4a79b95e-5f19-4d0a-a9f4-5a39609855cb",
   "metadata": {},
   "source": [
    "### Using `find` \n",
    "\n",
    "Let's try and extract the first `<div>` subtree.\n",
    "\n",
    "<center><img src=\"imgs/dom_tree_1.png\" width=\"60%\"></center>  "
   ]
  },
  {
   "cell_type": "code",
   "execution_count": null,
   "id": "17c1a4b2-993b-475e-a362-5c0871331bd1",
   "metadata": {
    "tags": []
   },
   "outputs": [],
   "source": [
    "..."
   ]
  },
  {
   "cell_type": "markdown",
   "id": "86b5a32d-285f-4607-9a79-ae0cfbbb9b14",
   "metadata": {},
   "source": [
    "<center><img src=\"imgs/dom_subtree_1.png\" width=\"30%\"></center>  \n",
    "\n",
    "Let's try and find the `<div>` element that has an `id` attribute equal to `'nav'`."
   ]
  },
  {
   "cell_type": "code",
   "execution_count": null,
   "id": "a8f1001d-f0e8-4826-a456-55b9e47db111",
   "metadata": {
    "tags": []
   },
   "outputs": [],
   "source": [
    "..."
   ]
  },
  {
   "cell_type": "markdown",
   "id": "fb97edcb-7407-40d3-9572-1699e3f31ff6",
   "metadata": {},
   "source": [
    "`find` will return the first occurrence of a tag, regardless of its depth in the tree."
   ]
  },
  {
   "cell_type": "code",
   "execution_count": null,
   "id": "61fb336f-5f1c-4f4f-8c10-76acb18661ed",
   "metadata": {
    "tags": []
   },
   "outputs": [],
   "source": [
    "# The ul child is not at the top of the tree, but we can still find it.\n",
    "..."
   ]
  },
  {
   "cell_type": "markdown",
   "id": "0b17bd77-0b1c-4e00-b39d-75bb8a5f2c2a",
   "metadata": {},
   "source": [
    "### Using `find_all`\n",
    "\n",
    "`find_all` returns a list of all matches."
   ]
  },
  {
   "cell_type": "code",
   "execution_count": null,
   "id": "07143169-ee01-42bb-a8c9-e74b67a2dcde",
   "metadata": {
    "tags": []
   },
   "outputs": [],
   "source": [
    "soup.find_all('div')"
   ]
  },
  {
   "cell_type": "code",
   "execution_count": null,
   "id": "f0d617ef-56f8-46fe-98c8-966d592722d2",
   "metadata": {
    "tags": []
   },
   "outputs": [],
   "source": [
    "soup.find_all('li')"
   ]
  },
  {
   "cell_type": "code",
   "execution_count": null,
   "id": "b132647a-6694-483c-bb66-b111198908be",
   "metadata": {
    "tags": []
   },
   "outputs": [],
   "source": [
    "[x.text for x in soup.find_all('li')]"
   ]
  },
  {
   "cell_type": "markdown",
   "id": "1862aa43-6946-4c04-a0b4-00fd9963cc68",
   "metadata": {},
   "source": [
    "### Node attributes\n",
    "* The `text` attribute of a tag element gets the text between the opening and closing tags.\n",
    "* The `attrs` attribute of a tag element lists all of its attributes.\n",
    "* The `get` method of a tag element **gets the value of an attribute**."
   ]
  },
  {
   "cell_type": "code",
   "execution_count": null,
   "id": "b089f4a5-0faf-46f8-804d-8063da7b107c",
   "metadata": {
    "tags": []
   },
   "outputs": [],
   "source": [
    "soup.find('p')"
   ]
  },
  {
   "cell_type": "code",
   "execution_count": null,
   "id": "01949cbe-6b0d-48c2-8582-dd87a02d7fe4",
   "metadata": {
    "tags": []
   },
   "outputs": [],
   "source": []
  },
  {
   "cell_type": "code",
   "execution_count": null,
   "id": "35a16b73-6cd4-449c-b8ef-4006d55abf2e",
   "metadata": {
    "tags": []
   },
   "outputs": [],
   "source": []
  },
  {
   "cell_type": "code",
   "execution_count": null,
   "id": "7df467a0-6f92-472e-a769-2be79888b76e",
   "metadata": {
    "tags": []
   },
   "outputs": [],
   "source": []
  },
  {
   "cell_type": "code",
   "execution_count": null,
   "id": "1be74b3a-a968-4c83-bebf-55e09e764b87",
   "metadata": {
    "tags": []
   },
   "outputs": [],
   "source": []
  },
  {
   "cell_type": "code",
   "execution_count": null,
   "id": "2badc129-8ca0-4547-a249-462d57bfb93d",
   "metadata": {
    "tags": []
   },
   "outputs": [],
   "source": []
  },
  {
   "cell_type": "markdown",
   "id": "c00296df-02c0-43ea-bdc4-4978bf898625",
   "metadata": {},
   "source": [
    "The `get` method must be called directly on the node that contains the attribute you're looking for."
   ]
  },
  {
   "cell_type": "code",
   "execution_count": null,
   "id": "74cf3bc0-e00b-41a5-86c7-40124caa7292",
   "metadata": {},
   "outputs": [],
   "source": []
  },
  {
   "cell_type": "markdown",
   "id": "b6ea6bca-22e0-4f6f-b909-5ea9baae4251",
   "metadata": {
    "tags": []
   },
   "source": [
    "## Example 1 - Revisited \n",
    "\n",
    "Let's get the mtu homepage again.  We saw that the response is a very long HTML document. "
   ]
  },
  {
   "cell_type": "code",
   "execution_count": null,
   "id": "187b5568-f71b-49bb-a489-b13f8be50b12",
   "metadata": {
    "tags": []
   },
   "outputs": [],
   "source": [
    "resp = requests.get(\"https://mtu.edu\")"
   ]
  },
  {
   "cell_type": "code",
   "execution_count": null,
   "id": "2a800c9b-b126-4f82-b34f-1074bd328e5c",
   "metadata": {
    "tags": []
   },
   "outputs": [],
   "source": [
    "len(resp.text)"
   ]
  },
  {
   "cell_type": "markdown",
   "id": "6641b1c2-0e92-4f1b-99fc-ff43aafe26f4",
   "metadata": {},
   "source": [
    "To **parse** HTML, we'll use the BeautifulSoup library. "
   ]
  },
  {
   "cell_type": "code",
   "execution_count": null,
   "id": "a852a444",
   "metadata": {
    "colab": {
     "base_uri": "https://localhost:8080/"
    },
    "executionInfo": {
     "elapsed": 230,
     "status": "ok",
     "timestamp": 1632847270825,
     "user": {
      "displayName": "Laura Brown",
      "photoUrl": "https://lh3.googleusercontent.com/a-/AOh14GjYbC5So3kNOYBteW-fSY5JpgP-bBJa7kyAEluaKg=s64",
      "userId": "02180634349638765126"
     },
     "user_tz": 240
    },
    "id": "1ITjahsGwTGH",
    "outputId": "c1a50040-e105-4f3a-8c8a-bd285300f786",
    "tags": []
   },
   "outputs": [],
   "source": [
    "# Add the html5lib parameter for better formatting \n",
    "soup = BeautifulSoup(resp.text, 'html5lib')\n",
    "soup"
   ]
  },
  {
   "cell_type": "markdown",
   "id": "33cac296-b118-4e50-acf1-6ede2e782e3e",
   "metadata": {
    "id": "_j4YpXrkwwRK"
   },
   "source": [
    "Typically, we want to find things using either the text on the page or `Tag` objects. \n",
    "\n",
    "For example, let's find the first `<p>` tag and its contents on the page: "
   ]
  },
  {
   "cell_type": "code",
   "execution_count": null,
   "id": "7d4f8f02",
   "metadata": {
    "colab": {
     "base_uri": "https://localhost:8080/"
    },
    "executionInfo": {
     "elapsed": 309,
     "status": "ok",
     "timestamp": 1632847320014,
     "user": {
      "displayName": "Laura Brown",
      "photoUrl": "https://lh3.googleusercontent.com/a-/AOh14GjYbC5So3kNOYBteW-fSY5JpgP-bBJa7kyAEluaKg=s64",
      "userId": "02180634349638765126"
     },
     "user_tz": 240
    },
    "id": "NCXd7P1DwseT",
    "outputId": "fbf2e139-d0ff-49f0-a902-92d1daad9b1b",
    "tags": []
   },
   "outputs": [],
   "source": [
    "first_p = \n"
   ]
  },
  {
   "cell_type": "code",
   "execution_count": null,
   "id": "2ce4a0b2",
   "metadata": {
    "colab": {
     "base_uri": "https://localhost:8080/"
    },
    "executionInfo": {
     "elapsed": 280,
     "status": "ok",
     "timestamp": 1632847343832,
     "user": {
      "displayName": "Laura Brown",
      "photoUrl": "https://lh3.googleusercontent.com/a-/AOh14GjYbC5So3kNOYBteW-fSY5JpgP-bBJa7kyAEluaKg=s64",
      "userId": "02180634349638765126"
     },
     "user_tz": 240
    },
    "id": "I6f-Q0adw-BT",
    "outputId": "ff106d77-f6f5-4da2-963c-c63662d0f387",
    "tags": []
   },
   "outputs": [],
   "source": [
    "first_p = "
   ]
  },
  {
   "cell_type": "markdown",
   "id": "5e18941c-ffc5-4f30-a5b5-17bc1e3a4ea5",
   "metadata": {
    "id": "At5HLimixK0H"
   },
   "source": [
    "You can access the text within the `<p>` or other `Tag`s using the `text` property:"
   ]
  },
  {
   "cell_type": "code",
   "execution_count": null,
   "id": "f3dfdd80",
   "metadata": {
    "colab": {
     "base_uri": "https://localhost:8080/",
     "height": 53
    },
    "executionInfo": {
     "elapsed": 325,
     "status": "ok",
     "timestamp": 1632847368770,
     "user": {
      "displayName": "Laura Brown",
      "photoUrl": "https://lh3.googleusercontent.com/a-/AOh14GjYbC5So3kNOYBteW-fSY5JpgP-bBJa7kyAEluaKg=s64",
      "userId": "02180634349638765126"
     },
     "user_tz": 240
    },
    "id": "Xcg0IZmVxGCy",
    "outputId": "96c02391-4217-4877-b303-79da2973c9eb",
    "tags": []
   },
   "outputs": [],
   "source": [
    "first_p_text = "
   ]
  },
  {
   "cell_type": "markdown",
   "id": "643de62f-814b-418d-9065-aad8ef427332",
   "metadata": {
    "id": "bY9zkhiQxW8N",
    "tags": []
   },
   "source": [
    "You can get individual words using the string `split` function: "
   ]
  },
  {
   "cell_type": "code",
   "execution_count": null,
   "id": "a2205c31",
   "metadata": {
    "colab": {
     "base_uri": "https://localhost:8080/"
    },
    "executionInfo": {
     "elapsed": 260,
     "status": "ok",
     "timestamp": 1632847379112,
     "user": {
      "displayName": "Laura Brown",
      "photoUrl": "https://lh3.googleusercontent.com/a-/AOh14GjYbC5So3kNOYBteW-fSY5JpgP-bBJa7kyAEluaKg=s64",
      "userId": "02180634349638765126"
     },
     "user_tz": 240
    },
    "id": "JHGh1qUnxVDU",
    "outputId": "9719f337-57f0-4741-fa83-05b63cee16dd",
    "tags": []
   },
   "outputs": [],
   "source": [
    "first_p_words = "
   ]
  },
  {
   "cell_type": "markdown",
   "id": "71d187a5-60dc-4911-a0ac-0bf6fe64955c",
   "metadata": {
    "id": "XmqbkbJ3xl17"
   },
   "source": [
    "You can extract a tag's attributes by treating it like a `dict`:"
   ]
  },
  {
   "cell_type": "code",
   "execution_count": null,
   "id": "e3f30207",
   "metadata": {
    "colab": {
     "base_uri": "https://localhost:8080/",
     "height": 293
    },
    "executionInfo": {
     "elapsed": 1447,
     "status": "error",
     "timestamp": 1632847403602,
     "user": {
      "displayName": "Laura Brown",
      "photoUrl": "https://lh3.googleusercontent.com/a-/AOh14GjYbC5So3kNOYBteW-fSY5JpgP-bBJa7kyAEluaKg=s64",
      "userId": "02180634349638765126"
     },
     "user_tz": 240
    },
    "id": "zz-EzAvuxe1u",
    "outputId": "935349b5-5e5b-48af-c664-9b5eeace90f8",
    "tags": []
   },
   "outputs": [],
   "source": [
    "first_p_id"
   ]
  },
  {
   "cell_type": "code",
   "execution_count": null,
   "id": "a1b50bcd",
   "metadata": {
    "colab": {
     "base_uri": "https://localhost:8080/"
    },
    "executionInfo": {
     "elapsed": 235,
     "status": "ok",
     "timestamp": 1632847407945,
     "user": {
      "displayName": "Laura Brown",
      "photoUrl": "https://lh3.googleusercontent.com/a-/AOh14GjYbC5So3kNOYBteW-fSY5JpgP-bBJa7kyAEluaKg=s64",
      "userId": "02180634349638765126"
     },
     "user_tz": 240
    },
    "id": "-bAxP3U3xyMf",
    "outputId": "a17ad353-7e85-412b-8176-78201a9f5a06",
    "tags": []
   },
   "outputs": [],
   "source": []
  },
  {
   "cell_type": "code",
   "execution_count": null,
   "id": "a08533eb",
   "metadata": {
    "colab": {
     "base_uri": "https://localhost:8080/",
     "height": 35
    },
    "executionInfo": {
     "elapsed": 241,
     "status": "ok",
     "timestamp": 1632847531561,
     "user": {
      "displayName": "Laura Brown",
      "photoUrl": "https://lh3.googleusercontent.com/a-/AOh14GjYbC5So3kNOYBteW-fSY5JpgP-bBJa7kyAEluaKg=s64",
      "userId": "02180634349638765126"
     },
     "user_tz": 240
    },
    "id": "o2uqBC4SSxFp",
    "outputId": "38bf933e-094b-4eb6-d491-531917a7d7b4",
    "tags": []
   },
   "outputs": [],
   "source": []
  },
  {
   "cell_type": "markdown",
   "id": "ebe4b31e-ee7e-4688-a7a9-4d4352749dfb",
   "metadata": {
    "id": "WeG8CotCyBnJ"
   },
   "source": [
    "You can get multiple tags at once:"
   ]
  },
  {
   "cell_type": "code",
   "execution_count": null,
   "id": "d20863ac",
   "metadata": {
    "colab": {
     "base_uri": "https://localhost:8080/"
    },
    "executionInfo": {
     "elapsed": 245,
     "status": "ok",
     "timestamp": 1632847549807,
     "user": {
      "displayName": "Laura Brown",
      "photoUrl": "https://lh3.googleusercontent.com/a-/AOh14GjYbC5So3kNOYBteW-fSY5JpgP-bBJa7kyAEluaKg=s64",
      "userId": "02180634349638765126"
     },
     "user_tz": 240
    },
    "id": "N-HUZ5qyx5jJ",
    "outputId": "e13c6e52-36ba-44cd-9e54-fbbe46b3533d",
    "tags": []
   },
   "outputs": [],
   "source": []
  },
  {
   "cell_type": "code",
   "execution_count": null,
   "id": "ec3b5094",
   "metadata": {
    "colab": {
     "base_uri": "https://localhost:8080/"
    },
    "executionInfo": {
     "elapsed": 228,
     "status": "ok",
     "timestamp": 1632847650501,
     "user": {
      "displayName": "Laura Brown",
      "photoUrl": "https://lh3.googleusercontent.com/a-/AOh14GjYbC5So3kNOYBteW-fSY5JpgP-bBJa7kyAEluaKg=s64",
      "userId": "02180634349638765126"
     },
     "user_tz": 240
    },
    "id": "M83_3qQ9TFxO",
    "outputId": "d705d19f-1d8b-450e-d19e-f0bda5b3c3c9",
    "tags": []
   },
   "outputs": [],
   "source": []
  },
  {
   "cell_type": "markdown",
   "id": "eff0b249",
   "metadata": {
    "id": "ZZV4tdQZyLB9"
   },
   "source": [
    "## Example 3 \n",
    "\n",
    "Let's look at another example of another website: [Slashdot Articles filtered by Python](https://slashdot.org/index2.pl?fhfilter=python)"
   ]
  },
  {
   "cell_type": "code",
   "execution_count": null,
   "id": "1a1cb99a",
   "metadata": {
    "executionInfo": {
     "elapsed": 2165,
     "status": "ok",
     "timestamp": 1632848732670,
     "user": {
      "displayName": "Laura Brown",
      "photoUrl": "https://lh3.googleusercontent.com/a-/AOh14GjYbC5So3kNOYBteW-fSY5JpgP-bBJa7kyAEluaKg=s64",
      "userId": "02180634349638765126"
     },
     "user_tz": 240
    },
    "id": "lzed5M3VyIkC",
    "tags": []
   },
   "outputs": [],
   "source": [
    "url = \"https://slashdot.org/index2.pl?fhfilter=python\"\n",
    "soup = BeautifulSoup(requests.get(url).text, 'html5lib')"
   ]
  },
  {
   "cell_type": "markdown",
   "id": "39ad72ab",
   "metadata": {
    "id": "tfRFlHQiySiH"
   },
   "source": [
    "It is often very useful to look at the pages source (methods to do this in Safari, Chrome, Firefox, IE, etc.)\n",
    "\n",
    "https://slashdot.org/index2.pl?fhfilter=python\n",
    "\n",
    "Here is some of the relevant sections (note the example was adapted somewhat to remove some extra whitespace): \n",
    "\n",
    "```html\n",
    "<article onclick=\"javascript:return false;\"  id=\"firehose-166258475\" data-fhid=\"166258475\" data-fhtype=\"story\" class=\"fhitem fhitem-story briefarticle usermode thumbs grid_24\">\n",
    "\t\t<span class=\"sd-info-block\" style=\"display: none\">\n",
    "\t\t\t<span class=\"sd-key-firehose-id\">166258475</span>\n",
    "\t\t\t<span class=\"type\">story</span>\n",
    "\t\t\t\n",
    "\t\t</span>\n",
    "\n",
    "<header>\n",
    "\t\n",
    "\t\t<span class=\"topic\" id=\"topic-166258475\">\n",
    "\t\t\t<a href=\"//slashdot.org/index2.pl?fhfilter=censorship\" onclick=\"return addfhfilter('censorship');\">\n",
    "\t\t\t\n",
    "\t\t\t\t<img src=\"//a.fsdn.com/sd/topics/censorship_64.png\" width=\"64\" height=\"64\" alt=\"Censorship\" title=\"Censorship\">\n",
    "\t\t\t\n",
    "\t\t</a>\n",
    "\t\t</span>\n",
    "\t\n",
    "\n",
    "\t<h2 class=\"story\">\n",
    "\t\t<span id=\"title-166258475\" class=\"story-title\"> <a onclick=\"return toggle_fh_body_wrap_return(this);\"  href=\"//yro.slashdot.org/story/22/09/18/2246254/do-americas-free-speech-protections-protect-code---and-prevent-cryptocurrency-regulation\">Do America's Free-Speech Protections Protect Code - and Prevent Cryptocurrency Regulation?</a> <span class=\" no extlnk\"><a class=\"story-sourcelnk\" href=\"https://www.marketplace.org/shows/marketplace-tech/why-the-first-amendment-also-protects-code/\"  title=\"External link - https://www.marketplace.org/shows/marketplace-tech/why-the-first-amendment-also-protects-code/\" target=\"_blank\"> (marketplace.org) </a></span></span>\n",
    "\t\t<!--<span class=\"comments commentcnt-166258475\" >64</span>-->\n",
    "\t\t<!-- comment bubble -->\n",
    "\t\t\n",
    "\t\t\t<span class=\"comment-bubble\"><a href=\"//yro.slashdot.org/story/22/09/18/2246254/do-americas-free-speech-protections-protect-code---and-prevent-cryptocurrency-regulation#comments\" title=\"\">64</a></span>\n",
    "\t\t\n",
    "\t</h2>\n",
    "\t<div class=\"details\" id=\"details-166258475\">\n",
    "\t\t<span class=\"story-details\">\n",
    "\t\t<span class=\"story-views\">\n",
    "\t\t\t<span class=\"sodify\" onclick=\"firehose_set_options('color', 'red')\" title=\"Filter Firehose to entries rated red or better\"></span><span class=\"icon-beaker pop1 \" alt=\"Popularity\" title=\"Filter Firehose to entries rated red or better\" onclick=\"firehose_set_options('color', 'red')\"><span></span></span> \n",
    "\t\t</span>\n",
    "\t\t</span>\n",
    "\t\t<span class=\"story-byline\">\t\t\t\n",
    "\t\t\tPosted\n",
    "\t\t\t\tby \t\n",
    "\t\t\t\t  EditorDavid\n",
    "\t\n",
    "\t\t<time id=\"fhtime-166258475\" datetime=\"on Sunday September 18, 2022 @06:51PM\">on Sunday September 18, 2022 @06:51PM</time>\t\n",
    "\t\t\t from the <span class=\"dept-text\">million-dollar-questions</span> dept.\n",
    "\t\t\n",
    "\t\t</span>\n",
    "\t</div>\n",
    "</header>\n",
    "\n",
    "<div class=\"hide\" id=\"fhbody-166258475\">\n",
    "\t\n",
    "\n",
    "\t\n",
    "\t\t\n",
    "\t\t<div id=\"text-166258475\" class=\"p\">\n",
    "\t\t\t...\n",
    "\t\t</div>\n",
    "\n",
    "\t</div>\n",
    "\t<aside class=\"novote\">\n",
    "\t\t\n",
    "\t</aside>\n",
    "\t\t<footer class=\"clearfix meta article-foot\">\n",
    "\t\t\t<div class=\"story-controls\">\n",
    "\t\t\t</div>\n",
    "\t\t\t\n",
    "\t\t\t\t<div class=\"story-tags\">\n",
    "\t\t\t\t\t<span class=\"tright tags\"><menu type=\"toolbar\" class=\"edit-bar\">\n",
    "\t\t<span id=\"tagbar-166258475\" class=\"tag-bar none\">\n",
    "\t\t\t<a  class=\"topic tag\" rel=\"statictag\" href=\"//slashdot.org/tag/\" target=\"_blank\"></a>\n",
    "\n",
    "\t\t</span>\n",
    "\t\t<div class=\"tag-menu\">\n",
    "\t\t\t<input class=\"tag-entry default\" type=\"text\" value=\"apply tags\">\n",
    "\t\t</div>\n",
    "\t</menu></span>\n",
    "\t\t\t\t</div>\n",
    "\t\t</footer>\n",
    "\t\n",
    "\t</article><article onclick=\"javascript:return false;\"  id=\"firehose-166233741\" data-fhid=\"166233741\" data-fhtype=\"story\" class=\"fhitem fhitem-story briefarticle usermode thumbs grid_24\">\n",
    "\t\t<span class=\"sd-info-block\" style=\"display: none\">\n",
    "\t\t\t<span class=\"sd-key-firehose-id\">166233741</span>\n",
    "\t\t\t<span class=\"type\">story</span>\n",
    "\t\t\t\n",
    "\t\t</span>\n",
    "\n",
    "\n",
    "```"
   ]
  },
  {
   "cell_type": "markdown",
   "id": "643f3600",
   "metadata": {
    "id": "ixijlSXSzsgU"
   },
   "source": [
    "It looks like each item returned is listed by the `article` tag with the class `fhitem`. "
   ]
  },
  {
   "cell_type": "code",
   "execution_count": null,
   "id": "086d08d3",
   "metadata": {
    "tags": []
   },
   "outputs": [],
   "source": [
    "soup"
   ]
  },
  {
   "cell_type": "markdown",
   "id": "ad627c9a-912d-4d7d-9b85-c345df9d8c01",
   "metadata": {},
   "source": [
    "How do we find each of the stories?  What tag or tag/attribute combination should be used?"
   ]
  },
  {
   "cell_type": "code",
   "execution_count": null,
   "id": "46fc3556",
   "metadata": {
    "colab": {
     "base_uri": "https://localhost:8080/"
    },
    "executionInfo": {
     "elapsed": 245,
     "status": "ok",
     "timestamp": 1632848776557,
     "user": {
      "displayName": "Laura Brown",
      "photoUrl": "https://lh3.googleusercontent.com/a-/AOh14GjYbC5So3kNOYBteW-fSY5JpgP-bBJa7kyAEluaKg=s64",
      "userId": "02180634349638765126"
     },
     "user_tz": 240
    },
    "id": "Dur-ACP0yRvb",
    "outputId": "689dbca9-4aee-405c-bfdc-7309fb097a92",
    "tags": []
   },
   "outputs": [],
   "source": [
    "articles = soup('article', 'fhitem')\n",
    "print(len(articles))"
   ]
  },
  {
   "cell_type": "markdown",
   "id": "33554817",
   "metadata": {
    "id": "ogQ25lqs1Va3"
   },
   "source": [
    " \n",
    "Let's try to collect for each news story: the title, the author (who posted it), and the number of comments. "
   ]
  },
  {
   "cell_type": "code",
   "execution_count": null,
   "id": "81fba460",
   "metadata": {
    "colab": {
     "base_uri": "https://localhost:8080/"
    },
    "executionInfo": {
     "elapsed": 222,
     "status": "ok",
     "timestamp": 1632849153982,
     "user": {
      "displayName": "Laura Brown",
      "photoUrl": "https://lh3.googleusercontent.com/a-/AOh14GjYbC5So3kNOYBteW-fSY5JpgP-bBJa7kyAEluaKg=s64",
      "userId": "02180634349638765126"
     },
     "user_tz": 240
    },
    "id": "APzi9rVe0ynY",
    "outputId": "bff5a28c-82c3-418e-fd96-ab4fee0619d0",
    "tags": []
   },
   "outputs": [],
   "source": [
    "articles = soup('article', 'fhitem')\n",
    "for a in articles: \n",
    "    # get title, title inside <span class=\"story-title\"> stored as text in link. \n",
    "    title = ...\n",
    "    print(title)\n",
    "    # get author inside <span class=\"story-byline\"> \n",
    "    author = ...\n",
    "    print(author)\n",
    "    # get the number of comments <span class=\"comment-bubble\"> stored as text in link.\n",
    "    comments = ...\n",
    "    print(comments)"
   ]
  },
  {
   "cell_type": "markdown",
   "id": "223659f7",
   "metadata": {
    "id": "gUHeaIxD1-Tr"
   },
   "source": [
    "When writing code using an iterator, remember you can always test it for a single or few cases: "
   ]
  },
  {
   "cell_type": "code",
   "execution_count": null,
   "id": "c8238483",
   "metadata": {
    "colab": {
     "base_uri": "https://localhost:8080/"
    },
    "executionInfo": {
     "elapsed": 233,
     "status": "ok",
     "timestamp": 1632849215365,
     "user": {
      "displayName": "Laura Brown",
      "photoUrl": "https://lh3.googleusercontent.com/a-/AOh14GjYbC5So3kNOYBteW-fSY5JpgP-bBJa7kyAEluaKg=s64",
      "userId": "02180634349638765126"
     },
     "user_tz": 240
    },
    "id": "lHx5WHvs14Z1",
    "outputId": "2886a2e1-2430-4f3d-ee90-f51fbe061841",
    "tags": []
   },
   "outputs": [],
   "source": [
    "articles = soup('article', 'fhitem')\n",
    "story = articles[1]\n",
    "story"
   ]
  },
  {
   "cell_type": "code",
   "execution_count": null,
   "id": "d7371dbd",
   "metadata": {
    "colab": {
     "base_uri": "https://localhost:8080/"
    },
    "executionInfo": {
     "elapsed": 215,
     "status": "ok",
     "timestamp": 1632849222055,
     "user": {
      "displayName": "Laura Brown",
      "photoUrl": "https://lh3.googleusercontent.com/a-/AOh14GjYbC5So3kNOYBteW-fSY5JpgP-bBJa7kyAEluaKg=s64",
      "userId": "02180634349638765126"
     },
     "user_tz": 240
    },
    "id": "6CP3Ymrs2HYw",
    "outputId": "b7ee9a0a-1ef0-4e83-be52-c3856f510816",
    "tags": []
   },
   "outputs": [],
   "source": [
    "author = story.find('span', 'story-byline').text\n",
    "print(author)"
   ]
  },
  {
   "cell_type": "markdown",
   "id": "6b83c398",
   "metadata": {
    "id": "M95xvUqt2bbJ"
   },
   "source": [
    "We may want to think about how to strip the Posted by, time and extra white space from the author information. \n"
   ]
  },
  {
   "cell_type": "code",
   "execution_count": null,
   "id": "add87168",
   "metadata": {
    "colab": {
     "base_uri": "https://localhost:8080/"
    },
    "executionInfo": {
     "elapsed": 249,
     "status": "ok",
     "timestamp": 1632849252632,
     "user": {
      "displayName": "Laura Brown",
      "photoUrl": "https://lh3.googleusercontent.com/a-/AOh14GjYbC5So3kNOYBteW-fSY5JpgP-bBJa7kyAEluaKg=s64",
      "userId": "02180634349638765126"
     },
     "user_tz": 240
    },
    "id": "vOznLutQ2Yqp",
    "outputId": "fe94a22e-c3a8-4e5d-abd1-273b03fcc805",
    "tags": []
   },
   "outputs": [],
   "source": [
    "author = story.find('span', 'story-byline').text\n",
    "print(author)\n",
    "aut = re.match(..., author)\n",
    "print(aut.group(1))"
   ]
  },
  {
   "cell_type": "markdown",
   "id": "5e748869",
   "metadata": {},
   "source": [
    "Let's create a data frame to store the news story information in. "
   ]
  },
  {
   "cell_type": "code",
   "execution_count": null,
   "id": "ae9a39f4",
   "metadata": {
    "colab": {
     "base_uri": "https://localhost:8080/",
     "height": 110
    },
    "executionInfo": {
     "elapsed": 380,
     "status": "ok",
     "timestamp": 1632849320527,
     "user": {
      "displayName": "Laura Brown",
      "photoUrl": "https://lh3.googleusercontent.com/a-/AOh14GjYbC5So3kNOYBteW-fSY5JpgP-bBJa7kyAEluaKg=s64",
      "userId": "02180634349638765126"
     },
     "user_tz": 240
    },
    "id": "CaF54IsV2kGG",
    "outputId": "f7b99dd3-e07d-45c2-a89d-e2aa7357bf7d",
    "tags": []
   },
   "outputs": [],
   "source": [
    "# create the data frame to store the information\n",
    "df = pd.DataFrame(columns = ['Title', 'Author', 'Comments'],\n",
    "                 index = range(0,len(articles)))\n",
    "\n",
    "articles = soup('article', 'fhitem')\n",
    "ai = 0\n",
    "for a in articles: \n",
    "    \n",
    "    # get title, title inside <span class=\"story-title\"> stored as text in link. \n",
    "    title = ...\n",
    "    #print(title)\n",
    "    # get author inside <span class=\"story-byline\"> \n",
    "    author = ...\n",
    "    #print(author)\n",
    "    aut = ...\n",
    "    # get the number of comments <span class=\"comment-bubble\"> stored as text in link.\n",
    "    comments = ...\n",
    "    #print(comments)\n",
    "    df.iloc[ai,0] = \n",
    "    df.iloc[ai,1] = \n",
    "    df.iloc[ai,2] = \n",
    "    ai = ai+1\n",
    "    \n",
    "df"
   ]
  },
  {
   "cell_type": "markdown",
   "id": "11fb6390",
   "metadata": {
    "id": "26TKzsJO3wRG"
   },
   "source": [
    "## Example 4 \n",
    "\n",
    "Let's look at some data from the US Representatives - https://www.house.gov/representatives "
   ]
  },
  {
   "cell_type": "code",
   "execution_count": null,
   "id": "cf636140",
   "metadata": {
    "colab": {
     "base_uri": "https://localhost:8080/"
    },
    "executionInfo": {
     "elapsed": 1545,
     "status": "ok",
     "timestamp": 1632849395223,
     "user": {
      "displayName": "Laura Brown",
      "photoUrl": "https://lh3.googleusercontent.com/a-/AOh14GjYbC5So3kNOYBteW-fSY5JpgP-bBJa7kyAEluaKg=s64",
      "userId": "02180634349638765126"
     },
     "user_tz": 240
    },
    "id": "uPKY5jYD3U9l",
    "outputId": "c6d9f3dc-8e09-4889-c6c5-c3f366981d03",
    "tags": []
   },
   "outputs": [],
   "source": [
    "html = requests.get(\"https://www.house.gov/representatives\").text\n",
    "soup = BeautifulSoup(html, 'html5lib')\n",
    "print (type(soup))"
   ]
  },
  {
   "cell_type": "code",
   "execution_count": null,
   "id": "721bb834",
   "metadata": {
    "colab": {
     "base_uri": "https://localhost:8080/"
    },
    "executionInfo": {
     "elapsed": 217,
     "status": "ok",
     "timestamp": 1632849404654,
     "user": {
      "displayName": "Laura Brown",
      "photoUrl": "https://lh3.googleusercontent.com/a-/AOh14GjYbC5So3kNOYBteW-fSY5JpgP-bBJa7kyAEluaKg=s64",
      "userId": "02180634349638765126"
     },
     "user_tz": 240
    },
    "id": "2p5WAfVZ5fOh",
    "outputId": "7e32fc8b-cff0-4cb7-8106-30595ec298eb",
    "tags": []
   },
   "outputs": [],
   "source": [
    "# Examine the webpage (HTML)\n",
    "print (soup.prettify()[0:1000])"
   ]
  },
  {
   "cell_type": "markdown",
   "id": "c3633473",
   "metadata": {
    "id": "Meez4C2F53ai"
   },
   "source": [
    "**Grab Representatives Websites**\n",
    "\n",
    "Let's first just try to grab all the URLs linked from the page."
   ]
  },
  {
   "cell_type": "code",
   "execution_count": null,
   "id": "3b0d7308",
   "metadata": {
    "colab": {
     "base_uri": "https://localhost:8080/"
    },
    "executionInfo": {
     "elapsed": 228,
     "status": "ok",
     "timestamp": 1632849423225,
     "user": {
      "displayName": "Laura Brown",
      "photoUrl": "https://lh3.googleusercontent.com/a-/AOh14GjYbC5So3kNOYBteW-fSY5JpgP-bBJa7kyAEluaKg=s64",
      "userId": "02180634349638765126"
     },
     "user_tz": 240
    },
    "id": "oPKjnSAk5ujN",
    "outputId": "7b8188b7-cd68-4179-9629-bc17b88e39d2",
    "tags": []
   },
   "outputs": [],
   "source": [
    "all_urls = [a['href'] \n",
    "            for a in soup('a')\n",
    "            if a.has_attr('href')]\n",
    "\n",
    "print(len(all_urls))"
   ]
  },
  {
   "cell_type": "markdown",
   "id": "f1c2b8f4",
   "metadata": {},
   "source": [
    "*ASIDE: List Comprehensives*"
   ]
  },
  {
   "cell_type": "code",
   "execution_count": null,
   "id": "6ff080a1",
   "metadata": {
    "colab": {
     "base_uri": "https://localhost:8080/"
    },
    "executionInfo": {
     "elapsed": 218,
     "status": "ok",
     "timestamp": 1632849434740,
     "user": {
      "displayName": "Laura Brown",
      "photoUrl": "https://lh3.googleusercontent.com/a-/AOh14GjYbC5So3kNOYBteW-fSY5JpgP-bBJa7kyAEluaKg=s64",
      "userId": "02180634349638765126"
     },
     "user_tz": 240
    },
    "id": "MKZlyjpI6APL",
    "outputId": "e077a468-a0f4-4d09-8300-8b2334f24203",
    "tags": []
   },
   "outputs": [],
   "source": [
    "# As an aside we will use expressions as above extensively in this section.  \n",
    "# Namely, list comprehensives \n",
    "evens = [a for a in range(10) if a % 2 == 0]\n",
    "evens"
   ]
  },
  {
   "cell_type": "code",
   "execution_count": null,
   "id": "5f55342b",
   "metadata": {
    "colab": {
     "base_uri": "https://localhost:8080/"
    },
    "executionInfo": {
     "elapsed": 213,
     "status": "ok",
     "timestamp": 1632849436834,
     "user": {
      "displayName": "Laura Brown",
      "photoUrl": "https://lh3.googleusercontent.com/a-/AOh14GjYbC5So3kNOYBteW-fSY5JpgP-bBJa7kyAEluaKg=s64",
      "userId": "02180634349638765126"
     },
     "user_tz": 240
    },
    "id": "hkotOBkY6Eb8",
    "outputId": "64cb4b5f-0747-40fc-db0a-01eb8acf9052",
    "tags": []
   },
   "outputs": [],
   "source": [
    "odds = [i for i in range(10) if i % 2 == 1]\n",
    "odds"
   ]
  },
  {
   "cell_type": "code",
   "execution_count": null,
   "id": "990b4a69",
   "metadata": {
    "colab": {
     "base_uri": "https://localhost:8080/"
    },
    "executionInfo": {
     "elapsed": 223,
     "status": "ok",
     "timestamp": 1632849441176,
     "user": {
      "displayName": "Laura Brown",
      "photoUrl": "https://lh3.googleusercontent.com/a-/AOh14GjYbC5So3kNOYBteW-fSY5JpgP-bBJa7kyAEluaKg=s64",
      "userId": "02180634349638765126"
     },
     "user_tz": 240
    },
    "id": "wLHK82Uw6HDZ",
    "outputId": "bc22d8ba-7850-4938-b06a-592c44f3543d",
    "tags": []
   },
   "outputs": [],
   "source": [
    "print(all_urls[1:10])"
   ]
  },
  {
   "cell_type": "markdown",
   "id": "b4470186",
   "metadata": {
    "id": "jWnvlvtY6M2Y"
   },
   "source": [
    "This is too many! First, some of these are relative links to this site, rather than the representative websites. "
   ]
  },
  {
   "cell_type": "code",
   "execution_count": null,
   "id": "833804a1",
   "metadata": {
    "colab": {
     "base_uri": "https://localhost:8080/"
    },
    "executionInfo": {
     "elapsed": 319,
     "status": "ok",
     "timestamp": 1632849537399,
     "user": {
      "displayName": "Laura Brown",
      "photoUrl": "https://lh3.googleusercontent.com/a-/AOh14GjYbC5So3kNOYBteW-fSY5JpgP-bBJa7kyAEluaKg=s64",
      "userId": "02180634349638765126"
     },
     "user_tz": 240
    },
    "id": "yFnLnL3F6JOa",
    "outputId": "994caf78-5155-48d4-83a1-9cc303bb731a",
    "tags": []
   },
   "outputs": [],
   "source": [
    "# Let's examine the part of the HTML file that stores the tables\n",
    "print (soup.prettify()[21000:23000])"
   ]
  },
  {
   "cell_type": "markdown",
   "id": "8a0ca5c5",
   "metadata": {
    "id": "nNOtKVw17Gyt"
   },
   "source": [
    "By looking at a number of the different links we want to find, we can see that most start with http:// or https:// and end with .house.gov or .house.gov/\n",
    "\n",
    "Therefore, we should think about using a regular expression."
   ]
  },
  {
   "cell_type": "code",
   "execution_count": null,
   "id": "5fb2041c",
   "metadata": {
    "executionInfo": {
     "elapsed": 255,
     "status": "ok",
     "timestamp": 1632849570560,
     "user": {
      "displayName": "Laura Brown",
      "photoUrl": "https://lh3.googleusercontent.com/a-/AOh14GjYbC5So3kNOYBteW-fSY5JpgP-bBJa7kyAEluaKg=s64",
      "userId": "02180634349638765126"
     },
     "user_tz": 240
    },
    "id": "spfxceRV6Wz3",
    "tags": []
   },
   "outputs": [],
   "source": [
    "# Must start with http:// or https://\n",
    "# Must end with .house.gov or .house.gov/\n",
    "pat = r\"^https?://.*\\.house\\.gov/?$\""
   ]
  },
  {
   "cell_type": "code",
   "execution_count": null,
   "id": "9f6ccc04",
   "metadata": {
    "executionInfo": {
     "elapsed": 216,
     "status": "ok",
     "timestamp": 1632849574942,
     "user": {
      "displayName": "Laura Brown",
      "photoUrl": "https://lh3.googleusercontent.com/a-/AOh14GjYbC5So3kNOYBteW-fSY5JpgP-bBJa7kyAEluaKg=s64",
      "userId": "02180634349638765126"
     },
     "user_tz": 240
    },
    "id": "lXyD4AES7OoM",
    "tags": []
   },
   "outputs": [],
   "source": [
    "# Let's check some tests! \n",
    "assert re.match(pat, \"http://joel.house.gov\")\n",
    "assert re.match(pat, \"https://joel.house.gov\")\n",
    "assert re.match(pat, \"http://joel.house.gov/\")\n",
    "assert re.match(pat, \"https://joel.house.gov/\")\n",
    "assert not re.match(pat, \"joel.house.gov\")\n",
    "assert not re.match(pat, \"http://joel.house.com\")\n",
    "assert not re.match(pat, \"https://joel.house.gov/biography\")\n",
    "assert re.match(pat, \"http://joel.lname.house.gov\")"
   ]
  },
  {
   "cell_type": "code",
   "execution_count": null,
   "id": "0d35385c",
   "metadata": {
    "colab": {
     "base_uri": "https://localhost:8080/"
    },
    "executionInfo": {
     "elapsed": 215,
     "status": "ok",
     "timestamp": 1632849583039,
     "user": {
      "displayName": "Laura Brown",
      "photoUrl": "https://lh3.googleusercontent.com/a-/AOh14GjYbC5So3kNOYBteW-fSY5JpgP-bBJa7kyAEluaKg=s64",
      "userId": "02180634349638765126"
     },
     "user_tz": 240
    },
    "id": "tv1bICx17TRZ",
    "outputId": "38d7c191-5ca7-4a7a-d215-52d4adf8a895",
    "tags": []
   },
   "outputs": [],
   "source": [
    "# And now apply\n",
    "good_urls = [url for url in all_urls if re.match(pat, url)]\n",
    "print(len(good_urls))"
   ]
  },
  {
   "cell_type": "markdown",
   "id": "69934abc",
   "metadata": {
    "id": "8UengeMH7cNV"
   },
   "source": [
    "This is still a lot of urls.  \n",
    "\n",
    "Let's try to trim this list. "
   ]
  },
  {
   "cell_type": "code",
   "execution_count": null,
   "id": "22660637",
   "metadata": {
    "colab": {
     "base_uri": "https://localhost:8080/"
    },
    "executionInfo": {
     "elapsed": 281,
     "status": "ok",
     "timestamp": 1632849635502,
     "user": {
      "displayName": "Laura Brown",
      "photoUrl": "https://lh3.googleusercontent.com/a-/AOh14GjYbC5So3kNOYBteW-fSY5JpgP-bBJa7kyAEluaKg=s64",
      "userId": "02180634349638765126"
     },
     "user_tz": 240
    },
    "id": "Q-TRVxTt7Wts",
    "outputId": "86e871a8-0eb2-4001-eee6-b6d10782ffc4",
    "tags": []
   },
   "outputs": [],
   "source": [
    "[i for i in range(len(good_urls)) if good_urls[i]== \"https://barrymoore.house.gov\"]"
   ]
  },
  {
   "cell_type": "markdown",
   "id": "afd3e0ba",
   "metadata": {
    "id": "93u6R4247uxI"
   },
   "source": [
    "There are multiple instances of the same url. \n",
    "\n",
    "Let's convert the list to a **set** to only consider the unique urls (get rid of duplicates). "
   ]
  },
  {
   "cell_type": "code",
   "execution_count": null,
   "id": "bb66d2d5",
   "metadata": {
    "colab": {
     "base_uri": "https://localhost:8080/",
     "height": 34
    },
    "executionInfo": {
     "elapsed": 895,
     "status": "ok",
     "timestamp": 1601408171344,
     "user": {
      "displayName": "Laura Brown",
      "photoUrl": "https://lh3.googleusercontent.com/a-/AOh14GjYbC5So3kNOYBteW-fSY5JpgP-bBJa7kyAEluaKg=s64",
      "userId": "02180634349638765126"
     },
     "user_tz": 240
    },
    "id": "OSW69Ozp7sGV",
    "outputId": "8df594f0-a3f5-4f7e-9d62-aa7c4dc7901a",
    "tags": []
   },
   "outputs": [],
   "source": [
    "good_urls = list(set(good_urls))\n",
    "print(len(good_urls))"
   ]
  },
  {
   "cell_type": "markdown",
   "id": "9281f85f",
   "metadata": {
    "id": "akAz-6QD7-jb"
   },
   "source": [
    "This is getting really close, we expect to see 435, only a few extra.\n",
    "\n",
    "Let's go forward at this point, we can always clean the list further as a next step.\n",
    "\n",
    "Let's look at individual representative sites for links to press releases. For example:"
   ]
  },
  {
   "cell_type": "code",
   "execution_count": null,
   "id": "d5c23ed2",
   "metadata": {
    "colab": {
     "base_uri": "https://localhost:8080/"
    },
    "executionInfo": {
     "elapsed": 499,
     "status": "ok",
     "timestamp": 1632849709277,
     "user": {
      "displayName": "Laura Brown",
      "photoUrl": "https://lh3.googleusercontent.com/a-/AOh14GjYbC5So3kNOYBteW-fSY5JpgP-bBJa7kyAEluaKg=s64",
      "userId": "02180634349638765126"
     },
     "user_tz": 240
    },
    "id": "e4ab67b478J4",
    "outputId": "e506f83a-e2d2-4a40-a846-d5532db6ecbd",
    "tags": []
   },
   "outputs": [],
   "source": [
    "html = requests.get('https://bergman.house.gov').text\n",
    "soup = BeautifulSoup(html, 'html5lib')\n",
    "\n",
    "# Use a set because the links might appear multiple times.\n",
    "links = {a['href'] for a in soup('a') if 'press releases' in a.text.lower()}\n",
    "\n",
    "print(links) # {'/media/press-releases'}"
   ]
  },
  {
   "cell_type": "markdown",
   "id": "946fec64",
   "metadata": {
    "id": "opUGg7NE8wuZ"
   },
   "source": [
    "Notice this is a relative link, which means we need to remember the originating site.\n",
    "\n",
    "Let's put this together."
   ]
  },
  {
   "cell_type": "code",
   "execution_count": null,
   "id": "ccb4eae5",
   "metadata": {
    "colab": {
     "base_uri": "https://localhost:8080/",
     "height": 1000
    },
    "executionInfo": {
     "elapsed": 301573,
     "status": "error",
     "timestamp": 1632850085523,
     "user": {
      "displayName": "Laura Brown",
      "photoUrl": "https://lh3.googleusercontent.com/a-/AOh14GjYbC5So3kNOYBteW-fSY5JpgP-bBJa7kyAEluaKg=s64",
      "userId": "02180634349638765126"
     },
     "user_tz": 240
    },
    "id": "JiGvU5CF8XjS",
    "outputId": "1c71c3d8-c610-4683-a67f-50ccd912052b",
    "tags": []
   },
   "outputs": [],
   "source": [
    "from typing import Dict, Set\n",
    "\n",
    "press_releases: Dict[str, Set[str]] = {}\n",
    "\n",
    "for house_url in good_urls:\n",
    "    html = requests.get(house_url).text\n",
    "    soup = BeautifulSoup(html, 'html5lib')\n",
    "    pr_links = {a['href'] for a in soup('a') if 'press releases'\n",
    "                                             in a.text.lower()}\n",
    "    print(f\"{house_url}: {pr_links}\")\n",
    "    press_releases[house_url] = pr_links"
   ]
  },
  {
   "cell_type": "markdown",
   "id": "dc74a4ab",
   "metadata": {
    "id": "-w3syZhi-nzP"
   },
   "source": [
    "## Example 5 \n",
    "\n",
    "For this example, we want to scrape down an HTML table. \n",
    "\n",
    "Here we will look at a Wikipedia page: https://among-us.fandom.com/wiki/Tasks\n",
    "\n",
    "We are interested in the Table tasks. "
   ]
  },
  {
   "cell_type": "code",
   "execution_count": null,
   "id": "56a933fe",
   "metadata": {
    "executionInfo": {
     "elapsed": 1600,
     "status": "ok",
     "timestamp": 1632850093004,
     "user": {
      "displayName": "Laura Brown",
      "photoUrl": "https://lh3.googleusercontent.com/a-/AOh14GjYbC5So3kNOYBteW-fSY5JpgP-bBJa7kyAEluaKg=s64",
      "userId": "02180634349638765126"
     },
     "user_tz": 240
    },
    "id": "6WA26hvU83nX",
    "tags": []
   },
   "outputs": [],
   "source": [
    "html = requests.get(\"https://among-us.fandom.com/wiki/Tasks\").text\n",
    "soup = BeautifulSoup(html, 'html5lib')"
   ]
  },
  {
   "cell_type": "markdown",
   "id": "7c6d3f2a",
   "metadata": {
    "id": "YgvnasbTC0lH"
   },
   "source": [
    "We can find the table in the source code: \n",
    "\n",
    "```html \n",
    "<table class=\"wikitable list-table sortable mw-collapsible\">\n",
    "<tbody><tr>\n",
    "<th style=\"min-width: 25%\">Task\n",
    "</th>\n",
    "<th style=\"min-width: 15%\">Map\n",
    "</th>\n",
    "<th style=\"min-width: 15%\">Type\n",
    "</th>\n",
    "<th>List of steps\n",
    "</th></tr>\n",
    "<tr>\n",
    "<td><a href=\"/wiki/Align_Engine_Output\" title=\"Align Engine Output\">Align Engine Output</a>\n",
    "</td>\n",
    "<td><a href=\"/wiki/The_Skeld\" title=\"The Skeld\">The Skeld</a>\n",
    "</td>\n",
    "<td>Long\n",
    "</td>\n",
    "<td style=\"padding-left: 10px;\">\n",
    "<ul><li><a href=\"/wiki/Upper_Engine\" title=\"Upper Engine\">Upper Engine</a></li>\n",
    "<li><a href=\"/wiki/Lower_Engine\" title=\"Lower Engine\">Lower Engine</a></li></ul>\n",
    "</td></tr>\n",
    "<tr>\n",
    "<td><a href=\"/wiki/Align_Telescope\" title=\"Align Telescope\">Align Telescope</a>\n",
    "</td>\n",
    "<td><a href=\"/wiki/Polus\" title=\"Polus\">Polus</a>\n",
    "</td>\n",
    "<td>Short\n",
    "```"
   ]
  },
  {
   "cell_type": "code",
   "execution_count": null,
   "id": "ed9acd99",
   "metadata": {
    "colab": {
     "base_uri": "https://localhost:8080/"
    },
    "executionInfo": {
     "elapsed": 237,
     "status": "ok",
     "timestamp": 1632850213130,
     "user": {
      "displayName": "Laura Brown",
      "photoUrl": "https://lh3.googleusercontent.com/a-/AOh14GjYbC5So3kNOYBteW-fSY5JpgP-bBJa7kyAEluaKg=s64",
      "userId": "02180634349638765126"
     },
     "user_tz": 240
    },
    "id": "Rcox0kSk-uAu",
    "outputId": "d75a4358-69a9-409c-ddb3-3024b9833479",
    "tags": []
   },
   "outputs": [],
   "source": [
    "# Grab all instances within the HTML there is a \n",
    "#  <table class=\"wikitable list-table sortable mw-collapsible\"> tag \n",
    "tasks_tab = soup.find_all(\"table\", \n",
    "                          {\"class\": \"wikitable list-table sortable mw-collapsible\"})\n",
    "tasks_tab"
   ]
  },
  {
   "cell_type": "code",
   "execution_count": null,
   "id": "86849dff",
   "metadata": {
    "colab": {
     "base_uri": "https://localhost:8080/"
    },
    "executionInfo": {
     "elapsed": 232,
     "status": "ok",
     "timestamp": 1632850231351,
     "user": {
      "displayName": "Laura Brown",
      "photoUrl": "https://lh3.googleusercontent.com/a-/AOh14GjYbC5So3kNOYBteW-fSY5JpgP-bBJa7kyAEluaKg=s64",
      "userId": "02180634349638765126"
     },
     "user_tz": 240
    },
    "id": "_slWN4J3dSWf",
    "outputId": "e12de06f-2021-456e-ea2a-207beaf3c6d1",
    "tags": []
   },
   "outputs": [],
   "source": [
    "len(tasks_tab)"
   ]
  },
  {
   "cell_type": "code",
   "execution_count": null,
   "id": "1d68ed1c",
   "metadata": {
    "colab": {
     "base_uri": "https://localhost:8080/"
    },
    "executionInfo": {
     "elapsed": 482,
     "status": "ok",
     "timestamp": 1632850301727,
     "user": {
      "displayName": "Laura Brown",
      "photoUrl": "https://lh3.googleusercontent.com/a-/AOh14GjYbC5So3kNOYBteW-fSY5JpgP-bBJa7kyAEluaKg=s64",
      "userId": "02180634349638765126"
     },
     "user_tz": 240
    },
    "id": "vz1Ql3PyDotA",
    "outputId": "32539791-4021-4233-b8ba-dc4d6bfa8bda",
    "tags": []
   },
   "outputs": [],
   "source": [
    "# How can we grab all the rows of the table? \n",
    "tasks_dat = tasks_tab[0].find_all(\"tr\")\n",
    "tasks_dat"
   ]
  },
  {
   "cell_type": "markdown",
   "id": "2af50950",
   "metadata": {
    "id": "8_ea_wr4VdMp"
   },
   "source": [
    "**Take Advantage of Pandas**\n",
    "\n",
    "Pandas has the `read_html` function which can parse in html tables as well. "
   ]
  },
  {
   "cell_type": "code",
   "execution_count": null,
   "id": "6d321712",
   "metadata": {
    "colab": {
     "base_uri": "https://localhost:8080/",
     "height": 202
    },
    "executionInfo": {
     "elapsed": 231,
     "status": "ok",
     "timestamp": 1632850567729,
     "user": {
      "displayName": "Laura Brown",
      "photoUrl": "https://lh3.googleusercontent.com/a-/AOh14GjYbC5So3kNOYBteW-fSY5JpgP-bBJa7kyAEluaKg=s64",
      "userId": "02180634349638765126"
     },
     "user_tz": 240
    },
    "id": "_2JuJHjFUTWI",
    "outputId": "0fb5886f-b630-4377-d47f-3f84ff55e269",
    "tags": []
   },
   "outputs": [],
   "source": [
    "df2 = ...\n",
    "df2.head(10)"
   ]
  },
  {
   "cell_type": "code",
   "execution_count": null,
   "id": "2c255f53",
   "metadata": {
    "colab": {
     "base_uri": "https://localhost:8080/",
     "height": 202
    },
    "executionInfo": {
     "elapsed": 921,
     "status": "ok",
     "timestamp": 1632850576819,
     "user": {
      "displayName": "Laura Brown",
      "photoUrl": "https://lh3.googleusercontent.com/a-/AOh14GjYbC5So3kNOYBteW-fSY5JpgP-bBJa7kyAEluaKg=s64",
      "userId": "02180634349638765126"
     },
     "user_tz": 240
    },
    "id": "DuvULlHSV0ep",
    "outputId": "1d5333db-3c8e-4858-d050-e44626e344a0",
    "tags": []
   },
   "outputs": [],
   "source": [
    "df3 = ...\n",
    "df3.head(10)"
   ]
  },
  {
   "cell_type": "code",
   "execution_count": null,
   "id": "a56052d1",
   "metadata": {
    "id": "3ECouppuoeiE"
   },
   "outputs": [],
   "source": []
  }
 ],
 "metadata": {
  "kernelspec": {
   "display_name": "Python [conda env:un5550] *",
   "language": "python",
   "name": "conda-env-un5550-py"
  },
  "language_info": {
   "codemirror_mode": {
    "name": "ipython",
    "version": 3
   },
   "file_extension": ".py",
   "mimetype": "text/x-python",
   "name": "python",
   "nbconvert_exporter": "python",
   "pygments_lexer": "ipython3",
   "version": "3.10.12"
  }
 },
 "nbformat": 4,
 "nbformat_minor": 5
}

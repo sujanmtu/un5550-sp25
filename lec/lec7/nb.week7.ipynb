{
 "cells": [
  {
   "cell_type": "markdown",
   "id": "158fe494",
   "metadata": {
    "id": "Luraj8ZwMtoz"
   },
   "source": [
    "# Getting Data - Part 3\n",
    "\n",
    "\n",
    "Information comes from Ch 9 of Data Science from Scratch, 2nd Edition by Joel Grus.  This book is available for free through the library's connection to O'reilly's learning platform."
   ]
  },
  {
   "cell_type": "markdown",
   "id": "ac86fbc4",
   "metadata": {
    "id": "5SpVOK0X0em2"
   },
   "source": [
    "##  What we have learned so far?\n",
    "\n",
    "We have looked at **increasing levels of abstraction**. \n",
    "\n",
    "**Read and write to stdin and stdout**  \n",
    "\n",
    "```\n",
    "import sys\n",
    "\n",
    "# for every line read in from stdin\n",
    "for line in sys.stdin:\n",
    "    sys.stdout.write(line)\n",
    "```"
   ]
  },
  {
   "cell_type": "markdown",
   "id": "b8076b01",
   "metadata": {
    "id": "WXq07gH40pBG"
   },
   "source": [
    "**Read and write from/to a file**\n",
    "\n",
    "```\n",
    "f = open(‘testfile.txt’, ‘r’)\n",
    "\n",
    "fw = open(‘testfilewrite.txt’, ‘w’)\n",
    "\n",
    "fw.close()\n",
    "```"
   ]
  },
  {
   "cell_type": "markdown",
   "id": "a6430e91",
   "metadata": {
    "id": "fHmPNfmU0vS0"
   },
   "source": [
    "**Read and write from/to a file**\n",
    "\n",
    "```\n",
    "f = open(‘testfile.txt’, ‘r’)\n",
    "\n",
    "f.readlines()\n",
    "\n",
    "f.read()\n",
    "\n",
    "for line in f:\n",
    "    print(line)\n",
    "```"
   ]
  },
  {
   "cell_type": "markdown",
   "id": "3d5ab13c",
   "metadata": {
    "id": "_yFHRBX901kI"
   },
   "source": [
    "**Read and write from/to delimited files**\n",
    "\n",
    "```\n",
    "import csv\n",
    "\n",
    "f = open(‘tab_file.txt’, ‘rb’)\n",
    "reader =csv.reader(f,delimiter=’\\t’)\n",
    "for row in reader:\n",
    "\n",
    "f = open(‘colon_file.txt’, ‘rb’)\n",
    "reader = csv.DictReader(f, delimiter=’:’)\n",
    "```"
   ]
  },
  {
   "cell_type": "markdown",
   "id": "c25e93bb",
   "metadata": {
    "id": "VQYn2BtY09Wh"
   },
   "source": [
    "**Read and write from/to delimited files**\n",
    "\n",
    "```\n",
    "import csv\n",
    "\n",
    "f = open('data/comma_test.txt','wb')\n",
    "\n",
    "writer = csv.writer(f,delimiter=',')\n",
    "\n",
    "writer.writerow([time.strftime(\"%m/%d/%Y\"),stock,price])\n",
    "```"
   ]
  },
  {
   "cell_type": "markdown",
   "id": "f2eacdf1",
   "metadata": {
    "id": "okWmQfFo1DYN"
   },
   "source": [
    "**Read and write data with `pandas`**\n",
    "\n",
    "```\n",
    "read_csv\n",
    "\n",
    "read_table\n",
    "\n",
    "read_fwf\n",
    "\n",
    "read_clipboard\n",
    "\n",
    "to_csv('filename')\n",
    "```"
   ]
  },
  {
   "cell_type": "markdown",
   "id": "93b81e7d",
   "metadata": {
    "id": "B0gK_cGX1M0w"
   },
   "source": [
    "**Web scraping**   \n",
    "Get data using `requests` and parse it using `BeautifulSoup` and some regular expressions / string manipulation.\n",
    "\n",
    "```\n",
    "from bs4 import BeautifulSoup\n",
    "import requests \n",
    "\n",
    "url = \"http://example.com\"\n",
    "html = requests.get(url).text \n",
    "soup = BeautifulSoup(html, 'html5lib')\n",
    "```"
   ]
  },
  {
   "cell_type": "markdown",
   "id": "112649b7",
   "metadata": {
    "id": "DdnppUgiMto6"
   },
   "source": [
    "### Today, you will learn about: \n",
    "\n",
    "* The JSON format, how to parse it \n",
    "* Use of APIs to get data from websites and services \n",
    "\n",
    "Many websites and web services provide application programming interfaces (APIs), which allow you to explicitly request data in a structured format. \n",
    "\n",
    "*When APIs are available, they should be used as opposed to scrapping information.*\n"
   ]
  },
  {
   "cell_type": "code",
   "execution_count": null,
   "id": "19c65e4c",
   "metadata": {
    "id": "oqjppvroMto1",
    "tags": []
   },
   "outputs": [],
   "source": [
    "import requests\n",
    "import json\n",
    "import pandas as pd\n",
    "import numpy as np\n",
    "import matplotlib.pyplot as plt\n",
    "import matplotlib as mpl \n",
    "%matplotlib inline  "
   ]
  },
  {
   "cell_type": "markdown",
   "id": "120445d2",
   "metadata": {
    "id": "HL0AefnhMto7"
   },
   "source": [
    "## JSON\n",
    "\n",
    "HTTP is a protocol for transferring text, the data you request through a web API needs to be serialized into a string format. Often this serialization uses **JavaScript Object Notation (JSON)**. \n",
    "\n",
    "- It is:\n",
    "    - very easy for computers to read and write.\n",
    "    - moderately easy for programmers to read and write by hand.\n",
    "    - meant to be generated and parsed.\n",
    "\n",
    "- Most modern languages have an interface for working with JSON objects.\n",
    "    - JSON objects _resemble_ Python dictionaries (but are not the same!).\n",
    "\n"
   ]
  },
  {
   "cell_type": "markdown",
   "id": "4bb94b77-e2c2-4c81-a77d-4a0cf231d7ea",
   "metadata": {},
   "source": [
    "### JSON data types\n",
    "\n",
    "| Type | Description |\n",
    "| --- | --- |\n",
    "| String | Anything inside double quotes. |\n",
    "| Number | Any number (no difference between ints and floats). |\n",
    "| Boolean | `true` and `false`. |\n",
    "| Null | JSON's empty value, denoted by `null`. |\n",
    "| Array | Like Python lists. |\n",
    "| Object | A collection of key-value pairs, like dictionaries. Keys must be strings, values can be anything (even other objects). |\n",
    "\n",
    "See [json-schema.org](https://json-schema.org/understanding-json-schema/reference/type.html) for more details."
   ]
  },
  {
   "cell_type": "markdown",
   "id": "ccc79aaa-1784-4b59-831c-6fc3f615b8e9",
   "metadata": {},
   "source": [
    "### Example JSON object\n",
    "\n",
    "See `data/family.json`.\n",
    "\n",
    "<center><img src='imgs/hierarchy.png' width=50%></center>"
   ]
  },
  {
   "cell_type": "code",
   "execution_count": null,
   "id": "fc3532ba-3883-44ec-905d-c7b3bb0d4d64",
   "metadata": {
    "tags": []
   },
   "outputs": [],
   "source": [
    "import json\n",
    "from pathlib import Path\n",
    "\n",
    "f = Path('data') / 'family.json'\n",
    "family_tree = json.loads(f.read_text())\n",
    "family_tree"
   ]
  },
  {
   "cell_type": "code",
   "execution_count": null,
   "id": "8551ef52-3b11-41d6-b7ec-d33fa4e6d9b3",
   "metadata": {
    "tags": []
   },
   "outputs": [],
   "source": [
    "# We can access the nested information \n",
    "family_tree['children']"
   ]
  },
  {
   "cell_type": "code",
   "execution_count": null,
   "id": "1d5cb264-393a-4688-8e88-b777e11db2a1",
   "metadata": {
    "tags": []
   },
   "outputs": [],
   "source": [
    "..."
   ]
  },
  {
   "cell_type": "code",
   "execution_count": null,
   "id": "80b14b6f-308a-4388-b6dd-ab3c1a49e99e",
   "metadata": {
    "tags": []
   },
   "outputs": [],
   "source": [
    "..."
   ]
  },
  {
   "cell_type": "markdown",
   "id": "32605995-9203-46dc-b1e0-d1f65c18e3da",
   "metadata": {},
   "source": [
    "### Using the `json` module\n",
    "\n",
    "Let's process the same file using the `json` module. Note:\n",
    "- `json.load(f)` loads a JSON file from a file object.\n",
    "- `json.loads(f)` loads a JSON file from a **s**tring.\n",
    "\n",
    "\n",
    "#### Handling _unfamiliar_ data\n",
    "\n",
    "- Never trust data from an unfamiliar site.\n",
    "\n",
    "- **Never** use `eval` on \"raw\" data that you didn't create!\n",
    "\n",
    "- The JSON data format needs to be **parsed**, not evaluated as a dictionary.\n",
    "    - It was designed with safety in mind!"
   ]
  },
  {
   "cell_type": "markdown",
   "id": "8da6356c",
   "metadata": {
    "id": "u_Jl0F9XN3rS"
   },
   "source": [
    "### Example: loads( )\n",
    "We can parse JSON using Python’s `json` module. In particular, we will use its `loads` function, which deserializes a string representing a JSON object into a Python object."
   ]
  },
  {
   "cell_type": "code",
   "execution_count": null,
   "id": "4c8412b6",
   "metadata": {
    "colab": {
     "base_uri": "https://localhost:8080/"
    },
    "id": "aAt3RghQMto8",
    "outputId": "d8e8acaf-4917-4150-cc65-295e5acd8b12",
    "tags": []
   },
   "outputs": [],
   "source": [
    "serialized = \"\"\"{ \"title\" : \"Data Science Book\",\n",
    "                  \"author\" : \"Joel Grus\",\n",
    "                  \"publicationYear\" : 2014,\n",
    "                  \"topics\" : [ \"data\", \"science\", \"data science\"] }\"\"\"\n",
    "\n",
    "# parse the JSON to create a Python dict\n",
    "deserialized = json.loads(serialized)\n",
    "deserialized"
   ]
  },
  {
   "cell_type": "markdown",
   "id": "83f167ed",
   "metadata": {
    "id": "QjLiCiRkNLWu"
   },
   "source": [
    "We can then use the deserialized object like a Python dict object to find information.  For example, does the book cover the topic of \"data science\":"
   ]
  },
  {
   "cell_type": "code",
   "execution_count": null,
   "id": "c95bb194",
   "metadata": {
    "tags": []
   },
   "outputs": [],
   "source": [
    "type(serialized)"
   ]
  },
  {
   "cell_type": "code",
   "execution_count": null,
   "id": "e4587ec5",
   "metadata": {
    "tags": []
   },
   "outputs": [],
   "source": [
    "type(deserialized)"
   ]
  },
  {
   "cell_type": "code",
   "execution_count": null,
   "id": "3aaf616a",
   "metadata": {
    "colab": {
     "base_uri": "https://localhost:8080/"
    },
    "id": "5F51nVSSNJVn",
    "outputId": "536b15f9-3ef5-45a2-f2e2-659ca2d0195e",
    "tags": []
   },
   "outputs": [],
   "source": [
    "if \"data science\" in deserialized[\"topics\"]:\n",
    "    print(\"Yes\")\n",
    "else: \n",
    "    print(\"No\")"
   ]
  },
  {
   "cell_type": "code",
   "execution_count": null,
   "id": "7ffac7cd",
   "metadata": {
    "tags": []
   },
   "outputs": [],
   "source": [
    "deserialized.keys()"
   ]
  },
  {
   "cell_type": "markdown",
   "id": "1d021451",
   "metadata": {
    "id": "8t87OykIMto_"
   },
   "source": [
    "### Example: dumps( )\n",
    "\n",
    "The `dumps` function will take a Python object (e.g., dict) and serializes it into a JSON formatted string. "
   ]
  },
  {
   "cell_type": "code",
   "execution_count": null,
   "id": "f7d795fa",
   "metadata": {
    "colab": {
     "base_uri": "https://localhost:8080/",
     "height": 35
    },
    "id": "kQ31RS1EMtpB",
    "outputId": "761b0fe0-754c-4b75-9673-502e5b348078",
    "tags": []
   },
   "outputs": [],
   "source": [
    "data = {\n",
    "   'name' : 'ACME',\n",
    "   'shares' : 100,\n",
    "   'price' : 542.23\n",
    "}\n",
    "json_obj = json.dumps(data)\n",
    "json_obj"
   ]
  },
  {
   "cell_type": "code",
   "execution_count": null,
   "id": "714cc68a",
   "metadata": {
    "tags": []
   },
   "outputs": [],
   "source": [
    "type(data)"
   ]
  },
  {
   "cell_type": "code",
   "execution_count": null,
   "id": "7770a145",
   "metadata": {
    "colab": {
     "base_uri": "https://localhost:8080/"
    },
    "id": "v7zInOFhMtpF",
    "outputId": "47b225a6-fd5d-4ae9-80d5-f064b5c1e433",
    "tags": []
   },
   "outputs": [],
   "source": [
    "type(json_obj)"
   ]
  },
  {
   "cell_type": "code",
   "execution_count": null,
   "id": "648500ea",
   "metadata": {
    "colab": {
     "base_uri": "https://localhost:8080/"
    },
    "id": "YwI3Le5DMtpI",
    "outputId": "3addf099-bc0c-4a91-8a6b-a041d74ebec6",
    "tags": []
   },
   "outputs": [],
   "source": [
    "data2 = json.loads(json_obj)\n",
    "data2"
   ]
  },
  {
   "cell_type": "code",
   "execution_count": null,
   "id": "6d053ba6-78d4-4a3b-8e7e-bf3cfc5f0863",
   "metadata": {
    "tags": []
   },
   "outputs": [],
   "source": [
    "type(data2)"
   ]
  },
  {
   "cell_type": "code",
   "execution_count": null,
   "id": "97eb2696",
   "metadata": {
    "colab": {
     "base_uri": "https://localhost:8080/"
    },
    "id": "wYOtmH5MMtpM",
    "outputId": "34d9d3ff-b03f-445c-8aaf-226ec4bdb016",
    "scrolled": true,
    "tags": []
   },
   "outputs": [],
   "source": [
    "help(json.dumps)"
   ]
  },
  {
   "cell_type": "markdown",
   "id": "e9997065",
   "metadata": {
    "id": "YLOmPJtbMtpT"
   },
   "source": [
    "### Example  \n",
    "*Ref: https://pythonspot.com/en/json-encoding-and-decoding-with-python/*"
   ]
  },
  {
   "cell_type": "code",
   "execution_count": null,
   "id": "d0ec2cb6",
   "metadata": {
    "colab": {
     "base_uri": "https://localhost:8080/"
    },
    "id": "jW6uAO3YMtpm",
    "outputId": "9699ad9f-b979-4fff-a1d7-1636301e8480",
    "tags": []
   },
   "outputs": [],
   "source": [
    "# Convert JSON to Python Object, then iterate\n",
    "array = '{\"drinks\": [\"coffee\", \"tea\", \"water\"]}'\n",
    "data = json.loads(array)\n",
    " \n",
    "for element in data['drinks']:\n",
    "    print(element)"
   ]
  },
  {
   "cell_type": "code",
   "execution_count": null,
   "id": "74f5ccef",
   "metadata": {
    "colab": {
     "base_uri": "https://localhost:8080/"
    },
    "id": "0Ib-lgxsMtpX",
    "outputId": "3e9d4d14-4a72-4110-c7d8-b94985d542fb",
    "tags": []
   },
   "outputs": [],
   "source": [
    "json_data = '{\"name\": \"Brian\", \"city\": \"Seattle\"}'\n",
    "python_obj = json.loads(json_data)\n",
    "print(python_obj[\"name\"])\n",
    "print(python_obj[\"city\"])"
   ]
  },
  {
   "cell_type": "code",
   "execution_count": null,
   "id": "75eac27f",
   "metadata": {
    "colab": {
     "base_uri": "https://localhost:8080/"
    },
    "id": "oBmMtBZQMtpU",
    "outputId": "4fe0bfe8-eb58-4317-9b16-d7a366b67c8e",
    "tags": []
   },
   "outputs": [],
   "source": [
    "obj = {\n",
    "    \"persons\": [\n",
    "        {\n",
    "            \"city\": \"Seattle\", \n",
    "            \"name\": \"Brian\"\n",
    "        }, \n",
    "        {\n",
    "            \"city\": \"Amsterdam\", \n",
    "            \"name\": \"David\"\n",
    "        }\n",
    "    ]\n",
    "}\n",
    "obj"
   ]
  },
  {
   "cell_type": "code",
   "execution_count": null,
   "id": "5a487d20",
   "metadata": {
    "colab": {
     "base_uri": "https://localhost:8080/"
    },
    "id": "OFy1hWK0aKBM",
    "outputId": "31989f64-720d-449e-abe1-f9bd9b92513e",
    "tags": []
   },
   "outputs": [],
   "source": []
  },
  {
   "cell_type": "code",
   "execution_count": null,
   "id": "36ff9287",
   "metadata": {
    "colab": {
     "base_uri": "https://localhost:8080/",
     "height": 168
    },
    "id": "ZW3qClMybI7t",
    "outputId": "ba57ea95-831f-412b-ca3c-fa632324407e",
    "tags": []
   },
   "outputs": [],
   "source": []
  },
  {
   "cell_type": "code",
   "execution_count": null,
   "id": "000c2a26",
   "metadata": {
    "colab": {
     "base_uri": "https://localhost:8080/"
    },
    "id": "OOLOpqyFbM1U",
    "outputId": "7ae8df4e-4379-4155-9a1c-a447e7010894",
    "tags": []
   },
   "outputs": [],
   "source": []
  },
  {
   "cell_type": "code",
   "execution_count": null,
   "id": "9244fc2e",
   "metadata": {
    "colab": {
     "base_uri": "https://localhost:8080/",
     "height": 35
    },
    "id": "SGh7dnjjbQfw",
    "outputId": "a4202d02-fba4-4959-b19a-d30903add99f",
    "tags": []
   },
   "outputs": [],
   "source": []
  },
  {
   "cell_type": "code",
   "execution_count": null,
   "id": "7f94e461",
   "metadata": {
    "colab": {
     "base_uri": "https://localhost:8080/"
    },
    "id": "hjeCfexUbVc2",
    "outputId": "03800593-ac50-4cb3-a884-85106786fce3",
    "tags": []
   },
   "outputs": [],
   "source": []
  },
  {
   "cell_type": "code",
   "execution_count": null,
   "id": "13a8d9d2",
   "metadata": {
    "colab": {
     "base_uri": "https://localhost:8080/"
    },
    "id": "Zj0QEPCbbZm5",
    "outputId": "b59d81de-43cc-4148-a941-f9839eb3d543",
    "tags": []
   },
   "outputs": [],
   "source": []
  },
  {
   "cell_type": "markdown",
   "id": "9441e1dd",
   "metadata": {
    "id": "DePv0EZNMtpo"
   },
   "source": [
    "### Hierarchical Data  \n",
    "*Example from Data100*"
   ]
  },
  {
   "cell_type": "markdown",
   "id": "347d9398",
   "metadata": {
    "id": "O-lqozizMtpp"
   },
   "source": [
    "A lot of structured data isn't in CSV format, but in HTML, XML, JSON, YAML, etc. JSON might have a structure that Pandas can't read directly.\n",
    "\n",
    "Here's an example: a group of people collected information about US congressional legislators in YAML format.\n",
    "\n",
    "https://github.com/unitedstates/congress-legislators\n",
    "\n",
    "Here's one of the data files:\n",
    "\n",
    "https://github.com/unitedstates/congress-legislators/blob/master/legislators-current.yaml"
   ]
  },
  {
   "cell_type": "markdown",
   "id": "f2f47a67",
   "metadata": {
    "id": "UE2icQh5Mtpp"
   },
   "source": [
    "YAML is a data serialization language commonly used in configuration, for more information see https://en.wikipedia.org/wiki/YAML"
   ]
  },
  {
   "cell_type": "code",
   "execution_count": null,
   "id": "f7da90e7",
   "metadata": {
    "colab": {
     "base_uri": "https://localhost:8080/"
    },
    "id": "7yYBF0wlMtpq",
    "outputId": "fdc469cb-7d53-4ef6-8136-237ce5fd9cdf",
    "tags": []
   },
   "outputs": [],
   "source": [
    "import requests\n",
    "from pathlib import Path\n",
    "\n",
    "legislators_path = 'legislators-current.yaml'\n",
    "base_url = 'https://theunitedstates.io/congress-legislators/'\n",
    "\n",
    "def download(url, path):\n",
    "    \"\"\"Download the contents of a URL to a local file.\"\"\"\n",
    "    path = Path(path) # If path was a string, now it's a Path\n",
    "    if not path.exists():\n",
    "        print('Downloading...', end=' ')\n",
    "        resp = requests.get(url)\n",
    "        with path.open('wb') as f:\n",
    "            f.write(resp.content)\n",
    "        print('Done!')\n",
    "        \n",
    "download(base_url + legislators_path, legislators_path)"
   ]
  },
  {
   "cell_type": "markdown",
   "id": "20099c12",
   "metadata": {
    "id": "gsb_lzhOtrLd"
   },
   "source": [
    "The code above will download the YAML file storing current legislators information and store it locally.  \n",
    "\n",
    "Then we can just open the local file to look at the information.  \n",
    "\n",
    "Note, we can also see the file in the files directory and look at it. "
   ]
  },
  {
   "cell_type": "code",
   "execution_count": null,
   "id": "883dbccf",
   "metadata": {
    "colab": {
     "base_uri": "https://localhost:8080/"
    },
    "id": "fzPBn2WsMtpw",
    "outputId": "ce46775d-a55e-4987-8f55-720987d1d0f6",
    "tags": []
   },
   "outputs": [],
   "source": [
    "import yaml\n",
    "\n",
    "legislators = yaml.load(open(legislators_path), Loader=yaml.SafeLoader)\n",
    "len(legislators)"
   ]
  },
  {
   "cell_type": "code",
   "execution_count": null,
   "id": "de328102",
   "metadata": {
    "colab": {
     "base_uri": "https://localhost:8080/"
    },
    "id": "RyygbRa6Mtpz",
    "outputId": "39f0e19b-f4d5-41d9-9310-0121d84f48fd",
    "scrolled": true,
    "tags": []
   },
   "outputs": [],
   "source": [
    "type(legislators)"
   ]
  },
  {
   "cell_type": "code",
   "execution_count": null,
   "id": "731f2a50",
   "metadata": {
    "colab": {
     "base_uri": "https://localhost:8080/"
    },
    "id": "Noq04qbsMtp2",
    "outputId": "180cd59d-7d33-44d9-e329-290b48cd3344",
    "tags": []
   },
   "outputs": [],
   "source": []
  },
  {
   "cell_type": "code",
   "execution_count": null,
   "id": "64218099",
   "metadata": {
    "colab": {
     "base_uri": "https://localhost:8080/"
    },
    "id": "zjbYkO4EMtp6",
    "outputId": "acd0e25a-43a9-4c8c-e829-41ddcaea123a",
    "tags": []
   },
   "outputs": [],
   "source": []
  },
  {
   "cell_type": "code",
   "execution_count": null,
   "id": "a9e980ed",
   "metadata": {
    "colab": {
     "base_uri": "https://localhost:8080/"
    },
    "id": "eeZnR1G4MtqJ",
    "outputId": "5669f88c-a5ed-4e79-acd8-79d99bbed673",
    "tags": []
   },
   "outputs": [],
   "source": []
  },
  {
   "cell_type": "code",
   "execution_count": null,
   "id": "53c854b3",
   "metadata": {
    "colab": {
     "base_uri": "https://localhost:8080/"
    },
    "id": "wQo_6_38umqa",
    "outputId": "3ebcfc3a-6ac5-4615-c924-26727f5d00b3",
    "tags": []
   },
   "outputs": [],
   "source": []
  },
  {
   "cell_type": "code",
   "execution_count": null,
   "id": "0d2247c6",
   "metadata": {
    "colab": {
     "base_uri": "https://localhost:8080/",
     "height": 35
    },
    "id": "00O3VFckunGM",
    "outputId": "76205dfc-b597-4daf-bc88-b9b041aee2ed",
    "tags": []
   },
   "outputs": [],
   "source": []
  },
  {
   "cell_type": "code",
   "execution_count": null,
   "id": "26b112e5",
   "metadata": {
    "colab": {
     "base_uri": "https://localhost:8080/"
    },
    "id": "gk0C8lPYumz1",
    "outputId": "dea9b7ca-8814-4cae-9018-6524dde0aa3d",
    "tags": []
   },
   "outputs": [],
   "source": []
  },
  {
   "cell_type": "code",
   "execution_count": null,
   "id": "477597b4",
   "metadata": {
    "colab": {
     "base_uri": "https://localhost:8080/"
    },
    "id": "fiqzXDAdumcy",
    "outputId": "10e75325-38ea-45e2-b24f-3136da55645e",
    "tags": []
   },
   "outputs": [],
   "source": []
  },
  {
   "cell_type": "markdown",
   "id": "1f460381",
   "metadata": {
    "id": "0CSWOGIxMtqM"
   },
   "source": [
    "Let's create a function to select out the legislator's birthday as a function. "
   ]
  },
  {
   "cell_type": "code",
   "execution_count": null,
   "id": "4539f3c4",
   "metadata": {
    "colab": {
     "base_uri": "https://localhost:8080/"
    },
    "id": "7HAnTa01MtqN",
    "outputId": "06fdc5ad-1681-498d-a2eb-8b8916e18a44",
    "tags": []
   },
   "outputs": [],
   "source": [
    "from datetime import datetime\n",
    "\n",
    "def to_date(s):\n",
    "    return datetime.strptime(s, '%Y-%m-%d')\n",
    "\n",
    "#to_date('2020-10-06')\n",
    "to_date(x['bio']['birthday'])"
   ]
  },
  {
   "cell_type": "markdown",
   "id": "57a3de6e",
   "metadata": {
    "id": "ABIDoE2pMtqR"
   },
   "source": [
    "We can create a data frame consisting of the legislator's id, first name, last name and birthday. "
   ]
  },
  {
   "cell_type": "code",
   "execution_count": null,
   "id": "298433b4",
   "metadata": {
    "colab": {
     "base_uri": "https://localhost:8080/",
     "height": 202
    },
    "id": "FYCUPFAlMtqR",
    "outputId": "0dcbd872-8434-409a-9739-ee31cf65ab62",
    "tags": []
   },
   "outputs": [],
   "source": [
    "leg_df = pd.DataFrame(\n",
    "    columns=['id', 'first', 'last', 'birthday'],\n",
    "    data=[[l['id']['bioguide'], \n",
    "           l['name']['first'],\n",
    "           l['name']['last'],\n",
    "           to_date(l['bio']['birthday'])] for l in legislators])\n",
    "leg_df.head()"
   ]
  },
  {
   "cell_type": "code",
   "execution_count": null,
   "id": "61034473",
   "metadata": {
    "colab": {
     "base_uri": "https://localhost:8080/"
    },
    "id": "2dtID4c6Q71R",
    "outputId": "8a3e80c4-6109-4f04-bb02-f510eb266e0b",
    "tags": []
   },
   "outputs": [],
   "source": [
    "leg_df.dtypes"
   ]
  },
  {
   "cell_type": "markdown",
   "id": "0760faab",
   "metadata": {
    "id": "zCUqWRBxMtqT"
   },
   "source": [
    "We could also add their age. "
   ]
  },
  {
   "cell_type": "code",
   "execution_count": null,
   "id": "2f0397f1",
   "metadata": {
    "colab": {
     "base_uri": "https://localhost:8080/"
    },
    "id": "B5d9i7lOMtqU",
    "outputId": "5efb2786-1f55-4ec4-d9c6-402601491140",
    "tags": []
   },
   "outputs": [],
   "source": [
    "datetime.now() - leg_df.loc[0, 'birthday']"
   ]
  },
  {
   "cell_type": "code",
   "execution_count": null,
   "id": "3a0c028e",
   "metadata": {
    "colab": {
     "base_uri": "https://localhost:8080/",
     "height": 202
    },
    "id": "PPCwSuy7MtqX",
    "outputId": "5831411f-de04-46e9-f030-8de1ee1a9db8",
    "tags": []
   },
   "outputs": [],
   "source": []
  },
  {
   "cell_type": "code",
   "execution_count": null,
   "id": "a1057950",
   "metadata": {
    "colab": {
     "base_uri": "https://localhost:8080/",
     "height": 294
    },
    "id": "GC0jRzugMtqZ",
    "outputId": "44b64ef2-2f61-44dc-e0e9-70b2de0f5b87",
    "tags": []
   },
   "outputs": [],
   "source": []
  },
  {
   "cell_type": "markdown",
   "id": "43d5a5af",
   "metadata": {
    "id": "-SqRnOeQMtqf"
   },
   "source": [
    "### Aside:  Lambda functions"
   ]
  },
  {
   "cell_type": "markdown",
   "id": "69077def",
   "metadata": {
    "id": "LH8z4czGMtqf"
   },
   "source": [
    "A lambda function is a small anonymous function that can take any number of arguments, but can only have one expression. \n",
    "\n",
    "It has the following syntax: \n",
    "\n",
    "`lambda` *arguments* : *expression*\n",
    "\n",
    "The expression is executed and the result returned."
   ]
  },
  {
   "cell_type": "markdown",
   "id": "c0206ba7",
   "metadata": {
    "id": "aL2Mmyt4Mtqg"
   },
   "source": [
    "#### Example   \n",
    "A lambda function that adds 10 to the number passed in as an argument."
   ]
  },
  {
   "cell_type": "code",
   "execution_count": null,
   "id": "96085f00",
   "metadata": {
    "colab": {
     "base_uri": "https://localhost:8080/"
    },
    "id": "pAwXeJdmMtqg",
    "outputId": "49f2f791-2abd-4622-94de-17a9ad9617c7",
    "tags": []
   },
   "outputs": [],
   "source": [
    "# Example \n",
    "x = lambda a: a+10\n",
    "print(x(5))"
   ]
  },
  {
   "cell_type": "markdown",
   "id": "9a51d85f",
   "metadata": {
    "id": "iUM8zKi1Mtqk"
   },
   "source": [
    "#### Example   \n",
    "A lambda function that takes two inputs and multiplies them together."
   ]
  },
  {
   "cell_type": "code",
   "execution_count": null,
   "id": "e5be64c2",
   "metadata": {
    "colab": {
     "base_uri": "https://localhost:8080/"
    },
    "id": "JY2CqjPpMtqk",
    "outputId": "bfe48c44-3f1a-4d88-dd0b-701d075b0c74",
    "tags": []
   },
   "outputs": [],
   "source": [
    "# Example \n",
    "x = lambda a, b : a*b\n",
    "print(x(5,6))"
   ]
  },
  {
   "cell_type": "markdown",
   "id": "1e834c20",
   "metadata": {
    "id": "-D020vYPMtqp"
   },
   "source": [
    "#### Example  \n",
    "Apply the lambda function to an argument by surrounding the function and argument in parentheses:"
   ]
  },
  {
   "cell_type": "code",
   "execution_count": null,
   "id": "d971c4be",
   "metadata": {
    "colab": {
     "base_uri": "https://localhost:8080/"
    },
    "id": "SCC-Ikr0Mtqs",
    "outputId": "1dc89eef-97c8-44f0-e185-21d5dcf32441",
    "tags": []
   },
   "outputs": [],
   "source": [
    "(lambda x: x + 1)(2)"
   ]
  },
  {
   "cell_type": "markdown",
   "id": "e02a6c03",
   "metadata": {
    "id": "zDttPp40Mtqy"
   },
   "source": [
    "#### Example  \n",
    "lambda function are often used with other methods in Python such as `apply`, `filter`, `map`, `sorted`, etc."
   ]
  },
  {
   "cell_type": "code",
   "execution_count": null,
   "id": "23b6dd95",
   "metadata": {
    "colab": {
     "base_uri": "https://localhost:8080/"
    },
    "id": "lkvAL7qdMtqz",
    "outputId": "19f6feb6-5980-447f-e0fb-95feff4903dd",
    "tags": []
   },
   "outputs": [],
   "source": [
    "ids = ['id1', 'id2', 'id30', 'id3', 'id22', 'id100']\n",
    "print(sorted(ids)) # Lexicographic sort"
   ]
  },
  {
   "cell_type": "code",
   "execution_count": null,
   "id": "fa84826b",
   "metadata": {
    "colab": {
     "base_uri": "https://localhost:8080/"
    },
    "id": "RQhQYvdaMtq4",
    "outputId": "08daf204-c8e8-46ba-9ebe-58a7652f57f3",
    "tags": []
   },
   "outputs": [],
   "source": [
    "sorted_ids = sorted(ids, key=lambda x: int(x[2:])) # Integer sort\n",
    "print(sorted_ids)"
   ]
  },
  {
   "cell_type": "markdown",
   "id": "92822115",
   "metadata": {
    "id": "0ELFu-scMtrC"
   },
   "source": [
    "#### Example   \n",
    "Here is an example using the `map` function, which expects a function object and any number of iterables, such as a list, dictionary, etc.   `map` executes the function_object for each element in the sequence and returns a list of the elements modified by the function object. "
   ]
  },
  {
   "cell_type": "code",
   "execution_count": null,
   "id": "a327d18b",
   "metadata": {
    "colab": {
     "base_uri": "https://localhost:8080/"
    },
    "id": "Fy5PoAm5MtrD",
    "outputId": "f83abd41-e4a6-400c-f423-ad81ee1ded00",
    "tags": []
   },
   "outputs": [],
   "source": [
    "def multiply2(x): \n",
    "    return x * 2 \n",
    "\n",
    "x = map(multiply2, [1, 2, 3, 4])\n",
    "print(x)"
   ]
  },
  {
   "cell_type": "code",
   "execution_count": null,
   "id": "7d6d6c11",
   "metadata": {
    "colab": {
     "base_uri": "https://localhost:8080/"
    },
    "id": "wJBXdYwuMtrI",
    "outputId": "ee55bd14-a4e4-4acd-8a45-11d0fda54cd6",
    "tags": []
   },
   "outputs": [],
   "source": [
    "def print_iterator(it):\n",
    "    for x in it:\n",
    "        print(x, end=' ')\n",
    "    print('')\n",
    "\n",
    "print_iterator(x)"
   ]
  },
  {
   "cell_type": "code",
   "execution_count": null,
   "id": "c84a6097",
   "metadata": {
    "colab": {
     "base_uri": "https://localhost:8080/"
    },
    "id": "KatySoPNMtrN",
    "outputId": "ea20b036-18d3-4f15-ecf9-f0d0f4c206c6",
    "tags": []
   },
   "outputs": [],
   "source": [
    "mp_it = map(lambda x : x * 2, [1, 2, 3, 4])\n",
    "print_iterator(mp_it)"
   ]
  },
  {
   "cell_type": "code",
   "execution_count": null,
   "id": "94a9256d",
   "metadata": {
    "colab": {
     "base_uri": "https://localhost:8080/"
    },
    "id": "2EW4BQF-MtrS",
    "outputId": "9720af6c-1d9d-4a0f-f4d1-bbfb961d1ebd",
    "tags": []
   },
   "outputs": [],
   "source": [
    "list_numbers = [1, 2, 3, 4]\n",
    "tuple_numbers = (5, 6, 7, 8)\n",
    "map_iterator = map(lambda x, y: x * y, list_numbers, tuple_numbers)\n",
    "print_iterator(map_iterator)"
   ]
  },
  {
   "cell_type": "markdown",
   "id": "2ca41483",
   "metadata": {
    "id": "5SVzxmQEMtrW"
   },
   "source": [
    "## APIs \n",
    "\n",
    "Most APIs these days require you to first authenticate yourself in order to use them. This creates a lot of extra boilerplate that muddies up our exposition. \n",
    "\n",
    "An application programming interface (API) is a service that makes data directly available to the user in a convenient fashion.\n",
    "\n",
    "Advantages:\n",
    "\n",
    "- The data are usually clean, up-to-date, and ready to use.\n",
    "\n",
    "- The presence of a API signals that the data provider is okay with you using their data.\n",
    "\n",
    "- The data provider can plan and regulate data usage.\n",
    "    - Some APIs require you to create an API \"key\", which is like an account for using the API.\n",
    "    - APIs can also give you access to data that isn't publicly available on a webpage.\n",
    "    \n",
    "<br>\n",
    "\n",
    "Big disadvantage: APIs don't always exist for the data you want!\n"
   ]
  },
  {
   "cell_type": "markdown",
   "id": "557f76f5-ce56-403d-be58-12b75512b6d2",
   "metadata": {},
   "source": [
    "### API terminology\n",
    "\n",
    "- A URL, or uniform resource locator, describes the location of a website or resource.\n",
    "\n",
    "- An **API endpoint** is a URL of the data source that the user wants to make requests to.\n",
    "\n",
    "- For example, on the [Reddit API](https://www.reddit.com/dev/api/):\n",
    "    * the `/comments` endpoint retrieves information about comments.\n",
    "    * the `/hot` endpoint retrieves data about posts labeled \"hot\" right now. \n",
    "    - To access these endpoints, you add the endpoint name to the base URL of the API."
   ]
  },
  {
   "cell_type": "markdown",
   "id": "ca5f6849-327b-433c-900f-850ea69075ab",
   "metadata": {},
   "source": [
    "### API requests\n",
    "\n",
    "- API requests are just `GET`/`POST` requests to a specially maintained URL.\n",
    "- Let's test out the [Pokémon API](https://pokeapi.co).\n",
    "\n",
    "First, let's make a `GET` request for `'squirtle'`. To do this, we need to make a request to the correct URL."
   ]
  },
  {
   "cell_type": "code",
   "execution_count": null,
   "id": "237350e5-bb4c-4003-b2e9-16d3dde0174b",
   "metadata": {
    "tags": []
   },
   "outputs": [],
   "source": [
    "def create_url(pokemon):\n",
    "    return f'https://pokeapi.co/api/v2/pokemon/{pokemon}'\n",
    "\n",
    "create_url('squirtle')"
   ]
  },
  {
   "cell_type": "code",
   "execution_count": null,
   "id": "e6219fcd-19be-4c7f-8471-a0b508a954aa",
   "metadata": {
    "tags": []
   },
   "outputs": [],
   "source": [
    "r = requests.get(create_url('squirtle'))\n",
    "r"
   ]
  },
  {
   "cell_type": "markdown",
   "id": "50e3d630-5381-47d8-b657-a3650a4bbf96",
   "metadata": {},
   "source": [
    "Remember, the 200 status code is good! Let's take a look at the **content**:"
   ]
  },
  {
   "cell_type": "code",
   "execution_count": null,
   "id": "9dd4b187-a235-43b1-8b35-cad30328774d",
   "metadata": {
    "tags": []
   },
   "outputs": [],
   "source": []
  },
  {
   "cell_type": "markdown",
   "id": "10d69de4-beff-496d-8b3b-f32e0c93c9fd",
   "metadata": {},
   "source": [
    "Looks like JSON. We can extract the JSON from this request with the `json` method (or by passing `r.text` to `json.loads`)."
   ]
  },
  {
   "cell_type": "code",
   "execution_count": null,
   "id": "36cf50ca-41e6-4e91-84ad-6c41c8fe8a4e",
   "metadata": {
    "tags": []
   },
   "outputs": [],
   "source": [
    "rr = r.json()\n",
    "rr"
   ]
  },
  {
   "cell_type": "code",
   "execution_count": null,
   "id": "5f9079d1-7378-4b9e-8cbc-2bea80f451eb",
   "metadata": {
    "tags": []
   },
   "outputs": [],
   "source": []
  },
  {
   "cell_type": "code",
   "execution_count": null,
   "id": "9817c43f-9064-4a61-90a7-18e84378d4b9",
   "metadata": {
    "tags": []
   },
   "outputs": [],
   "source": []
  },
  {
   "cell_type": "code",
   "execution_count": null,
   "id": "cbcb8924-5a40-4295-8ef7-1e8e2400259d",
   "metadata": {
    "tags": []
   },
   "outputs": [],
   "source": []
  },
  {
   "cell_type": "markdown",
   "id": "10a4e8ff-ddfd-4f20-85e7-58a86b3a32e8",
   "metadata": {},
   "source": [
    "Let's try a `GET` request for `billy`"
   ]
  },
  {
   "cell_type": "code",
   "execution_count": null,
   "id": "789284cf-36c5-48ba-9940-ef4ccb53c497",
   "metadata": {
    "tags": []
   },
   "outputs": [],
   "source": [
    "r = requests.get(create_url('billy'))\n",
    "r"
   ]
  },
  {
   "cell_type": "markdown",
   "id": "29e968d2-e8d8-42bc-b021-f1ab8dccbd81",
   "metadata": {},
   "source": [
    "We receive a 404 error, since there is no Pokemon named `'billy'`!"
   ]
  },
  {
   "cell_type": "markdown",
   "id": "4570e352",
   "metadata": {
    "id": "9lucEU27MtrW"
   },
   "source": [
    "### A Simple API example \n",
    "\n",
    "Let's try using the [OpenNotify API](http://open-notify.org/) that serves NASA data. "
   ]
  },
  {
   "cell_type": "markdown",
   "id": "28e36f5e",
   "metadata": {
    "id": "Tzfv_lN0MtrX"
   },
   "source": [
    "Let's use the GET request to see what data we can get in response. Get request takes the URL, in our case the url to Open Notify. Lets make a request and print what is returned. When we just make a request to a url without the right endpoint, we get the html content as response. **End points** are locations of the resources."
   ]
  },
  {
   "cell_type": "code",
   "execution_count": null,
   "id": "e3676e8e",
   "metadata": {
    "colab": {
     "base_uri": "https://localhost:8080/"
    },
    "id": "o8m_DS8LMtrY",
    "outputId": "49bf2ba3-c58e-4c7e-e7a4-4155b7d1f034",
    "scrolled": true,
    "tags": []
   },
   "outputs": [],
   "source": [
    "request = requests.get('http://api.open-notify.org')\n",
    "print(request.text)"
   ]
  },
  {
   "cell_type": "code",
   "execution_count": null,
   "id": "8570f7ff",
   "metadata": {
    "colab": {
     "base_uri": "https://localhost:8080/"
    },
    "id": "sNJ2EGkHMtrb",
    "outputId": "5645c8dc-d577-4079-84a6-7e6f1602ed6a",
    "tags": []
   },
   "outputs": [],
   "source": [
    "print(request.status_code)"
   ]
  },
  {
   "cell_type": "markdown",
   "id": "90d3c641",
   "metadata": {
    "id": "1aaI8VrzMtrj"
   },
   "source": [
    "Let's try to request something from the API for an end point that doesn't exist. "
   ]
  },
  {
   "cell_type": "code",
   "execution_count": null,
   "id": "1beb2ce6",
   "metadata": {
    "colab": {
     "base_uri": "https://localhost:8080/"
    },
    "id": "uh-T3XGNMtrk",
    "outputId": "e43ecec3-142c-4cfa-9502-d1d35f167ff4",
    "tags": []
   },
   "outputs": [],
   "source": [
    "request2 = requests.get('http://api.open-notify.org/fake-endpoint')\n",
    "print(request2.status_code)"
   ]
  },
  {
   "cell_type": "markdown",
   "id": "82d34b72",
   "metadata": {
    "id": "VcHNwPWgMtrm"
   },
   "source": [
    "We get a 404 Error.  "
   ]
  },
  {
   "cell_type": "markdown",
   "id": "0bd5c509",
   "metadata": {
    "id": "7C9-cJLXMtrn"
   },
   "source": [
    "Now let's try for a real end point.  For example, we can get the current location to the International Space Station, with the endpoint `/iss-now.json`.  Alternatively, `/iss-pass.json` returns the time at which the space station passes overhead. "
   ]
  },
  {
   "cell_type": "code",
   "execution_count": null,
   "id": "7d545b40",
   "metadata": {
    "colab": {
     "base_uri": "https://localhost:8080/"
    },
    "id": "mSChRhy9Mtrp",
    "outputId": "ce2cf432-8bfd-47b8-c90b-12d7d593b6d1",
    "tags": []
   },
   "outputs": [],
   "source": [
    "issLoc = requests.get('http://api.open-notify.org/iss-now.json')\n",
    "print(issLoc.text)\n",
    "\n",
    "obj = json.loads(issLoc.text)\n",
    "\n",
    "print(obj['timestamp'])\n",
    "print(obj['iss_position']['latitude'], obj['iss_position']['latitude'])"
   ]
  },
  {
   "cell_type": "markdown",
   "id": "f5a64d60",
   "metadata": {
    "id": "d3Ar8-wIMtrt"
   },
   "source": [
    "The API description tells use how to request and what the expected output will be. "
   ]
  },
  {
   "cell_type": "markdown",
   "id": "ba30b9d7",
   "metadata": {
    "id": "OMHN_FrZU0vh"
   },
   "source": [
    "In this case the data returned has the following format: \n",
    "\n",
    "```\n",
    "{\n",
    "  \"message\": \"success\", \n",
    "  \"timestamp\": UNIX_TIME_STAMP, \n",
    "  \"iss_position\": {\n",
    "    \"latitude\": CURRENT_LATITUDE, \n",
    "    \"longitude\": CURRENT_LONGITUDE\n",
    "  }\n",
    "}\n",
    "```\n",
    "\n",
    "Let's now convert the `UNIX_TIME_STAMP` to a time that is readable using the `datetime` module. \n"
   ]
  },
  {
   "cell_type": "code",
   "execution_count": null,
   "id": "32795b74",
   "metadata": {
    "colab": {
     "base_uri": "https://localhost:8080/"
    },
    "id": "jjFKMMTIVy6-",
    "outputId": "44b77449-adc5-4581-e0af-df00c08a086c",
    "tags": []
   },
   "outputs": [],
   "source": [
    "print(datetime.utcfromtimestamp(obj['timestamp']).strftime('%Y-%m-%d %H:%M:%S'))"
   ]
  },
  {
   "cell_type": "markdown",
   "id": "5e4cdd7e",
   "metadata": {
    "id": "G194-e4AMtrx"
   },
   "source": [
    "Another endpoint available gets information on the people in space. "
   ]
  },
  {
   "cell_type": "code",
   "execution_count": null,
   "id": "979b88d8",
   "metadata": {
    "colab": {
     "base_uri": "https://localhost:8080/"
    },
    "id": "AHMdmhCAMtry",
    "outputId": "a45c2e01-8c4a-45ae-f45a-b46c8ef42071",
    "tags": []
   },
   "outputs": [],
   "source": [
    "people = requests.get('http://api.open-notify.org/astros.json')\n",
    "print(people.text)"
   ]
  },
  {
   "cell_type": "code",
   "execution_count": null,
   "id": "92487fc7",
   "metadata": {
    "colab": {
     "base_uri": "https://localhost:8080/"
    },
    "id": "GN-QlyH5Mtr2",
    "outputId": "d971acc4-18be-4db6-c009-2aadcbd5db50",
    "tags": []
   },
   "outputs": [],
   "source": [
    "people_json  = people.json()\n",
    "print(people_json)"
   ]
  },
  {
   "cell_type": "markdown",
   "id": "4b2170bc",
   "metadata": {},
   "source": [
    "We can make use of the json `dumps()` function optional arguments to *pretty print* the JSON array elements and object members."
   ]
  },
  {
   "cell_type": "code",
   "execution_count": null,
   "id": "63ec8687",
   "metadata": {
    "tags": []
   },
   "outputs": [],
   "source": [
    "people_json_obj = json.dumps(people.json(), indent=2)\n",
    "print(people_json_obj)"
   ]
  },
  {
   "cell_type": "code",
   "execution_count": null,
   "id": "0442fd7e",
   "metadata": {
    "colab": {
     "base_uri": "https://localhost:8080/"
    },
    "id": "KJdUasQBMtr8",
    "outputId": "83426493-8782-4d9c-9a20-aac9ceb341d7",
    "tags": []
   },
   "outputs": [],
   "source": [
    "#To print the number of people in space\n",
    "print(\"Number of people in space:\",people_json['number'])\n",
    "#To print the names of people in space using a for loop\n",
    "for p in people_json['people']:\n",
    "    print(p['name'])"
   ]
  },
  {
   "cell_type": "markdown",
   "id": "25de935e",
   "metadata": {
    "id": "ur8nw3CvMtsA"
   },
   "source": [
    "### Github API example"
   ]
  },
  {
   "cell_type": "markdown",
   "id": "16b492c4",
   "metadata": {
    "id": "HTQDm48-MtsB"
   },
   "source": [
    "We’ll take a look at [GitHub’s API](https://developer.github.com/v3/), with which you can do some simple things unauthenticated. \n",
    "\n",
    "Here we can look at all the repository's for user joelgrus, `Data Science from Scratch` author.\n",
    "\n",
    "The API documentation specifies the form of the query: \n",
    "`GET /users/:username/repos`\n",
    "\n",
    "https://docs.github.com/en/rest/repos/repos?apiVersion=2022-11-28#list-repositories-for-a-user"
   ]
  },
  {
   "cell_type": "code",
   "execution_count": null,
   "id": "ef0a08ba",
   "metadata": {
    "colab": {
     "base_uri": "https://localhost:8080/"
    },
    "id": "rvA1DRFzMtsB",
    "outputId": "d6d6d927-a847-471a-949e-c91498e89e0d",
    "tags": []
   },
   "outputs": [],
   "source": [
    "resp = requests.get('https://api.github.com/users/joelgrus/repos')\n",
    "resp"
   ]
  },
  {
   "cell_type": "code",
   "execution_count": null,
   "id": "99ab0e87",
   "metadata": {
    "colab": {
     "base_uri": "https://localhost:8080/"
    },
    "id": "NT7iD7K8MtsJ",
    "outputId": "af1b273e-0f5c-4fa5-fdb1-1775860606bb",
    "scrolled": true,
    "tags": []
   },
   "outputs": [],
   "source": [
    "repos = json.loads(resp.text)\n",
    "repos"
   ]
  },
  {
   "cell_type": "markdown",
   "id": "f25533d2",
   "metadata": {},
   "source": [
    "To pretty print the information we again make use of the `dumps()` function with the indent argument. "
   ]
  },
  {
   "cell_type": "code",
   "execution_count": null,
   "id": "5eb59107",
   "metadata": {
    "tags": []
   },
   "outputs": [],
   "source": [
    "repos_obj = json.dumps(repos, indent=2) # alternatively call json.dumps(repos, indent=2)\n",
    "print(repos_obj)"
   ]
  },
  {
   "cell_type": "code",
   "execution_count": null,
   "id": "7951a6a0",
   "metadata": {
    "colab": {
     "base_uri": "https://localhost:8080/"
    },
    "id": "OUmS0ANoYGIj",
    "outputId": "3dbeccea-f7ec-415b-ba59-baf0b9f9806c",
    "tags": []
   },
   "outputs": [],
   "source": [
    "len(repos)"
   ]
  },
  {
   "cell_type": "code",
   "execution_count": null,
   "id": "5829d28c",
   "metadata": {
    "colab": {
     "base_uri": "https://localhost:8080/",
     "height": 168
    },
    "id": "5AbAAoNvvhfY",
    "outputId": "06a1c6d5-03f0-4e01-97ab-11a3aeb89c69",
    "tags": []
   },
   "outputs": [],
   "source": []
  },
  {
   "cell_type": "code",
   "execution_count": null,
   "id": "59b0434e",
   "metadata": {
    "colab": {
     "base_uri": "https://localhost:8080/"
    },
    "id": "3Aaa5CDtvsho",
    "outputId": "e48532d2-f510-4a60-f470-7103b74be887",
    "tags": []
   },
   "outputs": [],
   "source": []
  },
  {
   "cell_type": "markdown",
   "id": "3f0946d4",
   "metadata": {
    "id": "Uc5ojVtRMtsM"
   },
   "source": [
    "At this point `repos` is a list of Python `dicts`, each representing a public repository in Joel Grus's GitHub account. (Feel free to substitute your username and get your GitHub repository data instead.)\n"
   ]
  },
  {
   "cell_type": "markdown",
   "id": "8ce5ee46",
   "metadata": {
    "id": "QKBC7I2qMtsN"
   },
   "source": [
    "Let's look at the languages in the 5 most recently created repositories. "
   ]
  },
  {
   "cell_type": "code",
   "execution_count": null,
   "id": "fa51b357",
   "metadata": {
    "colab": {
     "base_uri": "https://localhost:8080/"
    },
    "id": "vWcY_PimMtsO",
    "outputId": "f89e9a74-198e-4caf-f3c0-af2a7d441880",
    "tags": []
   },
   "outputs": [],
   "source": []
  },
  {
   "cell_type": "code",
   "execution_count": null,
   "id": "279d73ed",
   "metadata": {
    "tags": []
   },
   "outputs": [],
   "source": []
  },
  {
   "cell_type": "code",
   "execution_count": null,
   "id": "00ddc0d7",
   "metadata": {
    "colab": {
     "base_uri": "https://localhost:8080/"
    },
    "id": "RYRE6jC4MtsS",
    "outputId": "f6d032af-a6ac-4d05-af79-f30ba986b448",
    "tags": []
   },
   "outputs": [],
   "source": []
  },
  {
   "cell_type": "markdown",
   "id": "7b800534",
   "metadata": {
    "id": "lUq0qJATMtsW"
   },
   "source": [
    "We could also specify certain parameters, e.g., whether you are a owner or member. "
   ]
  },
  {
   "cell_type": "code",
   "execution_count": null,
   "id": "fbbb7e89",
   "metadata": {
    "colab": {
     "base_uri": "https://localhost:8080/"
    },
    "id": "lUgMwQOqMtsZ",
    "outputId": "e52fdbbf-d1ac-43e9-c847-5693c07945f2",
    "scrolled": true,
    "tags": []
   },
   "outputs": [],
   "source": [
    "resp = requests.get('https://api.github.com/users/joelgrus/repos?type=member')\n",
    "repos2 = json.loads(resp.text)\n",
    "print(len(repos2))\n",
    "repos2"
   ]
  },
  {
   "cell_type": "markdown",
   "id": "698936b3",
   "metadata": {
    "id": "bxdRP3o8Mtsb"
   },
   "source": [
    "If we look at the url: \n",
    "https://api.github.com/users/joelgrus/repos?type=member\n",
    "\n",
    "`repos` is the endpoint, we use the `?` symbol to apply the constraints or specify the parameters. \n",
    "\n",
    "We could do the same with the following code. \n",
    "\n",
    "Look at the parameter options in the documentation: \n",
    "https://docs.github.com/en/rest/repos/repos?apiVersion=2022-11-28#list-repositories-for-a-user"
   ]
  },
  {
   "cell_type": "code",
   "execution_count": null,
   "id": "d4025565",
   "metadata": {
    "colab": {
     "base_uri": "https://localhost:8080/"
    },
    "id": "1T1e2RoyMtsb",
    "outputId": "807fd08a-a787-43c8-856a-a02f63a8ae4d",
    "scrolled": true,
    "tags": []
   },
   "outputs": [],
   "source": [
    "params = {\"type\": \"member\"}\n",
    "resp = requests.get('https://api.github.com/users/joelgrus/repos', params)\n",
    "repos2 = json.loads(resp.text)\n",
    "repos2"
   ]
  },
  {
   "cell_type": "markdown",
   "id": "6dc95079",
   "metadata": {
    "id": "ykEN9jQ8xHTD"
   },
   "source": [
    "#### Other endpoints \n",
    "\n",
    "Many other pieces of information can be received using the API, looking at other end points. \n",
    "\n",
    "For instance, we can download a single repository. [Github API documentation](https://docs.github.com/en/free-pro-team@latest/rest/reference/repos#get-a-repository)\n",
    "\n",
    "\n",
    "\n"
   ]
  },
  {
   "cell_type": "code",
   "execution_count": null,
   "id": "75d87bf8",
   "metadata": {
    "colab": {
     "base_uri": "https://localhost:8080/"
    },
    "id": "qAgdSnW6xbY-",
    "outputId": "4f1e4a2f-9160-4c51-fc72-a16b8816bbf9",
    "scrolled": true,
    "tags": []
   },
   "outputs": [],
   "source": [
    "resp = requests.get('https://api.github.com/repos/octocat/hello-world')\n",
    "repos3 = json.loads(resp.text)\n",
    "repos3"
   ]
  },
  {
   "cell_type": "markdown",
   "id": "bb901649",
   "metadata": {
    "id": "BEMzv3zjMtsn"
   },
   "source": [
    "### Another example with GitHub API\n",
    "\n",
    "Here we are looking at the issues for a given repository: \n",
    "https://docs.github.com/en/free-pro-team@latest/rest/reference/issues#list-repository-issues\n",
    "\n",
    "We are also making use of the `pandas` `read_json` command to directly read the JSON output from the API into a dataframe. https://pandas.pydata.org/pandas-docs/stable/reference/api/pandas.read_json.html"
   ]
  },
  {
   "cell_type": "code",
   "execution_count": null,
   "id": "ddd43069",
   "metadata": {
    "id": "5JZHD4IjMtsn",
    "tags": []
   },
   "outputs": [],
   "source": [
    "df = pd.read_json('https://api.github.com/repos/pydata/pandas/issues?per_page=5')"
   ]
  },
  {
   "cell_type": "code",
   "execution_count": null,
   "id": "946f5482",
   "metadata": {
    "colab": {
     "base_uri": "https://localhost:8080/",
     "height": 202
    },
    "id": "FXzVbh9LMtss",
    "outputId": "611fb78f-319a-4538-e5fc-d10005f2578d",
    "tags": []
   },
   "outputs": [],
   "source": [
    "df[['created_at', 'title', 'body', 'comments']]"
   ]
  },
  {
   "cell_type": "code",
   "execution_count": null,
   "id": "92f3d329",
   "metadata": {
    "colab": {
     "base_uri": "https://localhost:8080/",
     "height": 160
    },
    "id": "mAuFa_u6Mtsv",
    "outputId": "855701e0-c2b3-46ad-c5fe-bd4f81445c4d",
    "tags": []
   },
   "outputs": [],
   "source": [
    "res = df[['created_at', 'title', 'body', 'comments']].head()\n",
    "res.to_json()"
   ]
  },
  {
   "cell_type": "code",
   "execution_count": null,
   "id": "b978c743",
   "metadata": {
    "colab": {
     "base_uri": "https://localhost:8080/"
    },
    "id": "XeqvaMzFMts3",
    "outputId": "44e910b5-7454-4071-e70a-72aec58a446f",
    "tags": []
   },
   "outputs": [],
   "source": [
    "df.keys()"
   ]
  },
  {
   "cell_type": "markdown",
   "id": "3e118ad2",
   "metadata": {
    "id": "__y9o3cZMts9"
   },
   "source": [
    "#### Finding APIs\n",
    "\n",
    "If you need data from a specific site, look for a developers or API section of the site for details, and try searching the Web for “python __ api” to find a library."
   ]
  },
  {
   "cell_type": "markdown",
   "id": "4098646a",
   "metadata": {
    "id": "gnCccvyCMts-"
   },
   "source": [
    "If you’re looking for lists of APIs that have Python wrappers, two directories are at [Python for Beginners](http://bit.ly/1L35VOR).\n"
   ]
  },
  {
   "cell_type": "code",
   "execution_count": null,
   "id": "8a6c66bb",
   "metadata": {
    "id": "1XHC5t7eMtw0"
   },
   "outputs": [],
   "source": []
  }
 ],
 "metadata": {
  "kernelspec": {
   "display_name": "Python [conda env:un5550] *",
   "language": "python",
   "name": "conda-env-un5550-py"
  },
  "language_info": {
   "codemirror_mode": {
    "name": "ipython",
    "version": 3
   },
   "file_extension": ".py",
   "mimetype": "text/x-python",
   "name": "python",
   "nbconvert_exporter": "python",
   "pygments_lexer": "ipython3",
   "version": "3.10.12"
  }
 },
 "nbformat": 4,
 "nbformat_minor": 5
}

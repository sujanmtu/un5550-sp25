{
 "cells": [
  {
   "cell_type": "markdown",
   "id": "bf9e7c3d",
   "metadata": {
    "id": "xkSPSg4UeCMA"
   },
   "source": [
    "# Regular Expressions\n",
    "\n"
   ]
  },
  {
   "cell_type": "markdown",
   "id": "74dd93dd",
   "metadata": {
    "id": "lX6cWv-0fUuj"
   },
   "source": [
    "## References\n",
    "\n",
    "* Introducing Regular Expressions, by Michael Fitzgerald, 2012 \n",
    "* https://www.tutorialspoint.com/python/python_reg_expressions.htm\n",
    "* https://www.machinelearningplus.com/python/python-regex-tutorial-examples/\n",
    "* https://regexone.com\n",
    "* https://www.rexegg.com"
   ]
  },
  {
   "cell_type": "markdown",
   "id": "1d4acf73",
   "metadata": {
    "id": "p901y5MVfv2f"
   },
   "source": [
    "## What is a Regular Expression?\n",
    "\n",
    "**Regular expressions** are specially encoded strings that can be used as patterns or match sets of strings.  For regular expressions, everything is essentially a character.  We will write patterns to match specific sequences of characters (strings).  Mostly, we will focus on normal ASCII characters - letters, digits, punctuations, other symbols, but we can also use unicode characters. \n",
    "\n",
    "Regular expressions are important in base Unix operating systems commands, `ed`, `sed`, `awk`, `grep`, etc.  \n",
    "\n",
    "Regular expressions are implemented in almost every modern computer language: JavaScript, Java, C/C++, C#, Perl, Ruby, R, etc.  In Python, we will use the module `re`. \n",
    "\n",
    "You can test many of the examples presented directly in the Jupyter notebook or can use other resources, e.g., the Regexpal website https://www.regexpal.com. \n",
    "\n",
    "I am going to skip over the formal theory about regular expressions (comes from formal language theory), and instead walk you through a set of examples to give you practice learning and using regular expressions.  "
   ]
  },
  {
   "cell_type": "markdown",
   "id": "4d433761",
   "metadata": {
    "id": "-8wWc7jIgDln"
   },
   "source": [
    "## Regular Expression Syntax\n",
    "\n",
    "\n",
    "| Regex syntex  |  Meaning   |\n",
    "|:--------------|:-----------|\n",
    "| [abc]         | a single character of: a, b, or c  | \n",
    "| [^abc]        | none of these characters | \n",
    "| [a-z]         | any character in this range |\n",
    "| [^a-z]        | none of the characters in this range | \n",
    "| .             | any single character | \n",
    "| \\\\.           | a period  | \n",
    "| [123]         | matches only 1 or 2 or 3 | \n",
    "| [0-9]         | matches numbers 0 to 9 | \n",
    "| \\d            | any digit | \n",
    "| \\D            | any non-digit character | \n",
    "| \\w            | any alphanumeric character | \n",
    "| \\W            | any non-alphanumeric character | \n",
    "| \\s            | white space | \n",
    "| \\S            | non-white space | \n",
    "| *             | zero or more repetitions | \n",
    "| +             | one or more repetitions |\n",
    "| {m}           | m repetitions | \n",
    "| {m,n}         | m - n repetitions | "
   ]
  },
  {
   "cell_type": "markdown",
   "id": "300fcb4f",
   "metadata": {
    "id": "QoNWaVCChHBt"
   },
   "source": [
    "# Examples \n",
    "\n",
    "First, import the `re` module."
   ]
  },
  {
   "cell_type": "code",
   "execution_count": null,
   "id": "a158cd41",
   "metadata": {
    "id": "D0r9jgNmewI_",
    "tags": []
   },
   "outputs": [],
   "source": [
    "import re"
   ]
  },
  {
   "cell_type": "markdown",
   "id": "bcb521a7",
   "metadata": {
    "id": "98nU8lxahOgO"
   },
   "source": [
    "## Example 1 - Match North American Phone Number\n",
    "\n",
    "Let's work to match a North American phone number with a regular expression, e.g., 555-123-4567"
   ]
  },
  {
   "cell_type": "code",
   "execution_count": null,
   "id": "ebf9b9d1",
   "metadata": {
    "id": "VQ1qb2ZXfiA3",
    "tags": []
   },
   "outputs": [],
   "source": [
    "pnum = '555-123-4567'"
   ]
  },
  {
   "cell_type": "markdown",
   "id": "3e008586",
   "metadata": {
    "id": "6HQTDUJyhjv4"
   },
   "source": [
    "We will start with using the function `re.match()`\n",
    "\n",
    "The syntax of the function is `re.match(pattern, string, flags=0)`"
   ]
  },
  {
   "cell_type": "code",
   "execution_count": null,
   "id": "99209a98",
   "metadata": {
    "colab": {
     "base_uri": "https://localhost:8080/"
    },
    "id": "c5LZbtGqhvq_",
    "outputId": "a8164f67-78e6-4f2c-fa02-e996190a3d64",
    "tags": []
   },
   "outputs": [],
   "source": [
    "match_obj = re.match('555-123-4567', pnum)\n",
    "\n",
    "if match_obj: \n",
    "  print(\"The pattern matched\")\n",
    "else: \n",
    "  print(\"The pattern did not match\")"
   ]
  },
  {
   "cell_type": "code",
   "execution_count": null,
   "id": "9095a767",
   "metadata": {
    "colab": {
     "base_uri": "https://localhost:8080/",
     "height": 35
    },
    "id": "YIglY-3GiIMD",
    "outputId": "0a08c7ad-f78f-4d27-c38c-eef7762984b8",
    "tags": []
   },
   "outputs": [],
   "source": [
    "match_obj.group()"
   ]
  },
  {
   "cell_type": "markdown",
   "id": "e9be6316",
   "metadata": {
    "id": "7CcsRf1aiRbE"
   },
   "source": [
    "This match is a string literal, we match the string directly in the target text. \n",
    "\n",
    "Usually, we want to match many possible inputs, what if the phone number was 906-555-1234 or 906-555-9876 or ..."
   ]
  },
  {
   "cell_type": "markdown",
   "id": "7e10c06c",
   "metadata": {
    "id": "MfumDXe-ilR8"
   },
   "source": [
    "### Match Digits with a Character Class\n",
    "\n",
    "Let's change the regular expression to match all numbers in the phone number at once. \n",
    "\n"
   ]
  },
  {
   "cell_type": "code",
   "execution_count": null,
   "id": "f06a022c",
   "metadata": {
    "colab": {
     "base_uri": "https://localhost:8080/",
     "height": 35
    },
    "id": "3k7h7oWhikdk",
    "outputId": "aa347407-a959-4919-f9ee-f606fb7506c0",
    "tags": []
   },
   "outputs": [],
   "source": [
    "m = re.match('[0123456789]', pnum)\n",
    "m.group()"
   ]
  },
  {
   "cell_type": "code",
   "execution_count": null,
   "id": "dd6542fb",
   "metadata": {
    "colab": {
     "base_uri": "https://localhost:8080/",
     "height": 35
    },
    "id": "yehbuLwii6JT",
    "outputId": "ea56248d-0148-4066-fb46-7b85fb1e737b",
    "tags": []
   },
   "outputs": [],
   "source": [
    "m = re.match('[13579]', pnum)\n",
    "m.group()"
   ]
  },
  {
   "cell_type": "code",
   "execution_count": null,
   "id": "c25dc317",
   "metadata": {
    "colab": {
     "base_uri": "https://localhost:8080/",
     "height": 35
    },
    "id": "XwDXaJByjEvD",
    "outputId": "e7da241f-978b-4e92-9577-e227e2b65822",
    "tags": []
   },
   "outputs": [],
   "source": [
    "m = re.match('[13579][13579]', pnum)\n",
    "m.group()"
   ]
  },
  {
   "cell_type": "code",
   "execution_count": null,
   "id": "f6938aa8",
   "metadata": {
    "id": "YcXfe3E5jUkz",
    "tags": []
   },
   "outputs": [],
   "source": []
  },
  {
   "cell_type": "code",
   "execution_count": null,
   "id": "88a6eebf",
   "metadata": {
    "colab": {
     "base_uri": "https://localhost:8080/"
    },
    "id": "m91kksRHjUNF",
    "outputId": "a0693071-4898-438e-9552-c857f22c198e",
    "tags": []
   },
   "outputs": [],
   "source": []
  },
  {
   "cell_type": "markdown",
   "id": "62ee6ead",
   "metadata": {
    "id": "SbC-FC2HjVhz"
   },
   "source": [
    "To match any 10-digit, North American phone number with hyphens, you could do the following: "
   ]
  },
  {
   "cell_type": "code",
   "execution_count": null,
   "id": "8bd78521",
   "metadata": {
    "colab": {
     "base_uri": "https://localhost:8080/",
     "height": 35
    },
    "id": "zq0MmkjTjfib",
    "outputId": "1c5aa1d0-6066-455b-991e-07650e93f560",
    "tags": []
   },
   "outputs": [],
   "source": [
    "m = re.match('[0-9][0-9][0-9]-[0-9][0-9][0-9]-[0-9][0-9][0-9][0-9]', pnum)\n",
    "m.group()"
   ]
  },
  {
   "cell_type": "markdown",
   "id": "63f90b5b",
   "metadata": {
    "id": "_sNRoVctjueF"
   },
   "source": [
    "### Using a Character Shorthand\n",
    "\n",
    "We can use the shorthand `\\d` to match digits just like [0-9]. "
   ]
  },
  {
   "cell_type": "code",
   "execution_count": null,
   "id": "3949d69d",
   "metadata": {
    "colab": {
     "base_uri": "https://localhost:8080/",
     "height": 35
    },
    "id": "z5Sx0sIhj5Xm",
    "outputId": "05a48c3d-5f2c-4dc9-ca67-72eb4b8ed719",
    "tags": []
   },
   "outputs": [],
   "source": [
    "m = re.match(r'\\d\\d\\d-\\d\\d\\d-\\d\\d\\d\\d', pnum)\n",
    "m.group()"
   ]
  },
  {
   "cell_type": "markdown",
   "id": "1634c282",
   "metadata": {
    "id": "Sz8fG2p0kCyJ"
   },
   "source": [
    "Note, we introduced raw string notation (`r\"text\"`) above.  This notation helps ease the use of regular expressions.  Otherwise, the backslash, `\\` would need to be repeated be recognized. \n",
    "\n",
    "We could also change the expression to match not just a hyphen but any character that is not a digit using the `\\D` syntax."
   ]
  },
  {
   "cell_type": "code",
   "execution_count": null,
   "id": "6cc1a490",
   "metadata": {
    "id": "iE6YUOabkA_V",
    "tags": []
   },
   "outputs": [],
   "source": [
    "pnum2 = '906 555 1234'"
   ]
  },
  {
   "cell_type": "code",
   "execution_count": null,
   "id": "5c717af0",
   "metadata": {
    "colab": {
     "base_uri": "https://localhost:8080/",
     "height": 35
    },
    "id": "wIu6U37BkSE5",
    "outputId": "adff941c-756d-4a10-f1b9-a5be9bae0099",
    "tags": []
   },
   "outputs": [],
   "source": [
    "m = re.match(r'\\d\\d\\d\\D\\d\\d\\d\\D\\d\\d\\d\\d', pnum)\n",
    "m.group()"
   ]
  },
  {
   "cell_type": "code",
   "execution_count": null,
   "id": "817a14be",
   "metadata": {
    "colab": {
     "base_uri": "https://localhost:8080/",
     "height": 35
    },
    "id": "JipFEz4Jkf0p",
    "outputId": "969e591a-9e49-45f7-92fb-faf99c8c5078",
    "tags": []
   },
   "outputs": [],
   "source": [
    "m2 = re.match(r'\\d\\d\\d\\D\\d\\d\\d\\D\\d\\d\\d\\d', pnum2)\n",
    "m2.group()"
   ]
  },
  {
   "cell_type": "markdown",
   "id": "588faca9",
   "metadata": {
    "id": "Rk_Y8sSvkr-X"
   },
   "source": [
    "### Capturing Groups and Back References\n",
    "\n",
    "Let's now match just a portion of the phone number using a *capturing group*.  To create a capturing group enclose a `\\d` in parentheses to place it in a group, then follow it with a `\\1` to backreference what was captured: "
   ]
  },
  {
   "cell_type": "code",
   "execution_count": null,
   "id": "a160c4af",
   "metadata": {
    "colab": {
     "base_uri": "https://localhost:8080/",
     "height": 35
    },
    "id": "3Z83kJNbkiIs",
    "outputId": "3bc6351d-245f-4f3a-9a8c-6408325361f6",
    "tags": []
   },
   "outputs": [],
   "source": [
    "m = re.match(r'(\\d)\\d\\1', '707')\n",
    "m.group()"
   ]
  },
  {
   "cell_type": "markdown",
   "id": "4109b2e3",
   "metadata": {
    "id": "a1l2qtxWlJcY"
   },
   "source": [
    "In the above expression, the `\\1` refers back to what was captured in the group enclosed by parentheses.  As a result, this regular expression matches the prefix `707`.  Here is how: \n",
    "\n",
    "* `(\\d)` matches the first digit and captures it (the number 7)\n",
    "* `\\d` matches the next digit (the number 0) \n",
    "* `\\1` references the captured digit (the number 7)  "
   ]
  },
  {
   "cell_type": "code",
   "execution_count": null,
   "id": "4b0adadc-1738-4327-94e1-2c57ed79d9f0",
   "metadata": {
    "tags": []
   },
   "outputs": [],
   "source": [
    "pnum2"
   ]
  },
  {
   "cell_type": "code",
   "execution_count": null,
   "id": "a31fc7f7",
   "metadata": {
    "colab": {
     "base_uri": "https://localhost:8080/",
     "height": 181
    },
    "id": "GJhOnjTRk9yK",
    "outputId": "bcf2f14e-3eaa-4d40-ca42-a7413cb3c35e",
    "tags": []
   },
   "outputs": [],
   "source": [
    "m2 = re.match(r'(\\d)\\d\\1', pnum2)\n",
    "m2.group()"
   ]
  },
  {
   "cell_type": "markdown",
   "id": "6f7752ec",
   "metadata": {
    "id": "2KqPGWHqmZDF"
   },
   "source": [
    "Here we get an error because the pattern does not match! "
   ]
  },
  {
   "cell_type": "code",
   "execution_count": null,
   "id": "f16e4e72",
   "metadata": {
    "colab": {
     "base_uri": "https://localhost:8080/",
     "height": 35
    },
    "id": "CWyuR7rCmekn",
    "outputId": "bf2e7a7f-d5da-4835-a143-7c67a220b9a6",
    "tags": []
   },
   "outputs": [],
   "source": [
    "m2 = re.match(r'(\\d)\\d\\1', '909-555-1234')\n",
    "m2.group()"
   ]
  },
  {
   "cell_type": "markdown",
   "id": "88d144bc",
   "metadata": {
    "id": "PaUPgDdXmhfR"
   },
   "source": [
    "### Using Quantifiers\n",
    "\n",
    "Here is another way to match a phone number with a different syntax."
   ]
  },
  {
   "cell_type": "code",
   "execution_count": null,
   "id": "50a2fd65",
   "metadata": {
    "colab": {
     "base_uri": "https://localhost:8080/",
     "height": 35
    },
    "id": "MbIX_wLAmV2n",
    "outputId": "8c090fd6-882f-4e1a-e290-038a423859da",
    "tags": []
   },
   "outputs": [],
   "source": [
    "m = re.match(r'\\d{3}-?\\d{3}-?\\d{4}', pnum)\n",
    "m.group()"
   ]
  },
  {
   "cell_type": "markdown",
   "id": "e5be8684",
   "metadata": {
    "id": "HUX9BqXwmyM3"
   },
   "source": [
    "The numbers in the curly braces `{` `}` tell the regex processor *exactly* how many occurances of those digits to look for.  The braces with numbers are a kind of *quantifier*.  \n",
    "\n",
    "The question mark (`?`) is another kind of quantifier.  It follows the hyphen in the regular expression and means the hyphen is optional.  That is, there can be zero or one occurrence of the hyphen.  Other quantifiers exists: the `+` plus sign means \"one or more\" or the `*` asterisk means \"zero or more\". \n",
    "\n",
    "Test the above regex pattern on other phone number styles."
   ]
  },
  {
   "cell_type": "code",
   "execution_count": null,
   "id": "a883f6ef",
   "metadata": {
    "colab": {
     "base_uri": "https://localhost:8080/",
     "height": 35
    },
    "id": "kHldDyAYmxsL",
    "outputId": "91f2ac8f-c25a-43dd-8668-857af4e94c1f",
    "tags": []
   },
   "outputs": [],
   "source": [
    "m3 = re.match(r'\\d{3}-?\\d{3}-?\\d{4}', '9065551234')\n",
    "m3.group()"
   ]
  },
  {
   "cell_type": "code",
   "execution_count": null,
   "id": "c614c797",
   "metadata": {
    "colab": {
     "base_uri": "https://localhost:8080/",
     "height": 35
    },
    "id": "RBr1kLEamwgS",
    "outputId": "1de65e08-5b7e-4c0a-c299-6a728688a4a3",
    "tags": []
   },
   "outputs": [],
   "source": []
  },
  {
   "cell_type": "code",
   "execution_count": null,
   "id": "87d9d1c0",
   "metadata": {
    "colab": {
     "base_uri": "https://localhost:8080/",
     "height": 35
    },
    "id": "lH27VyuJnVrl",
    "outputId": "fb0e947d-14f9-49ed-c098-736757408912",
    "tags": []
   },
   "outputs": [],
   "source": []
  },
  {
   "cell_type": "markdown",
   "id": "776b1f71",
   "metadata": {
    "id": "rjrrGiiLnWV4"
   },
   "source": [
    "Let's look at an even more concise (but more complicated regex pattern)."
   ]
  },
  {
   "cell_type": "code",
   "execution_count": null,
   "id": "45f50ced",
   "metadata": {
    "colab": {
     "base_uri": "https://localhost:8080/",
     "height": 35
    },
    "id": "DQ4TPoepnlpc",
    "outputId": "b2a2cee5-9f83-4ab3-a5a4-8b5946b840c3",
    "tags": []
   },
   "outputs": [],
   "source": [
    "m = re.match(r'(\\d{3,4}[.-]?)+', pnum)\n",
    "m.group()"
   ]
  },
  {
   "cell_type": "markdown",
   "id": "b31c5c6f",
   "metadata": {
    "id": "-namNeLTnvUD"
   },
   "source": [
    "We can break this down: \n",
    "\n",
    "* `(` opens a capturing group \n",
    "* `\\` start character shorthand \n",
    "* `d` end character shorthand (match any digit) \n",
    "* `{` open quantifier \n",
    "* `3` minimum quantity to match \n",
    "* `,` separate quantities \n",
    "* `4` maximum quantity to match \n",
    "* `}` close quantifier \n",
    "* `[` open character class \n",
    "* `.` dot or period \n",
    "* `-` literal character to match - hyphen \n",
    "* `]` close character class \n",
    "* `?` zero or one quantifier \n",
    "* `)` close capturing group \n",
    "* `+` one or more quantifier \n",
    "\n",
    "This works, but would also match other groups of 3 or 4 digits."
   ]
  },
  {
   "cell_type": "code",
   "execution_count": null,
   "id": "08a58714",
   "metadata": {
    "colab": {
     "base_uri": "https://localhost:8080/",
     "height": 35
    },
    "id": "zoFgOLpon1_G",
    "outputId": "4c4d6f55-a109-47ac-b806-cbb550ba477e",
    "tags": []
   },
   "outputs": [],
   "source": [
    "m = re.match(r'(\\d{3,4}[.-]?)+', pnum)\n",
    "m.group()"
   ]
  },
  {
   "cell_type": "code",
   "execution_count": null,
   "id": "5044eab2",
   "metadata": {
    "id": "GDILwav_9SSM",
    "tags": []
   },
   "outputs": [],
   "source": [
    "pnum3 = \"1234-1234-1234\""
   ]
  },
  {
   "cell_type": "code",
   "execution_count": null,
   "id": "e41810ec",
   "metadata": {
    "colab": {
     "base_uri": "https://localhost:8080/",
     "height": 35
    },
    "id": "F4EAUDQWnnak",
    "outputId": "a17c5af5-a19f-4fe8-df7e-a04e8442cc96",
    "tags": []
   },
   "outputs": [],
   "source": [
    "pnum3 = \"1234-1234-1234\"\n",
    "m = re.match(r'(\\d{3,4}[.-]?)+', pnum3)\n",
    "m.group()"
   ]
  },
  {
   "cell_type": "markdown",
   "id": "3aa5b93a",
   "metadata": {
    "id": "7ojTOnsRoFGy"
   },
   "source": [
    "### Matches and Non-match cases\n",
    "\n",
    "For some problems, we want to match certain strings but also not match others. \n",
    "\n",
    "Below are a couple lines, where we only want to match the first three strings, but not the last three strings.\n",
    "\n",
    "* fan\n",
    "* man \n",
    "* can \n",
    "* dan \n",
    "* ran\n",
    "* pan "
   ]
  },
  {
   "cell_type": "code",
   "execution_count": null,
   "id": "8e97433b",
   "metadata": {
    "colab": {
     "base_uri": "https://localhost:8080/"
    },
    "id": "6GZB7FZWnqav",
    "outputId": "df10a181-0b5d-4459-d1bd-8d1e4fad6a20",
    "tags": []
   },
   "outputs": [],
   "source": [
    "ex_strs = (\"fan\", \"man\", \"can\", \"dan\", \"ran\", \"pan\")\n",
    "for elem in ex_strs:\n",
    "    m = re.match(\"[fmc]an\", elem)\n",
    "    if m:\n",
    "        print(m.group())"
   ]
  },
  {
   "cell_type": "markdown",
   "id": "34e2c0a2",
   "metadata": {
    "id": "zTxJoa4MocRt"
   },
   "source": [
    "Or, alternatively ..."
   ]
  },
  {
   "cell_type": "code",
   "execution_count": null,
   "id": "4fe76bc2",
   "metadata": {
    "colab": {
     "base_uri": "https://localhost:8080/"
    },
    "id": "Z4ciCAKioak1",
    "outputId": "c990bdb5-57c7-4009-9c94-df577b314195",
    "tags": []
   },
   "outputs": [],
   "source": [
    "for elem in ex_strs:\n",
    "    m = re.match(\"[^drp]an\", elem)\n",
    "    if m: \n",
    "        print (m.group())"
   ]
  },
  {
   "cell_type": "markdown",
   "id": "d3d53847",
   "metadata": {
    "id": "Th2GsQJuolG0"
   },
   "source": [
    "Let's now us this in the phone number example. "
   ]
  },
  {
   "cell_type": "code",
   "execution_count": null,
   "id": "9dda26be",
   "metadata": {
    "colab": {
     "base_uri": "https://localhost:8080/"
    },
    "id": "FiyuWnD2ojPb",
    "outputId": "134b51c4-9337-4fa7-de3f-8d55d5d538ea",
    "tags": []
   },
   "outputs": [],
   "source": [
    "m = re.match(r'(\\d{3}[.-]?){2}\\d{4}', pnum)\n",
    "if m:\n",
    "    print(m.group())\n",
    "else:\n",
    "    print(\"No match\")"
   ]
  },
  {
   "cell_type": "code",
   "execution_count": null,
   "id": "4c7aefec",
   "metadata": {
    "colab": {
     "base_uri": "https://localhost:8080/"
    },
    "id": "qWmfKzqJoqJK",
    "outputId": "bf746079-cf60-4849-c2ea-ccfcf3c2cf59",
    "tags": []
   },
   "outputs": [],
   "source": [
    "m = re.match(r'(\\d{3}[.-]?){2}\\d{4}', pnum3)\n",
    "if m:\n",
    "    print(m.group())\n",
    "else:\n",
    "    print(\"No match\")"
   ]
  },
  {
   "cell_type": "markdown",
   "id": "cbe2cbd4",
   "metadata": {
    "id": "-e3MAADkoxg_"
   },
   "source": [
    "This will match two nonparenthesized sequences of three digits each, followed by an optional hyphen, and then followed by exactly four digits."
   ]
  },
  {
   "cell_type": "markdown",
   "id": "d7e53f24",
   "metadata": {
    "id": "KWK0ECdxo-eQ"
   },
   "source": [
    "## Example 2 - Pattern Matching \n",
    "\n",
    "Let us load in a text to work with.  We will use \"The Rime of the Ancient Mariner\" by Samuel Taylor Coleridge, first published in Lyrical Ballads (London, J. & A. Arch, 1978). \n",
    "\n",
    "The plain text version is available in `rime-intro.txt`."
   ]
  },
  {
   "cell_type": "code",
   "execution_count": null,
   "id": "0aced80e",
   "metadata": {
    "id": "b4-3Zvt7os8K",
    "tags": []
   },
   "outputs": [],
   "source": [
    "# Read in the text\n",
    "with open('data/rime-intro.txt', 'r') as f:\n",
    "    rime = f.readlines()\n",
    "\n",
    "f.close()"
   ]
  },
  {
   "cell_type": "code",
   "execution_count": null,
   "id": "f243514e",
   "metadata": {
    "colab": {
     "base_uri": "https://localhost:8080/"
    },
    "id": "8IrI-eYvq-U9",
    "outputId": "489749d6-fe61-486c-e0bb-21aa6a301e84",
    "tags": []
   },
   "outputs": [],
   "source": [
    "rime"
   ]
  },
  {
   "cell_type": "markdown",
   "id": "d23e8dfc",
   "metadata": {
    "id": "0Q-GTIcQr84Q"
   },
   "source": [
    "### Matching String Literals\n",
    "\n",
    "First, let's match string literals.  For instance, to find the match to Ship, search for \"Ship\""
   ]
  },
  {
   "cell_type": "code",
   "execution_count": null,
   "id": "734950d8",
   "metadata": {
    "colab": {
     "base_uri": "https://localhost:8080/"
    },
    "id": "5os5YNm-roRr",
    "outputId": "1b8ee267-f1a9-4747-de66-dc542819c255",
    "tags": []
   },
   "outputs": [],
   "source": [
    "for line in rime:\n",
    "    #print (line)\n",
    "    m = re.search(r\"Ship\", line)\n",
    "    if m:\n",
    "        print(m.group())\n",
    "    else:\n",
    "        print(\"No match\")"
   ]
  },
  {
   "cell_type": "markdown",
   "id": "dd3e006c",
   "metadata": {
    "id": "isGdsk9Qsi5v"
   },
   "source": [
    "### Matching Digits \n",
    "\n",
    "The character shorthand `\\d` can be used to match digits, or a range of digits `[0-9]`."
   ]
  },
  {
   "cell_type": "code",
   "execution_count": null,
   "id": "87a846bf",
   "metadata": {
    "colab": {
     "base_uri": "https://localhost:8080/"
    },
    "id": "4FgrYEyYsPzu",
    "outputId": "d00135bd-c266-4180-8b84-1c61fb657d31",
    "tags": []
   },
   "outputs": [],
   "source": [
    "for line in rime:\n",
    "    #print (line)\n",
    "    m = re.search(r\"\\d\", line)\n",
    "    if m:\n",
    "        print(m.group())\n",
    "    else:\n",
    "        print(\"No match\")"
   ]
  },
  {
   "cell_type": "markdown",
   "id": "bb6801ee",
   "metadata": {
    "id": "S5eNUUqWs2pK"
   },
   "source": [
    "### <a name=\"ques1\"></a> Matching Word and Non-Word Characters\n",
    "\n",
    "Now consider the shorthand `\\w`.  Examine the difference between `\\D` and `\\w`. "
   ]
  },
  {
   "cell_type": "code",
   "execution_count": null,
   "id": "193cfdbe",
   "metadata": {
    "colab": {
     "base_uri": "https://localhost:8080/"
    },
    "id": "2Yr3YxkWsyLb",
    "outputId": "c650592f-d730-4731-ab66-bb81784f6562",
    "tags": []
   },
   "outputs": [],
   "source": [
    "for line in rime:\n",
    "    #print (line)\n",
    "    m = re.search(r\"\\D\", line)\n",
    "    if m:\n",
    "        print(m.group())\n",
    "    else:\n",
    "        print(\"No match\")"
   ]
  },
  {
   "cell_type": "code",
   "execution_count": null,
   "id": "7abc92fa",
   "metadata": {
    "colab": {
     "base_uri": "https://localhost:8080/",
     "height": 289
    },
    "id": "AG66C1MbtGv3",
    "outputId": "2f295a5a-d7f7-4c06-e1b5-1fff198016a9",
    "tags": []
   },
   "outputs": [],
   "source": [
    "for line in rime:\n",
    "    #print (line)\n",
    "    m = re.search(r\"\\w\", line)\n",
    "    if m:\n",
    "        print(m.group())\n",
    "    else:\n",
    "        print(\"No match\")"
   ]
  },
  {
   "cell_type": "markdown",
   "id": "62fde097",
   "metadata": {
    "id": "EE9X5xUMtMoH"
   },
   "source": [
    "What is different?  [Answer below](#ans1) "
   ]
  },
  {
   "cell_type": "markdown",
   "id": "19b33207",
   "metadata": {
    "id": "OyWk4-gpuSqT"
   },
   "source": [
    "### Matching Whitespace \n",
    "\n",
    "Whitespace is matched using the shorthand character `\\s`"
   ]
  },
  {
   "cell_type": "code",
   "execution_count": null,
   "id": "5c089c84",
   "metadata": {
    "colab": {
     "base_uri": "https://localhost:8080/"
    },
    "id": "QvhG8FcotIVt",
    "outputId": "996a1510-65c2-4ead-9ee4-f3322f874659",
    "tags": []
   },
   "outputs": [],
   "source": [
    "for line in rime:\n",
    "    #print (line)\n",
    "    m = re.search(r\"\\s\", line)\n",
    "    if m:\n",
    "        print(m.group())\n",
    "    else:\n",
    "        print(\"No match\")"
   ]
  },
  {
   "cell_type": "markdown",
   "id": "7f788be6",
   "metadata": {
    "id": "xNdYLq7FueMz"
   },
   "source": [
    "What does this mean?  Every single line of text has whitespace. \n",
    "\n",
    "What if we change the funciton used from `re.search` to `re.match`?"
   ]
  },
  {
   "cell_type": "code",
   "execution_count": null,
   "id": "965e5ffd",
   "metadata": {
    "colab": {
     "base_uri": "https://localhost:8080/"
    },
    "id": "4HK2tFhDuqJZ",
    "outputId": "84a17d45-8629-480d-cc3d-ffdce83b80ec",
    "tags": []
   },
   "outputs": [],
   "source": [
    "for line in rime:\n",
    "    #print (line)\n",
    "    m = re.match(r\"\\s\", line)\n",
    "    if m:\n",
    "        print(m.group())\n",
    "    else:\n",
    "        print(\"No match\")"
   ]
  },
  {
   "cell_type": "markdown",
   "id": "6c2b76d6",
   "metadata": {
    "id": "J8QwGeF0uuaA"
   },
   "source": [
    "This illustrates the difference between \n",
    "\n",
    "* [`re.search`](https://docs.python.org/3.7/library/re.html#re.search) which **scans** through the *string* for the first location of the *pattern* to match and returns the corresponding match object, and \n",
    "* [`re.match`](https://docs.python.org/3.7/library/re.html#re.match) which returns the match object if zero or more characters at the **beginning** of *string* match the *pattern*. "
   ]
  },
  {
   "cell_type": "markdown",
   "id": "7c587f62",
   "metadata": {
    "id": "Gn2wEMbfwus3"
   },
   "source": [
    "### Matching Any Character \n",
    "\n",
    "The `.` can be used to match any character. \n",
    "\n",
    "To match any 8 characters you could then use `........`. \n",
    "\n",
    "A better way would be to specify the number with a quantifier `.{8}`"
   ]
  },
  {
   "cell_type": "code",
   "execution_count": null,
   "id": "cc987268",
   "metadata": {
    "colab": {
     "base_uri": "https://localhost:8080/",
     "height": 289
    },
    "id": "qO4WDavVxDRJ",
    "outputId": "1614b0d3-af0b-439e-b8e7-44382992a503",
    "tags": []
   },
   "outputs": [],
   "source": [
    "for line in rime:\n",
    "    # Fix the pattern below?\n",
    "    m = re.search(r\".{8}\", line)\n",
    "    if m:\n",
    "        print(m.group())\n",
    "    else:\n",
    "        print(\"No match\")"
   ]
  },
  {
   "cell_type": "markdown",
   "id": "5d4b3fd1",
   "metadata": {
    "id": "FWmlTXpBxI1z"
   },
   "source": [
    "### <a name=\"ques2\"></a>Word Boundaries \n",
    "\n",
    "The shorthand `\\b` matches a word boundary, without consuming characters.  \n",
    "\n",
    "What does `\\bA.{5}t\\b` match?  [Answer below](#ans2) "
   ]
  },
  {
   "cell_type": "code",
   "execution_count": null,
   "id": "47683eaa",
   "metadata": {
    "colab": {
     "base_uri": "https://localhost:8080/",
     "height": 289
    },
    "id": "Azs7QF9exgzw",
    "outputId": "431a9aea-1882-42da-909e-91431ef3bed1",
    "tags": []
   },
   "outputs": [],
   "source": [
    "for line in rime:\n",
    "    # Fix the pattern below?\n",
    "    m = re.search(r\"\\bA.{5}t\\b\", line)\n",
    "    if m:\n",
    "        print(m.group())\n",
    "    else:\n",
    "        print(\"No match\")"
   ]
  },
  {
   "cell_type": "markdown",
   "id": "3db54b19",
   "metadata": {
    "id": "p_RmFgTLy2xR"
   },
   "source": [
    "### Match Arbitrary Number of Characters \n",
    "\n",
    "The Kleene Star `*` and Kleene Plus `+` allows to represent **0 or more** and **1 or more** of the character that it follows respectively. \n",
    "\n",
    "In the example, let's try to match the first three strings but skip the fourth. "
   ]
  },
  {
   "cell_type": "code",
   "execution_count": null,
   "id": "d08661ea",
   "metadata": {
    "colab": {
     "base_uri": "https://localhost:8080/"
    },
    "id": "RcKkdaMxy1tp",
    "outputId": "fd4d86d6-b8e0-452e-beac-d35736ef74d6",
    "tags": []
   },
   "outputs": [],
   "source": [
    "ex_strs = (\"aaaabcc\", \"aabbbc\", \"aaccc\", \"a\")\n",
    "for elem in ex_strs:\n",
    "    #print (elem)\n",
    "    m = re.match(\"a+b+c+\", elem)\n",
    "    if m: \n",
    "        print (elem + \"\\t\" + m.group())\n",
    "    else:\n",
    "        print (elem + \"\\t\" + \"No match\")"
   ]
  },
  {
   "cell_type": "code",
   "execution_count": null,
   "id": "55152124",
   "metadata": {
    "id": "5KCpU9G4zNtG"
   },
   "outputs": [],
   "source": []
  },
  {
   "cell_type": "markdown",
   "id": "c8cddbee",
   "metadata": {
    "id": "GOCKSi3pzP6R"
   },
   "source": [
    "### Optional Characters \n",
    "\n",
    "Another common quantifier is the `?` character, which denotes optionality. \n",
    "\n",
    "This allows you to match either zero or one of the preceding character or group. "
   ]
  },
  {
   "cell_type": "code",
   "execution_count": null,
   "id": "716062da",
   "metadata": {
    "colab": {
     "base_uri": "https://localhost:8080/"
    },
    "id": "lCXkCKs7zwq-",
    "outputId": "dc06347b-e6eb-40ae-bc5c-ef4b1b6c1964",
    "tags": []
   },
   "outputs": [],
   "source": [
    "ex_strs = (\"abc\", \"abcd\", \"ac\", \"ad\", \"bc\")\n",
    "for elem in ex_strs:\n",
    "    #print (elem)\n",
    "    m = re.match(\"ab?c\", elem)\n",
    "    if m: \n",
    "        print (elem + \"\\t\" + m.group())\n",
    "    else:\n",
    "        print (elem + \"\\t\" + \"No match\")"
   ]
  },
  {
   "cell_type": "code",
   "execution_count": null,
   "id": "d7b29267",
   "metadata": {
    "id": "8aKaBraqCVvr"
   },
   "outputs": [],
   "source": []
  },
  {
   "cell_type": "code",
   "execution_count": null,
   "id": "821b2c24",
   "metadata": {
    "id": "6jI8KISRCVbT"
   },
   "outputs": [],
   "source": []
  },
  {
   "cell_type": "markdown",
   "id": "e833bd81",
   "metadata": {
    "id": "Zq6VTdYwC4YH"
   },
   "source": [
    "## Additional Examples\n",
    "\n",
    "Complete the lessons.  https://regexone.com"
   ]
  },
  {
   "cell_type": "markdown",
   "id": "58857e62",
   "metadata": {
    "id": "2NK6auS0tf92"
   },
   "source": [
    "<hr>\n",
    "\n",
    "## Example Question Answers\n",
    "\n",
    "<a name=\"ans1\"></a>Back to Question [What is different between `\\D` and `\\w`?](#ques1)  \n",
    "\n",
    "* `\\D` matches whitespace, punctuation, quotation marks, hyphens, forward slashes, brackets, etc. \n",
    "* `\\w` matches letters and numbers\n",
    "\n",
    "In other words, `\\w` matches `\\[a-zA-Z0-9]`"
   ]
  },
  {
   "cell_type": "markdown",
   "id": "4ca6b0ab",
   "metadata": {
    "id": "mVvDSPAGyAlV"
   },
   "source": [
    "<a name=\"ans2\"></a>Back to Question [What does `\\bA.{5}t\\b` match?](#ques2)\n",
    "\n",
    "Ancyent \n",
    "* The shorthand `\\b` matches a word boundary, without consuming any characters.\n",
    "* The characters `A` and `t` also bound the sequence of characters.\n",
    "* .{5} matches any five characters.\n",
    "* Match another word boundary with `\\b`."
   ]
  },
  {
   "cell_type": "code",
   "execution_count": null,
   "id": "5368cb1b",
   "metadata": {
    "id": "NlU7_-l2yX_U"
   },
   "outputs": [],
   "source": []
  }
 ],
 "metadata": {
  "kernelspec": {
   "display_name": "Python [conda env:un5550] *",
   "language": "python",
   "name": "conda-env-un5550-py"
  },
  "language_info": {
   "codemirror_mode": {
    "name": "ipython",
    "version": 3
   },
   "file_extension": ".py",
   "mimetype": "text/x-python",
   "name": "python",
   "nbconvert_exporter": "python",
   "pygments_lexer": "ipython3",
   "version": "3.10.12"
  }
 },
 "nbformat": 4,
 "nbformat_minor": 5
}

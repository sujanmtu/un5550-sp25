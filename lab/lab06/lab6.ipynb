{
 "cells": [
  {
   "cell_type": "markdown",
   "id": "0cf4e2b7",
   "metadata": {
    "id": "N6Yirgh_ZmdR"
   },
   "source": [
    "# Lab 6 - Getting Data\n",
    "\n",
    "The topics of week 6 is getting data with web scraping. \n",
    "\n",
    "In this lab notebook you will gain experience webscraping data of various forms.\n",
    "\n",
    "We will be looking at various websites and using them to get information (these sites are selected because of their public informative nature). "
   ]
  },
  {
   "cell_type": "markdown",
   "id": "955281cd",
   "metadata": {},
   "source": [
    "## Lab Setup "
   ]
  },
  {
   "cell_type": "code",
   "execution_count": null,
   "id": "f4dac8bc-ad07-4909-a0b1-ffff69d8e903",
   "metadata": {},
   "outputs": [],
   "source": [
    "# Uncomment and run first run on cloud resources. \n",
    "!pip install html5lib lxml"
   ]
  },
  {
   "cell_type": "code",
   "execution_count": null,
   "id": "91642026",
   "metadata": {
    "id": "YVdDTDldbUrG",
    "tags": []
   },
   "outputs": [],
   "source": [
    "from bs4 import BeautifulSoup\n",
    "import requests \n",
    "import pandas as pd\n",
    "import numpy as np\n",
    "import re\n",
    "\n",
    "import os\n",
    "if os.environ[\"HOME\"]=='/home/jovyan':\n",
    "    !pip install --upgrade otter-grader\n",
    "    \n",
    "import otter\n",
    "grader = otter.Notebook()"
   ]
  },
  {
   "cell_type": "markdown",
   "id": "2edffc04",
   "metadata": {
    "deletable": false,
    "editable": false,
    "id": "gs41KLtpZ1tR"
   },
   "source": [
    "## Exercise 1 \n",
    "\n",
    "Identify the name of the data set most relevant to 'climate' on https://www.data.gov \n",
    "\n",
    "You will want to use the **url = https://catalog.data.gov/dataset?q=climate&sort=score+desc%2C+name+asc**.\n",
    "\n",
    "Then, you will use BeautifulSoup to parse the website to find the name of the data set.  "
   ]
  },
  {
   "cell_type": "code",
   "execution_count": null,
   "id": "f1e9d0a8",
   "metadata": {
    "id": "0VNObJxZYv5Q",
    "tags": []
   },
   "outputs": [],
   "source": [
    "# Identify the name of the data set most relevant to \"climate\" on data.gov\n",
    "# Use BeautifulSoup to parse the website to find the name of the data set. \n",
    "url = 'https://catalog.data.gov/dataset?q=climate&sort=score+desc%2C+name+asc'\n",
    "resp_q1 = requests.get(url) \n",
    "soup_q1 = BeautifulSoup(...)\n",
    "\n",
    "name = ...\n",
    "name"
   ]
  },
  {
   "cell_type": "code",
   "execution_count": null,
   "id": "65fcc08f",
   "metadata": {
    "deletable": false,
    "editable": false
   },
   "outputs": [],
   "source": [
    "grader.check(\"q1\")"
   ]
  },
  {
   "cell_type": "markdown",
   "id": "01af95c2-788e-4ce9-ab3c-9a77740cc632",
   "metadata": {
    "deletable": false,
    "editable": false
   },
   "source": [
    "## Exercise 2\n",
    "\n",
    "Identify the most viewed data set on Michigan state's open data portal.   \n",
    "https://data.michigan.gov/browse?sortBy=most_accessed\n",
    "\n",
    "Stores its name in the provided \"most_viewed_data_nm\" variable and the number of views in \"num_views\".\n",
    "\n",
    "Note, you only have to consider those items listed on the current page of the website, you do not have to cycle through all entries. "
   ]
  },
  {
   "cell_type": "code",
   "execution_count": null,
   "id": "bd136f13-ee63-45fe-acfe-69d4542fa3e2",
   "metadata": {
    "scrolled": true,
    "tags": []
   },
   "outputs": [],
   "source": [
    "\n",
    "most_viewed_data_nm = ...\n",
    "num_views = ...\n",
    "\n",
    "\n",
    "print(\"Most visited data: %s  with %d views\" % (most_viewed_data_nm, num_views))"
   ]
  },
  {
   "cell_type": "code",
   "execution_count": null,
   "id": "5e4084b6",
   "metadata": {
    "deletable": false,
    "editable": false
   },
   "outputs": [],
   "source": [
    "grader.check(\"q2\")"
   ]
  },
  {
   "cell_type": "markdown",
   "id": "4d14345f",
   "metadata": {
    "id": "hLv57yD-bsCI"
   },
   "source": [
    "## Exercise 3\n",
    "\n",
    "Travel advisories are given by the US government to international travelers. \n",
    "\n",
    "Data available at: https://travel.state.gov/content/travel/en/traveladvisories/traveladvisories.html/\n",
    "\n",
    "\n",
    "You will be asked to sum the number of travel advisories by level. \n",
    "\n",
    "Here we get the HTML from the site, you can use this in each of the sub-questions below. \n",
    "\n"
   ]
  },
  {
   "cell_type": "code",
   "execution_count": null,
   "id": "e9a2e2ad",
   "metadata": {
    "id": "Z-VKIhm5bp0d",
    "tags": []
   },
   "outputs": [],
   "source": [
    "site = requests.get('https://travel.state.gov/content/travel/en/traveladvisories/traveladvisories.html/').text\n",
    "q3 = BeautifulSoup(site, 'html5lib')"
   ]
  },
  {
   "cell_type": "markdown",
   "id": "ce71dc80-f498-48fc-86f4-776b21cf4ca7",
   "metadata": {
    "deletable": false,
    "editable": false
   },
   "source": [
    "### Exercise 3a \n",
    "\n",
    "Create a solution for this question using the pandas `read_html` function. "
   ]
  },
  {
   "cell_type": "code",
   "execution_count": null,
   "id": "19f652f9",
   "metadata": {
    "id": "hObOuGpCbxNU",
    "tags": []
   },
   "outputs": [],
   "source": [
    "# Exercise 3a\n",
    "# Read in the table using pandas \"read_html\" function, store DataFrame in q3a_df \n",
    "# Report out number of each warnings \n",
    "\n",
    "...\n",
    "q3a_df = ...\n",
    "\n",
    "l1Num1 = ...\n",
    "l2Num1 = ...\n",
    "l3Num1 = ...\n",
    "l4Num1 = ...\n",
    "\n",
    "\n",
    "print(\"Number of travel Level 1 warnings : \" +  str(l1Num1)) \n",
    "print(\"Number of travel Level 2 warnings : \" +  str(l2Num1))\n",
    "print(\"Number of travel Level 3 warnings : \" +  str(l3Num1))\n",
    "print(\"Number of travel Level 4 warnings : \" +  str(l4Num1))"
   ]
  },
  {
   "cell_type": "code",
   "execution_count": null,
   "id": "4bc9e1c0",
   "metadata": {
    "deletable": false,
    "editable": false
   },
   "outputs": [],
   "source": [
    "grader.check(\"q3a\")"
   ]
  },
  {
   "cell_type": "markdown",
   "id": "9938119a",
   "metadata": {
    "deletable": false,
    "editable": false,
    "id": "L-77DMh1b3Iq"
   },
   "source": [
    "### Exericse 3b \n",
    "\n",
    "Create an another solution just using beautiful soup, regular expressions, and other Python functions to scrape the table."
   ]
  },
  {
   "cell_type": "code",
   "execution_count": null,
   "id": "3d906f89",
   "metadata": {
    "id": "I5meuSuzbze6",
    "tags": []
   },
   "outputs": [],
   "source": [
    "# Exercise 3b\n",
    "# Write another solution just using beautiful soup, regex, and other Python functions to \n",
    "#   scrape the table information\n",
    "# Report out number of each warnings \n",
    "\n",
    "...\n",
    "\n",
    "l1Num2 = ...\n",
    "l2Num2 = ...\n",
    "l3Num2 = ...\n",
    "l4Num2 = ...\n",
    "\n",
    "\n",
    "print(\"Number of travel Level 1 warnings : \" +  str(l1Num2)) \n",
    "print(\"Number of travel Level 2 warnings : \" +  str(l2Num2))\n",
    "print(\"Number of travel Level 3 warnings : \" +  str(l3Num2))\n",
    "print(\"Number of travel Level 4 warnings : \" +  str(l4Num2))"
   ]
  },
  {
   "cell_type": "code",
   "execution_count": null,
   "id": "98b100d4",
   "metadata": {
    "deletable": false,
    "editable": false
   },
   "outputs": [],
   "source": [
    "grader.check(\"q3b\")"
   ]
  },
  {
   "cell_type": "markdown",
   "id": "1ef790e8-dca7-45f8-9225-7740d8ee0857",
   "metadata": {
    "deletable": false,
    "editable": false
   },
   "source": [
    "### Exercise 3c\n",
    "\n",
    "Using the DataFrame `q3a_df` from part (a), use the `to_datetime` function to add a new `Date` column with the `Date Updated` converted to a datetime object. \n",
    "\n",
    "https://pandas.pydata.org/docs/reference/api/pandas.to_datetime.html\n",
    "\n",
    "Using this new column determine the following: \n",
    "\n",
    "* `q3c_df_yr2023` a DataFrame with only those travel advisories updated during 2023. \n",
    "* `q3c_df_aug` a DataFrame with only those travel advisories updated in August (any year).\n",
    "* `q3c_df_tues` a DataFrame with only those travel advisories updated on a Tuesday. \n",
    "* `oldest_adv` a string with the oldest travel advisory. "
   ]
  },
  {
   "cell_type": "code",
   "execution_count": null,
   "id": "e974e667-8113-40a4-918e-9db0b76c623e",
   "metadata": {
    "tags": []
   },
   "outputs": [],
   "source": [
    "# Exercise 3c \n",
    "# Copy the q3a_df DataFrame to q3c_df. \n",
    "# Add a 'Date' column \n",
    "# Answer several questions \n",
    "\n",
    "q3c_df = q3a_df.copy()\n",
    "\n",
    "q3c_df_yr2023 = ...\n",
    "\n",
    "q3c_df_aug = ... \n",
    "\n",
    "q3c_df_tues = ...\n",
    "\n",
    "oldest_adv = ...\n",
    "\n"
   ]
  },
  {
   "cell_type": "code",
   "execution_count": null,
   "id": "ccc86f2a",
   "metadata": {
    "deletable": false,
    "editable": false
   },
   "outputs": [],
   "source": [
    "grader.check(\"q3c\")"
   ]
  },
  {
   "cell_type": "markdown",
   "id": "926553d1",
   "metadata": {
    "deletable": false,
    "editable": false,
    "id": "ISRqO9H4lyqc"
   },
   "source": [
    "##  Exercise 4\n",
    "\n",
    "We want to create a function `make_faculty_df(site)` which takes in a MTU department's faculty listing, e.g., [CS faculty listing](https://www.mtu.edu/cs/department/people/) and which returns a DataFrame with information on each of the faculty members.  \n",
    "\n",
    "We will define several helper functions to aid in this: \n",
    "\n",
    "* `process_bio(div)` which takes in a `<div>` tree corresponding to a single faculty bio and returns a dictionary of information on that faculty member: `Name`, `Title`, `Email`, `Office` \n",
    "\n",
    "* `process_page(divs)` which takes in a list of `<div>` trees corresponding to the faculty page and returns a DataFrame with all of the relevant faculty information. \n",
    "\n",
    "Use regular expressions and string operations to clean up the text returned, e.g., \n",
    "\n",
    "* remove extra white space \n",
    "* clean up titles so you only use options such as: \"Professor\", \"Associate Professor\", \"Assistant Professor\", \"Teaching Professor\", \"Associate Teaching Professor\", \"Assistant Teaching Professor\", \"Research Assistant Professor\", \"Senior Research Scientist\", \"Professor Emeritus\", \"Adjunct Professor\", \"Adjunct Associate Professor\", \"Adjunct Assistant Professor\"\n",
    "    * pay attention to the white space adn remove extra blank spaces \n",
    "    * Note, you should not perform this operation with a giant if-elsif or switch statement. Use regular expressions to help with this code. \n",
    "* For office locations, remove the word \"Hall\" from the locations. \n",
    "\n",
    "If any information is missing, then use `NaN` in the DataFrame. \n",
    "\n",
    "Your responses should not be hard coded to the CS faculty webpage, I may test your code on another department's faculty webpage. \n",
    "\n",
    "Remove duplicate listings, e.g., Dr. Wang is listed at top given his role as chair of the department and also appears in the main program faculty listing. "
   ]
  },
  {
   "cell_type": "code",
   "execution_count": null,
   "id": "0bf85e87",
   "metadata": {
    "tags": []
   },
   "outputs": [],
   "source": [
    "def process_bio(div): \n",
    "    # Input: a <div> tree of a single faculty bio \n",
    "    # Return: a dict of information on that faculty member: Name, Title, Email, Office \n",
    "    ...\n",
    "    return None\n",
    "\n",
    "def process_page(divs): \n",
    "    # Input: a list of <div> trees for the faculty page \n",
    "    # Return: a DataFrame with all of the relevant faculty information \n",
    "    ...\n",
    "    return None\n",
    "\n",
    "def make_faculty_df(site):\n",
    "\n",
    "\n",
    "\n",
    "    # Download page and create BeautifulSoup object of the response\n",
    "    ...\n",
    "    soup_q4 = ...\n",
    "\n",
    "    # Create DataFrame using information on the page and requested helper functions\n",
    "    ...\n",
    "    \n",
    "    return df\n",
    "\n",
    "url = 'https://www.mtu.edu/cs/department/people/'\n",
    "q4_df = make_faculty_df(url)\n",
    "q4_df.head()"
   ]
  },
  {
   "cell_type": "code",
   "execution_count": null,
   "id": "34cbc157",
   "metadata": {
    "deletable": false,
    "editable": false
   },
   "outputs": [],
   "source": [
    "grader.check(\"q4\")"
   ]
  },
  {
   "cell_type": "markdown",
   "id": "fac7782c-e2fd-40cf-a016-ff61ea627232",
   "metadata": {},
   "source": [
    "## Congratulations! You have finished Lab6! \n",
    "\n",
    "### Submission Instructions\n",
    "\n",
    "Below, you will see a cell. Running this cell will automatically generate a zip file with your autograded answers. Once you submit this file to the Lab 6 assignment on Gradescope. \n",
    "\n",
    "\n",
    "<div class=\"alert alert-warning\">\n",
    "<strong>Warning!</strong> \n",
    "    This lab notebook will be graded a bit differently.  The `requests` module does not run properly on Gradescope.  Normally, when you upload your submission to Gradescope, it runs your code and reports the results on the test cases.  \n",
    "</div>\n",
    "\n",
    "For this assignment, the results and variables you create in your notebook will be saved out to a log file `.OTTER_LOG`.  This file will be included in your zip, when you run the export function below. \n",
    "\n",
    "\n",
    "\n",
    "Make sure you have run all cells in your notebook **in order** before running the cell below, so that all information gets saved to the log file correctly. The cell below will generate a zip file for you to submit. **Please save before exporting!**\n",
    "\n",
    "If you run the notebook repeatedly, more and more information gets added to the `.OTTER_LOG` file. \n",
    "\n",
    "<div class=\"alert alert-warning\">\n",
    "<strong>Warning! - Clean log file</strong>     \n",
    "    Before running your last single run through the notebook, clear all clear, restart the kernel, delete the `.OTTER_LOG` so that a fresh one is created. \n",
    "</div>"
   ]
  },
  {
   "cell_type": "markdown",
   "id": "a89fb1d6",
   "metadata": {
    "deletable": false,
    "editable": false
   },
   "source": [
    "## Submission\n",
    "\n",
    "Make sure you have run all cells in your notebook in order before running the cell below, so that all images/graphs appear in the output. The cell below will generate a zip file for you to submit. **Please save before exporting!**"
   ]
  },
  {
   "cell_type": "code",
   "execution_count": null,
   "id": "70400cc4",
   "metadata": {
    "deletable": false,
    "editable": false
   },
   "outputs": [],
   "source": [
    "# Save your notebook first, then run this cell to export your submission.\n",
    "grader.export(pdf=False)"
   ]
  },
  {
   "cell_type": "markdown",
   "id": "63c57aff",
   "metadata": {},
   "source": [
    " "
   ]
  }
 ],
 "metadata": {
  "kernelspec": {
   "display_name": "un5550fa24",
   "language": "python",
   "name": "un5550fa24"
  },
  "language_info": {
   "codemirror_mode": {
    "name": "ipython",
    "version": 3
   },
   "file_extension": ".py",
   "mimetype": "text/x-python",
   "name": "python",
   "nbconvert_exporter": "python",
   "pygments_lexer": "ipython3",
   "version": "3.10.16"
  },
  "otter": {
   "OK_FORMAT": true,
   "assignment_name": "lab6",
   "tests": {
    "q1": {
     "name": "q1",
     "points": [
      2,
      4
     ],
     "suites": [
      {
       "cases": [
        {
         "code": ">>> type(name) == str\nTrue",
         "hidden": false,
         "locked": false
        },
        {
         "code": ">>> name == 'Downscaled Climate Model Climate Toolbox'\nTrue",
         "hidden": false,
         "locked": false
        }
       ],
       "scored": true,
       "setup": "",
       "teardown": "",
       "type": "doctest"
      }
     ]
    },
    "q2": {
     "name": "q2",
     "points": [
      1,
      1,
      3
     ],
     "suites": [
      {
       "cases": [
        {
         "code": ">>> type(most_viewed_data_nm) == str\n",
         "hidden": false,
         "locked": false
        },
        {
         "code": ">>> type(num_views) == int\n",
         "hidden": false,
         "locked": false
        },
        {
         "code": ">>> most_viewed_data_nm == 'MI_Congress_Plot'\n",
         "hidden": false,
         "locked": false
        }
       ],
       "scored": true,
       "setup": "",
       "teardown": "",
       "type": "doctest"
      }
     ]
    },
    "q3a": {
     "name": "q3a",
     "points": [
      1,
      1,
      1
     ],
     "suites": [
      {
       "cases": [
        {
         "code": ">>> q3a_df.shape == (213, 3)\nTrue",
         "hidden": false,
         "locked": false
        },
        {
         "code": ">>> all(q3a_df.columns == ['Advisory', 'Level', 'Date Updated'])\nTrue",
         "hidden": false,
         "locked": false
        },
        {
         "code": ">>> type(l1Num1) == int and type(l2Num1) == int and (type(l3Num1) == int) and (type(l4Num1) == int)\nTrue",
         "hidden": false,
         "locked": false
        }
       ],
       "scored": true,
       "setup": "",
       "teardown": "",
       "type": "doctest"
      }
     ]
    },
    "q3b": {
     "name": "q3b",
     "points": [
      0.5,
      0.5,
      0.5,
      0.5
     ],
     "suites": [
      {
       "cases": [
        {
         "code": ">>> l1Num1 == l1Num2\nTrue",
         "hidden": false,
         "locked": false
        },
        {
         "code": ">>> l2Num1 == l2Num2\nTrue",
         "hidden": false,
         "locked": false
        },
        {
         "code": ">>> l3Num1 == l3Num2\nTrue",
         "hidden": false,
         "locked": false
        },
        {
         "code": ">>> l4Num1 == l4Num2\nTrue",
         "hidden": false,
         "locked": false
        }
       ],
       "scored": true,
       "setup": "",
       "teardown": "",
       "type": "doctest"
      }
     ]
    },
    "q3c": {
     "name": "q3c",
     "points": [
      0.5,
      0.5,
      0.5,
      0.5,
      0.5,
      0.5
     ],
     "suites": [
      {
       "cases": [
        {
         "code": ">>> q3c_df_yr2023.shape == (90, 4)\nFalse",
         "hidden": false,
         "locked": false
        },
        {
         "code": ">>> q3c_df_aug.shape == (36, 4)\nFalse",
         "hidden": false,
         "locked": false
        },
        {
         "code": ">>> q3c_df_tues.shape == (23, 4)\nFalse",
         "hidden": false,
         "locked": false
        },
        {
         "code": ">>> all(q3c_df_yr2023.columns == ['Advisory', 'Level', 'Date Updated', 'Date'])\nTrue",
         "hidden": false,
         "locked": false
        },
        {
         "code": ">>> all(q3c_df_aug.columns == ['Advisory', 'Level', 'Date Updated', 'Date'])\nTrue",
         "hidden": false,
         "locked": false
        },
        {
         "code": ">>> all(q3c_df_tues.columns == ['Advisory', 'Level', 'Date Updated', 'Date'])\nTrue",
         "hidden": false,
         "locked": false
        }
       ],
       "scored": true,
       "setup": "",
       "teardown": "",
       "type": "doctest"
      }
     ]
    },
    "q4": {
     "name": "q4",
     "points": [
      1,
      1,
      2,
      2,
      2
     ],
     "suites": [
      {
       "cases": [
        {
         "code": ">>> q4_df.shape == (42, 4)\n",
         "hidden": false,
         "locked": false
        },
        {
         "code": ">>> all(q4_df.columns == ['Name', 'Title', 'Email', 'Office'])\n",
         "hidden": false,
         "locked": false
        },
        {
         "code": ">>> all(q4_df.iloc[10:14, 3] == ['Rekhi 210', 'Rekhi 306', 'Rekhi 304', 'Rekhi 311'])\n",
         "hidden": false,
         "locked": false
        },
        {
         "code": ">>> all(q4_df.iloc[33:35, 2] == ['shanem@mtu.edu', 'pop@mtu.edu'])\n",
         "hidden": false,
         "locked": false
        },
        {
         "code": ">>> all(q4_df.iloc[12:14, 0] == ['Jean Mayo', 'Yakov Nekrich'])\n",
         "hidden": false,
         "locked": false
        }
       ],
       "scored": true,
       "setup": "",
       "teardown": "",
       "type": "doctest"
      }
     ]
    }
   }
  }
 },
 "nbformat": 4,
 "nbformat_minor": 5
}

{
 "cells": [
  {
   "cell_type": "markdown",
   "id": "4556e247",
   "metadata": {
    "id": "1B_cuSD6ex3k"
   },
   "source": [
    "# Lab 5\n",
    "\n",
    "\n",
    "In this lab, you will explore using the methods of getting data and regular expressions. "
   ]
  },
  {
   "cell_type": "markdown",
   "id": "329cf5d8",
   "metadata": {},
   "source": [
    "### Lab Setup"
   ]
  },
  {
   "cell_type": "code",
   "execution_count": null,
   "id": "18a7f1a1",
   "metadata": {
    "id": "UhHy3diEeu5v",
    "tags": []
   },
   "outputs": [],
   "source": [
    "import re\n",
    "\n",
    "import otter\n",
    "grader = otter.Notebook()"
   ]
  },
  {
   "cell_type": "markdown",
   "id": "86599629",
   "metadata": {
    "id": "M7DwRtuQgmEv"
   },
   "source": [
    "# Python Regular Expressions\n",
    "\n",
    "The Python `re` module provides many functions for regular expression support.  Here you will learn more about the different functions and complete exercises to practice their use. "
   ]
  },
  {
   "cell_type": "markdown",
   "id": "fc5987a1",
   "metadata": {
    "id": "GuO1Fcv3pJFe"
   },
   "source": [
    "## `re.match` \n",
    "\n",
    "The `match(pattern, string)` function is used to check a pattern against some text.  It only tries to find the pattern in the beginning of the text.  \n",
    "\n",
    "`re.match` Documentation:  https://docs.python.org/3.10/library/re.html#re.match\n",
    "\n",
    "\n",
    "*Reminder* the 'r' at the start of the pattern, indicates that it is a \"raw\" string which passes through backslashes (handy for regular expresssions)."
   ]
  },
  {
   "cell_type": "markdown",
   "id": "edb1a9d3",
   "metadata": {
    "id": "Xr3ffV3Gs4sp"
   },
   "source": [
    "### Example"
   ]
  },
  {
   "cell_type": "code",
   "execution_count": null,
   "id": "d2b2c96c",
   "metadata": {
    "id": "l2qbAH3IsNWC",
    "tags": []
   },
   "outputs": [],
   "source": [
    "tmpStr1 = 'Regular expressions are great'\n",
    "tmpStr2 = 'It is fun learning about regular expressions'\n",
    "match = re.match(r'[Rr]egular', tmpStr1)\n",
    "if match: \n",
    "    print('found ', match.group()) \n",
    "else: \n",
    "    print(\"did not find\")\n",
    "\n",
    "match = re.match(r'[Rr]egular', tmpStr2)\n",
    "if match: \n",
    "    print('found ', match.group()) \n",
    "else: \n",
    "    print(\"did not find\")"
   ]
  },
  {
   "cell_type": "markdown",
   "id": "3f65816e",
   "metadata": {
    "id": "YF0GmxwJg8dJ"
   },
   "source": [
    "## `re.search`\n",
    "\n",
    "The `re.search(pat, str)` function takes two main arguments: `pat` a regular expression pattern and a `str` string.  The method searches for that first occurence of the pattern within the string.  If sucessful, `search()` returns a match object; otherwise it returns None. \n",
    "\n",
    "`re.search()` Documentation: https://docs.python.org/3.10/library/re.html#re.search"
   ]
  },
  {
   "cell_type": "markdown",
   "id": "b688b6fe",
   "metadata": {
    "id": "6m30_qajs6uY"
   },
   "source": [
    "### Example"
   ]
  },
  {
   "cell_type": "code",
   "execution_count": null,
   "id": "70f5c5d2",
   "metadata": {
    "id": "RhzMRUT9sr18",
    "tags": []
   },
   "outputs": [],
   "source": [
    "match = re.search(r'[Rr]egular', tmpStr1)\n",
    "if match: \n",
    "    print('found ', match.group()) \n",
    "else: \n",
    "    print(\"did not find\")\n",
    "\n",
    "match = re.search(r'[Rr]egular', tmpStr2)\n",
    "if match: \n",
    "    print('found ', match.group()) \n",
    "else: \n",
    "    print(\"did not find\")"
   ]
  },
  {
   "cell_type": "markdown",
   "id": "ed2ffae6",
   "metadata": {
    "id": "LaaeBIausv6H"
   },
   "source": [
    "### Example"
   ]
  },
  {
   "cell_type": "code",
   "execution_count": null,
   "id": "429937d9",
   "metadata": {
    "id": "uSltHybRfpj4",
    "tags": []
   },
   "outputs": [],
   "source": [
    "tmpStr1 = 'I have a cat, Fido'\n",
    "tmpStr2 = 'I have a cat, Felix'\n",
    "tmpStr3 = 'I have a cat, It'\n",
    "match = re.search(r'cat,\\s\\w\\w\\w\\w', tmpStr1)\n",
    "if match: \n",
    "    print('found ', match.group()) \n",
    "else: \n",
    "    print(\"did not find\")"
   ]
  },
  {
   "cell_type": "markdown",
   "id": "cbcd9816",
   "metadata": {
    "id": "Ct9XkyFEiisY"
   },
   "source": [
    "Try running the expression above on the three test strings. \n",
    " "
   ]
  },
  {
   "cell_type": "markdown",
   "id": "feffc3de",
   "metadata": {
    "deletable": false,
    "editable": false,
    "id": "0uZed0OpjQXk"
   },
   "source": [
    "<!-- BEGIN QUESTION -->\n",
    "\n",
    "## Exercise 1 - Properties of search\n",
    "\n",
    "Examine the following uses of the search function."
   ]
  },
  {
   "cell_type": "code",
   "execution_count": null,
   "id": "ff98cd27",
   "metadata": {
    "deletable": false,
    "editable": false,
    "id": "YWwyrNM6iLJT",
    "tags": []
   },
   "outputs": [],
   "source": [
    "tmpStr1 = 'baa baaa black sheep'\n",
    "match = re.search(r'ba+', tmpStr1)\n",
    "if match: \n",
    "    print('found: ', match.group()) \n",
    "else: \n",
    "    print(\"did not find\")\n",
    "\n",
    "tmpStr2 = 'baa2 baaaa4 baaa3'\n",
    "match = re.search(r'ba+\\d', tmpStr2)\n",
    "if match: \n",
    "    print('found: ', match.group()) \n",
    "else: \n",
    "    print(\"did not find\")"
   ]
  },
  {
   "cell_type": "markdown",
   "id": "7224da3e",
   "metadata": {
    "deletable": false,
    "editable": false,
    "id": "YfxjMgVdkN-w"
   },
   "source": [
    "**Q** Which of the \"baa\" words is returned in tmpStr2?  Will the function return the leftmost or rightmost occurance in a string? "
   ]
  },
  {
   "cell_type": "markdown",
   "id": "a1685fb5",
   "metadata": {},
   "source": [
    "**ANS**   "
   ]
  },
  {
   "cell_type": "markdown",
   "id": "6ac6ba34",
   "metadata": {
    "deletable": false,
    "editable": false,
    "id": "lMMzKxLYkhSg"
   },
   "source": [
    "<!-- END QUESTION -->\n",
    "\n",
    "### Example - Anchors\n",
    "\n",
    "The exception to your answer above is if the pattern specifies anchors to find a match at the beginning `^` or end `$` of a string. "
   ]
  },
  {
   "cell_type": "code",
   "execution_count": null,
   "id": "56758579",
   "metadata": {
    "id": "ADkYpSJ8j8y5",
    "tags": []
   },
   "outputs": [],
   "source": [
    "tmpStr1 = 'foobar1 foobar2 foobar3'\n",
    "match = re.search(r'^f\\w+\\d', tmpStr1)\n",
    "if match: \n",
    "    print('found: ', match.group()) \n",
    "else: \n",
    "    print(\"did not find\")\n",
    "\n",
    "match = re.search(r'f\\w+\\d$', tmpStr1)\n",
    "if match: \n",
    "    print('found: ', match.group()) \n",
    "else: \n",
    "    print(\"did not find\")"
   ]
  },
  {
   "cell_type": "markdown",
   "id": "ddbff3ed-f615-43cc-8351-76028fd2c439",
   "metadata": {},
   "source": [
    "## Exercise 2 - Escape Character\n",
    "\n",
    "Consider the following code that reads in each line of a file and prints those lines that match the pattern given. \n",
    "\n",
    "```python \n",
    "hand = open('example-text.txt')\n",
    "for line in hand:\n",
    "    line = line.rstrip()\n",
    "    if re.search('\\$.+', line):\n",
    "        print(line)\n",
    "```\n",
    "\n",
    "Which of the following lines could be printed when running the code? \n",
    "\n",
    "```\n",
    "    1. It will cost you $1.00   \n",
    "    2. You owe three dollars.  \n",
    "    3. $2.50 is your change  \n",
    "    4. From: anon@mtu.edu $a  \n",
    "```\n",
    "\n",
    "Your answer, `q2`, will be a list of letters matching the correct response, e.g.,   \n",
    "`q2 = list()` or `q2 = [1]` or `q2 = [3, 4]`, or `q2 = [1, 2, 3, 4]`.\n",
    "\n",
    "Try answering without running the code.\n",
    "\n"
   ]
  },
  {
   "cell_type": "code",
   "execution_count": null,
   "id": "26029555-6b43-457e-b426-a4afa71000f6",
   "metadata": {
    "tags": []
   },
   "outputs": [],
   "source": [
    "q2 = ..."
   ]
  },
  {
   "cell_type": "code",
   "execution_count": null,
   "id": "8527c6e4",
   "metadata": {
    "deletable": false,
    "editable": false
   },
   "outputs": [],
   "source": [
    "grader.check(\"q2\")"
   ]
  },
  {
   "cell_type": "markdown",
   "id": "699b9742-4f32-410e-a477-0622cc1a101d",
   "metadata": {},
   "source": [
    "## Exercise 3 - `+` \n",
    "\n",
    "Place your answer `True` or `False` in variable `q3` to the following question. \n",
    "\n",
    "The following code will match only the first email(up to the @ sign) in the string?\n",
    "\n",
    "```python \n",
    "stri = 'From: Olivia.Rodrigo@yahoo.com, badbunny@hotmail.com, taylorswift@gmail.com'\n",
    "stri = stri.rstrip()\n",
    "print(re.findall('From:.+@', stri))\n",
    "```\n"
   ]
  },
  {
   "cell_type": "code",
   "execution_count": null,
   "id": "29481847-9cef-415a-bc46-205e400f38c9",
   "metadata": {
    "tags": []
   },
   "outputs": [],
   "source": [
    "q3 = ...   # True or False"
   ]
  },
  {
   "cell_type": "code",
   "execution_count": null,
   "id": "df9223ff",
   "metadata": {
    "deletable": false,
    "editable": false
   },
   "outputs": [],
   "source": [
    "grader.check(\"q3\")"
   ]
  },
  {
   "cell_type": "markdown",
   "id": "e2ae9ee9-09a1-4f44-92d9-0e5516971b5c",
   "metadata": {
    "deletable": false,
    "editable": false
   },
   "source": [
    "<!-- BEGIN QUESTION -->\n",
    "\n",
    "#### Exercise 3a \n",
    "\n",
    "Briefly explain (less than 12 words) your answer above.  "
   ]
  },
  {
   "cell_type": "markdown",
   "id": "3c9d94c1-56af-4c5a-958a-e14bccd9ba36",
   "metadata": {},
   "source": [
    "**A**. *Your answer here*"
   ]
  },
  {
   "cell_type": "markdown",
   "id": "3ed00554-23d8-4b2c-b242-d342c4f5af7e",
   "metadata": {
    "deletable": false,
    "editable": false
   },
   "source": [
    "<!-- END QUESTION -->\n",
    "\n",
    "<!-- BEGIN QUESTION -->\n",
    "\n",
    "## Exercise 4 - Explanation \n",
    "\n",
    "Given the following regular expression below.  \n",
    "\n",
    "**Q** Briefly explain what patterns it matches. \n",
    "\n",
    "**Q** Explain what the `?:` does.  \n",
    "\n",
    "`re.findall('\\$\\d+(?:\\.\\d{2})?', x)`"
   ]
  },
  {
   "cell_type": "markdown",
   "id": "4c968f1a-bd65-44b7-a67e-f81c4da89661",
   "metadata": {},
   "source": [
    "**A**. The patterns matches ...\n",
    "\n",
    "**A**.  The `?:` ..."
   ]
  },
  {
   "cell_type": "markdown",
   "id": "bb140b00-d60e-4440-8d12-d496f1388ea6",
   "metadata": {
    "deletable": false,
    "editable": false
   },
   "source": [
    "<!-- END QUESTION -->\n",
    "\n",
    "## Exercise 5 - Create a pattern \n",
    "\n",
    "Construct a regex that matches `abc` followed by zero to many digits (0-9)."
   ]
  },
  {
   "cell_type": "code",
   "execution_count": null,
   "id": "9d8d2802-3756-4d47-84c0-0367cea1f483",
   "metadata": {
    "tags": []
   },
   "outputs": [],
   "source": [
    "q5 = '...'   # regex pattern, e.g., `a[b]*`"
   ]
  },
  {
   "cell_type": "code",
   "execution_count": null,
   "id": "ec552998",
   "metadata": {
    "deletable": false,
    "editable": false
   },
   "outputs": [],
   "source": [
    "grader.check(\"q5\")"
   ]
  },
  {
   "cell_type": "markdown",
   "id": "f083210d-41a6-4b20-bd94-55642a22e321",
   "metadata": {
    "deletable": false,
    "editable": false
   },
   "source": [
    "## Exercise 6 - Create a pattern \n",
    "\n",
    "Construct a regex that matches one or more lowercase letters (a-z) followed by a space character and then two to four digits."
   ]
  },
  {
   "cell_type": "code",
   "execution_count": null,
   "id": "80bf5d4b-1e8b-42de-a492-be5dc3ffab30",
   "metadata": {
    "tags": []
   },
   "outputs": [],
   "source": [
    "q6 = '...'   # regex pattern, e.g., `a[b]*`"
   ]
  },
  {
   "cell_type": "code",
   "execution_count": null,
   "id": "0e2e4bff",
   "metadata": {
    "deletable": false,
    "editable": false
   },
   "outputs": [],
   "source": [
    "grader.check(\"q6\")"
   ]
  },
  {
   "cell_type": "markdown",
   "id": "1eb4b054-c11e-46ac-bbab-2b3afeb00840",
   "metadata": {
    "deletable": false,
    "editable": false
   },
   "source": [
    "## Exercise 7 - Create a pattern \n",
    "\n",
    "Construct a regex that captures strings that have three digits followed by a period and then five letters from a to z."
   ]
  },
  {
   "cell_type": "code",
   "execution_count": null,
   "id": "416fe109-c803-48bf-b249-4f5ca1e4d7c9",
   "metadata": {
    "tags": []
   },
   "outputs": [],
   "source": [
    "q7 = '...'   # regex pattern, e.g., `a[b]*`"
   ]
  },
  {
   "cell_type": "code",
   "execution_count": null,
   "id": "edf9610b",
   "metadata": {
    "deletable": false,
    "editable": false
   },
   "outputs": [],
   "source": [
    "grader.check(\"q7\")"
   ]
  },
  {
   "cell_type": "markdown",
   "id": "6f4323eb-4eb2-4e80-bead-80d4e9418d89",
   "metadata": {
    "deletable": false,
    "editable": false
   },
   "source": [
    "## Exercise 8 - Create a Function \n",
    "\n",
    "Create a function called `match_word(word, strv)` that returns `True` if the string `strv` contains the word `word`, but not if it is part of another word. \n",
    "\n",
    "For example, `match_word('is', \"This was bad\")` would return `False` and `match_word('is', \"This is good\")` would return `True`."
   ]
  },
  {
   "cell_type": "code",
   "execution_count": null,
   "id": "1f2a4d77-df01-4e9d-93b9-1984eac6f963",
   "metadata": {
    "tags": []
   },
   "outputs": [],
   "source": [
    "def match_word(word, strv): \n",
    "    # Function returns True is strv contains the word (but not part of another word)\n",
    "    #  else function return False \n",
    "    \n",
    "    return \n",
    "\n",
    "print(match_word('is', 'This was bad'))\n",
    "print(match_word('is', 'This is good'))"
   ]
  },
  {
   "cell_type": "code",
   "execution_count": null,
   "id": "35cd12fe",
   "metadata": {
    "deletable": false,
    "editable": false
   },
   "outputs": [],
   "source": [
    "grader.check(\"q8\")"
   ]
  },
  {
   "cell_type": "markdown",
   "id": "a4044aca",
   "metadata": {
    "deletable": false,
    "editable": false,
    "id": "UczkZSAGtDC6"
   },
   "source": [
    "## Exercise 9 - Pattern Match \n",
    "\n",
    "Create a regular expression pattern that matches all the positive examples below, but none of the negative examples.  You can not simply list the positives strings \"or\"ed together. \n",
    "\n",
    "| Positive | Negative | \n",
    "|----------|----------|\n",
    "| pit      | pt       | \n",
    "| spot     | Pot      |\n",
    "| spate    | peat     | \n",
    "| slap two | part     | \n",
    "| respite  | SLIP ten |"
   ]
  },
  {
   "cell_type": "code",
   "execution_count": null,
   "id": "2ec5e1dc",
   "metadata": {
    "id": "CB2BbfJjn1Fk",
    "tags": []
   },
   "outputs": [],
   "source": [
    "cases = ['pit', 'spot', 'spate', 'slap two', 'respite', 'pt', 'Pot', 'peat', \n",
    "         'part', 'SLIP ten']\n",
    "positive, negative = [], []\n",
    "pat = r'...'      # Write regular expression pattern here \n",
    "\n",
    "# DO NOT CHANGE BELOW\n",
    "print('Positive Cases: \\n')\n",
    "for ex in cases: \n",
    "    match = re.search(pat, ex)\n",
    "    if ex==\"pt\": \n",
    "        print(\"\\nNegative Cases: \\n\")\n",
    "    if match: \n",
    "        print(\"%9s: found\" % ex)\n",
    "        positive.append(ex)\n",
    "    else: \n",
    "        print(\"%9s: not found\" % ex)\n",
    "        negative.append(ex)"
   ]
  },
  {
   "cell_type": "code",
   "execution_count": null,
   "id": "4da76549",
   "metadata": {
    "deletable": false,
    "editable": false
   },
   "outputs": [],
   "source": [
    "grader.check(\"q9\")"
   ]
  },
  {
   "cell_type": "markdown",
   "id": "f34e4721",
   "metadata": {
    "deletable": false,
    "editable": false,
    "id": "BmYgPEluukqj"
   },
   "source": [
    "## Exercise 10 - Pattern Match\n",
    "\n",
    "Create a regular expression pattern that matches all the positive examples below, but none of the negative examples. You can not simply list the positives strings \"or\"ed together.\n",
    "\n",
    "| Positive | Negative | \n",
    "|----------|----------|\n",
    "| rap them | aleht    | \n",
    "| tapeth   | happy them | \n",
    "| apth     | tarpth | \n",
    "| wrap/try | Apt | \n",
    "| sap tray | peth | \n",
    "| 87ap9th  | tarreth | \n",
    "| apothecary | ddapdg | \n",
    "|      | apples | \n",
    "|      | shape the |"
   ]
  },
  {
   "cell_type": "code",
   "execution_count": null,
   "id": "a87fbd0e",
   "metadata": {
    "id": "Gb01BASkuWGA",
    "tags": []
   },
   "outputs": [],
   "source": [
    "cases_E10 = ['rap them', 'tapeth', 'apth', 'wrap/try', 'sap tray', '87ap9th', 'apothecary',\n",
    "         'aleht', 'happy them', 'tarpth', 'Apt', 'peth', 'tarreth', 'ddapdg', \n",
    "         'apples', 'shape the']\n",
    "positive_E10, negative_E10 = [], []\n",
    "pattern_E10 = r'...'  # Fill in pattern\n",
    "\n",
    "# DO NOT CHANGE BELOW\n",
    "print('Positive Cases: \\n')\n",
    "for ex in cases_E10: \n",
    "    match = re.search(pattern_E10, ex)\n",
    "    if ex==\"aleht\": \n",
    "        print(\"\\nNegative Cases: \\n\")\n",
    "    if match: \n",
    "        print(\"%11s: found\" % ex)\n",
    "        positive_E10.append(ex)\n",
    "    else: \n",
    "        print(\"%11s: not found\" % ex)\n",
    "        negative_E10.append(ex)"
   ]
  },
  {
   "cell_type": "code",
   "execution_count": null,
   "id": "7e3d5f3a",
   "metadata": {
    "deletable": false,
    "editable": false
   },
   "outputs": [],
   "source": [
    "grader.check(\"q10\")"
   ]
  },
  {
   "cell_type": "markdown",
   "id": "4c676317",
   "metadata": {
    "deletable": false,
    "editable": false,
    "id": "U9QcD1a5xCh0"
   },
   "source": [
    "## Exercise 11 - Pattern Match \n",
    "\n",
    "Create a regular expression pattern that matches all the positive examples below, but none of the negative examples. You can not simply list the positives strings \"or\"ed together.\n",
    "\n",
    "| Positive | Negative | \n",
    "|----------|----------|\n",
    "| affgfking | fgok | \n",
    "| rafgkahe | a fgk | \n",
    "| bafghk | affgm | \n",
    "| baffgkit | afffhk | \n",
    "| affgfking | fgik | \n",
    "| rafgkahe | afg.K | \n",
    "| bafghk | aff gm | \n",
    "| baffg kit | afffhgk | \n",
    "\n",
    "\n",
    "\n",
    "\n",
    "\n",
    "\n",
    "\n"
   ]
  },
  {
   "cell_type": "code",
   "execution_count": null,
   "id": "d07590b7",
   "metadata": {
    "id": "BFMTgadnvag7",
    "tags": []
   },
   "outputs": [],
   "source": [
    "cases_E4 = ['affgfking', 'rafgkahe', 'bafghk', 'baffgkit', 'affgfking', 'rafgkahe', \n",
    "         'bafghk', 'baffg kit', 'fgok', 'a fgk', 'affgm', 'afffhk', 'fgik', \n",
    "         'afg.K', 'aff gm', 'afffhgk']\n",
    "positive_E4, negative_E4 = [], []   \n",
    "pattern_E4 = r'...'   # Fill in pattern\n",
    "\n",
    "# DO NOT CHANGE BELOW\n",
    "print('Positive Cases: \\n')\n",
    "for ex in cases_E4: \n",
    "    match = re.search(pattern_E4, ex)\n",
    "    if ex=='fgok':\n",
    "        print(\"\\nNegative Cases: \\n\")\n",
    "    if match: \n",
    "        print(\"%10s: found\" % ex)\n",
    "         positive_E4.append(ex)\n",
    "    else: \n",
    "        print(\"%10s: not found\" % ex)\n",
    "        negative_E4.append(ex)"
   ]
  },
  {
   "cell_type": "code",
   "execution_count": null,
   "id": "8c793887",
   "metadata": {
    "deletable": false,
    "editable": false
   },
   "outputs": [],
   "source": [
    "grader.check(\"q11\")"
   ]
  },
  {
   "cell_type": "markdown",
   "id": "738ef600",
   "metadata": {
    "id": "AgngjUwo1kTZ"
   },
   "source": [
    "### Example - Group Extraction \n",
    "\n",
    "The \"group\" part of regular expressions allows for part of the matching text to be selected out.  Let's say we want to extract an email from a string, but in addition to finding the email we want to extract the username and host separately, e.g., to pull out a MTU ISO login. \n",
    "\n",
    "The parenthesis in the pattern are used to identify the \"groups\" inside the text.  "
   ]
  },
  {
   "cell_type": "code",
   "execution_count": null,
   "id": "02ffd544",
   "metadata": {
    "id": "qgkc2Qjy2HDo",
    "tags": []
   },
   "outputs": [],
   "source": [
    "tempStr = 'send an email to John, jdoe@mtu.edu, by tomorrow'\n",
    "match = re.search('([\\w]+)@([\\w.]+)', tempStr)\n",
    "if match: \n",
    "    print(\"Email:    \", match.group())\n",
    "    print(\"username: \", match.group(1))\n",
    "    print(\"hostname: \", match.group(2))\n",
    "else: \n",
    "    print(\"no match\")"
   ]
  },
  {
   "cell_type": "markdown",
   "id": "33635aa0",
   "metadata": {
    "deletable": false,
    "editable": false,
    "id": "q1oQSgEI3VPk"
   },
   "source": [
    "## Exercise 12 - Groups\n",
    "\n",
    "There are discussions on what is the best regular expression pattern to match emails (e.g., used to verify emails in forms).  But, let's think about how to extend the pattern above to handle the following cases: \n",
    "\n",
    "* usernames, can have both characters and numbers and underscores, but will not start with a number, e.g, jdoe15@mtu.edu, sherlock24@gmail.com, tom_brady@gmail.com \n",
    "* an email may have task-specific email address (for example, google allows this), where you can add additional identifiers after your username, e.g., harrypotter+news@gmail.com or jonstark+dragons@gmail.com.  Make sure you can separate out a username from the tasks. \n",
    "    * \"harrypotter+news@gmail.com\" has username \"harrypotter\" and task \"news\"\n",
    "\n"
   ]
  },
  {
   "cell_type": "code",
   "execution_count": null,
   "id": "4e2cd5d7",
   "metadata": {
    "id": "rDJkeftr5AbE",
    "tags": []
   },
   "outputs": [],
   "source": [
    "cases_E5 = ['jdoe@gmail.com', 'sherlock24@gmail.com', 'tom_brady@gmail.com', \n",
    "            'harrypotter+news@gmail.com', 'jonstark+dragons@gmail.com',\n",
    "            'juliet_capulet+poison@gmail.com', 'Charles_Dickens@yahoo.com', \n",
    "            'AnakinSkywalker@hotmail.com']\n",
    "email, username, hostname = [], [], []\n",
    "pattern_E5 = r'...'\n",
    "\n",
    "# DO NOT CHANGE BELOW\n",
    "for ex in cases_E5: \n",
    "    match = re.search(pattern_E5, ex)\n",
    "    if match: \n",
    "        print(\"Email: \", match.group(), end='')\n",
    "        print(\"\\tUsername: \", match.group(1), end='')\n",
    "        print(\"\\tHostname: \", match.group(2))\n",
    "        email.append(match.group()) \n",
    "        username.append(match.group(1))\n",
    "        hostname.append(match.group(2))\n",
    "    else: \n",
    "        print(\"no match\")"
   ]
  },
  {
   "cell_type": "code",
   "execution_count": null,
   "id": "a9575e61",
   "metadata": {
    "deletable": false,
    "editable": false
   },
   "outputs": [],
   "source": [
    "grader.check(\"q12\")"
   ]
  },
  {
   "cell_type": "markdown",
   "id": "fbfd65e4",
   "metadata": {
    "id": "wUNtVeHx04lH"
   },
   "source": [
    "## `re.findall()` \n",
    "\n",
    "The `re.findall()` function returns all occurences (non-overlapping) of a pattern in a string. \n",
    "\n",
    "`re.findall()` Documentation: https://docs.python.org/3.7/library/re.html#re.findall"
   ]
  },
  {
   "cell_type": "markdown",
   "id": "5ca8d81d",
   "metadata": {
    "id": "mkHMmIqC6ZEU"
   },
   "source": [
    "### Example - findall with Files \n",
    "\n",
    "In the `nb.week5.part2.ipynb` notebook, we saw examples of looping over the lines of a file and running the regular expression. \n"
   ]
  },
  {
   "cell_type": "code",
   "execution_count": null,
   "id": "61ed7bde",
   "metadata": {
    "id": "h9f5aJdyzi6T"
   },
   "outputs": [],
   "source": [
    "with open('data/rime-intro.txt', 'r') as f:\n",
    "  rime = f.readlines()\n",
    "f.close()"
   ]
  },
  {
   "cell_type": "code",
   "execution_count": null,
   "id": "14e34e5f",
   "metadata": {
    "id": "eFuGbZ7V64EY"
   },
   "outputs": [],
   "source": [
    "for elem in rime:\n",
    "    #print (elem)\n",
    "    m = re.search(r\"Ship\", elem)\n",
    "    if m:\n",
    "        print(m.group())\n",
    "    else:\n",
    "        print(\"No match\")"
   ]
  },
  {
   "cell_type": "markdown",
   "id": "d7fc65aa",
   "metadata": {
    "id": "egBUjPOS69MZ"
   },
   "source": [
    "Or, we could do this for each line within the file reader block. "
   ]
  },
  {
   "cell_type": "code",
   "execution_count": null,
   "id": "f2ca4b42",
   "metadata": {
    "id": "7n28LLJ-68J-"
   },
   "outputs": [],
   "source": [
    "with open('data/rime-intro.txt', 'r') as f:\n",
    "    for line in f:\n",
    "        m = re.search(r\"Ship\", line)\n",
    "        if m:\n",
    "            print(m.group())\n",
    "        else:\n",
    "            print(\"No match\")\n",
    "\n",
    "f.close()"
   ]
  },
  {
   "cell_type": "markdown",
   "id": "172cbefb",
   "metadata": {
    "id": "lUczDGQX7keg"
   },
   "source": [
    "Instead, we can let `findall()` do the iteration. "
   ]
  },
  {
   "cell_type": "code",
   "execution_count": null,
   "id": "929e9c5d",
   "metadata": {
    "id": "OG2IltUW7h7i"
   },
   "outputs": [],
   "source": [
    "f = open(\"data/rime-intro.txt\", 'r')\n",
    "strs = re.findall(r'Ship', f.read())\n",
    "f.close()\n",
    "strs"
   ]
  },
  {
   "cell_type": "markdown",
   "id": "0fff8616",
   "metadata": {
    "id": "u6iVcJ2j8DqU"
   },
   "source": [
    "## `re.sub()` \n",
    "\n",
    "The function `re.sub(pat, replacement, str)` function takes three arguments: the regular expression pattern, a replacement string, and the string to search on.  The funciton searches for all instaces of the pattern in the passed in string and replaces them.  \n",
    "\n"
   ]
  },
  {
   "cell_type": "code",
   "execution_count": null,
   "id": "4fcbc77c",
   "metadata": {
    "id": "mSKm7O7Y7zJS"
   },
   "outputs": [],
   "source": [
    "print(re.sub(r'benefits', 'advantages', 'Show the benefits of doing many examples'))"
   ]
  },
  {
   "cell_type": "markdown",
   "id": "e82cafc4",
   "metadata": {
    "id": "BX5dIstA9H15"
   },
   "source": [
    "### Example - Substitution\n",
    "\n",
    "Replacement strings can make use of groups using `\\1` and `\\2`, to refer to `group(1)` and `group(2)`. \n",
    "\n",
    "For example, in the following text search for email addresses and replace the host with gmail.com. "
   ]
  },
  {
   "cell_type": "code",
   "execution_count": null,
   "id": "a84c6071",
   "metadata": {
    "id": "eY0xSuhu86jG"
   },
   "outputs": [],
   "source": [
    "tempStr = 'testing abc@mtu.edu, other words. punctuation doe@foobar.org blah'\n",
    "print(re.sub(r'([\\w\\.-]+)@([\\w\\.-]+)', r'\\1@gmail.com', tempStr))"
   ]
  },
  {
   "cell_type": "markdown",
   "id": "7cc7b6f3",
   "metadata": {
    "id": "UsQa_DMaGNML"
   },
   "source": [
    "We will see more examples of regular expressions next week with respect to web scraping. \n"
   ]
  },
  {
   "cell_type": "markdown",
   "id": "0d2b331b-3d53-417c-b06d-b933cdbd48e2",
   "metadata": {},
   "source": [
    "## Congratulations! You have finished Lab5! \n",
    "\n",
    "### Submission Instructions\n",
    "\n",
    "Below, you will see a cell. Running this cell will automatically generate a zip file with your autograded answers. Once you submit this file to the Lab 5 assignment on Gradescope. \n",
    "\n",
    "\n",
    "Make sure you have run all cells in your notebook **in order** before running the cell below, so that all images/graphs appear in the output. The cell below will generate a zip file for you to submit. **Please save before exporting!**"
   ]
  },
  {
   "cell_type": "markdown",
   "id": "4bbfc388",
   "metadata": {
    "deletable": false,
    "editable": false
   },
   "source": [
    "## Submission\n",
    "\n",
    "Make sure you have run all cells in your notebook in order before running the cell below, so that all images/graphs appear in the output. The cell below will generate a zip file for you to submit. **Please save before exporting!**"
   ]
  },
  {
   "cell_type": "code",
   "execution_count": null,
   "id": "6816dfc3",
   "metadata": {
    "deletable": false,
    "editable": false
   },
   "outputs": [],
   "source": [
    "# Save your notebook first, then run this cell to export your submission.\n",
    "grader.export(pdf=False, run_tests=True)"
   ]
  },
  {
   "cell_type": "markdown",
   "id": "70d3ef7b",
   "metadata": {},
   "source": [
    " "
   ]
  }
 ],
 "metadata": {
  "kernelspec": {
   "display_name": "Python [conda env:un5550] *",
   "language": "python",
   "name": "conda-env-un5550-py"
  },
  "language_info": {
   "codemirror_mode": {
    "name": "ipython",
    "version": 3
   },
   "file_extension": ".py",
   "mimetype": "text/x-python",
   "name": "python",
   "nbconvert_exporter": "python",
   "pygments_lexer": "ipython3",
   "version": "3.10.12"
  },
  "otter": {
   "OK_FORMAT": true,
   "assignment_name": "lab5",
   "tests": {
    "q10": {
     "name": "q10",
     "points": 8,
     "suites": [
      {
       "cases": [
        {
         "code": ">>> 'rap them' in positive_E10\nTrue",
         "hidden": false,
         "locked": false
        },
        {
         "code": ">>> 'tapeth' in positive_E10 and 'apth' in positive_E10\nTrue",
         "hidden": false,
         "locked": false
        },
        {
         "code": ">>> 'wrap/try' in positive_E10 and 'sap tray' in positive_E10\nTrue",
         "hidden": false,
         "locked": false
        },
        {
         "code": ">>> '87ap9th' in positive_E10\nTrue",
         "hidden": false,
         "locked": false
        },
        {
         "code": ">>> 'apothecary' in positive_E10\nTrue",
         "hidden": false,
         "locked": false
        },
        {
         "code": ">>> 'aleht' in negative_E10\nTrue",
         "hidden": false,
         "locked": false
        },
        {
         "code": ">>> 'happy them' in negative_E10 and 'tarpth' in negative_E10\nTrue",
         "hidden": false,
         "locked": false
        },
        {
         "code": ">>> 'Apt'in negative_E10 and 'peth' in negative_E10\nTrue",
         "hidden": false,
         "locked": false
        },
        {
         "code": ">>> 'tarreth' in negative_E10 and 'ddapdg' in negative_E10\nTrue",
         "hidden": false,
         "locked": false
        },
        {
         "code": ">>> 'apples' in negative_E10 and 'shape the' in negative_E10\nTrue",
         "hidden": false,
         "locked": false
        }
       ],
       "scored": true,
       "setup": "",
       "teardown": "",
       "type": "doctest"
      }
     ]
    },
    "q11": {
     "name": "q11",
     "points": 8,
     "suites": [
      {
       "cases": [
        {
         "code": ">>> 'affgfking' in positive_E4 and 'rafgkahe' in positive_E4\nTrue",
         "hidden": false,
         "locked": false
        },
        {
         "code": ">>> 'bafghk' in positive_E4 and 'baffgkit' in positive_E4\nTrue",
         "hidden": false,
         "locked": false
        },
        {
         "code": ">>> 'affgfking' in positive_E4 and 'rafgkahe' in positive_E4\nTrue",
         "hidden": false,
         "locked": false
        },
        {
         "code": ">>> 'bafghk' in positive_E4 and 'baffg kit' in positive_E4\nTrue",
         "hidden": false,
         "locked": false
        },
        {
         "code": ">>> 'fgok'in negative_E4 and 'a fgk'in negative_E4\nTrue",
         "hidden": false,
         "locked": false
        },
        {
         "code": ">>> 'affgm' in negative_E4 and 'afffhk' in negative_E4\nTrue",
         "hidden": false,
         "locked": false
        },
        {
         "code": ">>> 'fgik' in negative_E4 and 'afg.K' in negative_E4\nTrue",
         "hidden": false,
         "locked": false
        },
        {
         "code": ">>> 'aff gm' in negative_E4 and 'afffhgk' in negative_E4\nTrue",
         "hidden": false,
         "locked": false
        }
       ],
       "scored": true,
       "setup": "",
       "teardown": "",
       "type": "doctest"
      }
     ]
    },
    "q12": {
     "name": "q12",
     "points": 8,
     "suites": [
      {
       "cases": [
        {
         "code": ">>> 'jdoe@gmail.com' in email and 'sherlock24@gmail.com' in email\nTrue",
         "hidden": false,
         "locked": false
        },
        {
         "code": ">>> 'tom_brady@gmail.com' in email and 'harrypotter+news@gmail.com' in email\nTrue",
         "hidden": false,
         "locked": false
        },
        {
         "code": ">>> 'jonstark+dragons@gmail.com' in email and 'juliet_capulet+poison@gmail.com' in email\nTrue",
         "hidden": false,
         "locked": false
        },
        {
         "code": ">>> 'jdoe' in username and 'sherlock24' in username\nTrue",
         "hidden": false,
         "locked": false
        },
        {
         "code": ">>> 'tom_brady' in username and 'harrypotter' in username\nTrue",
         "hidden": false,
         "locked": false
        },
        {
         "code": ">>> 'jonstark' in username and 'juliet_capulet'in username\nTrue",
         "hidden": false,
         "locked": false
        }
       ],
       "scored": true,
       "setup": "",
       "teardown": "",
       "type": "doctest"
      }
     ]
    },
    "q2": {
     "name": "q2",
     "points": [
      1
     ],
     "suites": [
      {
       "cases": [
        {
         "code": ">>> set(q2).issubset({1, 2, 3, 4})\nTrue",
         "hidden": false,
         "locked": false
        }
       ],
       "scored": true,
       "setup": "",
       "teardown": "",
       "type": "doctest"
      }
     ]
    },
    "q3": {
     "name": "q3",
     "points": [
      1
     ],
     "suites": [
      {
       "cases": [
        {
         "code": ">>> q3 == True or q3 == False\nTrue",
         "hidden": false,
         "locked": false
        }
       ],
       "scored": true,
       "setup": "",
       "teardown": "",
       "type": "doctest"
      }
     ]
    },
    "q5": {
     "name": "q5",
     "points": [
      1
     ],
     "suites": [
      {
       "cases": [
        {
         "code": ">>> isinstance(q5, str)\nTrue",
         "hidden": false,
         "locked": false
        }
       ],
       "scored": true,
       "setup": "",
       "teardown": "",
       "type": "doctest"
      }
     ]
    },
    "q6": {
     "name": "q6",
     "points": [
      1
     ],
     "suites": [
      {
       "cases": [
        {
         "code": ">>> isinstance(q6, str)\nTrue",
         "hidden": false,
         "locked": false
        }
       ],
       "scored": true,
       "setup": "",
       "teardown": "",
       "type": "doctest"
      }
     ]
    },
    "q7": {
     "name": "q7",
     "points": [
      1
     ],
     "suites": [
      {
       "cases": [
        {
         "code": ">>> isinstance(q7, str)\nTrue",
         "hidden": false,
         "locked": false
        }
       ],
       "scored": true,
       "setup": "",
       "teardown": "",
       "type": "doctest"
      }
     ]
    },
    "q8": {
     "name": "q8",
     "points": 8,
     "suites": [
      {
       "cases": [
        {
         "code": ">>> match_word('test', 'This is just a test') == True\nTrue",
         "hidden": false,
         "locked": false
        },
        {
         "code": ">>> match_word('test', 'testing, testing, one, two, three') == False\nTrue",
         "hidden": false,
         "locked": false
        }
       ],
       "scored": true,
       "setup": "",
       "teardown": "",
       "type": "doctest"
      }
     ]
    },
    "q9": {
     "name": "q9",
     "points": 8,
     "suites": [
      {
       "cases": [
        {
         "code": ">>> 'pit' in positive\nTrue",
         "hidden": false,
         "locked": false
        },
        {
         "code": ">>> 'spot' in positive\nTrue",
         "hidden": false,
         "locked": false
        },
        {
         "code": ">>> 'spate' in positive\nTrue",
         "hidden": false,
         "locked": false
        },
        {
         "code": ">>> 'slap two' in positive\nTrue",
         "hidden": false,
         "locked": false
        },
        {
         "code": ">>> 'respite' in positive\nTrue",
         "hidden": false,
         "locked": false
        },
        {
         "code": ">>> 'pt' in negative\nTrue",
         "hidden": false,
         "locked": false
        },
        {
         "code": ">>> 'Pot' in negative\nTrue",
         "hidden": false,
         "locked": false
        },
        {
         "code": ">>> 'peat' in negative\nTrue",
         "hidden": false,
         "locked": false
        },
        {
         "code": ">>> 'part' in negative\nTrue",
         "hidden": false,
         "locked": false
        },
        {
         "code": ">>> 'SLIP ten' in negative\nTrue",
         "hidden": false,
         "locked": false
        }
       ],
       "scored": true,
       "setup": "",
       "teardown": "",
       "type": "doctest"
      }
     ]
    }
   }
  }
 },
 "nbformat": 4,
 "nbformat_minor": 5
}

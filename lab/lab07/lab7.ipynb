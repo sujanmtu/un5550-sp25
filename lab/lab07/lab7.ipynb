{
 "cells": [
  {
   "cell_type": "markdown",
   "id": "5c342a2a",
   "metadata": {
    "id": "7qjFdnLMf3v7"
   },
   "source": [
    "# Lab 7\n",
    "The topics of this week  continues to be getting data, in this case using an API to access structured data. \n",
    "\n",
    "In this lab notebook you will gain experience reading data from and posting to an API. \n"
   ]
  },
  {
   "cell_type": "markdown",
   "id": "307e0dde",
   "metadata": {},
   "source": [
    "## Lab Setup"
   ]
  },
  {
   "cell_type": "code",
   "execution_count": null,
   "id": "812c10c2",
   "metadata": {
    "id": "sjePHfG9fvnl",
    "tags": []
   },
   "outputs": [],
   "source": [
    "import requests\n",
    "import json\n",
    "import datetime\n",
    "import time\n",
    "from io import StringIO\n",
    "import pandas as pd\n",
    "import numpy as np\n",
    "import matplotlib.pyplot as plt\n",
    "import matplotlib as mpl \n",
    "%matplotlib inline  \n",
    "\n",
    "import os\n",
    "if os.environ[\"HOME\"]=='/home/jovyan':\n",
    "    !pip install --upgrade otter-grader\n",
    "    \n",
    "import otter\n",
    "grader = otter.Notebook()"
   ]
  },
  {
   "cell_type": "markdown",
   "id": "e2b58722",
   "metadata": {
    "id": "1yS4L1Dkf9pz"
   },
   "source": [
    "## API Getting Data\n",
    "\n",
    "So far we have seen examples of getting data from an API.  These examples make use of GET requests from the API/server. \n",
    "\n",
    "Making a HTTP GET request can be done using several python libraries including: \n",
    "\n",
    "* httplib \n",
    "* urllib \n",
    "* requests \n",
    "\n",
    "We have been using the `requests` module.\n",
    "\n",
    "Let's look at another example."
   ]
  },
  {
   "cell_type": "markdown",
   "id": "958ce23c",
   "metadata": {
    "id": "4RGqPnaJgAcz"
   },
   "source": [
    "## Example: Google Books\n",
    "\n",
    "Here we will examine using the Google Books API:  \n",
    "https://developers.google.com/books/docs/overview\n",
    "\n",
    "\n",
    "We will be using the \"volumes\" resource which does not require authentication.  \n",
    "https://developers.google.com/books/docs/v1/getting_started#background-operations\n",
    "\n",
    "Specifically, we will be using the query function to search by ISBN or book numbers. \n",
    "https://developers.google.com/books/docs/v1/using#PerformingSearch\n",
    "\n",
    "\n"
   ]
  },
  {
   "cell_type": "code",
   "execution_count": null,
   "id": "768ca145",
   "metadata": {
    "id": "_1bq28Rff87z",
    "tags": []
   },
   "outputs": [],
   "source": [
    "# api-endpoint \n",
    "url = \"https://www.googleapis.com/books/v1/volumes\"\n",
    "  \n",
    "isbn = \"isbn:0553386794\"\n",
    "\n",
    "# set the parameters to be sent to the API\n",
    "params = {'q': isbn}\n",
    "\n",
    "resp = requests.get(url, params)"
   ]
  },
  {
   "cell_type": "markdown",
   "id": "3ec6aafd",
   "metadata": {
    "id": "wbsJt2AJhENL"
   },
   "source": [
    "Look at what the response is? \n",
    "\n",
    "How do we then extract the data?"
   ]
  },
  {
   "cell_type": "code",
   "execution_count": null,
   "id": "13b29517",
   "metadata": {
    "id": "k3COrBT2hC63",
    "tags": []
   },
   "outputs": [],
   "source": [
    "resp"
   ]
  },
  {
   "cell_type": "code",
   "execution_count": null,
   "id": "64e3b23f",
   "metadata": {
    "id": "-NlgTV8GhITl",
    "tags": []
   },
   "outputs": [],
   "source": [
    "dat = resp.json()\n",
    "#dat\n",
    "\n",
    "# First, we can print it better! \n",
    "print(json.dumps(resp.json(), indent=4)[:800])"
   ]
  },
  {
   "cell_type": "markdown",
   "id": "131bc036",
   "metadata": {
    "id": "khf6mAY8hPro"
   },
   "source": [
    "There is a lot of information here.  Explore the structure of the JSON information. "
   ]
  },
  {
   "cell_type": "code",
   "execution_count": null,
   "id": "0886a318",
   "metadata": {
    "id": "HB6bedUvhJ1h",
    "tags": []
   },
   "outputs": [],
   "source": [
    "dat.keys()"
   ]
  },
  {
   "cell_type": "code",
   "execution_count": null,
   "id": "d2b3f9bd",
   "metadata": {
    "id": "iuxqDdbdhVeC",
    "tags": []
   },
   "outputs": [],
   "source": [
    "dat['kind']"
   ]
  },
  {
   "cell_type": "code",
   "execution_count": null,
   "id": "11da8051",
   "metadata": {
    "id": "4UIRJWJ-hW-1",
    "tags": []
   },
   "outputs": [],
   "source": [
    "dat['totalItems']"
   ]
  },
  {
   "cell_type": "code",
   "execution_count": null,
   "id": "232f3f74",
   "metadata": {
    "id": "51_-yxyYhaGT",
    "tags": []
   },
   "outputs": [],
   "source": [
    "type(dat['items'])"
   ]
  },
  {
   "cell_type": "code",
   "execution_count": null,
   "id": "cb6a78c3",
   "metadata": {
    "id": "416pXfskhjfl",
    "tags": []
   },
   "outputs": [],
   "source": [
    "# We can look at the first item on the list \n",
    "dat['items'][0]"
   ]
  },
  {
   "cell_type": "code",
   "execution_count": null,
   "id": "13a1d143",
   "metadata": {
    "id": "QPpLdjOHhnGE",
    "tags": []
   },
   "outputs": [],
   "source": [
    "'''We can investigate the keys where information is stored for each item'''\n",
    "dat['items'][0].keys()"
   ]
  },
  {
   "cell_type": "code",
   "execution_count": null,
   "id": "f6a39362",
   "metadata": {
    "id": "RPQ6Wts-hwR2",
    "tags": []
   },
   "outputs": [],
   "source": [
    "# You can start building pretty long lines of code to access information deep \n",
    "#  in the structure. \n",
    "# Print out the ISBN_10 number for the book \n",
    "dat['items'][0]['volumeInfo']['industryIdentifiers'][0]['identifier']"
   ]
  },
  {
   "cell_type": "markdown",
   "id": "95755783",
   "metadata": {
    "deletable": false,
    "editable": false,
    "id": "wor7tdbyh2Pc"
   },
   "source": [
    "## Exercise 1 \n",
    "\n",
    "Which of the Game of Thrones books is longest?\n",
    "\n",
    "Get information about each book and print out the title and number of pages.  Then, report the book title and number of pages for the book with that is the longest.  \n",
    "\n",
    "*Note, the API may return multiple entries for each isbn.  You may use the first entry for information.  If the information is missing a page number it is likely an audiobook, and you should then use the next entry for information.  If no entry has the title and page number information return the title as \"no title\" and the number of pages as '-1'.*\n",
    "\n",
    "Collect the book information -- title, number of pages -- in a nested list, `ex1list` in the for loop. \n",
    "\n",
    "Create a DataFrame `ex1df` from this nested list with columns of `Title` and `NumPages`. \n",
    "\n",
    "For the book with the most pages, report its title `longestBookTitle` and number of pages `longestBookNumPages`. "
   ]
  },
  {
   "cell_type": "code",
   "execution_count": null,
   "id": "7cace6a8",
   "metadata": {
    "deletable": false,
    "editable": false,
    "id": "1F7qSQPChzDx",
    "tags": []
   },
   "outputs": [],
   "source": [
    "''' Following is the isbn codes for Game of Thrones books. '''\n",
    "\n",
    "isbns = ['0553386794', '0345535421', '9780345543981', '0553390570', '1101886048']"
   ]
  },
  {
   "cell_type": "code",
   "execution_count": null,
   "id": "387ea6d3",
   "metadata": {
    "id": "nj7c6pAzh8Sq",
    "tags": []
   },
   "outputs": [],
   "source": [
    "'''\n",
    "Iterate for each isbns to finds titles and pages for each item. \n",
    "Collect this information in a list. \n",
    "Look to use \"volumeInfo\" to gather the information needed.\n",
    "Print the title + the number of pages in the loop. \n",
    "\n",
    "Outside the loop:\n",
    "- Convert the list to a DataFrame, ex1df, column names 'Title' and 'NumPages' \n",
    "- Report longestBookTitle and longestBookNumPages.\n",
    "'''\n",
    "\n",
    "ex1list = [] \n",
    "\n",
    "for i in isbns: \n",
    "    params = {'q': 'isbn:' + i}\n",
    "    resp = ...\n",
    "    \n",
    "    \n",
    "    print(title + \" has \" + str(pages) + \" pages.\")\n",
    "    \n",
    "ex1df = ... \n",
    "\n",
    "longestBookTitle = ... \n",
    "longestBookNumPages = ... "
   ]
  },
  {
   "cell_type": "code",
   "execution_count": null,
   "id": "d8e3a3a7",
   "metadata": {
    "deletable": false,
    "editable": false
   },
   "outputs": [],
   "source": [
    "grader.check(\"q1\")"
   ]
  },
  {
   "cell_type": "markdown",
   "id": "f7aed1dc",
   "metadata": {
    "id": "13hGseJjlt31"
   },
   "source": [
    "## Example: iTunes Content \n",
    "\n",
    "Apple has a simple [API](https://developer.apple.com/library/archive/documentation/AudioVideo/Conceptual/iTuneSearchAPI/Searching.html#//apple_ref/doc/uid/TP40017632-CH5-SW1) for looking up iTunes content."
   ]
  },
  {
   "cell_type": "code",
   "execution_count": null,
   "id": "967a9e68",
   "metadata": {
    "id": "VCjnZU3YkwS8",
    "tags": []
   },
   "outputs": [],
   "source": [
    "# api-endpoint\n",
    "url = 'https://itunes.apple.com/search'\n",
    "\n",
    "# For example let's search for lord of the rings ebooks \n",
    "params = {'term': 'lord+of+the+rings', 'entity': 'ebook', \n",
    "         'limit': 3}\n",
    "\n",
    "resp = requests.get(url, params)"
   ]
  },
  {
   "cell_type": "code",
   "execution_count": null,
   "id": "12b81977",
   "metadata": {
    "id": "cIizjeeYl2rn",
    "tags": []
   },
   "outputs": [],
   "source": [
    "resp"
   ]
  },
  {
   "cell_type": "code",
   "execution_count": null,
   "id": "a56906bb",
   "metadata": {
    "id": "ylYcr0tAl3Rm",
    "tags": []
   },
   "outputs": [],
   "source": [
    "resp.json()"
   ]
  },
  {
   "cell_type": "markdown",
   "id": "6f11f552",
   "metadata": {
    "id": "aGpkG4ZQl9ve"
   },
   "source": [
    "## Exercise 2\n",
    "\n",
    "Search for the 50 \"The Expanse\" e-books (search may return fewer or slightly more). \n",
    "\n",
    "Create a DataFrame from the responses containing the `TrackName`, `TrackID`, `Price`, `AveRating`, `NumRating`. \n",
    "\n",
    "Sort the results from highest to lowest of `AveRating`, then by `NumRating`.\n",
    "\n",
    "If any of the information you are meant to collect is missing, replace with `NaN`"
   ]
  },
  {
   "cell_type": "code",
   "execution_count": null,
   "id": "2af750e4",
   "metadata": {
    "id": "lLZ8urk1l37R",
    "tags": []
   },
   "outputs": [],
   "source": [
    "url = 'https://itunes.apple.com/search'\n",
    "\n",
    "# \"\"\" For example let's search for \"The Expanse\" ebooks \"\"\"\n",
    "\n",
    "params = {'term': 'expanse', 'entity': 'ebook', 'limit': 50}\n",
    "resp = requests.get(url, params) \n",
    "\n",
    "#resp.json()"
   ]
  },
  {
   "cell_type": "code",
   "execution_count": null,
   "id": "26ac66fa",
   "metadata": {
    "id": "_wqXvkoGmeMh",
    "tags": []
   },
   "outputs": [],
   "source": [
    "obj = json.loads(resp.text)\n",
    "#obj       # comment out to explore, leave commented before submission"
   ]
  },
  {
   "cell_type": "markdown",
   "id": "f7b10841",
   "metadata": {
    "id": "G7Kzxb9EmKDz"
   },
   "source": [
    "Try using at least two approaches to create the DataFrame, e.g., \n",
    "\n",
    "* *Method 1* - Keep track of rows in a list, convert nested lists to DataFrame.  Note, do not create an empty DataFrame and append entries in an iterator (this is not scalable)  \n",
    "https://stackoverflow.com/questions/13784192/creating-an-empty-pandas-dataframe-and-then-filling-it/41529411#41529411\n",
    "* *Method 2* - Use pandas `read_json` function to convert JSON to pandas object\n",
    "* *Method 3* - Use `json_normalize` function to read in JSON to a flat table. \n",
    "The `json_normalize` function normalizes a semi-structured JSON data object into a flat table.   \n",
    "https://pandas.pydata.org/pandas-docs/stable/reference/api/pandas.json_normalize.html"
   ]
  },
  {
   "cell_type": "markdown",
   "id": "d5ed3c64",
   "metadata": {
    "deletable": false,
    "editable": false
   },
   "source": [
    "<!-- BEGIN QUESTION -->\n",
    "\n"
   ]
  },
  {
   "cell_type": "code",
   "execution_count": null,
   "id": "abc96046",
   "metadata": {
    "id": "GL3ucTntmkvG",
    "tags": []
   },
   "outputs": [],
   "source": [
    "# State which method you are using: \n",
    "#  Method ???\n",
    "\n",
    "\n",
    "\n",
    "q2df1 = ...\n",
    "\n",
    "print(q2df1.shape)\n",
    "q2df1.head()"
   ]
  },
  {
   "cell_type": "markdown",
   "id": "32eb7544",
   "metadata": {
    "deletable": false,
    "editable": false
   },
   "source": [
    "<!-- END QUESTION -->\n",
    "\n",
    "<!-- BEGIN QUESTION -->\n",
    "\n"
   ]
  },
  {
   "cell_type": "code",
   "execution_count": null,
   "id": "13effe10",
   "metadata": {
    "id": "iUuWC_MgmvEQ",
    "tags": []
   },
   "outputs": [],
   "source": [
    "# State which method you are using: \n",
    "#  Method ??? \n",
    "\n",
    "q2df2 = ...\n",
    "\n",
    "\n",
    "print(q2df2.shape)\n",
    "q2df2.head()"
   ]
  },
  {
   "cell_type": "markdown",
   "id": "f44d85b4",
   "metadata": {
    "deletable": false,
    "editable": false,
    "id": "3izn33qpnl_J"
   },
   "source": [
    "<!-- END QUESTION -->\n",
    "\n",
    "## Example: TV Shows \n",
    "\n",
    "Here we can use an API on tv show information:  \n",
    "http://api.tvmaze.com/"
   ]
  },
  {
   "cell_type": "code",
   "execution_count": null,
   "id": "3bf7df4d",
   "metadata": {
    "id": "Sd9Xi3CxnazF",
    "tags": []
   },
   "outputs": [],
   "source": [
    "# We can find the tvmaze id for a show based on the IMDB id. \n",
    "id_bcs = 'tt3032476'\n",
    "resp = requests.get('http://api.tvmaze.com/lookup/shows?imdb=' + id_bcs)"
   ]
  },
  {
   "cell_type": "code",
   "execution_count": null,
   "id": "f62f73b0",
   "metadata": {
    "id": "_yvdU_HZn8vL",
    "tags": []
   },
   "outputs": [],
   "source": [
    "resp.json()"
   ]
  },
  {
   "cell_type": "markdown",
   "id": "997101da",
   "metadata": {
    "deletable": false,
    "editable": false,
    "id": "R3FZH1_XoJqg"
   },
   "source": [
    "## Exercise 3\n",
    "\n",
    "Let's consider the 5 most viewed shows on Netflix (from their [2024 engagment report](https://www.tvguide.com/galleries/the-most-watched-netflix-shows-2024/)) as well as several shows that won Emmy's in 2024. \n",
    "\n",
    "For each show get information on the episodes. \n",
    "\n",
    "Consider using the endpoint - http://www.tvmaze.com/api#show-episode-list\n",
    "\n",
    "Create a DataFrame, `q3df`, that reports for each show and season the number of episodes, the min, mean, and max running time as well as the min, mean, and max rating over the episodes that season. \n",
    "\n",
    "The DataFrame should have columns: `ShowName`, `Season`, `Num_Eps`, `Min_Run`, `Mean_Run`, `Max_Run`, `Min_Rating`, `Mean_Rating`, `Max_Rating`.  \n",
    "\n",
    "In your solution, but in a cooling period of 2-5 seconds between API calls. You may want to look at using `time.sleep`\n"
   ]
  },
  {
   "cell_type": "code",
   "execution_count": null,
   "id": "9e81529f-4596-4a12-b629-b076492fd10b",
   "metadata": {
    "deletable": false,
    "editable": false,
    "tags": []
   },
   "outputs": [],
   "source": [
    "imdb_ids = ['tt5611024', 'tt8740790', 'tt13649112', 'tt13210838', 'tt9018736', \n",
    "           'tt11815682', 'tt2788316', 'tt5875444', 'tt14452776']"
   ]
  },
  {
   "cell_type": "code",
   "execution_count": null,
   "id": "636e871e",
   "metadata": {
    "id": "A0h5N-R0n-NT",
    "tags": []
   },
   "outputs": [],
   "source": [
    "# Create a DataFrame \"q3df\"\n",
    "\n",
    "q3df"
   ]
  },
  {
   "cell_type": "code",
   "execution_count": null,
   "id": "44a6bdd6",
   "metadata": {
    "deletable": false,
    "editable": false
   },
   "outputs": [],
   "source": [
    "grader.check(\"q3\")"
   ]
  },
  {
   "cell_type": "markdown",
   "id": "e2218b67-61b2-419d-a223-ef5b678b1128",
   "metadata": {},
   "source": [
    "## Congratulations! You have finished Lab7! \n",
    "\n",
    "### Submission Instructions\n",
    "\n",
    "Below, you will see a cell. Running this cell will automatically generate a zip file with your autograded answers. Once you submit this file to the Lab 7 assignment on Gradescope. \n",
    "\n",
    "\n",
    "Make sure you have run all cells in your notebook **in order** before running the cell below. The cell below will generate a zip file for you to submit. **Please save before exporting!**"
   ]
  },
  {
   "cell_type": "markdown",
   "id": "7b74166b",
   "metadata": {
    "deletable": false,
    "editable": false
   },
   "source": [
    "## Submission\n",
    "\n",
    "Make sure you have run all cells in your notebook in order before running the cell below, so that all images/graphs appear in the output. The cell below will generate a zip file for you to submit. **Please save before exporting!**"
   ]
  },
  {
   "cell_type": "code",
   "execution_count": null,
   "id": "576bd39e",
   "metadata": {
    "deletable": false,
    "editable": false
   },
   "outputs": [],
   "source": [
    "# Save your notebook first, then run this cell to export your submission.\n",
    "grader.export(pdf=False, run_tests=True)"
   ]
  },
  {
   "cell_type": "markdown",
   "id": "74d82c75",
   "metadata": {},
   "source": [
    " "
   ]
  }
 ],
 "metadata": {
  "kernelspec": {
   "display_name": "un5550fa24",
   "language": "python",
   "name": "un5550fa24"
  },
  "language_info": {
   "codemirror_mode": {
    "name": "ipython",
    "version": 3
   },
   "file_extension": ".py",
   "mimetype": "text/x-python",
   "name": "python",
   "nbconvert_exporter": "python",
   "pygments_lexer": "ipython3",
   "version": "3.10.16"
  },
  "otter": {
   "OK_FORMAT": true,
   "assignment_name": "lab7",
   "tests": {
    "q1": {
     "name": "q1",
     "points": 10,
     "suites": [
      {
       "cases": [
        {
         "code": ">>> ex1df.shape[0] == 5 and ex1df.shape[1] == 2\nTrue",
         "hidden": false,
         "locked": false
        },
        {
         "code": ">>> all(ex1df.columns == ['Title', 'NumPages'])\nTrue",
         "hidden": false,
         "locked": false
        }
       ],
       "scored": true,
       "setup": "",
       "teardown": "",
       "type": "doctest"
      }
     ]
    },
    "q3": {
     "name": "q3",
     "points": [
      1,
      1
     ],
     "suites": [
      {
       "cases": [
        {
         "code": ">>> q3df.shape == (18, 9)\nTrue",
         "hidden": false,
         "locked": false
        },
        {
         "code": ">>> all(q3df.columns == ['ShowName', 'Season', 'Num_Eps', 'Min_Run', 'Mean_Run', 'Max_Run', 'Min_Rating', 'Mean_Rating', 'Max_Rating'])\nTrue",
         "hidden": false,
         "locked": false
        }
       ],
       "scored": true,
       "setup": "",
       "teardown": "",
       "type": "doctest"
      }
     ]
    }
   }
  }
 },
 "nbformat": 4,
 "nbformat_minor": 5
}

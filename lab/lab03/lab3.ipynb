{
 "cells": [
  {
   "cell_type": "markdown",
   "id": "0583c8d9",
   "metadata": {},
   "source": [
    "# Lab 3 \n",
    "\n",
    "\n",
    "**Lab 3**\n",
    "Assignment Objectives:  \n",
    "Upon successful completion of this assignment, a student will be able to:\n",
    "* Gain experience using and writing functions.\n",
    "* Use basic statistical functions\n",
    "* Gain experience in exploratory data visualization\n",
    "* Use basic data cleaning."
   ]
  },
  {
   "cell_type": "code",
   "execution_count": null,
   "id": "d1bd78d6",
   "metadata": {
    "tags": []
   },
   "outputs": [],
   "source": [
    "#  Import libraries \n",
    "import pandas as pd\n",
    "import numpy as np\n",
    "import matplotlib as mpl\n",
    "import matplotlib.pyplot as plt\n",
    "%matplotlib inline\n",
    "import seaborn as sns\n",
    "\n",
    "import os\n",
    "if os.environ[\"HOME\"]=='/home/jovyan':\n",
    "    !pip install --upgrade otter-grader\n",
    "    \n",
    "import otter\n",
    "grader = otter.Notebook()"
   ]
  },
  {
   "cell_type": "markdown",
   "id": "a39cd771",
   "metadata": {},
   "source": [
    "*Tip: It is good practice to list all imports needed at the top of the notebook.  You can import modules in later cells as needed, but listing them at the top clearly shows all which are needed to be available / installed.*"
   ]
  },
  {
   "cell_type": "markdown",
   "id": "abd68191",
   "metadata": {
    "id": "Tk_HzyPRF0pb"
   },
   "source": [
    "### Data Set - Mushroom\n",
    "\n",
    "You will be using the [Seconday Mushroom Dataset](https://archive.ics.uci.edu/dataset/848/secondary+mushroom+dataset) available on the [UCI Machine Learning Repository](https://archive.ics.uci.edu/)\n",
    "\n",
    "Please use the mushroom data files in your \"data\" folder. \n",
    "\n",
    "\n"
   ]
  },
  {
   "cell_type": "markdown",
   "id": "1c5ca841",
   "metadata": {
    "deletable": false,
    "editable": false,
    "id": "SODxVOmdGRW-",
    "tags": []
   },
   "source": [
    "### Exercise 1: Import Data \n",
    "You will want to create a function to import the data \n",
    "\n",
    "The function should be named `ImportDataMushroom(filepath)`    \n",
    "`ImportDataMushroom` has one input arguments: \n",
    "* `filepath` - a string that links to the data to be imported \n",
    "\n",
    "In the function, you should import the data using `read_csv`. You may need to use additional arguments in order to properly read in the data.  But let the function use it default reasoning on `na_values`.\n",
    "\n",
    "The function should return the DataFrame. \n",
    "\n",
    "Helpful links: \n",
    "\n",
    "* https://pandas.pydata.org/pandas-docs/stable/generated/pandas.read_csv.html#pandas.read_csv"
   ]
  },
  {
   "cell_type": "code",
   "execution_count": null,
   "id": "838779a1",
   "metadata": {
    "colab": {
     "base_uri": "https://localhost:8080/",
     "height": 235
    },
    "executionInfo": {
     "elapsed": 702,
     "status": "ok",
     "timestamp": 1599773891853,
     "user": {
      "displayName": "Laura Brown",
      "photoUrl": "https://lh3.googleusercontent.com/a-/AOh14GjYbC5So3kNOYBteW-fSY5JpgP-bBJa7kyAEluaKg=s64",
      "userId": "02180634349638765126"
     },
     "user_tz": 240
    },
    "id": "Wl4t-wwZGxXN",
    "outputId": "05cf1cfa-3401-40d6-86da-7c035af0d602",
    "tags": []
   },
   "outputs": [],
   "source": [
    "# Create the function ImportData here and return the data \n",
    "\n",
    "def ImportDataMushroom(filepath):\n",
    "    # return the created DataFrame, df \n",
    "    df = ...\n",
    "    \n",
    "    return df\n",
    "\n",
    "filepath = '...'  \n",
    "data = ImportDataMushroom(filepath)\n",
    "data.head()"
   ]
  },
  {
   "cell_type": "code",
   "execution_count": null,
   "id": "7209563b",
   "metadata": {
    "deletable": false,
    "editable": false
   },
   "outputs": [],
   "source": [
    "grader.check(\"q1\")"
   ]
  },
  {
   "cell_type": "markdown",
   "id": "151d11b0-eb60-4fcc-a92a-4b40495ef18e",
   "metadata": {},
   "source": [
    "### Exercise 2: Data Exploration\n"
   ]
  },
  {
   "cell_type": "markdown",
   "id": "805f01ff-dbd0-4fda-b794-cb23e36d231e",
   "metadata": {},
   "source": [
    "You will want to explore if this data has any missing data.  And if it does, handle the missing values. "
   ]
  },
  {
   "cell_type": "markdown",
   "id": "a1c10c26-5eed-4a8e-8d33-ab1c1e31e4ea",
   "metadata": {
    "deletable": false,
    "editable": false
   },
   "source": [
    "#### Exercise 2a: Columns with Missing Data\n",
    "\n",
    "First, you will determine whether each column has any missing values (a Boolean for each column). \n",
    "\n",
    "`col_missing_data` should be a DataSeries with each column name as an index value and Booleans for whether there is any missing data. \n",
    "\n",
    "You may want to consider the `isnull` or `isna` functions. \n",
    "\n",
    "**Caution:** Make sure to use the DataFrame `data` this frame is created using the `ImportDataMushroom` function.  Do not use `df` which is local to the function.  "
   ]
  },
  {
   "cell_type": "code",
   "execution_count": null,
   "id": "134b0543-ef5e-4a32-ab19-f811d3c9b022",
   "metadata": {
    "tags": []
   },
   "outputs": [],
   "source": [
    "col_missing_data = ...\n",
    "col_missing_data"
   ]
  },
  {
   "cell_type": "code",
   "execution_count": null,
   "id": "e5b6e9de",
   "metadata": {
    "deletable": false,
    "editable": false
   },
   "outputs": [],
   "source": [
    "grader.check(\"q2a\")"
   ]
  },
  {
   "cell_type": "markdown",
   "id": "50b0f2b5-aa3b-49b0-b72c-259c34915c2b",
   "metadata": {
    "deletable": false,
    "editable": false
   },
   "source": [
    "#### Exercise 2b: Amount of Missing Data \n",
    "\n",
    "It is good to understand where and how your data is missing.  For instance are there any patterns to how it is missing?  \n",
    "\n",
    "Let's establish the amount of missing data. "
   ]
  },
  {
   "cell_type": "code",
   "execution_count": null,
   "id": "e1f89ca9-38a6-410a-ba06-f1d9e4e9cdf3",
   "metadata": {
    "tags": []
   },
   "outputs": [],
   "source": [
    "num_rows_missing = ...\n",
    "num_rows_missing"
   ]
  },
  {
   "cell_type": "code",
   "execution_count": null,
   "id": "81e2f664",
   "metadata": {
    "deletable": false,
    "editable": false
   },
   "outputs": [],
   "source": [
    "grader.check(\"q2b\")"
   ]
  },
  {
   "cell_type": "markdown",
   "id": "db5daa00-5dfd-4487-a2a9-418e45d4ed8d",
   "metadata": {},
   "source": [
    "The amount of missing data precludes eliminating the missing data, therefore additional analysis steps should understand there may be missing values. "
   ]
  },
  {
   "cell_type": "markdown",
   "id": "532d33cd-8394-4883-809e-19ebd642ad48",
   "metadata": {
    "deletable": false,
    "editable": false
   },
   "source": [
    "#### Exercise 2c: Types of Data\n",
    "\n",
    "Now you will explore the types of data in each column.  Does this match your expectations, look at the information provided in the data folder in `secondary_data_meta.txt`. "
   ]
  },
  {
   "cell_type": "code",
   "execution_count": null,
   "id": "5740f332-d393-49fb-8b48-2889dfe4e2b1",
   "metadata": {
    "tags": []
   },
   "outputs": [],
   "source": [
    "col_types = ...\n",
    "col_types"
   ]
  },
  {
   "cell_type": "code",
   "execution_count": null,
   "id": "1982bc6b",
   "metadata": {
    "deletable": false,
    "editable": false
   },
   "outputs": [],
   "source": [
    "grader.check(\"q2c\")"
   ]
  },
  {
   "cell_type": "markdown",
   "id": "090d0ab4-2e88-4e33-bdc4-4a6502221414",
   "metadata": {},
   "source": [
    "### Exercise 3: Data Exploration and Visualization\n",
    "\n"
   ]
  },
  {
   "cell_type": "markdown",
   "id": "cb115559-924a-47eb-9290-4492a2c63574",
   "metadata": {
    "deletable": false,
    "editable": false
   },
   "source": [
    "#### Exercise 3a: Statistics \n",
    "\n",
    "Let's explore the properties of the `cap-diameter` variable.  \n",
    "\n",
    "First, calculate the mean and standard deviation for this variable.  \n",
    "\n",
    "Report (True / False) if there is any missing data in this column. "
   ]
  },
  {
   "cell_type": "code",
   "execution_count": null,
   "id": "5a0d7d08-41f5-4c87-92fd-9979731dff00",
   "metadata": {
    "tags": []
   },
   "outputs": [],
   "source": [
    "mean_cap_diam = ...\n",
    "std_cap_diam = ...\n",
    "miss_cap_diam = ...\n",
    "print('Mean cap-diameter: %.4f\\nstd cap-diamter:   %.4f\\n' % \n",
    "      (mean_cap_diam, std_cap_diam))"
   ]
  },
  {
   "cell_type": "code",
   "execution_count": null,
   "id": "b1cb0670",
   "metadata": {
    "deletable": false,
    "editable": false
   },
   "outputs": [],
   "source": [
    "grader.check(\"q3a\")"
   ]
  },
  {
   "cell_type": "markdown",
   "id": "80ee75dd-a8cd-4aac-9497-570bd96530d4",
   "metadata": {
    "deletable": false,
    "editable": false
   },
   "source": [
    "<!-- BEGIN QUESTION -->\n",
    "\n",
    "#### Exercise 3b: Visualization \n",
    "\n",
    "Let's know look at the distribution of values for the cap diameter. \n",
    "\n",
    "Create a histogram with an appropriate number of bins for this data. \n",
    "\n",
    "Make sure the plot looks \"good\" and has labels, title, etc. "
   ]
  },
  {
   "cell_type": "code",
   "execution_count": null,
   "id": "15dff756-6d17-42a0-8019-40a57366c4a0",
   "metadata": {
    "tags": []
   },
   "outputs": [],
   "source": [
    "# Create the requested plot\n"
   ]
  },
  {
   "cell_type": "markdown",
   "id": "d35e1af8-b55c-4a6e-91dc-7b5fe15913d1",
   "metadata": {
    "deletable": false,
    "editable": false
   },
   "source": [
    "<!-- END QUESTION -->\n",
    "\n",
    "<!-- BEGIN QUESTION -->\n",
    "\n",
    "#### Exercise 3c: Visualiation \n",
    "\n",
    "Let's look at another variable `cap-shape`.  This is a categorical variable (specifically a nominal variable). \n",
    "\n",
    "Plot the number of samples of each type of shape (suggest using a bar plot). \n",
    "\n",
    "You should use the full names for each type of `cap-shape`, e.g., `bell`, `conical`, `convex`, etc. \n",
    "\n",
    "You will find the `xticks()` function useful  \n",
    "https://matplotlib.org/stable/api/_as_gen/matplotlib.pyplot.xticks.html#matplotlib.pyplot.xticks\n",
    "\n"
   ]
  },
  {
   "cell_type": "code",
   "execution_count": null,
   "id": "6ee43dd9-6552-4433-9449-4d578d2543b3",
   "metadata": {
    "tags": []
   },
   "outputs": [],
   "source": [
    "# Create the requested plot\n"
   ]
  },
  {
   "cell_type": "markdown",
   "id": "db305d96-768f-4c5b-96af-a2eb058bd68f",
   "metadata": {
    "deletable": false,
    "editable": false
   },
   "source": [
    "<!-- END QUESTION -->\n",
    "\n",
    "<!-- BEGIN QUESTION -->\n",
    "\n",
    "#### Exercise 3d: Visualization \n",
    "\n",
    "Let's now look to plot overlapping density plots of the `cap-diameter` variable by the mushroom `cap-shape`. \n",
    "\n",
    "Use the full shape name when appropriate on your plot. "
   ]
  },
  {
   "cell_type": "code",
   "execution_count": null,
   "id": "17000a1e-ae10-4a04-8013-c8e30c8ddcd5",
   "metadata": {
    "tags": []
   },
   "outputs": [],
   "source": [
    "# Create the requested plot\n"
   ]
  },
  {
   "cell_type": "markdown",
   "id": "ac5bec1d-6290-46a5-a5ce-176841e0e8af",
   "metadata": {
    "deletable": false,
    "editable": false
   },
   "source": [
    "<!-- END QUESTION -->\n",
    "\n",
    "## Data Set - Auto-MPG \n",
    "\n",
    "For the remaining problems, you will using the Auto-MPG data set available in the UCI ML Repository. \n",
    "\n",
    "https://archive.ics.uci.edu/ml/datasets/Auto+MPG"
   ]
  },
  {
   "cell_type": "markdown",
   "id": "58811148-a19b-4511-862c-b1d3f441f19a",
   "metadata": {
    "deletable": false,
    "editable": false
   },
   "source": [
    "### Exercise 4: Import Data \n",
    "\n",
    "You will want to create a function to import the data \n",
    "\n",
    "The function should be named `ImportDataAuto(filepath, col_names)`    \n",
    "`ImportDataAuto` has one input arguments: \n",
    "* `filepath` - a string that links to the data or url to be imported, \n",
    "* `col_names` = a list of strings with the column names. \n",
    "\n",
    "In the function, you should import the data using `read_csv`. You may need to use additional arguments in order to properly read in the data.  But let the function use it default reasoning on `na_values`.\n",
    "\n",
    "The column names should be set to: 'mpg', 'cyl', 'disp', 'hp', 'weight', 'accel', 'model year', 'origin', 'car name'. \n",
    "\n",
    "The function should return the DataFrame. \n",
    "\n",
    "Helpful links: \n",
    "\n",
    "* https://pandas.pydata.org/pandas-docs/stable/generated/pandas.read_csv.html#pandas.read_csv"
   ]
  },
  {
   "cell_type": "code",
   "execution_count": null,
   "id": "0cba9a11-0092-4519-8804-82fe906d7aea",
   "metadata": {
    "tags": []
   },
   "outputs": [],
   "source": [
    "# Create the function ImportDataAuto here and return the data \n",
    "\n",
    "def ImportDataAuto(filepath, col_names):\n",
    "    # return the created DataFrame, df \n",
    "    df = ...\n",
    "    \n",
    "    return df\n",
    "\n",
    "url = 'https://archive.ics.uci.edu/ml/machine-learning-databases/auto-mpg/auto-mpg.data'  \n",
    "cNames = ...\n",
    "data = ImportDataAuto(url, cNames)\n",
    "data.head()"
   ]
  },
  {
   "cell_type": "code",
   "execution_count": null,
   "id": "3c098ee9",
   "metadata": {
    "deletable": false,
    "editable": false
   },
   "outputs": [],
   "source": [
    "grader.check(\"q4\")"
   ]
  },
  {
   "cell_type": "markdown",
   "id": "e4072b43-0221-4f53-8ee1-5ecf79b20a7b",
   "metadata": {},
   "source": [
    "### Exercise 5: Data Exploration"
   ]
  },
  {
   "cell_type": "markdown",
   "id": "203cb493-70df-417d-b728-b6ae196845e0",
   "metadata": {
    "deletable": false,
    "editable": false
   },
   "source": [
    "#### Exercise 5a: Columns with Missing Data \n",
    "First, you will determine whether each column has any missing values (a Boolean for each column).\n",
    "\n",
    "`auto_col_missing_data` should be a DataSeries with each column name as an index value and Booleans for whether there is any missing data.\n",
    "\n",
    "You may want to consider the `isnull` or `isna` functions.\n"
   ]
  },
  {
   "cell_type": "code",
   "execution_count": null,
   "id": "bbaa768a-5511-4f00-9d3a-67f4947e6c3e",
   "metadata": {
    "tags": []
   },
   "outputs": [],
   "source": [
    "auto_col_missing_data = ...\n",
    "auto_col_missing_data"
   ]
  },
  {
   "cell_type": "code",
   "execution_count": null,
   "id": "d113d624",
   "metadata": {
    "deletable": false,
    "editable": false
   },
   "outputs": [],
   "source": [
    "grader.check(\"q5a\")"
   ]
  },
  {
   "cell_type": "markdown",
   "id": "7448f18d-616a-4e70-8977-e7435725b19e",
   "metadata": {
    "deletable": false,
    "editable": false
   },
   "source": [
    "#### Exercise 5b: Types of Data \n",
    "\n",
    "Now you will explore the types of data in each column.  Store the results in `auto_col_types`."
   ]
  },
  {
   "cell_type": "code",
   "execution_count": null,
   "id": "d16bf144-e4c8-45c7-8818-87b42c7f184f",
   "metadata": {
    "tags": []
   },
   "outputs": [],
   "source": [
    "auto_col_types = ...\n",
    "auto_col_types"
   ]
  },
  {
   "cell_type": "code",
   "execution_count": null,
   "id": "52360005",
   "metadata": {
    "deletable": false,
    "editable": false
   },
   "outputs": [],
   "source": [
    "grader.check(\"q5b\")"
   ]
  },
  {
   "cell_type": "markdown",
   "id": "92d048e0-8a4e-4ceb-bc20-6a31a9e27e0e",
   "metadata": {},
   "source": [
    "**What is wrong with this information?** \n",
    "\n",
    "Horsepower, `hp` is considered an object.  But, this should be a float.  What is the problem?"
   ]
  },
  {
   "cell_type": "code",
   "execution_count": null,
   "id": "364230f6-18a8-4df3-9103-af2b33c65b91",
   "metadata": {},
   "outputs": [],
   "source": [
    "data[data['hp'] == '?']"
   ]
  },
  {
   "cell_type": "markdown",
   "id": "836a97ac-aa61-480f-b91c-4f2eba62d84c",
   "metadata": {},
   "source": [
    "There are some missing values in this column that need to be handled.\n",
    "\n",
    "We could change our import function to recognize \"?\" values as `NaN`.  Here let's instead create a function that replaces the \"?\" values after the data is imported.  \n",
    "\n"
   ]
  },
  {
   "cell_type": "markdown",
   "id": "84bf7e98-47fa-49a6-9b84-50d61ec02437",
   "metadata": {
    "deletable": false,
    "editable": false
   },
   "source": [
    "#### Exercise 5c: Handle Missing Data \n",
    "\n",
    "Create a function `HandleQuestionMark(df, col)`, that changes all the \"?\" values to a replacement value 99 and converts the column to be a float, where\n",
    "* `df` is a DataFrame to be worked on \n",
    "* `col` is the name of the column to be \"handled\"\n",
    "\n",
    "*Note* In practice, you most likely do not want to replace the missing values with a replacement as given.  As it will throw of the distribution.  "
   ]
  },
  {
   "cell_type": "code",
   "execution_count": null,
   "id": "90731cf9",
   "metadata": {
    "colab": {
     "base_uri": "https://localhost:8080/",
     "height": 221
    },
    "executionInfo": {
     "elapsed": 303,
     "status": "ok",
     "timestamp": 1599760074063,
     "user": {
      "displayName": "Laura Brown",
      "photoUrl": "https://lh3.googleusercontent.com/a-/AOh14GjYbC5So3kNOYBteW-fSY5JpgP-bBJa7kyAEluaKg=s64",
      "userId": "02180634349638765126"
     },
     "user_tz": 240
    },
    "id": "ge75D24jHTEP",
    "outputId": "e570c17a-126d-4d9a-ec2a-78a36f8a43c4",
    "tags": []
   },
   "outputs": [],
   "source": [
    "def HandleQuestionMark(df, col):\n",
    "    # Guarding \n",
    "    if (df[col].dtypes == 'object'):\n",
    "        print (\"  Current data type is : \", df[col].dtypes)\n",
    "        \n",
    "        \n",
    "        print (\"  Changed data type is : \", df[col].dtypes)\n",
    "        \n",
    "    return df \n",
    "\n",
    "HandleQuestionMark(data, 'hp')\n",
    "print(data.dtypes)"
   ]
  },
  {
   "cell_type": "code",
   "execution_count": null,
   "id": "c6038225",
   "metadata": {
    "deletable": false,
    "editable": false
   },
   "outputs": [],
   "source": [
    "grader.check(\"q5c\")"
   ]
  },
  {
   "cell_type": "markdown",
   "id": "1e7467f9-dc13-4445-9188-dab09004b041",
   "metadata": {
    "deletable": false,
    "editable": false
   },
   "source": [
    "#### Exercise 5d: Data Manipulation \n",
    "\n",
    "Let's update the data in several ways. \n",
    "\n",
    "Create a function `StringDataClean(df)` that: \n",
    "\n",
    "* Change the column labels (headers) from all lower case to [title case](https://danielmiessler.com/p/a-list-of-different-case-types/) and then replace \"space\" with underscore, \"_\". Print the column headers before and after.\n",
    "* Set the DataFrame index (row labels) to the information in `Car_Name`. \n",
    "* Change the DataFrame index (row labels) also be title case, that is, replace all spaces with underscore"
   ]
  },
  {
   "cell_type": "code",
   "execution_count": null,
   "id": "cae49a85-7a82-4254-a53f-68dc98137685",
   "metadata": {
    "tags": []
   },
   "outputs": [],
   "source": [
    "def StringDataClean(df):\n",
    "    print(\"*** String Operations on Column Headers ***\")\n",
    "    print(\"  Before: \", df.columns)\n",
    "    \n",
    "    print(\"  After: \", df.columns)\n",
    "\n",
    "    # Set the DataFrame index \n",
    "\n",
    "    # Change the DataFrame index\n",
    "    \n",
    "    return df\n",
    "\n",
    "data = StringDataClean(data)\n",
    "\n",
    "data.head()"
   ]
  },
  {
   "cell_type": "code",
   "execution_count": null,
   "id": "db662dde",
   "metadata": {
    "deletable": false,
    "editable": false
   },
   "outputs": [],
   "source": [
    "grader.check(\"q5d\")"
   ]
  },
  {
   "cell_type": "markdown",
   "id": "77230e9e-efc3-4778-814d-f581e904a1f6",
   "metadata": {},
   "source": [
    "### Exercise 6: Data Exploration and Visualization \n",
    "\n",
    "Let's explore the data with some visualizations. "
   ]
  },
  {
   "cell_type": "markdown",
   "id": "1efd39e0",
   "metadata": {
    "deletable": false,
    "editable": false,
    "id": "fPXGWmUAH2dk"
   },
   "source": [
    "<!-- BEGIN QUESTION -->\n",
    "\n",
    "#### Exercise 6a: Data Exploration and Analysis \n",
    "\n",
    "Create a function `plot_mpg_origin()` that reports the mpg over the grouping `Origin`.  Consider using line, bar, scatter plots.  \n",
    "\n",
    "The function should: \n",
    "\n",
    "* take as input a DataFrame \n",
    "* report mean mpg over the group\n",
    "* replace the origin code with strings of the region of origin:\n",
    "    * 1 -> \"USA\"\n",
    "    * 2 -> \"Europe\"\n",
    "    * 3 -> \"Asia\" \n",
    "* make sure the plot looks good and has labels, title, etc. "
   ]
  },
  {
   "cell_type": "code",
   "execution_count": null,
   "id": "fef20173",
   "metadata": {
    "colab": {
     "base_uri": "https://localhost:8080/",
     "height": 375
    },
    "executionInfo": {
     "elapsed": 659,
     "status": "ok",
     "timestamp": 1599760101090,
     "user": {
      "displayName": "Laura Brown",
      "photoUrl": "https://lh3.googleusercontent.com/a-/AOh14GjYbC5So3kNOYBteW-fSY5JpgP-bBJa7kyAEluaKg=s64",
      "userId": "02180634349638765126"
     },
     "user_tz": 240
    },
    "id": "hYMAfnScH-1b",
    "outputId": "2adcafb6-de92-4ec3-9c32-062e6dde0bf2",
    "tags": []
   },
   "outputs": [],
   "source": [
    "def plot_mpg_origin(df):\n",
    "    \n",
    "    \n",
    "    return \n",
    "\n",
    "\n",
    "plot_mpg_origin(data)"
   ]
  },
  {
   "cell_type": "markdown",
   "id": "e453e1ae-bca0-4806-a1c8-1c07047e5caa",
   "metadata": {
    "deletable": false,
    "editable": false
   },
   "source": [
    "<!-- END QUESTION -->\n",
    "\n",
    "<!-- BEGIN QUESTION -->\n",
    "\n",
    "#### Exercise 6b: Data Exploration and Analysis \n",
    "\n",
    "Create a function `plot_mpg_year()` that reports the mpg over the grouping `Model Year`.  Consider using line, bar, scatter plots.  \n",
    "\n",
    "The function should: \n",
    "\n",
    "* take as input a DataFrame\n",
    "* report mean mpg over the group \n",
    "* make sure the plot looks good and has labels, title, etc. "
   ]
  },
  {
   "cell_type": "code",
   "execution_count": null,
   "id": "ac86a698-6cb2-43ab-8b14-e1105117cb73",
   "metadata": {
    "tags": []
   },
   "outputs": [],
   "source": [
    "def plot_mpg_year(df):\n",
    "    \n",
    "    \n",
    "    return \n",
    "\n",
    "\n",
    "plot_mpg_year(data)"
   ]
  },
  {
   "cell_type": "markdown",
   "id": "00afc59b-5b61-4784-bbad-b4cbb800d4d4",
   "metadata": {
    "deletable": false,
    "editable": false
   },
   "source": [
    "<!-- END QUESTION -->\n",
    "\n",
    "<!-- BEGIN QUESTION -->\n",
    "\n",
    "#### Exercise Bonus: Data Exploration and Analysis \n",
    "\n",
    "Create a function `plot_mpg_year_region()` that reports the mpg over the both groupings `Model Year` and `Region`.  Think about what is the appropriate type of plot.  \n",
    "\n",
    "The function should: \n",
    "\n",
    "* take as input the DataFrame \n",
    "* report mpg over both groups\n",
    "* make sure the plot looks good and has labels, title, etc. "
   ]
  },
  {
   "cell_type": "code",
   "execution_count": null,
   "id": "3be5ddb5-1991-4b50-a79c-465ed738a68f",
   "metadata": {
    "tags": []
   },
   "outputs": [],
   "source": [
    "def plot_mpg_year_region(df):\n",
    "    \n",
    "    \n",
    "    return \n",
    "\n",
    "\n",
    "plot_mpg_year_region(data)"
   ]
  },
  {
   "cell_type": "markdown",
   "id": "9c751dcb-fd36-4a35-ae76-180c8ad75402",
   "metadata": {
    "deletable": false,
    "editable": false
   },
   "source": [
    "<!-- END QUESTION -->\n",
    "\n",
    "## Congratulations! You have finished Lab3! \n",
    "\n",
    "### Submission Instructions\n",
    "\n",
    "Below, you will see a cell. Running this cell will automatically generate a zip file with your autograded answers. Once you submit this file to the Lab 3 assignment on Gradescope, Gradescope will automatically submit a PDF file with your some of your answers to the Lab 3 - Figures assignment (making them easier to grade). \n",
    "\n",
    "**Important**: Please check that your responses were generated and submitted correctly to the Lab 3 - Figures Assignment. \n",
    "\n",
    "**You are responsible for ensuring your submission follows our requirements and that the PDF for Lab 3 - Figures answers was generated/submitted correctly. We will not be granting regrade requests nor extensions to submissions that don't follow instructions.** If you encounter any difficulties with the submission, contact course staff well-ahead of the deadline. \n",
    "\n",
    "Make sure you have run all cells in your notebook **in order** before running the cell below, so that all images/graphs appear in the output. The cell below will generate a zip file for you to submit. **Please save before exporting!**"
   ]
  },
  {
   "cell_type": "code",
   "execution_count": null,
   "id": "5445c55d-eec5-40db-9b7f-092f5b116ea9",
   "metadata": {},
   "outputs": [],
   "source": []
  },
  {
   "cell_type": "markdown",
   "id": "d66f40d7",
   "metadata": {
    "deletable": false,
    "editable": false
   },
   "source": [
    "## Submission\n",
    "\n",
    "Make sure you have run all cells in your notebook in order before running the cell below, so that all images/graphs appear in the output. The cell below will generate a zip file for you to submit. **Please save before exporting!**"
   ]
  },
  {
   "cell_type": "code",
   "execution_count": null,
   "id": "2475a279",
   "metadata": {
    "deletable": false,
    "editable": false
   },
   "outputs": [],
   "source": [
    "# Save your notebook first, then run this cell to export your submission.\n",
    "grader.export(pdf=False)"
   ]
  },
  {
   "cell_type": "markdown",
   "id": "32be6189",
   "metadata": {},
   "source": [
    " "
   ]
  }
 ],
 "metadata": {
  "kernelspec": {
   "display_name": "un5550fa24",
   "language": "python",
   "name": "un5550fa24"
  },
  "language_info": {
   "codemirror_mode": {
    "name": "ipython",
    "version": 3
   },
   "file_extension": ".py",
   "mimetype": "text/x-python",
   "name": "python",
   "nbconvert_exporter": "python",
   "pygments_lexer": "ipython3",
   "version": "3.10.16"
  },
  "otter": {
   "OK_FORMAT": true,
   "assignment_name": "lab3",
   "tests": {
    "q1": {
     "name": "q1",
     "points": [
      1,
      1,
      1
     ],
     "suites": [
      {
       "cases": [
        {
         "code": ">>> data.iloc[0, 0] == 'p' and data.iloc[0, 8] == 'w'\nTrue",
         "hidden": false,
         "locked": false
        },
        {
         "code": ">>> data.iloc[4, 0] == 'p' and data.iloc[4, 8] == 'w'\nTrue",
         "hidden": false,
         "locked": false
        },
        {
         "code": ">>> data.shape[0] == 61069 and data.shape[1] == 21\nTrue",
         "hidden": false,
         "locked": false
        }
       ],
       "scored": true,
       "setup": "",
       "teardown": "",
       "type": "doctest"
      }
     ]
    },
    "q2a": {
     "name": "q2a",
     "points": [
      1,
      1,
      2
     ],
     "suites": [
      {
       "cases": [
        {
         "code": ">>> type(col_missing_data) == pd.core.series.Series\nTrue",
         "hidden": false,
         "locked": false
        },
        {
         "code": ">>> all(col_missing_data.index == ['class', 'cap-diameter', 'cap-shape', 'cap-surface', 'cap-color', 'does-bruise-or-bleed', 'gill-attachment', 'gill-spacing', 'gill-color', 'stem-height', 'stem-width', 'stem-root', 'stem-surface', 'stem-color', 'veil-type', 'veil-color', 'has-ring', 'ring-type', 'spore-print-color', 'habitat', 'season'])\nTrue",
         "hidden": false,
         "locked": false
        },
        {
         "code": ">>> all(col_missing_data[col_missing_data].index == ['cap-surface', 'gill-attachment', 'gill-spacing', 'stem-root', 'stem-surface', 'veil-type', 'veil-color', 'ring-type', 'spore-print-color'])\nTrue",
         "hidden": false,
         "locked": false
        }
       ],
       "scored": true,
       "setup": "",
       "teardown": "",
       "type": "doctest"
      }
     ]
    },
    "q2b": {
     "name": "q2b",
     "points": [
      1
     ],
     "suites": [
      {
       "cases": [
        {
         "code": ">>> 0 <= num_rows_missing <= data.shape[0]\nnp.True_",
         "hidden": false,
         "locked": false
        }
       ],
       "scored": true,
       "setup": "",
       "teardown": "",
       "type": "doctest"
      }
     ]
    },
    "q2c": {
     "name": "q2c",
     "points": [
      1,
      3
     ],
     "suites": [
      {
       "cases": [
        {
         "code": ">>> type(col_types) == pd.core.series.Series\nTrue",
         "hidden": false,
         "locked": false
        },
        {
         "code": ">>> all(col_types[col_types == 'float64'].index == ['cap-diameter', 'stem-height', 'stem-width'])\nTrue",
         "hidden": false,
         "locked": false
        }
       ],
       "scored": true,
       "setup": "",
       "teardown": "",
       "type": "doctest"
      }
     ]
    },
    "q3a": {
     "name": "q3a",
     "points": [
      2,
      2,
      2
     ],
     "suites": [
      {
       "cases": [
        {
         "code": ">>> np.isclose(mean_cap_diam, 6.7339)\nnp.True_",
         "hidden": false,
         "locked": false
        },
        {
         "code": ">>> np.isclose(std_cap_diam, 5.2648)\nnp.True_",
         "hidden": false,
         "locked": false
        },
        {
         "code": ">>> miss_cap_diam == False\nTrue",
         "hidden": false,
         "locked": false
        }
       ],
       "scored": true,
       "setup": "",
       "teardown": "",
       "type": "doctest"
      }
     ]
    },
    "q4": {
     "name": "q4",
     "points": [
      1,
      1,
      2,
      2
     ],
     "suites": [
      {
       "cases": [
        {
         "code": ">>> data.shape == (398, 9)\nTrue",
         "hidden": false,
         "locked": false
        },
        {
         "code": ">>> all(data.columns == ['mpg', 'cyl', 'disp', 'hp', 'weight', 'accel', 'model year', 'origin', 'car name'])\nTrue",
         "hidden": false,
         "locked": false
        },
        {
         "code": ">>> data.iloc[0, 0] == 18.0 and data.iloc[0, 8] == 'chevrolet chevelle malibu'\nTrue",
         "hidden": false,
         "locked": false
        },
        {
         "code": ">>> data.iloc[4, 0] == 17.0 and data.iloc[4, 8] == 'ford torino'\nTrue",
         "hidden": false,
         "locked": false
        }
       ],
       "scored": true,
       "setup": "",
       "teardown": "",
       "type": "doctest"
      }
     ]
    },
    "q5a": {
     "name": "q5a",
     "points": [
      1,
      1,
      2
     ],
     "suites": [
      {
       "cases": [
        {
         "code": ">>> type(auto_col_missing_data) == pd.core.series.Series\nTrue",
         "hidden": false,
         "locked": false
        },
        {
         "code": ">>> all(auto_col_missing_data.index == ['mpg', 'cyl', 'disp', 'hp', 'weight', 'accel', 'model year', 'origin', 'car name'])\nTrue",
         "hidden": false,
         "locked": false
        },
        {
         "code": ">>> auto_col_missing_data[auto_col_missing_data].empty\nTrue",
         "hidden": false,
         "locked": false
        }
       ],
       "scored": true,
       "setup": "",
       "teardown": "",
       "type": "doctest"
      }
     ]
    },
    "q5b": {
     "name": "q5b",
     "points": [
      1,
      3
     ],
     "suites": [
      {
       "cases": [
        {
         "code": ">>> type(auto_col_types) == pd.core.series.Series\nTrue",
         "hidden": false,
         "locked": false
        },
        {
         "code": ">>> all(auto_col_types == ['float64', 'int64', 'float64', 'object', 'float64', 'float64', 'int64', 'int64', 'object'])\nTrue",
         "hidden": false,
         "locked": false
        }
       ],
       "scored": true,
       "setup": "",
       "teardown": "",
       "type": "doctest"
      }
     ]
    },
    "q5c": {
     "name": "q5c",
     "points": [
      2,
      2
     ],
     "suites": [
      {
       "cases": [
        {
         "code": ">>> data['hp'].values.any() != '?'\nTrue",
         "hidden": false,
         "locked": false
        },
        {
         "code": ">>> data['hp'].dtypes == 'float64'\nTrue",
         "hidden": false,
         "locked": false
        }
       ],
       "scored": true,
       "setup": "",
       "teardown": "",
       "type": "doctest"
      }
     ]
    },
    "q5d": {
     "name": "q5d",
     "points": [
      2,
      2,
      2
     ],
     "suites": [
      {
       "cases": [
        {
         "code": ">>> data.shape == (398, 9)\nTrue",
         "hidden": false,
         "locked": false
        },
        {
         "code": ">>> all(data.columns == ['Mpg', 'Cyl', 'Disp', 'Hp', 'Weight', 'Accel', 'Model_Year', 'Origin', 'Car_Name'])\nTrue",
         "hidden": false,
         "locked": false
        },
        {
         "code": ">>> data.index[0] == 'Chevrolet_Chevelle_Malibu' and data.index[4] == 'Ford_Torino'\nTrue",
         "hidden": false,
         "locked": false
        }
       ],
       "scored": true,
       "setup": "",
       "teardown": "",
       "type": "doctest"
      }
     ]
    }
   }
  }
 },
 "nbformat": 4,
 "nbformat_minor": 5
}

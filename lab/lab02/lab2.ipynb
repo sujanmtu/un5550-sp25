{
 "cells": [
  {
   "cell_type": "markdown",
   "id": "a3af7b9d-8072-4c38-9166-fabfe115070d",
   "metadata": {},
   "source": [
    "# Lab 2 - Python and Pandas \n",
    "\n",
    "Upon successful completion of this assignment, a student will be able to:\n",
    "\n",
    "* Gain experience in formatting text using Markdown\n",
    "* Load in a data set, access it, and explore its properties.\n",
    "* Submit assignment to Gradescope.\n",
    "\n",
    "We start with the standard setup for our notebook files importing standard modules."
   ]
  },
  {
   "cell_type": "code",
   "execution_count": null,
   "id": "28fef3e8-9380-4bfb-a243-f43e761193ad",
   "metadata": {
    "tags": []
   },
   "outputs": [],
   "source": [
    "#  Import standard modules  \n",
    "import pandas as pd\n",
    "import numpy as np\n",
    "import matplotlib as mpl\n",
    "import matplotlib.pyplot as plt\n",
    "%matplotlib inline\n",
    "\n",
    "import otter\n",
    "grader = otter.Notebook()"
   ]
  },
  {
   "cell_type": "markdown",
   "id": "1c05bb1b-836c-4e36-a945-ccfeddbadeac",
   "metadata": {},
   "source": [
    "## Example 1 - More Data Cleaning \n",
    "*Adapted from J. Sullivan*\n",
    "\n",
    "Let's look at another data file to see additional data cleaning steps and code.  \n",
    "\n",
    "The initial data set reads in part: \n",
    "\n",
    "![property data](images/property-data.jpg)"
   ]
  },
  {
   "cell_type": "code",
   "execution_count": null,
   "id": "ad62d8cb-b2e0-4044-8dea-b187763e7602",
   "metadata": {
    "tags": []
   },
   "outputs": [],
   "source": [
    "prop = pd.read_csv(\"data/property.csv\")\n",
    "prop"
   ]
  },
  {
   "cell_type": "markdown",
   "id": "4a43336f-38e5-4ddd-9406-f4cd7ff8fc89",
   "metadata": {},
   "source": [
    "We can see that `pandas` is already able to find some of the different ways that we have missing values in the data.\n",
    "\n",
    "For instance in the ST_NUM column, the 3rd entry is blank and the 7th entry is NaN.  `pandas` filled in the blank entry with \"NA\".  Both of these values are found by the `isnull()` method."
   ]
  },
  {
   "cell_type": "code",
   "execution_count": null,
   "id": "309a778c-62a9-48a1-9b43-ea726e2513bf",
   "metadata": {
    "tags": []
   },
   "outputs": [],
   "source": [
    "prop['ST_NUM'].isnull()"
   ]
  },
  {
   "cell_type": "markdown",
   "id": "dffd19ea-28ea-49c1-85ba-b1753255741d",
   "metadata": {},
   "source": [
    "However, there are other missing value encodings that pandas does not immediately recognize. \n",
    "\n",
    "Let's look at the Num_Bedrooms column. \n",
    "\n",
    "![property data 2](images/property-data2.jpg)\n",
    "\n",
    "\n"
   ]
  },
  {
   "cell_type": "markdown",
   "id": "4eab606d-f6fc-4167-b231-3ea09a6c62c9",
   "metadata": {},
   "source": [
    "In this column, we have missing values as \"n/a\", \"NA\", \"--\" and \"na\".\n",
    "\n",
    "Let's see what `pandas` automatically recognizes."
   ]
  },
  {
   "cell_type": "code",
   "execution_count": null,
   "id": "ad7eabe1-1b84-497b-8690-798eb5dbf7c9",
   "metadata": {
    "tags": []
   },
   "outputs": [],
   "source": [
    "prop['NUM_BEDROOMS'].isnull()"
   ]
  },
  {
   "cell_type": "markdown",
   "id": "c09a39cc-a15b-48ec-9720-bf00dd3d2163",
   "metadata": {},
   "source": [
    "`pandas` automatically recognizes the \"n/a\" and \"NA\" but not the \"--\" and \"na\". \n",
    "\n",
    "Let's change that! "
   ]
  },
  {
   "cell_type": "code",
   "execution_count": null,
   "id": "5e327b03-f20b-47ab-94ee-d17d0db1e72c",
   "metadata": {
    "tags": []
   },
   "outputs": [],
   "source": [
    "# Making a list of missing value types\n",
    "missing_values = [\"n/a\", \"na\", \"--\", \"NA\"]\n",
    "prop2 = pd.read_csv(\"data/property.csv\", na_values = missing_values)"
   ]
  },
  {
   "cell_type": "code",
   "execution_count": null,
   "id": "232e3343-6fcf-4ca6-b666-a857e8f02922",
   "metadata": {
    "tags": []
   },
   "outputs": [],
   "source": [
    "print (prop2['NUM_BEDROOMS'])\n",
    "print (prop2['NUM_BEDROOMS'].isnull())"
   ]
  },
  {
   "cell_type": "markdown",
   "id": "0e6817a3",
   "metadata": {},
   "source": [
    "## Example 2 - Printing"
   ]
  },
  {
   "cell_type": "markdown",
   "id": "9cf8be09",
   "metadata": {},
   "source": [
    "\n",
    "In many courses, tutorials for new languages the first thing you learn is printing \"Hello World\""
   ]
  },
  {
   "cell_type": "code",
   "execution_count": null,
   "id": "42e72e12",
   "metadata": {
    "tags": []
   },
   "outputs": [],
   "source": [
    "print('Hello World')"
   ]
  },
  {
   "cell_type": "code",
   "execution_count": null,
   "id": "144c0638",
   "metadata": {
    "tags": []
   },
   "outputs": [],
   "source": [
    "firstName = \"Fill in name\""
   ]
  },
  {
   "cell_type": "code",
   "execution_count": null,
   "id": "5d150aac",
   "metadata": {
    "tags": []
   },
   "outputs": [],
   "source": [
    "\"Hello \" + firstName + \"!\""
   ]
  },
  {
   "cell_type": "markdown",
   "id": "5686996a",
   "metadata": {},
   "source": [
    "Use inbuilt function `dir()` to the variable \"firstName\" above and print the outcome.\n",
    "\n",
    "https://docs.python.org/3/library/functions.html#dir"
   ]
  },
  {
   "cell_type": "code",
   "execution_count": null,
   "id": "208b225c",
   "metadata": {},
   "outputs": [],
   "source": [
    "dir(firstName)"
   ]
  },
  {
   "cell_type": "markdown",
   "id": "176c6bbd",
   "metadata": {},
   "source": [
    "This lists all the functions available to be used on the \"string\" `firstName'"
   ]
  },
  {
   "cell_type": "markdown",
   "id": "8afde54a",
   "metadata": {
    "deletable": false,
    "editable": false
   },
   "source": [
    "## Q1 - Strings\n",
    "\n",
    "I want you to explore using the string functions: `len()`, `split()`, and `strip()` on the following strings. \n",
    "\n",
    "https://docs.python.org/3/library/functions.html"
   ]
  },
  {
   "cell_type": "code",
   "execution_count": null,
   "id": "389795f2",
   "metadata": {
    "tags": []
   },
   "outputs": [],
   "source": [
    "className = \" Introduction    to   Data Science   \""
   ]
  },
  {
   "cell_type": "code",
   "execution_count": null,
   "id": "b5b7eb86",
   "metadata": {
    "tags": []
   },
   "outputs": [],
   "source": [
    "# Show how to find the length of the string \"className\" \n",
    "# Store the results in a new variable \"class_length\"\n",
    "class_length = ...\n",
    "class_length"
   ]
  },
  {
   "cell_type": "code",
   "execution_count": null,
   "id": "04230270",
   "metadata": {
    "tags": []
   },
   "outputs": [],
   "source": [
    "# Show the results of the `split()` function on the string \"className\"  \n",
    "# Store the results in a new variable \"class_split\"\n",
    "class_split = ...\n",
    "class_split"
   ]
  },
  {
   "cell_type": "code",
   "execution_count": null,
   "id": "910662ce",
   "metadata": {
    "tags": []
   },
   "outputs": [],
   "source": [
    "# Save the results of the `strip()` function on the string \"className\" in a \n",
    "# new variable \"className2\"\n",
    "className2 = ...\n",
    "className2"
   ]
  },
  {
   "cell_type": "code",
   "execution_count": null,
   "id": "3cbe1265",
   "metadata": {
    "deletable": false,
    "editable": false
   },
   "outputs": [],
   "source": [
    "grader.check(\"q1\")"
   ]
  },
  {
   "cell_type": "markdown",
   "id": "c2bb250b",
   "metadata": {},
   "source": [
    "## Example 3 - Comments \n",
    "\n",
    "To create a comment line (in line with the code), # (hash) symbol is used, followed by a space. (Short key: `Ctrl + /` ) [To comment out, remove # or use `Ctrl + /` again]\n",
    "\n",
    "Other options are using the triple quotes (\"\"\")or (''') known as backticks, to enclose the complete sentence as a comment.(This needs to be on different line other than the code). Different programming language has different approches for commenting. Please be aware."
   ]
  },
  {
   "cell_type": "code",
   "execution_count": null,
   "id": "5863728e",
   "metadata": {
    "tags": []
   },
   "outputs": [],
   "source": [
    "# This is a comment"
   ]
  },
  {
   "cell_type": "code",
   "execution_count": null,
   "id": "8da029c6",
   "metadata": {
    "tags": []
   },
   "outputs": [],
   "source": [
    "'''This is a larger comment block \n",
    "that may span multiple lines \n",
    "'''\n",
    "2 + 2"
   ]
  },
  {
   "cell_type": "markdown",
   "id": "f630a76b",
   "metadata": {
    "deletable": false,
    "editable": false
   },
   "source": [
    "<!-- BEGIN QUESTION -->\n",
    "\n",
    "## Q2 - Markdown\n",
    "\n",
    "Markdown option for cells in the jupyter notebook provides a way to display information to the use around the particular code snippets. For more information and reading, please look into:\n",
    "\n",
    "https://help.github.com/articles/basic-writing-and-formatting-syntax/\n",
    "\n",
    "https://jupyter-notebook.readthedocs.io/en/stable/examples/Notebook/Working%20With%20Markdown%20Cells.html\n",
    "\n",
    "Colab's Markdown Guide: https://colab.research.google.com/notebooks/markdown_guide.ipynb#scrollTo=5Y3CStVkLxqt\n",
    "\n",
    "For this exercise add a new 'Text' cell and try to recreate the following block of text below the two lines. \n",
    "<hr><hr>\n",
    "\n",
    "![example markdown](images/markdown-example.png)\n",
    "\n",
    "\n"
   ]
  },
  {
   "cell_type": "markdown",
   "id": "5f683fe0-a0ed-41ec-b994-4fd964a6d7fe",
   "metadata": {},
   "source": [
    "*Enter your Markdown here* to recreate the formated text above. "
   ]
  },
  {
   "cell_type": "markdown",
   "id": "5a5009bb",
   "metadata": {
    "deletable": false,
    "editable": false
   },
   "source": [
    "<!-- END QUESTION -->\n",
    "\n",
    "## Example 4 - String Operations \n",
    "\n",
    "Here you can see some more operations working with strings.\n",
    "\n",
    "https://docs.python.org/3/library/stdtypes.html#str"
   ]
  },
  {
   "cell_type": "code",
   "execution_count": null,
   "id": "093be2ea",
   "metadata": {
    "tags": []
   },
   "outputs": [],
   "source": [
    "str = \"Hello Data Science 2024\""
   ]
  },
  {
   "cell_type": "code",
   "execution_count": null,
   "id": "ef9f0d36",
   "metadata": {
    "tags": []
   },
   "outputs": [],
   "source": [
    "print(str.find(\"2024\"))"
   ]
  },
  {
   "cell_type": "code",
   "execution_count": null,
   "id": "3ee3911c",
   "metadata": {
    "tags": []
   },
   "outputs": [],
   "source": [
    "print(str[-4:])"
   ]
  },
  {
   "cell_type": "code",
   "execution_count": null,
   "id": "b496eba9",
   "metadata": {
    "tags": []
   },
   "outputs": [],
   "source": [
    "str.upper()"
   ]
  },
  {
   "cell_type": "code",
   "execution_count": null,
   "id": "6b10230d",
   "metadata": {
    "tags": []
   },
   "outputs": [],
   "source": [
    "str.lower()"
   ]
  },
  {
   "cell_type": "code",
   "execution_count": null,
   "id": "724d2991",
   "metadata": {
    "tags": []
   },
   "outputs": [],
   "source": [
    "str + ' & ' + 'FutureDataScientist'"
   ]
  },
  {
   "cell_type": "markdown",
   "id": "57bc1b6d-1226-4994-a6f2-f5e69975245b",
   "metadata": {
    "deletable": false,
    "editable": false
   },
   "source": [
    "<br/><br/>\n",
    "<hr style=\"border: 5px solid #8a8c8c;\" />\n",
    "<hr style=\"border: 1px solid #ffcd00;\" />\n",
    "\n",
    "# Pandas Review \n",
    "\n",
    "[Pandas](https://pandas.pydata.org/) is one of the most widely used Python libraries in data science. In this lab, you will review commonly used data-wrangling operations/tools in `pandas`. We aim to give you familiarity with:\n",
    "\n",
    "* Creating `DataFrames`,\n",
    "* Slicing `DataFrames` (i.e., selecting rows and columns)\n",
    "* Filtering data (using boolean arrays)\n",
    "\n",
    "In this lab, you are going to use several `pandas` methods. Reminder from lecture that you may press `shift+tab` on method parameters to see the documentation for that method. For example, if you were using the `drop` method in `pandas`, you could press `shift+tab` to see what `drop` is expecting.\n",
    "\n",
    "**Note**: The `pandas` interface is notoriously confusing for beginners, and the documentation is not consistently great. Throughout the semester, you will have to search through [`pandas` documentation](https://pandas.pydata.org/docs/reference/index.html) and experiment, but remember it is part of the learning experience and will help shape you as a data scientist!\n",
    "\n",
    "\n"
   ]
  },
  {
   "cell_type": "markdown",
   "id": "648aa80a-3814-41a7-b3a0-afd4f52e8128",
   "metadata": {
    "deletable": false,
    "editable": false
   },
   "source": [
    "---\n",
    "\n",
    "\n",
    "### **REVIEW:** Creating `DataFrames` & Basic Manipulations\n",
    "\n",
    "Recall that a [DataFrame](https://pandas.pydata.org/pandas-docs/stable/user_guide/dsintro.html#dataframe) is a table in which each column has a specific data type; there is an index over the columns (typically string labels) and an index over the rows (typically ordinal numbers).\n",
    "\n",
    "Usually, you'll create `DataFrames` by using a function like `pd.read_csv`. However, in this section, we'll discuss how to create them from scratch.\n",
    "\n",
    "The [documentation](https://pandas.pydata.org/pandas-docs/stable/reference/api/pandas.DataFrame.html) for the `pandas` `DataFrame` class provides several constructors for the `DataFrame` class.\n",
    "\n",
    "**Syntax 1:** You can create a `DataFrame` by specifying the columns and values using a dictionary, as shown below. \n",
    "\n",
    "The keys of the dictionary are the column names, and the values of the dictionary are lists containing the row entries."
   ]
  },
  {
   "cell_type": "code",
   "execution_count": null,
   "id": "0f2a620c-f317-458d-a92f-3f227079ab36",
   "metadata": {
    "deletable": false,
    "editable": false
   },
   "outputs": [],
   "source": [
    "fruit_info = pd.DataFrame(\n",
    "    data = {'fruit': ['apple', 'orange', 'banana', 'raspberry'],\n",
    "          'color': ['red', 'orange', 'yellow', 'pink'],\n",
    "          'price': [1.0, 0.75, 0.35, 0.05]\n",
    "          })\n",
    "fruit_info"
   ]
  },
  {
   "cell_type": "markdown",
   "id": "76d330dc-27ed-4961-8a20-ec1ce6c4267c",
   "metadata": {
    "deletable": false,
    "editable": false
   },
   "source": [
    "**Syntax 2:** You can also define a `DataFrame` by specifying the rows as shown below. \n",
    "\n",
    "Each row corresponds to a distinct tuple, and the columns are specified separately."
   ]
  },
  {
   "cell_type": "code",
   "execution_count": null,
   "id": "14613fb7-22f7-4377-8c32-85795171e464",
   "metadata": {
    "deletable": false,
    "editable": false
   },
   "outputs": [],
   "source": [
    "fruit_info2 = pd.DataFrame(\n",
    "    [(\"red\", \"apple\", 1.0), (\"orange\", \"orange\", 0.75), (\"yellow\", \"banana\", 0.35),\n",
    "     (\"pink\", \"raspberry\", 0.05)], \n",
    "    columns = [\"color\", \"fruit\", \"price\"])\n",
    "fruit_info2"
   ]
  },
  {
   "cell_type": "markdown",
   "id": "42d006bb-b312-477b-a65c-74d1697143d2",
   "metadata": {
    "deletable": false,
    "editable": false
   },
   "source": [
    "You can also convert the entire `DataFrame` into a two-dimensional `NumPy` array. Remember that a `NumPy` array can hold homogenous data whereas a `DataFrame` can contain heterogeneous data. "
   ]
  },
  {
   "cell_type": "code",
   "execution_count": null,
   "id": "f44275c8-124b-407d-be08-2fd42b0eed65",
   "metadata": {
    "deletable": false,
    "editable": false
   },
   "outputs": [],
   "source": [
    "numbers = pd.DataFrame({\"A\":[1, 2, 3], \"B\":[0, 1, 1]})\n",
    "numpy_numbers = numbers.to_numpy()\n",
    "\n",
    "print(type(numpy_numbers))\n",
    "print(numpy_numbers)"
   ]
  },
  {
   "cell_type": "markdown",
   "id": "3cd9a22b-adda-4867-8042-a67e4817f38d",
   "metadata": {
    "deletable": false,
    "editable": false
   },
   "source": [
    "The `values` attribute returns the content of the `DataFrame` in the form of a list of lists."
   ]
  },
  {
   "cell_type": "code",
   "execution_count": null,
   "id": "3cb12fb5-90d0-4087-94d7-97ab912c9569",
   "metadata": {
    "deletable": false,
    "editable": false
   },
   "outputs": [],
   "source": [
    "fruit_info.values"
   ]
  },
  {
   "cell_type": "markdown",
   "id": "642ebe2d-3d9d-4963-99e1-946572f98c94",
   "metadata": {
    "deletable": false,
    "editable": false
   },
   "source": [
    "## **REVIEW:** Selecting Rows and Columns in `pandas`\n",
    "\n",
    "As you've seen in lecture, there are two verbose operators in Python for selecting rows: `loc` and `iloc`. Let's review them briefly."
   ]
  },
  {
   "cell_type": "markdown",
   "id": "d0d796ca-e4f5-486c-ad71-306dd334c462",
   "metadata": {
    "deletable": false,
    "editable": false
   },
   "source": [
    "#### **Approach 1:** `loc`\n",
    "\n",
    "The first of the two verbose operators is `loc`, which takes two arguments. The first is one or more **row labels**, the second is one or more **column labels** - both of which are displayed in bold to the left of each of the rows and above each of the columns, respectively. These are not the same as positional indices, which are used for indexing Python lists or `NumPy` arrays!\n",
    "\n",
    "The desired rows or columns can be provided individually, in slice notation, or as a list. Some examples are given below.\n",
    "\n",
    "Note that **slicing in `loc` is inclusive** on the provided labels."
   ]
  },
  {
   "cell_type": "code",
   "execution_count": null,
   "id": "8edd8f14-db4f-42c1-887b-b8cbe5910757",
   "metadata": {
    "deletable": false,
    "editable": false
   },
   "outputs": [],
   "source": [
    "# Get rows 0 through 2 (inclusive) with labels 'fruit' through 'price' \n",
    "#  (which would include the color column that is in between both labels)\n",
    "fruit_info.loc[0:2, 'fruit':'price']"
   ]
  },
  {
   "cell_type": "code",
   "execution_count": null,
   "id": "fc2e47be-bc43-4744-9ff3-3c227db0b047",
   "metadata": {
    "deletable": false,
    "editable": false
   },
   "outputs": [],
   "source": [
    "# Get rows 0 through 2 (inclusive) and columns 'fruit' and 'price'. \n",
    "# Note the difference in notation and result from the previous example.\n",
    "fruit_info.loc[0:2, ['fruit', 'price']]"
   ]
  },
  {
   "cell_type": "code",
   "execution_count": null,
   "id": "2603067e-89e9-4ed2-8c3e-e956a1afb852",
   "metadata": {
    "deletable": false,
    "editable": false
   },
   "outputs": [],
   "source": [
    "# Get rows 0 and 2 and columns fruit and price. \n",
    "fruit_info.loc[[0, 2], ['fruit', 'price']]"
   ]
  },
  {
   "cell_type": "code",
   "execution_count": null,
   "id": "dddfddcd-5413-4d0b-b394-1e9a22e95f6b",
   "metadata": {
    "deletable": false,
    "editable": false
   },
   "outputs": [],
   "source": [
    "# Get rows 0 and 2 and column fruit\n",
    "fruit_info.loc[[0, 2], ['fruit']]"
   ]
  },
  {
   "cell_type": "markdown",
   "id": "5a16dafe-7fdd-43cb-a7d5-d905bcab78ea",
   "metadata": {
    "deletable": false,
    "editable": false
   },
   "source": [
    "Note that if we request a single column but don't enclose it in a list, the return type of the `loc` operator is a `Series` rather than a `DataFrame`. "
   ]
  },
  {
   "cell_type": "code",
   "execution_count": null,
   "id": "c4ae1711-7249-49c6-b5a7-e85aacae573d",
   "metadata": {
    "deletable": false,
    "editable": false
   },
   "outputs": [],
   "source": [
    "# Get rows 0 and 2 and column fruit, returning the result as a Series\n",
    "fruit_info.loc[[0, 2], 'fruit']"
   ]
  },
  {
   "cell_type": "markdown",
   "id": "53f7cd48-4127-4336-9b20-f548b86c648a",
   "metadata": {
    "deletable": false,
    "editable": false
   },
   "source": [
    "If we provide only one argument to `loc`, it uses the provided argument to select rows, and returns all columns."
   ]
  },
  {
   "cell_type": "code",
   "execution_count": null,
   "id": "a4e3b887-b7f7-48d2-b173-5982711db74b",
   "metadata": {
    "deletable": false,
    "editable": false
   },
   "outputs": [],
   "source": [
    "fruit_info.loc[0:1]"
   ]
  },
  {
   "cell_type": "markdown",
   "id": "94092468-2bbf-4cb7-92dd-fde4e2591505",
   "metadata": {
    "deletable": false,
    "editable": false
   },
   "source": [
    "Note that if you try to access columns without providing rows, `loc` will crash. "
   ]
  },
  {
   "cell_type": "code",
   "execution_count": null,
   "id": "a2ccadf0-7a82-4ef3-a6cf-3b3b4fa95253",
   "metadata": {
    "deletable": false,
    "editable": false
   },
   "outputs": [],
   "source": [
    "# Uncomment, this code will crash\n",
    "#fruit_info.loc[[\"fruit\", \"price\"]]\n",
    "\n",
    "# Uncomment, this code works fine: \n",
    "fruit_info.loc[:, [\"fruit\", \"price\"]]"
   ]
  },
  {
   "cell_type": "markdown",
   "id": "885199e5-999b-4073-838d-66cccffdbffc",
   "metadata": {
    "deletable": false,
    "editable": false
   },
   "source": [
    "<br/>\n",
    "\n",
    "---\n",
    "\n",
    "### **Approach 2:** `iloc`\n",
    "\n",
    "`iloc` is very similar to `loc` except that its arguments are **row numbers** and **column numbers**, rather than row and column labels. A useful mnemonic is that the `i` stands for \"integer\". This is quite similar to indexing into a Python `list` or `NumPy` array.\n",
    "\n",
    "In addition, **slicing for `iloc` is exclusive** on the provided integer indices. Some examples are given below:"
   ]
  },
  {
   "cell_type": "code",
   "execution_count": null,
   "id": "8e820c88-29ce-4ef9-b14b-c3cc411e46de",
   "metadata": {
    "deletable": false,
    "editable": false
   },
   "outputs": [],
   "source": [
    "# Get rows 0 through 3 (exclusive) and columns 0 through 3 (exclusive)\n",
    "fruit_info.iloc[0:3, 0:3]"
   ]
  },
  {
   "cell_type": "code",
   "execution_count": null,
   "id": "2ed442a4-ab85-4f65-9f71-d276f93eac9b",
   "metadata": {
    "deletable": false,
    "editable": false
   },
   "outputs": [],
   "source": [
    "# Get rows 0 through 3 (exclusive) and columns 0 and 2.\n",
    "fruit_info.iloc[0:3, [0, 2]]"
   ]
  },
  {
   "cell_type": "code",
   "execution_count": null,
   "id": "34458a33-d5bf-43d7-adb4-ca4e38720ffe",
   "metadata": {
    "deletable": false,
    "editable": false
   },
   "outputs": [],
   "source": [
    "# Get rows 0 and 2 and columns 0 and 2.\n",
    "fruit_info.iloc[[0, 2], [0, 2]]"
   ]
  },
  {
   "cell_type": "code",
   "execution_count": null,
   "id": "0d0b55aa-6583-4e95-a223-1039858e1382",
   "metadata": {
    "deletable": false,
    "editable": false
   },
   "outputs": [],
   "source": [
    "# Get rows 0 and 2 and column fruit\n",
    "fruit_info.iloc[[0, 2], [0]]"
   ]
  },
  {
   "cell_type": "code",
   "execution_count": null,
   "id": "d5fabad3-eb8e-44d8-96f6-a2e3120a11b6",
   "metadata": {
    "deletable": false,
    "editable": false
   },
   "outputs": [],
   "source": [
    "# Get rows 0 and 2 and column fruit\n",
    "fruit_info.iloc[[0, 2], 0]"
   ]
  },
  {
   "cell_type": "markdown",
   "id": "9a6dbbe0-6545-4f96-9ace-995a43104e1b",
   "metadata": {
    "deletable": false,
    "editable": false
   },
   "source": [
    "Note that in these `loc` and `iloc` examples above, the row **label** and row **number** were always the same.\n",
    "\n",
    "Let's see an example where they are different. If we sort our fruits by price, we get:"
   ]
  },
  {
   "cell_type": "code",
   "execution_count": null,
   "id": "21972e47-97c8-46a7-b378-f4c1070e2887",
   "metadata": {
    "deletable": false,
    "editable": false
   },
   "outputs": [],
   "source": [
    "fruit_info_sorted = fruit_info.sort_values(\"price\")\n",
    "fruit_info_sorted"
   ]
  },
  {
   "cell_type": "markdown",
   "id": "a4f42f1a-75df-4b18-9809-0f85cde83a52",
   "metadata": {
    "deletable": false,
    "editable": false
   },
   "source": [
    "After sorting, note how row number 0 now has index label 3, row number 1 now has index label 2, etc. These indices are the arbitrary numerical indices generated when we created the `DataFrame`. For example, `banana` was originally in row 2, and so it has row label 2. Note the distinction between the index _label_, and the actual index _position_.\n",
    "\n",
    "If we request the rows in positions 0 and 2 using `iloc`, we're indexing using the row NUMBERS, not labels. "
   ]
  },
  {
   "cell_type": "code",
   "execution_count": null,
   "id": "23ce046a-cec5-4e50-bbcc-2a3deadb2ea3",
   "metadata": {
    "deletable": false,
    "editable": false
   },
   "outputs": [],
   "source": [
    "fruit_info_sorted.iloc[[0, 2], 0]"
   ]
  },
  {
   "cell_type": "markdown",
   "id": "56d3e2eb-9660-4b95-aac9-33aa09a7e3dd",
   "metadata": {
    "deletable": false,
    "editable": false
   },
   "source": [
    "Lastly, similar to `loc`, the second argument to `iloc` is optional. That is, if you provide only one argument to `iloc`, it treats the argument you provide as a set of desired row numbers, not column numbers."
   ]
  },
  {
   "cell_type": "code",
   "execution_count": null,
   "id": "1bf8fd20-704a-4be8-9634-16ca8935d988",
   "metadata": {
    "deletable": false,
    "editable": false
   },
   "outputs": [],
   "source": [
    "fruit_info_sorted.iloc[[0, 2]]"
   ]
  },
  {
   "cell_type": "markdown",
   "id": "b6f0c684-4e7e-476a-8ca7-1b57762c28d8",
   "metadata": {
    "deletable": false,
    "editable": false
   },
   "source": [
    "<br>\n",
    "\n",
    "---\n",
    "\n",
    "### **Approach 3** `[]` Notation\n",
    "\n",
    "`pandas` also supports the `[]` operator. It's similar to `loc` in that it lets you access rows and columns by their name.\n",
    "\n",
    "However, unlike `loc`, which takes row names and also optionally column names, `[]` is more flexible. If you provide it only row names, it'll give you rows (same behavior as `loc`), and if you provide it with only column names, it'll give you columns (whereas `loc` will crash).\n",
    "\n",
    "Some examples:"
   ]
  },
  {
   "cell_type": "code",
   "execution_count": null,
   "id": "2f063e74-fff8-4b02-aa67-bb76e3c6d2b3",
   "metadata": {
    "deletable": false,
    "editable": false
   },
   "outputs": [],
   "source": [
    "fruit_info[0:2]"
   ]
  },
  {
   "cell_type": "code",
   "execution_count": null,
   "id": "999b0abe-f86b-43e1-892f-5639b865f8ac",
   "metadata": {
    "deletable": false,
    "editable": false
   },
   "outputs": [],
   "source": [
    "# Here we're providing a list of fruits as single argument to []\n",
    "fruit_info[[\"fruit\", \"color\", \"price\"]]"
   ]
  },
  {
   "cell_type": "markdown",
   "id": "7694c9c5-d680-4124-9f0e-167287133cf6",
   "metadata": {
    "deletable": false,
    "editable": false
   },
   "source": [
    "Note that slicing notation is not supported for columns if you use `[]` notation. Use `loc` instead."
   ]
  },
  {
   "cell_type": "code",
   "execution_count": null,
   "id": "937e56fe-60e5-4b50-8ed7-92727cb8abd0",
   "metadata": {
    "deletable": false,
    "editable": false
   },
   "outputs": [],
   "source": [
    "# Uncomment and this code crashes\n",
    "#fruit_info[\"fruit\":\"price\"]\n",
    "\n",
    "# Uncomment and this works fine\n",
    "fruit_info.loc[:, \"fruit\":\"price\"]"
   ]
  },
  {
   "cell_type": "markdown",
   "id": "de2a3612-aae5-4488-98e7-a89b3f3c1076",
   "metadata": {
    "deletable": false,
    "editable": false
   },
   "source": [
    "`[]` and `loc` are quite similar. For example, the following two pieces of code are functionally equivalent for selecting the fruit and price columns.\n",
    "\n",
    "1. `fruit_info[[\"fruit\", \"price\"]]` \n",
    "2. `fruit_info.loc[:, [\"fruit\", \"price\"]]`.\n",
    "\n",
    "Because it yields more concise code, you'll find that our code and your code both tend to feature `[]`. However, there are some subtle pitfalls of using `[]`. If you're ever having performance issues, weird behavior, or you see a `SettingWithCopyWarning` in `pandas`, switch from `[]` to `loc`, and this may help.\n",
    "\n",
    "To avoid getting too bogged down in indexing syntax, we'll avoid a more thorough discussion of `[]` and `loc`. We may return to this at a later point in the course.\n",
    "\n",
    "For more on `[]` vs. `loc`, you may optionally try reading:\n",
    "1. https://stackoverflow.com/questions/48409128/what-is-the-difference-between-using-loc-and-using-just-square-brackets-to-filte\n",
    "2. https://stackoverflow.com/questions/38886080/python-pandas-series-why-use-loc/65875826#65875826\n",
    "3. https://stackoverflow.com/questions/20625582/how-to-deal-with-settingwithcopywarning-in-pandas/53954986#53954986"
   ]
  },
  {
   "cell_type": "markdown",
   "id": "6dbd37ae",
   "metadata": {
    "deletable": false,
    "editable": false
   },
   "source": [
    "## Q3 - Pandas \n",
    "\n",
    "Pandas Resources:\n",
    "* https://pandas.pydata.org/\n",
    "* https://pandas.pydata.org/pandas-docs/stable/generated/pandas.read_csv.html\n",
    "\n",
    "We are going to be using the Abalone data set.  This is part of the UCI Machine Learning repository.  A common place to find data sets to test out code and used in learning about machine learning and data science. \n",
    "\n",
    "I have already downloaded the data from https://archive.ics.uci.edu/dataset/1/abalone\n",
    " \n",
    "In the next cell, you will modify the code to read in the `abalone.data` file properly.  Use the following names for the columns:  \n",
    "`sex`, `len`, `diam`, `hgt`, `wh_wgt`, `shuck_wgt`, `vis_wgt`, `sh_wgt`, `rings`\n",
    "\n",
    "*HINT:* You will need to look at using additional parameters for the [`read_csv`](https://pandas.pydata.org/pandas-docs/stable/generated/pandas.read_csv.html) function. It will be helpful to look at the documentation on `read_csv`   \n",
    "https://pandas.pydata.org/pandas-docs/stable/reference/api/pandas.read_csv.html\n",
    "\n"
   ]
  },
  {
   "cell_type": "code",
   "execution_count": null,
   "id": "4d8ed05d",
   "metadata": {
    "tags": []
   },
   "outputs": [],
   "source": [
    "df = pd.read_csv(...)  # modify this code to properly read the data\n",
    "# specify the column names using the information above as an argument to the \n",
    "# read_csv function\n",
    "df.head()"
   ]
  },
  {
   "cell_type": "code",
   "execution_count": null,
   "id": "721390af",
   "metadata": {
    "deletable": false,
    "editable": false
   },
   "outputs": [],
   "source": [
    "grader.check(\"q3\")"
   ]
  },
  {
   "cell_type": "markdown",
   "id": "3621d8d4",
   "metadata": {
    "deletable": false,
    "editable": false
   },
   "source": [
    "## Q4 - Pandas \n",
    "\n",
    "Here you will explore properties of the DataFrame and its attributes."
   ]
  },
  {
   "cell_type": "code",
   "execution_count": null,
   "id": "378aa5a8",
   "metadata": {
    "tags": []
   },
   "outputs": [],
   "source": [
    "# Determine the number of rows and columns of the data set \n",
    "rows = ...\n",
    "columns = ...\n",
    "\n",
    "# Determine what are the column names \n",
    "dfColumnNames = ... \n",
    "\n",
    "print(f'No of rows: {rows}')\n",
    "print(f'No of columns: {columns}')\n",
    "dfColumnNames"
   ]
  },
  {
   "cell_type": "code",
   "execution_count": null,
   "id": "8944087d",
   "metadata": {
    "deletable": false,
    "editable": false
   },
   "outputs": [],
   "source": [
    "grader.check(\"q4\")"
   ]
  },
  {
   "cell_type": "markdown",
   "id": "74566075",
   "metadata": {
    "deletable": false,
    "editable": false
   },
   "source": [
    "## Q5 - Pandas \n",
    "\n",
    "Show the first 4 rows of the DataFrame.\n",
    "\n",
    "Show the last 7 rows of the DataFrame."
   ]
  },
  {
   "cell_type": "code",
   "execution_count": null,
   "id": "42dfa5b9",
   "metadata": {
    "tags": []
   },
   "outputs": [],
   "source": [
    "first_4_rows = ...\n",
    "last_7_rows = ... \n",
    "print(first_4_rows)\n",
    "print(last_7_rows)"
   ]
  },
  {
   "cell_type": "code",
   "execution_count": null,
   "id": "682c0000",
   "metadata": {
    "deletable": false,
    "editable": false
   },
   "outputs": [],
   "source": [
    "grader.check(\"q5\")"
   ]
  },
  {
   "cell_type": "markdown",
   "id": "9ab2463f",
   "metadata": {
    "deletable": false,
    "editable": false
   },
   "source": [
    "## Q6 - Pandas \n",
    "\n",
    "Practice selecting different parts of the DataFrame\n",
    "\n",
    "Select the `sh_wgt` column"
   ]
  },
  {
   "cell_type": "markdown",
   "id": "d692afa7",
   "metadata": {
    "deletable": false,
    "editable": false
   },
   "source": [
    "Then, select both the `diam` and `vis_wgt` columns and only the first eight rows."
   ]
  },
  {
   "cell_type": "code",
   "execution_count": null,
   "id": "772f79fe",
   "metadata": {
    "tags": []
   },
   "outputs": [],
   "source": [
    "# select just the sh_wgt column \n",
    "shell_wgt = ...\n",
    "shell_wgt"
   ]
  },
  {
   "cell_type": "code",
   "execution_count": null,
   "id": "9547b5ad",
   "metadata": {
    "tags": []
   },
   "outputs": [],
   "source": [
    "diam_vis_wgt = ...\n",
    "diam_vis_wgt"
   ]
  },
  {
   "cell_type": "code",
   "execution_count": null,
   "id": "9d62aae9",
   "metadata": {
    "deletable": false,
    "editable": false
   },
   "outputs": [],
   "source": [
    "grader.check(\"q6\")"
   ]
  },
  {
   "cell_type": "markdown",
   "id": "bab9d1e8",
   "metadata": {
    "deletable": false,
    "editable": false
   },
   "source": [
    "## Q7 - Pandas \n",
    "\n",
    "Select the following using the `.iloc` function: \n",
    "* `index_6` - row with index=5, the 6th row, of the DataFrame \n",
    "* `row_5_7` - the 5th and 7th row of the DataFrame, and \n",
    "* `ansC` - every other row and every third column starting from the 2nd row and 3rd column\n",
    "\n"
   ]
  },
  {
   "cell_type": "code",
   "execution_count": null,
   "id": "77fd1996",
   "metadata": {
    "id": "ORzleLAFxv8z",
    "tags": []
   },
   "outputs": [],
   "source": [
    "index_6 = ...\n",
    "index_6"
   ]
  },
  {
   "cell_type": "code",
   "execution_count": null,
   "id": "1bd4d1f0-d777-42d5-bb30-7de517c620e9",
   "metadata": {
    "tags": []
   },
   "outputs": [],
   "source": [
    "df"
   ]
  },
  {
   "cell_type": "code",
   "execution_count": null,
   "id": "8b21e680-9003-4ffd-ad27-5d67079838d3",
   "metadata": {
    "tags": []
   },
   "outputs": [],
   "source": [
    "ansC"
   ]
  },
  {
   "cell_type": "code",
   "execution_count": null,
   "id": "51d90fbb",
   "metadata": {
    "id": "QhZxAfjEx7WZ",
    "tags": []
   },
   "outputs": [],
   "source": [
    "row_5_7 = ...\n",
    "row_5_7"
   ]
  },
  {
   "cell_type": "code",
   "execution_count": null,
   "id": "3dfaef88",
   "metadata": {
    "tags": []
   },
   "outputs": [],
   "source": [
    "ansC = ...\n",
    "ancC"
   ]
  },
  {
   "cell_type": "code",
   "execution_count": null,
   "id": "5284c8d2",
   "metadata": {
    "deletable": false,
    "editable": false
   },
   "outputs": [],
   "source": [
    "grader.check(\"q7\")"
   ]
  },
  {
   "cell_type": "markdown",
   "id": "69cf11be",
   "metadata": {
    "deletable": false,
    "editable": false,
    "id": "VUNquBv-ygFG"
   },
   "source": [
    "## Q8 - Data Selection and Statistics \n",
    "\n",
    "Perform `mean()`, `max()`, and `min()`  for first 12 data points for all the weight columns.\n",
    "\n",
    "*Hint: remember df.head(10) returns the first 10 rows of the DataFrame*"
   ]
  },
  {
   "cell_type": "code",
   "execution_count": null,
   "id": "06a51c27",
   "metadata": {
    "id": "jdqWrtcmy6fH",
    "tags": []
   },
   "outputs": [],
   "source": [
    "meanVals =  ...\n",
    "meanVals"
   ]
  },
  {
   "cell_type": "code",
   "execution_count": null,
   "id": "0c6e9f1b",
   "metadata": {
    "id": "5BNQUN0ex9G-",
    "tags": []
   },
   "outputs": [],
   "source": [
    "maxVals = ...\n",
    "maxVals"
   ]
  },
  {
   "cell_type": "code",
   "execution_count": null,
   "id": "62b59e17-63c9-476e-94d8-e269db9b3b0c",
   "metadata": {
    "tags": []
   },
   "outputs": [],
   "source": [
    "minVals = ...\n",
    "minVals"
   ]
  },
  {
   "cell_type": "code",
   "execution_count": null,
   "id": "382cd20e",
   "metadata": {
    "deletable": false,
    "editable": false
   },
   "outputs": [],
   "source": [
    "grader.check(\"q8\")"
   ]
  },
  {
   "cell_type": "markdown",
   "id": "fe03d070",
   "metadata": {
    "deletable": false,
    "editable": false,
    "id": "T3oWG3QJy7jk"
   },
   "source": [
    "## Q9 - Data Selection and Statistics \n",
    "\n",
    "Group by column \"sex\" and find the median for the other variables. "
   ]
  },
  {
   "cell_type": "code",
   "execution_count": null,
   "id": "33b00087",
   "metadata": {
    "id": "mKTJSgzYzK26",
    "tags": []
   },
   "outputs": [],
   "source": [
    "group =  df ...\n",
    "group"
   ]
  },
  {
   "cell_type": "code",
   "execution_count": null,
   "id": "0d09b628",
   "metadata": {
    "deletable": false,
    "editable": false
   },
   "outputs": [],
   "source": [
    "grader.check(\"q9\")"
   ]
  },
  {
   "cell_type": "markdown",
   "id": "10a912f0",
   "metadata": {
    "deletable": false,
    "editable": false,
    "id": "qh_vTojGzRzR",
    "tags": []
   },
   "source": [
    "## Q10 - Data Selection and Statistics \n",
    "\n",
    "Find the mean weights of abolone with more than 12 rings. "
   ]
  },
  {
   "cell_type": "code",
   "execution_count": null,
   "id": "8b96b38e",
   "metadata": {
    "id": "jZeJ0Nayzhho",
    "otter": {
     "tests": [
      "q10"
     ]
    },
    "tags": []
   },
   "outputs": [],
   "source": [
    "mean_vals = ...\n",
    "mean_vals"
   ]
  },
  {
   "cell_type": "markdown",
   "id": "f907fe61",
   "metadata": {
    "deletable": false,
    "editable": false
   },
   "source": [
    "## Submission\n",
    "\n",
    "Make sure you have run all cells in your notebook in order before running the cell below, so that all images/graphs appear in the output. The cell below will generate a zip file for you to submit. **Please save before exporting!**"
   ]
  },
  {
   "cell_type": "code",
   "execution_count": null,
   "id": "0511db3e",
   "metadata": {
    "deletable": false,
    "editable": false
   },
   "outputs": [],
   "source": [
    "# Save your notebook first, then run this cell to export your submission.\n",
    "grader.export(pdf=False, run_tests=True)"
   ]
  },
  {
   "cell_type": "markdown",
   "id": "82ee408d",
   "metadata": {},
   "source": [
    " "
   ]
  }
 ],
 "metadata": {
  "kernelspec": {
   "display_name": "un5550fa24",
   "language": "python",
   "name": "un5550fa24"
  },
  "language_info": {
   "codemirror_mode": {
    "name": "ipython",
    "version": 3
   },
   "file_extension": ".py",
   "mimetype": "text/x-python",
   "name": "python",
   "nbconvert_exporter": "python",
   "pygments_lexer": "ipython3",
   "version": "3.10.16"
  },
  "otter": {
   "OK_FORMAT": true,
   "assignment_name": "lab2",
   "tests": {
    "q1": {
     "name": "q1",
     "points": [
      1,
      1
     ],
     "suites": [
      {
       "cases": [
        {
         "code": ">>> class_length == 37\nTrue",
         "hidden": false,
         "locked": false
        },
        {
         "code": ">>> class_split == ['Introduction', 'to', 'Data', 'Science']\nTrue",
         "hidden": false,
         "locked": false
        }
       ],
       "scored": true,
       "setup": "",
       "teardown": "",
       "type": "doctest"
      }
     ]
    },
    "q10": {
     "name": "q10",
     "points": 8,
     "suites": [
      {
       "cases": [],
       "scored": true,
       "setup": "",
       "teardown": "",
       "type": "doctest"
      }
     ]
    },
    "q3": {
     "name": "q3",
     "points": [
      1,
      1
     ],
     "suites": [
      {
       "cases": [
        {
         "code": ">>> df.shape[0] == 4177\nTrue",
         "hidden": false,
         "locked": false
        },
        {
         "code": ">>> df.shape[1] == 9\nTrue",
         "hidden": false,
         "locked": false
        }
       ],
       "scored": true,
       "setup": "",
       "teardown": "",
       "type": "doctest"
      }
     ]
    },
    "q4": {
     "name": "q4",
     "points": [
      1,
      1,
      0.5
     ],
     "suites": [
      {
       "cases": [
        {
         "code": ">>> rows == 4177\nTrue",
         "hidden": false,
         "locked": false
        },
        {
         "code": ">>> columns == 9\nTrue",
         "hidden": false,
         "locked": false
        },
        {
         "code": ">>> dfColumnNames[0] == 'sex'\nTrue",
         "hidden": false,
         "locked": false
        }
       ],
       "scored": true,
       "setup": "",
       "teardown": "",
       "type": "doctest"
      }
     ]
    },
    "q5": {
     "name": "q5",
     "points": [
      1,
      1
     ],
     "suites": [
      {
       "cases": [
        {
         "code": ">>> first_4_rows.iloc[0, 0] == 'M' and first_4_rows.iloc[2, 0] == 'F'\nTrue",
         "hidden": false,
         "locked": false
        },
        {
         "code": ">>> first_4_rows.iloc[0, -1] == 15 and first_4_rows.iloc[2, -1] == 9\nnp.True_",
         "hidden": false,
         "locked": false
        }
       ],
       "scored": true,
       "setup": "",
       "teardown": "",
       "type": "doctest"
      }
     ]
    },
    "q6": {
     "name": "q6",
     "points": 4,
     "suites": [
      {
       "cases": [
        {
         "code": ">>> shell_wgt[0] == 0.15 and shell_wgt[1] == 0.07\nnp.True_",
         "hidden": false,
         "locked": false
        },
        {
         "code": ">>> shell_wgt[393] == 0.08 and shell_wgt[4000] == 0.1325\nnp.True_",
         "hidden": false,
         "locked": false
        },
        {
         "code": ">>> diam_vis_wgt.iloc[0, 0] == 0.365 and diam_vis_wgt.iloc[0, 1] == 0.101\nnp.True_",
         "hidden": false,
         "locked": false
        },
        {
         "code": ">>> diam_vis_wgt.iloc[3, 1] == 0.114 and diam_vis_wgt.iloc[4, 1] == 0.0395\nnp.True_",
         "hidden": false,
         "locked": false
        }
       ],
       "scored": true,
       "setup": "",
       "teardown": "",
       "type": "doctest"
      }
     ]
    },
    "q7": {
     "name": "q7",
     "points": 9,
     "suites": [
      {
       "cases": [
        {
         "code": ">>> index_6[0] == 'I' and index_6[6] == 0.0775\n/tmp/ipykernel_513/1917859927.py:1: FutureWarning: Series.__getitem__ treating keys as positions is deprecated. In a future version, integer keys will always be treated as labels (consistent with DataFrame behavior). To access a value by position, use `ser.iloc[pos]`\n  index_6[0] == 'I' and index_6[6] == 0.0775\nnp.True_",
         "hidden": false,
         "locked": false
        },
        {
         "code": ">>> row_5_7.iloc[0, 0] == 'I' and row_5_7.iloc[1, 0] == 'F'\nTrue",
         "hidden": false,
         "locked": false
        },
        {
         "code": ">>> row_5_7.iloc[1, 1] == 0.53 and row_5_7.iloc[1, 3] == 0.15\nnp.True_",
         "hidden": false,
         "locked": false
        }
       ],
       "scored": true,
       "setup": "",
       "teardown": "",
       "type": "doctest"
      }
     ]
    },
    "q8": {
     "name": "q8",
     "points": [
      1,
      1,
      1,
      1
     ],
     "suites": [
      {
       "cases": [
        {
         "code": ">>> minVals[0] == 0.205\n/tmp/ipykernel_513/2137458660.py:1: FutureWarning: Series.__getitem__ treating keys as positions is deprecated. In a future version, integer keys will always be treated as labels (consistent with DataFrame behavior). To access a value by position, use `ser.iloc[pos]`\n  minVals[0] == 0.205\nnp.True_",
         "hidden": false,
         "locked": false
        },
        {
         "code": ">>> minVals[3] == 0.055\n/tmp/ipykernel_513/3165954240.py:1: FutureWarning: Series.__getitem__ treating keys as positions is deprecated. In a future version, integer keys will always be treated as labels (consistent with DataFrame behavior). To access a value by position, use `ser.iloc[pos]`\n  minVals[3] == 0.055\nnp.True_",
         "hidden": false,
         "locked": false
        },
        {
         "code": ">>> np.isclose(maxVals[1], 0.3145)\n/tmp/ipykernel_513/2061919736.py:1: FutureWarning: Series.__getitem__ treating keys as positions is deprecated. In a future version, integer keys will always be treated as labels (consistent with DataFrame behavior). To access a value by position, use `ser.iloc[pos]`\n  np.isclose(maxVals[1], 0.3145)\nnp.True_",
         "hidden": false,
         "locked": false
        },
        {
         "code": ">>> np.isclose(maxVals[2], 0.151)\n/tmp/ipykernel_513/1763295953.py:1: FutureWarning: Series.__getitem__ treating keys as positions is deprecated. In a future version, integer keys will always be treated as labels (consistent with DataFrame behavior). To access a value by position, use `ser.iloc[pos]`\n  np.isclose(maxVals[2], 0.151)\nnp.True_",
         "hidden": false,
         "locked": false
        }
       ],
       "scored": true,
       "setup": "",
       "teardown": "",
       "type": "doctest"
      }
     ]
    },
    "q9": {
     "name": "q9",
     "points": [
      1,
      1,
      1,
      1
     ],
     "suites": [
      {
       "cases": [
        {
         "code": ">>> group.iloc[1, 1] == 0.335\nnp.True_",
         "hidden": false,
         "locked": false
        },
        {
         "code": ">>> group.iloc[0, 4] == 0.4405\nnp.True_",
         "hidden": false,
         "locked": false
        },
        {
         "code": ">>> group.iloc[1, 6] == 0.113\nnp.True_",
         "hidden": false,
         "locked": false
        },
        {
         "code": ">>> group.iloc[0, 7] == 10.0\nnp.True_",
         "hidden": false,
         "locked": false
        }
       ],
       "scored": true,
       "setup": "",
       "teardown": "",
       "type": "doctest"
      }
     ]
    }
   }
  }
 },
 "nbformat": 4,
 "nbformat_minor": 5
}

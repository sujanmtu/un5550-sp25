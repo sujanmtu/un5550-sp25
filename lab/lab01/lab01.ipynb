{
 "cells": [
  {
   "cell_type": "markdown",
   "metadata": {},
   "source": [
    "# Lab 1\n",
    "\n",
    "## UN 5550, Fall 2024"
   ]
  },
  {
   "cell_type": "markdown",
   "metadata": {},
   "source": [
    "Welcome to the first lab section with Python!\n",
    "\n",
    "First and foremost, labs are designed to complement homework assignments. While labs are submitted or graded, we encourage you to work through all questions carefully to familiarize yourself with key programming concepts that you will use later on in your homeworks. Remember, you learn data science by **_doing_** data science!\n",
    "\n",
    "The goals of this lab section:\n",
    "* Access all of the technology we'll be using in this class;\n",
    "* Familiarize yourself with the Jupyter Notebook environment;\n",
    "* Use arithmetic operators in Python; and\n",
    "* Work with Python names."
   ]
  },
  {
   "cell_type": "code",
   "execution_count": null,
   "metadata": {
    "tags": []
   },
   "outputs": [],
   "source": [
    "# Initialize Otter (the autograding system)\n",
    "import numpy as np \n",
    "import os\n",
    "\n",
    "if os.environ[\"HOME\"]=='/home/jovyan':\n",
    "    !pip install --upgrade otter-grader\n",
    "\n",
    "import otter\n",
    "grader = otter.Notebook()"
   ]
  },
  {
   "cell_type": "markdown",
   "metadata": {},
   "source": [
    "<hr style=\"border: 5px solid #003262;\" />\n",
    "<hr style=\"border: 1px solid #fdb515;\" />\n",
    "\n",
    "# Part 1: Jupyter Notebook"
   ]
  },
  {
   "cell_type": "markdown",
   "metadata": {},
   "source": [
    "# Cells\n",
    "\n",
    "**Not these!** &rarr;\n",
    "\n",
    "<div align=center>\n",
    "    \n",
    "<img src='images/cell_graphic.jpeg' width=200>\n",
    "   \n",
    "</div>\n",
    "\n",
    "<br>\n",
    "\n",
    "Jupyter Notebooks are made up of cells. There are two types of cells in a Jupyter Notebook: code cells and [Markdown](https://www.markdownguide.org/getting-started/) cells. \n",
    "- Code cells are where we write our Python code.\n",
    "- Markdown cells allow us to write text, like the text you're reading right now. In Homework 1, you'll get a chance to learn a bit of Markdown.\n",
    "\n",
    "## Code cells\n",
    "\n",
    "Running a code cell will execute all of the code it contains.  Any output produced by the code will appear below the cell. Notice the `In:` and `Out:` statements to the left of the cells, followed by a number. That number designates the order in which the cell was run. For example, the number `[3]` next to a cell would indicate that this cell is the third cell that has been run in the notebook so far, or that this is the third time you've run this cell if you've re-run the cell multiple times.\n",
    "\n",
    "To run the code in a code cell, first click on that cell to activate it.  It'll be highlighted with a little green or blue rectangle. Next, do one of the following:\n",
    "* **Keyboard shortcut**: Hold down the `Shift` key and press `Return` or `Enter`.\n",
    "* **Button click**: Click the \"Run\" button in the cell toolbar above.\n",
    "\n",
    "While the above two options give no difference in computer runtime performance, it's useful to internalize some common keyboard shortcuts early in your Jupyter experience (think of it like learning \"Ctrl-C\" or \"Command-C\" to copy instead of \"Right click -> Copy to Clipboard\"). While they're not required for this course, keyboard shortuts will greatly improve your quality of life when programming Python (just trust us on this).\n",
    "\n",
    "\n",
    "We can use code cells to do arithmetic in Python. Try running the code cells below:"
   ]
  },
  {
   "cell_type": "code",
   "execution_count": null,
   "metadata": {
    "tags": []
   },
   "outputs": [],
   "source": [
    "3 + 4 ** 2"
   ]
  },
  {
   "cell_type": "markdown",
   "metadata": {},
   "source": [
    "The order of evaluation is what you might expect: parentheses, then exponentiation, then multiplication and division, then addition and subtraction; from left to right. "
   ]
  },
  {
   "cell_type": "code",
   "execution_count": null,
   "metadata": {
    "tags": []
   },
   "outputs": [],
   "source": [
    "2 *(3 + 10)"
   ]
  },
  {
   "cell_type": "markdown",
   "metadata": {},
   "source": [
    "You can use parentheses to modify the typical order of evaluation. **How would the above output change, if you removed the parentheses?**"
   ]
  },
  {
   "cell_type": "code",
   "execution_count": null,
   "metadata": {
    "tags": []
   },
   "outputs": [],
   "source": [
    "4 ** 2\n",
    "1 + 2 + 4 + 8 + 16 + 32 + 64"
   ]
  },
  {
   "cell_type": "markdown",
   "metadata": {},
   "source": [
    "**Note that only the value from evaluating the last expression is displayed;** the output from `4 **2` isn't shown at all. This is expected behavior."
   ]
  },
  {
   "cell_type": "code",
   "execution_count": null,
   "metadata": {
    "tags": []
   },
   "outputs": [],
   "source": [
    "10000"
   ]
  },
  {
   "cell_type": "markdown",
   "metadata": {},
   "source": [
    "Also notice that this cell contains a very simple expression that evaluates to `1000`."
   ]
  },
  {
   "cell_type": "code",
   "execution_count": null,
   "metadata": {
    "tags": []
   },
   "outputs": [],
   "source": [
    "10 + 20 + 30 - max(10, 20, 30) - min(10, 20, 30)"
   ]
  },
  {
   "cell_type": "markdown",
   "metadata": {},
   "source": [
    "The output you see from running these five code cells are the values `19`, `16`, `127`, `1000` and `20` displayed, respectively. \n",
    "\n",
    "Comments in code cells are denoted using a hashtag (`#`). Comments are used to explain what code does when necessary (or, occasionally in our case, to provide instructions)."
   ]
  },
  {
   "cell_type": "code",
   "execution_count": null,
   "metadata": {
    "tags": []
   },
   "outputs": [],
   "source": [
    "# This is a comment!\n",
    "19 - 18"
   ]
  },
  {
   "cell_type": "markdown",
   "metadata": {},
   "source": [
    "If you try and use syntax Python doesn't know about, it will give you an error."
   ]
  },
  {
   "cell_type": "code",
   "execution_count": null,
   "metadata": {
    "tags": []
   },
   "outputs": [],
   "source": [
    "3 + * 4"
   ]
  },
  {
   "cell_type": "code",
   "execution_count": null,
   "metadata": {
    "tags": []
   },
   "outputs": [],
   "source": [
    "# Why does this work while the above cell causes an error?\n",
    "3 * - 4"
   ]
  },
  {
   "cell_type": "markdown",
   "metadata": {
    "deletable": false,
    "editable": false
   },
   "source": [
    "<!-- BEGIN QUESTION -->\n",
    "\n",
    "<br/>\n",
    "\n",
    "---\n",
    "\n",
    "## Question 1: Markdown Cells\n",
    "\n",
    "\n",
    "To edit an existing Markdown cell, double click it and change whatever you want. To *render* (display) it, you can \"run\" it like you'd run a code cell.\n",
    "\n",
    "**Edit the following cell to contain your favorite color.**\n",
    "\n",
    "*Note:* This is how questions will be formatted in your homework assignments."
   ]
  },
  {
   "cell_type": "markdown",
   "metadata": {},
   "source": [
    "My favorite color is *(Type your answer here, replacing the text)*"
   ]
  },
  {
   "cell_type": "markdown",
   "metadata": {
    "deletable": false,
    "editable": false
   },
   "source": [
    "<!-- END QUESTION -->\n",
    "\n",
    "<!-- BEGIN QUESTION -->\n",
    "\n",
    "---\n",
    "\n",
    "## Question 2: Converting cells\n",
    "\n",
    "To convert a cell from code to Markdown (or vice versa), you should use the dropdown menu in the cell toolbar. For instance, to convert the following cell from Markdown to code, you should:\n",
    "1. Click the cell.\n",
    "2. Click \"Markdown\" in the cell toolbar, and change it to \"Code.\"\n",
    "\n",
    "Your cell toolbar should then look like this:\n",
    "\n",
    "<img src=\"images/code-celltoolbar.png\" width=\"50%\"/>\n",
    "\n",
    "**Change the following cell from a Markdown cell to a code cell**, and run it by pressing the \"Run\" button or using the keyboard shortcut `Shift + Enter`."
   ]
  },
  {
   "cell_type": "markdown",
   "metadata": {
    "deletable": false,
    "editable": false
   },
   "source": [
    "3 + 4 + 5  # Change this to a code cell"
   ]
  },
  {
   "cell_type": "markdown",
   "metadata": {
    "deletable": false,
    "editable": false
   },
   "source": [
    "<!-- END QUESTION -->\n",
    "\n",
    "---\n",
    "\n",
    "## Adding and deleting cells\n",
    "\n",
    "To add cells, you can go to \"Insert\" in the toolbar at the top, then click \"Insert cell Above\" or \"Insert cell Below.\" To delete cells, you can go to \"Edit\" in the toolbar at the top and click \"Delete cells\". (Be very careful when deleting a cell.)\n",
    "\n",
    "For your convenience, we provide this screenshot that details how to switch between \"Edit mode\" and \"Command mode\", which is relevant if you want to learn keyboard shortcuts. Again, keyboard shortcuts are not required for this course, but learning some now will greatly improve your programming quality of life.\n",
    "\n",
    "<img src='images/edit-mode.png' width=400>\n",
    "\n",
    "Some useful keyboard shortcuts:\n",
    "\n",
    "| Action | Mode | Keyboard shortcut |\n",
    "| :--- | :--- | :---\n",
    "| Run cell + jump to next cell | Either (puts you in edit mode) | `SHIFT + ENTER` |\n",
    "| Save notebook | Either | `CTRL/CMD + S` |\n",
    "| Switch to command mode | Either (puts you in command mode) | `ESCAPE` |\n",
    "| Switch to edit mode | Command | `ENTER` | \n",
    "| Comment out the current line | Edit | `CTRL/CMD + /` |\n",
    "| Create new cell above/below | Command |  `A/B` |\n",
    "| Delete cell | Command | `DD` |\n",
    "| Convert cell to Markdown | Command | `M` |\n",
    "| Convert cell to code | Command | `Y` |\n",
    "| Show all shortcuts | Command |  `H` |\n",
    "\n",
    "\n"
   ]
  },
  {
   "cell_type": "markdown",
   "metadata": {
    "deletable": false,
    "editable": false
   },
   "source": [
    "<!-- BEGIN QUESTION -->\n",
    "\n",
    "## Question 3: Insert Cell\n",
    "\n",
    "**Add a Markdown cell below this one, and in it write your middle name, or write \"I don't have a middle name\".**"
   ]
  },
  {
   "cell_type": "code",
   "execution_count": null,
   "metadata": {
    "deletable": false,
    "editable": false
   },
   "outputs": [],
   "source": [
    "# The cell you create should be above this one!"
   ]
  },
  {
   "cell_type": "markdown",
   "metadata": {
    "deletable": false,
    "editable": false
   },
   "source": [
    "<!-- END QUESTION -->\n",
    "\n",
    "<!-- BEGIN QUESTION -->\n",
    "\n",
    "## Question 4: Delete Cell\n",
    "\n",
    "Delete the cell below."
   ]
  },
  {
   "cell_type": "code",
   "execution_count": null,
   "metadata": {
    "deletable": true,
    "editable": true
   },
   "outputs": [],
   "source": [
    "# This should be deleted!"
   ]
  },
  {
   "cell_type": "markdown",
   "metadata": {
    "deletable": false,
    "editable": false
   },
   "source": [
    "<!-- END QUESTION -->\n",
    "\n",
    "\n",
    "<hr style=\"border: 5px solid #003262;\" />\n",
    "<hr style=\"border: 1px solid #fdb515;\" />\n",
    "\n",
    "# Part 2: Arithmetic Expressions and Operators"
   ]
  },
  {
   "cell_type": "markdown",
   "metadata": {},
   "source": [
    "We have covered several arithmetic operators so far:"
   ]
  },
  {
   "cell_type": "code",
   "execution_count": null,
   "metadata": {
    "tags": []
   },
   "outputs": [],
   "source": [
    "(7 - 5) * 2**10 - 3 * 8 + 6 - 8 "
   ]
  },
  {
   "cell_type": "markdown",
   "metadata": {},
   "source": [
    "Combining several `int`s without using \"regular\" division always results in another `int`. Below, we use the `type()` function to find the type of the evaluated expression from the previous cell."
   ]
  },
  {
   "cell_type": "code",
   "execution_count": null,
   "metadata": {
    "tags": []
   },
   "outputs": [],
   "source": [
    "type((7 - 5) * 2**10 - 3 * 8 + 6 - 8)"
   ]
  },
  {
   "cell_type": "markdown",
   "metadata": {},
   "source": [
    "As soon as division (`/`) or other `float`s are involved, the result is a `float`:"
   ]
  },
  {
   "cell_type": "code",
   "execution_count": null,
   "metadata": {
    "tags": []
   },
   "outputs": [],
   "source": [
    "15 / 3"
   ]
  },
  {
   "cell_type": "code",
   "execution_count": null,
   "metadata": {
    "tags": []
   },
   "outputs": [],
   "source": [
    "type(15 / 3)"
   ]
  },
  {
   "cell_type": "markdown",
   "metadata": {},
   "source": [
    "We can get `int` results from division by using the **integer division** operator `//`. When the dividend (the number we're dividing) isn't evenly divisible by the divisor (the number we're dividing by), the *result is rounded down*."
   ]
  },
  {
   "cell_type": "code",
   "execution_count": null,
   "metadata": {
    "tags": []
   },
   "outputs": [],
   "source": [
    "15 // 3"
   ]
  },
  {
   "cell_type": "code",
   "execution_count": null,
   "metadata": {
    "tags": []
   },
   "outputs": [],
   "source": [
    "16 // 3"
   ]
  },
  {
   "cell_type": "code",
   "execution_count": null,
   "metadata": {
    "tags": []
   },
   "outputs": [],
   "source": [
    "type(15 // 3)"
   ]
  },
  {
   "cell_type": "markdown",
   "metadata": {},
   "source": [
    "We can **cast** `int`s to `float`s and vice versa by applying the `int()` or `float()` functiosn to expressions."
   ]
  },
  {
   "cell_type": "code",
   "execution_count": null,
   "metadata": {
    "tags": []
   },
   "outputs": [],
   "source": [
    "int(15 / 3)"
   ]
  },
  {
   "cell_type": "code",
   "execution_count": null,
   "metadata": {
    "tags": []
   },
   "outputs": [],
   "source": [
    "float(5)"
   ]
  },
  {
   "cell_type": "markdown",
   "metadata": {},
   "source": [
    "If our `float` is not a round integer, we lose information:"
   ]
  },
  {
   "cell_type": "code",
   "execution_count": null,
   "metadata": {
    "tags": []
   },
   "outputs": [],
   "source": [
    "int(4.1)"
   ]
  },
  {
   "cell_type": "markdown",
   "metadata": {
    "deletable": false,
    "editable": false
   },
   "source": [
    "<!-- BEGIN QUESTION -->\n",
    "\n",
    "---\n",
    "\n",
    "## Question 5\n",
    "\n",
    "In the cell below, **write an arithmetic expression that evaluates to your birth year *as an `int`* that uses at least four of these operators**:\n",
    "- `+`\n",
    "- `-`\n",
    "- `*`\n",
    "- `/`\n",
    "- `**`\n",
    "\n",
    "Use can also use the `int()` function.\n",
    "\n",
    "Store the answer in \"birth_year\""
   ]
  },
  {
   "cell_type": "code",
   "execution_count": null,
   "metadata": {
    "tags": []
   },
   "outputs": [],
   "source": [
    "# replace this with your expression\n",
    "birth_year = ..."
   ]
  },
  {
   "cell_type": "markdown",
   "metadata": {
    "deletable": false,
    "editable": false
   },
   "source": [
    "<!-- END QUESTION -->\n",
    "\n",
    "<!-- BEGIN QUESTION -->\n",
    "\n",
    "---\n",
    "\n",
    "## Question 6:  Pythagorean Theorem\n",
    "\n",
    "An important data science skill is **feature engineering**, where we augment our data with an additional variable. While we leave the formal definition of \"feature\" to future lectures, let's use the following example to explore the benefit of using existing data to generate more information.\n",
    "\n",
    "<br/>\n",
    "\n",
    "Suppose the campus IT department is exploring different computer monitors for their computer lab. Computer monitor sizes are defined as diagonal measurements from corner to corner, but the IT department is concerned about the overall *monitor width* (since the monitor has to fit on their desk). They are considering monitors from the following dataset:\n",
    "\n",
    "| Aspect Ratio | Monitor Size (inches) | Monitor Height (inches) |\n",
    "| :--- | :---- | :---- |\n",
    "| 16:9 | 20 | 9.8 | \n",
    "| 16:9 | 22 | 10.8 |\n",
    "| 16:9 | 24 | 11.8 |\n",
    "\n",
    "The data above include aspect ratio (all widescreen, 16:9), monitor size in inches, and monitor height in inches–but no monitor width. As a data scientist, you decide to generate another feature for each listed monitor in the data by computing the associated monitor width.\n",
    "\n",
    "In the cell below, **write an arithmetic expression that, when evaluated, computes the monitor width for the 22\" monitor size** listed in the table above.\n",
    "\n",
    "**Hints**:\n",
    "* Recall the Pythagorean theorem for a right triangle: $a^2 + b^2 = c^2$, where $a$, $b$, and $c$ are the lengths of the first leg, second leg, and hypotenuse, respectively.\n",
    "* We didn't explicitly cover how to take the square root of a number, but recall that in mathematics, the square root function $\\sqrt{x}$ is equivalent to exponentiating with the exponent $\\frac{1}{2}$ – that is, $\\sqrt{x} = x^{\\frac{1}{2}}$. That means we can use the exponentiation operator `**` to compute square roots, too. For example, `121 ** 0.5` evaluates to `11.0`.\n",
    "* Like in math, may need to use parentheses `(` and `)` for order of operations.\n",
    "* There are two valid ways of computing the monitor width. Each method uses values from two out of the three available columns.\n",
    "* Feel free to validate your result with a screen size calculator, e.g., [http://screen-size.info/](http://screen-size.info/)."
   ]
  },
  {
   "cell_type": "code",
   "execution_count": null,
   "metadata": {
    "deletable": false,
    "editable": true
   },
   "outputs": [],
   "source": [
    "# replace this with your expression"
   ]
  },
  {
   "cell_type": "markdown",
   "metadata": {
    "deletable": false,
    "editable": true
   },
   "source": [
    "<!-- END QUESTION -->\n",
    "\n",
    "<hr style=\"border: 5px solid #003262;\" />\n",
    "<hr style=\"border: 1px solid #fdb515;\" />\n",
    "\n",
    "# Part 3: Names"
   ]
  },
  {
   "cell_type": "markdown",
   "metadata": {},
   "source": [
    "In this part, explore a Tuberculosis dataset. Here's the data:\n",
    "\n",
    "Tuberculosis data. CDC MMWR [source](https://www.cdc.gov/mmwr/volumes/71/wr/mm7112a1.htm?s_cid=mm7112a1_w#T1_down)\n",
    "\n",
    "| U.S. jurisdiction | 2019<br/># cases | 2020<br/># cases | 2021 <br/> # cases | 2019<br/>incidence | 2020<br/>incidence | 2021<br/>incidence |\n",
    "| --- | --- | --- | --- | --- | --- | --- |\n",
    "| **Total** | **8,900** | **7,173** | **7,860** | **2.71** | **2.16** | **2.37** | \n",
    "| Alabama | 87 | 72 | 92 | 1.77 | 1.43 | 1.83 |\n",
    "| ... | ... | ... | ... | ... | ... | ... |\n",
    "| California | 2,111 | 1,706 | 1,750 | 5.35 | 4.32 | 4.46 |\n",
    "| ... | ... | ... | ... | ... | ... | ... |\n",
    "\n",
    "\n",
    "U.S. Census population estimates ([2019 source](https://www.census.gov/data/tables/time-series/demo/popest/2010s-state-total.html), [2021-2021 source](https://www.census.gov/data/tables/time-series/demo/popest/2020s-state-total.html))\n",
    "\n",
    "|  | 2019 population | 2020 population | 2021 population | \n",
    "| --- | --- | --- | --- |\n",
    "| **Total** | **328,239,523** | **331,501,080** | **331,893,745** |\n",
    "| Alabama | 4,903,185 | 5,024,803 | 5,039,877 |\n",
    "| California | 39,512,223 | 39,499,738 | 39,237,836 |\n"
   ]
  },
  {
   "cell_type": "markdown",
   "metadata": {},
   "source": [
    "Recall that the Tuberculosis (TB) incidence is defined as the number of TB cases per 100,000 persons in a particular population:\n",
    "\n",
    "$$ \\text{TB incidence} = \\frac{\\text{\\# TB cases}}{\\text{population}} \\times 100000$$\n",
    "\n",
    "We computed the tuberculosis (TB) incidence of 2020 Using Python's arithmetic expressions, this value can be written as:\n"
   ]
  },
  {
   "cell_type": "code",
   "execution_count": null,
   "metadata": {},
   "outputs": [],
   "source": [
    "7173/(331501080/100000)"
   ]
  },
  {
   "cell_type": "markdown",
   "metadata": {},
   "source": [
    "We'll go one step further in the cell below by binding (i.e., assigning) a name to the value returned from evaluating this arithmetic expression. Below, note the name `incidence_2020` clearly indicates what year's incidence we are computing."
   ]
  },
  {
   "cell_type": "code",
   "execution_count": null,
   "metadata": {},
   "outputs": [],
   "source": [
    "# just run this cell\n",
    "incidence_2020 = 7173/(331501080/100000)\n",
    "incidence_2020"
   ]
  },
  {
   "cell_type": "markdown",
   "metadata": {},
   "source": [
    "**Notice!** You'll often see the above *syntax* (i.e., program code structure) in Jupyter notebooks. It is effectively evaluating **two** Python statements:\n",
    "\n",
    "1. ```incidence_2020 = 7173/(331501080/100000)```\n",
    "\n",
    "    Assign the name `incidence_2020` to the result of evaluating the arithmetic expression `7173/(331501080/100000)`.<br/><br/>\n",
    "\n",
    "1. ```incidence_2020```\n",
    "\n",
    "    Evaluate the expression `incidence_2020`. Since `incidence_2020` is a name, the result of this arithmetic expression is the value bound to the name `incidence_2020`.\n",
    "\n",
    "**Remember!** Jupyter code cells output only the value of the *last* evaluated expression. So this two-step syntax is useful to bind a name to a value and output the value itself."
   ]
  },
  {
   "cell_type": "markdown",
   "metadata": {
    "deletable": false,
    "editable": false
   },
   "source": [
    "---\n",
    "\n",
    "## Question 7: Changes in Percentage\n",
    "\n",
    "Consider this line in the abstract of the CDC MMWR [report](https://www.cdc.gov/mmwr/volumes/71/wr/mm7112a1.htm):\n",
    "> Reported TB incidence (cases per 100,000 person) increased 9.4%, from 2.2 during 2020 to 2.4 during 2021...\n"
   ]
  },
  {
   "cell_type": "markdown",
   "metadata": {
    "deletable": false,
    "editable": false
   },
   "source": [
    "The 2.2 TB incidence in the quote above is the same incidence we computed above, *rounded* to the first decimal place (i.e., to the nearest tenth). For the purposes of this exercise, we will not work with any rounded numbers, and then qualitatively compare our computations to the quote above.\n",
    "\n",
    "### Question 7\n",
    "\n",
    "**Assign the name `incidence_2021` to the 2021 tuberculosis incidence. Note we use the same structure as explained above to bind the name and output its value in a single code cell.**\n",
    "\n",
    "*Hint*: Use the tables above."
   ]
  },
  {
   "cell_type": "markdown",
   "metadata": {
    "deletable": false,
    "editable": false
   },
   "source": [
    "**Note:** On labs, questions that ask you to write code will usually be followed with a cell that says something like `otter.grade('q7')` that you'll need to run in order for your work to be graded. "
   ]
  },
  {
   "cell_type": "code",
   "execution_count": null,
   "metadata": {
    "tags": []
   },
   "outputs": [],
   "source": [
    "incidence_2021 = ...\n",
    "incidence_2021"
   ]
  },
  {
   "cell_type": "code",
   "execution_count": null,
   "metadata": {
    "deletable": false,
    "editable": false
   },
   "outputs": [],
   "source": [
    "grader.check(\"q7\")"
   ]
  },
  {
   "cell_type": "markdown",
   "metadata": {},
   "source": [
    "<hr>\n",
    "\n",
    "## Done! 😇\n",
    "\n",
    "Try submitting this assignment to Gradescope. \n",
    "\n",
    "1. Save your notebook \n",
    "2. Run the last cell \n",
    "3. Get the zip file and upload it to Gradescope "
   ]
  },
  {
   "cell_type": "markdown",
   "metadata": {
    "deletable": false,
    "editable": false
   },
   "source": [
    "## Submission\n",
    "\n",
    "Make sure you have run all cells in your notebook in order before running the cell below, so that all images/graphs appear in the output. The cell below will generate a zip file for you to submit. **Please save before exporting!**"
   ]
  },
  {
   "cell_type": "code",
   "execution_count": null,
   "metadata": {
    "deletable": false,
    "editable": false
   },
   "outputs": [],
   "source": [
    "# Save your notebook first, then run this cell to export your submission.\n",
    "grader.export(pdf=False, run_tests=True)"
   ]
  },
  {
   "cell_type": "markdown",
   "metadata": {},
   "source": [
    " "
   ]
  }
 ],
 "metadata": {
  "kernelspec": {
   "display_name": "un5550fa24",
   "language": "python",
   "name": "un5550fa24"
  },
  "language_info": {
   "codemirror_mode": {
    "name": "ipython",
    "version": 3
   },
   "file_extension": ".py",
   "mimetype": "text/x-python",
   "name": "python",
   "nbconvert_exporter": "python",
   "pygments_lexer": "ipython3",
   "version": "3.10.16"
  },
  "otter": {
   "OK_FORMAT": true,
   "assignment_name": "lab1",
   "tests": {
    "q7": {
     "name": "q7",
     "points": 4,
     "suites": [
      {
       "cases": [
        {
         "code": ">>> type(incidence_2021) == float\nTrue",
         "hidden": false,
         "locked": false
        },
        {
         "code": ">>> np.isclose(incidence_2021, 2.4, 0.1)\nnp.True_",
         "hidden": false,
         "locked": false
        }
       ],
       "scored": true,
       "setup": "",
       "teardown": "",
       "type": "doctest"
      }
     ]
    }
   }
  }
 },
 "nbformat": 4,
 "nbformat_minor": 4
}
